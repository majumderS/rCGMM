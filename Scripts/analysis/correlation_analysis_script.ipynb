{
 "cells": [
  {
   "cell_type": "code",
   "execution_count": 1,
   "id": "9cbf4776",
   "metadata": {},
   "outputs": [],
   "source": [
    "import numpy as np"
   ]
  },
  {
   "cell_type": "code",
   "execution_count": 60,
   "id": "80e4957c",
   "metadata": {},
   "outputs": [
    {
     "name": "stdout",
     "output_type": "stream",
     "text": [
      "Distance correlations: \n",
      "Martini vs Boltzmann_xray:\n",
      "[[1.         0.84816331]\n",
      " [0.84816331 1.        ]]\n",
      "Gaussian-fit vs Boltzmann_xray:\n",
      "[[1.         0.92651257]\n",
      " [0.92651257 1.        ]]\n",
      "Boltzmann_allatom vs Boltzmann_xray:\n",
      "[[1.         0.92609732]\n",
      " [0.92609732 1.        ]]\n"
     ]
    }
   ],
   "source": [
    "#piRNA ----------------- <distance>\n",
    "gaussian_fit = [0.407856452,0.240748875,0.342813271,0.330018626,0.34436424,0.329832854,\n",
    "                0.232498218,0.268874918,0.294515549,0.163374159,0.329071584,0.341255349,\n",
    "                0.295453715,0.292897655,0.290967457,0.389641284,0.339721008,0.223735452,\n",
    "                0.28604885,0.267558318,0.221132278,0.268894032,0.209694821]\n",
    "martini2 = [0.363,0.202,0.293,0.286,0.292,0.28,0.234,0.263,0.299,0.162,0.335,0.32,0.296,0.291,\n",
    "            0.296,0.385,0.32,0.224,0.281,0.267,0.224,0.289,0.276]\n",
    "\n",
    "boltzmann_xray = [0.391415325,0.274833277,0.34151811,0.330002553,0.342446249,0.333226025,\n",
    "                  0.234203922,0.272279806,0.295952436,0.16546258,0.332372443,0.342119622,0.298,\n",
    "                  0.296326154,0.296326154,0.330385604,0.3412816,0.199923617,0.287982234,\n",
    "                  0.270221766,0.193002895,0.291632913,0.274268913]\n",
    "boltzmann_all_atom = [0.402,0.241,0.34,0.334,0.344,0.33,0.233,0.269,0.294,0.163,0.32956564,0.340712528,0.295419276,0.292574026,0.290942967,0.389414705,0.3398473,0.224364825,0.286736736,0.267010376,0.221585137,0.268910291,0.209924788]\n",
    "\n",
    "\n",
    "print(\"Distance correlations: \")\n",
    "print(\"Martini vs Boltzmann_xray:\")\n",
    "a = np.corrcoef(martini2, boltzmann_xray)\n",
    "print(a)\n",
    "\n",
    "print(\"Gaussian-fit vs Boltzmann_xray:\")\n",
    "a = np.corrcoef(gaussian_fit, boltzmann_xray)\n",
    "print(a)\n",
    "\n",
    "print(\"Boltzmann_allatom vs Boltzmann_xray:\")\n",
    "a = np.corrcoef(boltzmann_all_atom, boltzmann_xray)\n",
    "print(a)\n",
    "\n"
   ]
  },
  {
   "cell_type": "code",
   "execution_count": 65,
   "id": "6cbd0728",
   "metadata": {},
   "outputs": [
    {
     "name": "stdout",
     "output_type": "stream",
     "text": [
      "Angle correlations: \n",
      "Martini vs Boltzmann_xray:\n",
      "[[1.         0.06133831]\n",
      " [0.06133831 1.        ]]\n",
      "Gaussian-fit vs Boltzmann_xray:\n",
      "[[1.         0.85484666]\n",
      " [0.85484666 1.        ]]\n",
      "Boltzmann_allatom vs Boltzmann_xray:\n",
      "[[1.         0.86214617]\n",
      " [0.86214617 1.        ]]\n"
     ]
    }
   ],
   "source": [
    "#piRNA ----------------- <angle>\n",
    "gaussian_fit = [102.353037,31.63079069,117.6982096,123.8548228,85.40109065,111.3309145,71.25896722,\n",
    "                91.74020376,28.87912948,100.1457332,153.1048683,49.49407715,77.19227401,53.37070208,\n",
    "                31.18316024,116.4521604,121.9840647,70.4822186,113.070662,83.78091583,92.44290948,\n",
    "                28.64641741,98.17220418,150.7108313,61.94263863,70.51677228,47.57049344,125.6421461,\n",
    "                76.72302749,160,121.8215933,125.7839045,118.4848154]\n",
    "martini2 = [84,95,93,160,180,160,160,117,101,153,135,87,115,74,92,95,99,155,55,83,42,103,129,137,\n",
    "            72,117,84,96.5,155,102,157,61,71]\n",
    "boltzmann_xray = [142.9178384,80.37593104,111.5318129,124.3096152,85.80523993,109.9557172,71.41353155,\n",
    "                  91.84150397,62.83185315,98.9586682,152.5911385,62.15717787,45.94315692,53.40707367,\n",
    "                  80.13783881,111.5172524,127.0926487,70.34648766,113.0973085,113.0973085,\n",
    "                  92.4583682,64.228955,99.00331582,148.9477231,61.95663474,70.33535548,47.88347923,\n",
    "                  95.86841827,76.98758402,135.0884836,133.5221269,130.3801649,122.5221152]\n",
    "boltzmann_all_atom = [102.08,33.01,114.6,124.07,86.335,111.549,70.875,75.398,28.274,97.389,152.44,\n",
    "                      48.8,76.956,53.407,34.55,120.89,121.016,70.68,111.43,86.277,92.83,34.56,98.93,\n",
    "                      150.79,61.3944,70.704,47.12,124.133,75.2566,124.08,124.107,124.05,117.84]\n",
    "\n",
    "\n",
    "\n",
    "\n",
    "print(\"Angle correlations: \")\n",
    "print(\"Martini vs Boltzmann_xray:\")\n",
    "a = np.corrcoef(martini2, boltzmann_xray)\n",
    "print(a)\n",
    "\n",
    "print(\"Gaussian-fit vs Boltzmann_xray:\")\n",
    "a = np.corrcoef(gaussian_fit, boltzmann_xray)\n",
    "print(a)\n",
    "\n",
    "print(\"Boltzmann_allatom vs Boltzmann_xray:\")\n",
    "a = np.corrcoef(boltzmann_all_atom, boltzmann_xray)\n",
    "print(a)\n",
    "\n"
   ]
  },
  {
   "cell_type": "code",
   "execution_count": 66,
   "id": "6a437104",
   "metadata": {},
   "outputs": [
    {
     "name": "stdout",
     "output_type": "stream",
     "text": [
      "DIhedral correlations: \n",
      "Martini vs Boltzmann_xray:\n",
      "[[ 1.         -0.15953962]\n",
      " [-0.15953962  1.        ]]\n",
      "Gaussian-fit vs Boltzmann_xray:\n",
      "[[1.         0.69743176]\n",
      " [0.69743176 1.        ]]\n",
      "Boltzmann_allatom vs Boltzmann_xray:\n"
     ]
    },
    {
     "ename": "ValueError",
     "evalue": "all the input array dimensions for the concatenation axis must match exactly, but along dimension 1, the array at index 0 has size 11 and the array at index 1 has size 13",
     "output_type": "error",
     "traceback": [
      "\u001b[0;31m---------------------------------------------------------------------------\u001b[0m",
      "\u001b[0;31mValueError\u001b[0m                                Traceback (most recent call last)",
      "\u001b[0;32m<ipython-input-66-7c3e8797bcd3>\u001b[0m in \u001b[0;36m<module>\u001b[0;34m\u001b[0m\n\u001b[1;32m     20\u001b[0m \u001b[0;34m\u001b[0m\u001b[0m\n\u001b[1;32m     21\u001b[0m \u001b[0mprint\u001b[0m\u001b[0;34m(\u001b[0m\u001b[0;34m\"Boltzmann_allatom vs Boltzmann_xray:\"\u001b[0m\u001b[0;34m)\u001b[0m\u001b[0;34m\u001b[0m\u001b[0;34m\u001b[0m\u001b[0m\n\u001b[0;32m---> 22\u001b[0;31m \u001b[0ma\u001b[0m \u001b[0;34m=\u001b[0m \u001b[0mnp\u001b[0m\u001b[0;34m.\u001b[0m\u001b[0mcorrcoef\u001b[0m\u001b[0;34m(\u001b[0m\u001b[0mboltzmann_all_atom\u001b[0m\u001b[0;34m,\u001b[0m \u001b[0mboltzmann_xray\u001b[0m\u001b[0;34m)\u001b[0m\u001b[0;34m\u001b[0m\u001b[0;34m\u001b[0m\u001b[0m\n\u001b[0m\u001b[1;32m     23\u001b[0m \u001b[0mprint\u001b[0m\u001b[0;34m(\u001b[0m\u001b[0ma\u001b[0m\u001b[0;34m)\u001b[0m\u001b[0;34m\u001b[0m\u001b[0;34m\u001b[0m\u001b[0m\n",
      "\u001b[0;32m<__array_function__ internals>\u001b[0m in \u001b[0;36mcorrcoef\u001b[0;34m(*args, **kwargs)\u001b[0m\n",
      "\u001b[0;32m~/.local/lib/python3.6/site-packages/numpy/lib/function_base.py\u001b[0m in \u001b[0;36mcorrcoef\u001b[0;34m(x, y, rowvar, bias, ddof)\u001b[0m\n\u001b[1;32m   2549\u001b[0m         warnings.warn('bias and ddof have no effect and are deprecated',\n\u001b[1;32m   2550\u001b[0m                       DeprecationWarning, stacklevel=3)\n\u001b[0;32m-> 2551\u001b[0;31m     \u001b[0mc\u001b[0m \u001b[0;34m=\u001b[0m \u001b[0mcov\u001b[0m\u001b[0;34m(\u001b[0m\u001b[0mx\u001b[0m\u001b[0;34m,\u001b[0m \u001b[0my\u001b[0m\u001b[0;34m,\u001b[0m \u001b[0mrowvar\u001b[0m\u001b[0;34m)\u001b[0m\u001b[0;34m\u001b[0m\u001b[0;34m\u001b[0m\u001b[0m\n\u001b[0m\u001b[1;32m   2552\u001b[0m     \u001b[0;32mtry\u001b[0m\u001b[0;34m:\u001b[0m\u001b[0;34m\u001b[0m\u001b[0;34m\u001b[0m\u001b[0m\n\u001b[1;32m   2553\u001b[0m         \u001b[0md\u001b[0m \u001b[0;34m=\u001b[0m \u001b[0mdiag\u001b[0m\u001b[0;34m(\u001b[0m\u001b[0mc\u001b[0m\u001b[0;34m)\u001b[0m\u001b[0;34m\u001b[0m\u001b[0;34m\u001b[0m\u001b[0m\n",
      "\u001b[0;32m<__array_function__ internals>\u001b[0m in \u001b[0;36mcov\u001b[0;34m(*args, **kwargs)\u001b[0m\n",
      "\u001b[0;32m~/.local/lib/python3.6/site-packages/numpy/lib/function_base.py\u001b[0m in \u001b[0;36mcov\u001b[0;34m(m, y, rowvar, bias, ddof, fweights, aweights)\u001b[0m\n\u001b[1;32m   2413\u001b[0m         \u001b[0;32mif\u001b[0m \u001b[0;32mnot\u001b[0m \u001b[0mrowvar\u001b[0m \u001b[0;32mand\u001b[0m \u001b[0my\u001b[0m\u001b[0;34m.\u001b[0m\u001b[0mshape\u001b[0m\u001b[0;34m[\u001b[0m\u001b[0;36m0\u001b[0m\u001b[0;34m]\u001b[0m \u001b[0;34m!=\u001b[0m \u001b[0;36m1\u001b[0m\u001b[0;34m:\u001b[0m\u001b[0;34m\u001b[0m\u001b[0;34m\u001b[0m\u001b[0m\n\u001b[1;32m   2414\u001b[0m             \u001b[0my\u001b[0m \u001b[0;34m=\u001b[0m \u001b[0my\u001b[0m\u001b[0;34m.\u001b[0m\u001b[0mT\u001b[0m\u001b[0;34m\u001b[0m\u001b[0;34m\u001b[0m\u001b[0m\n\u001b[0;32m-> 2415\u001b[0;31m         \u001b[0mX\u001b[0m \u001b[0;34m=\u001b[0m \u001b[0mnp\u001b[0m\u001b[0;34m.\u001b[0m\u001b[0mconcatenate\u001b[0m\u001b[0;34m(\u001b[0m\u001b[0;34m(\u001b[0m\u001b[0mX\u001b[0m\u001b[0;34m,\u001b[0m \u001b[0my\u001b[0m\u001b[0;34m)\u001b[0m\u001b[0;34m,\u001b[0m \u001b[0maxis\u001b[0m\u001b[0;34m=\u001b[0m\u001b[0;36m0\u001b[0m\u001b[0;34m)\u001b[0m\u001b[0;34m\u001b[0m\u001b[0;34m\u001b[0m\u001b[0m\n\u001b[0m\u001b[1;32m   2416\u001b[0m \u001b[0;34m\u001b[0m\u001b[0m\n\u001b[1;32m   2417\u001b[0m     \u001b[0;32mif\u001b[0m \u001b[0mddof\u001b[0m \u001b[0;32mis\u001b[0m \u001b[0;32mNone\u001b[0m\u001b[0;34m:\u001b[0m\u001b[0;34m\u001b[0m\u001b[0;34m\u001b[0m\u001b[0m\n",
      "\u001b[0;32m<__array_function__ internals>\u001b[0m in \u001b[0;36mconcatenate\u001b[0;34m(*args, **kwargs)\u001b[0m\n",
      "\u001b[0;31mValueError\u001b[0m: all the input array dimensions for the concatenation axis must match exactly, but along dimension 1, the array at index 0 has size 11 and the array at index 1 has size 13"
     ]
    }
   ],
   "source": [
    "\n",
    "#piRNA ----------------- <dihedral>\n",
    "gaussian_fit = [-136.2476996,0.169877369,-135.3463465,-142.4931872,133.5369351,\n",
    "                -142.855363,71.46246056,0.144946653,-135.5045079,-150.7126954,144.7674114,\n",
    "                -40.94695471,-152.1750639]\n",
    "martini2 = [180,180,360,140,180,180,360,180,160,360,180,235,180]\n",
    "boltzmann_xray = [-80.39289335,0.437581176,-80.14119518,-159.8328626,147.4677664,-151.0522015,\n",
    "                  59.80895027,2.675539821,-86.68390577,-187.2985898,127.0943887,35.62562735,160.4265694]\n",
    "boltzmann_all_atom = [-140,1.1,-131.266,-148,-138,-0.29,137.92,150.23,149.94,-49.653,-47.148]\n",
    "\n",
    "\n",
    "\n",
    "print(\"DIhedral correlations: \")\n",
    "print(\"Martini vs Boltzmann_xray:\")\n",
    "a = np.corrcoef(martini2, boltzmann_xray)\n",
    "print(a)\n",
    "\n",
    "print(\"Gaussian-fit vs Boltzmann_xray:\")\n",
    "a = np.corrcoef(gaussian_fit, boltzmann_xray)\n",
    "print(a)\n",
    "\n",
    "print(\"Boltzmann_allatom vs Boltzmann_xray:\")\n",
    "a = np.corrcoef(boltzmann_all_atom, boltzmann_xray)\n",
    "print(a)"
   ]
  },
  {
   "cell_type": "code",
   "execution_count": 64,
   "id": "f84132c8",
   "metadata": {},
   "outputs": [
    {
     "data": {
      "text/plain": [
       "33"
      ]
     },
     "execution_count": 64,
     "metadata": {},
     "output_type": "execute_result"
    }
   ],
   "source": [
    "len(martini2)"
   ]
  },
  {
   "cell_type": "code",
   "execution_count": 68,
   "id": "010c6522",
   "metadata": {},
   "outputs": [
    {
     "name": "stdout",
     "output_type": "stream",
     "text": [
      "Distance correlations: \n",
      "Martini vs Boltzmann_xray:\n",
      "[[1.         0.93917957]\n",
      " [0.93917957 1.        ]]\n",
      "Gaussian-fit vs Boltzmann_xray:\n",
      "[[1.        0.4863285]\n",
      " [0.4863285 1.       ]]\n",
      "Boltzmann_allatom vs Boltzmann_xray:\n",
      "[[1.         0.69377773]\n",
      " [0.69377773 1.        ]]\n",
      "Boltzmann_allatom vs Gaussian fit:\n",
      "[[1.         0.95730065]\n",
      " [0.95730065 1.        ]]\n"
     ]
    }
   ],
   "source": [
    "#miRNA ----------------- <distance>\n",
    "gaussian_fit = [0.417491689,0.236992189,0.338968987,0.329091339,0.389790122,0.223763355,\n",
    "                0.232045633,0.268959605,0.293998154,0.162951711,0.32902688,0.341045699,0.293003223,\n",
    "                0.292023429,0.162850626,0.329555525,0.339595672,0.295420776,0.286020709,0.267650804,\n",
    "                0.32636142,0.22102645,0.209427332,0.341312038,0.326]\n",
    "martini2 = [0.363,0.202,0.293,0.286,0.292,0.28,0.234,0.263,0.299,0.162,0.335,0.32,0.296,\n",
    "            0.291,0.296,0.162,0.385,0.32,0.224,0.281,0.267,0.224,0.289,0.276,0.354]\n",
    "boltzmann_xray = [0.325948364,0.210708708,0.337308357,0.33251695,0.339062475,0.332397123,\n",
    "                  0.235162569,0.271731647,0.296627241,0.163,0.333605491,0.341,0.299776143,\n",
    "                  0.293047416,0.297461212,0.162897793,0.395387486,0.342033793,0.23,\n",
    "                  0.288,0.270399359,0.226518107,0.29046731,0.274533789,0.344036047]\n",
    "boltzmann_all_atom = [0.413507536,0.238850203,0.342819807,0.329592191,0.372390386,0.255988348,0.231980789,\n",
    "                      0.269024043,0.294789579,0.164243595,0.32894312,0.341013906,0.293386631,\n",
    "                      0.29130414,0.203854197,0.278879007,0.355312991,0.309290314,0.266151791,\n",
    "                      0.273986197,0.314005537,0.220783779,0.228297571,0.299765476,0.327259111]\n",
    "\n",
    "print(\"Distance correlations: \")\n",
    "print(\"Martini vs Boltzmann_xray:\")\n",
    "a = np.corrcoef(martini2, boltzmann_xray)\n",
    "print(a)\n",
    "\n",
    "print(\"Gaussian-fit vs Boltzmann_xray:\")\n",
    "a = np.corrcoef(gaussian_fit, boltzmann_xray)\n",
    "print(a)\n",
    "\n",
    "print(\"Boltzmann_allatom vs Boltzmann_xray:\")\n",
    "a = np.corrcoef(boltzmann_all_atom, boltzmann_xray)\n",
    "print(a)\n",
    "\n",
    "print(\"Boltzmann_allatom vs Gaussian fit:\")\n",
    "a = np.corrcoef(boltzmann_all_atom, gaussian_fit)\n",
    "print(a)\n",
    "\n",
    "\n",
    "\n"
   ]
  },
  {
   "cell_type": "code",
   "execution_count": 71,
   "id": "b0a0b562",
   "metadata": {},
   "outputs": [
    {
     "data": {
      "text/plain": [
       "35"
      ]
     },
     "execution_count": 71,
     "metadata": {},
     "output_type": "execute_result"
    }
   ],
   "source": [
    "len(martini2)"
   ]
  },
  {
   "cell_type": "code",
   "execution_count": 72,
   "id": "babd74f3",
   "metadata": {},
   "outputs": [
    {
     "name": "stdout",
     "output_type": "stream",
     "text": [
      "Angle correlations: \n",
      "Martini vs Boltzmann_xray:\n",
      "[[1.        0.7824343]\n",
      " [0.7824343 1.       ]]\n",
      "Gaussian-fit vs Boltzmann_xray:\n",
      "[[1.         0.86386712]\n",
      " [0.86386712 1.        ]]\n",
      "Boltzmann_allatom vs Boltzmann_xray:\n",
      "[[1.         0.87278493]\n",
      " [0.87278493 1.        ]]\n",
      "Boltzmann_allatom vs Gaussian fit:\n",
      "[[1.         0.98653096]\n",
      " [0.98653096 1.        ]]\n"
     ]
    }
   ],
   "source": [
    "#miRNA ----------------- <angle>\n",
    "gaussian_fit = [123.5598309,69.5624337,122.2525007,118.9777489,120.0452181,117.5104935,\n",
    "                103.797826,32.77663118,114.4490867,124.7236219,85.54837964,111.4478147,71.1368108,91.74819754,28.69102784,98.43570312,151.3203699,49.43010836,\n",
    "                53.21130838,33.02435843,112.886172,124.4745833,70.51184031,113.0311649,\n",
    "                83.68614361,92.39978061,28.65173832,98.16482008,149.4065538,61.99084538,\n",
    "                70.42976979,47.70353963,123.5598309,69.5624337]\n",
    "martini2 = [95,93,160,180,160,160,117,101,153,135,87,115,74,92,95,99,155,55,42,103,129,\n",
    "            137,72,117,84,96.5,155,102,157,61,71,47,95,93]\n",
    "boltzmann_xray = [94.24777925,70.72519033,130.3577808,117.804994,128.8052987,119.3805167,\n",
    "                  133.5777092,81.6814086,114.6841981,127.2125233,84.02099111,\n",
    "                  114.4846311,71.43442235,91.10618672,65.97344543,95.53930225,153.9380392,\n",
    "                  62.50962739,46.19039541,83.31581306,108.4234157,127.2706904,70.35555569,113.0972941,113.0972941,\n",
    "                  92.48988481,61.35705228,97.38937309,152.5534904,61.77880096,70.45939716,\n",
    "                  47.12388934,95.77349025,67.50489809]\n",
    "boltzmann_all_atom = [125.6637059,69.11503811,120.8989586,117.7980741,120.9724086,\n",
    "                      119.3805208,102.0302666,33.13142841,114.7531447,124.0959381,\n",
    "                      84.82300143,111.6624239,70.9715686,91.10618132,28.27433381,98.94473131,153.9380345,50.26548222,\n",
    "                      53.40707347,33.13589242,111.4960632,124.0503631,70.62556709,113.0971024,\n",
    "                      113.0971024,91.10602856,28.27433369,98.97854623,149.2152809,\n",
    "                      62.83177406,70.71445057,48.70298535,125.6636938,54.98072406]\n",
    "\n",
    "print(\"Angle correlations: \")\n",
    "print(\"Martini vs Boltzmann_xray:\")\n",
    "a = np.corrcoef(martini2, boltzmann_xray)\n",
    "print(a)\n",
    "\n",
    "print(\"Gaussian-fit vs Boltzmann_xray:\")\n",
    "a = np.corrcoef(gaussian_fit, boltzmann_xray)\n",
    "print(a)\n",
    "\n",
    "print(\"Boltzmann_allatom vs Boltzmann_xray:\")\n",
    "a = np.corrcoef(boltzmann_all_atom, boltzmann_xray)\n",
    "print(a)\n",
    "\n",
    "print(\"Boltzmann_allatom vs Gaussian fit:\")\n",
    "a = np.corrcoef(boltzmann_all_atom, gaussian_fit)\n",
    "print(a)\n"
   ]
  },
  {
   "cell_type": "code",
   "execution_count": 73,
   "id": "387aa05b",
   "metadata": {},
   "outputs": [
    {
     "name": "stdout",
     "output_type": "stream",
     "text": [
      "DIhedral correlations: \n",
      "Martini vs Boltzmann_xray:\n",
      "[[1.         0.20911507]\n",
      " [0.20911507 1.        ]]\n",
      "Gaussian-fit vs Boltzmann_xray:\n",
      "[[1.         0.75727008]\n",
      " [0.75727008 1.        ]]\n",
      "Boltzmann_allatom vs Boltzmann_xray:\n",
      "[[ 1.         -0.00371806]\n",
      " [-0.00371806  1.        ]]\n",
      "Boltzmann_allatom vs Gaussian fit:\n",
      "[[ 1.         -0.16534354]\n",
      " [-0.16534354  1.        ]]\n"
     ]
    }
   ],
   "source": [
    "\n",
    "#miRNA ----------------- <dihedral>\n",
    "gaussian_fit = [-41.8035752,-101.6136564,-139.6419407,0.129973425,-136.0629263,\n",
    "                -143.8257139,132.2958027,-141.0433905,-157.1282846,59.6375494,0.527198846,\n",
    "                -134.1727447,-150.4481913]\n",
    "martini2 = [180,180,360,180,180,36,180,160,360,180,180,235,180]\n",
    "boltzmann_xray = [-39.97944757,-88.82256545,139.2321881,-4.124712475,-132.5332579,\n",
    "                  -146.075535,202.5791914,-139.5831584,-153.7994061,59.04922532,1.872665844,\n",
    "                  -137.7205941,-149.5533506]\n",
    "boltzmann_all_atom = [1.854362463,0.95394349,1.492568042,0.890915901,1.704031375,0.739540012,\n",
    "                      0.729604136,1.293655075,0.830562826,1.355097757,0.808691102,1.333800461,\n",
    "                      0.815545783]\n",
    "\n",
    "print(\"DIhedral correlations: \")\n",
    "print(\"Martini vs Boltzmann_xray:\")\n",
    "a = np.corrcoef(martini2, boltzmann_xray)\n",
    "print(a)\n",
    "\n",
    "print(\"Gaussian-fit vs Boltzmann_xray:\")\n",
    "a = np.corrcoef(gaussian_fit, boltzmann_xray)\n",
    "print(a)\n",
    "\n",
    "print(\"Boltzmann_allatom vs Boltzmann_xray:\")\n",
    "a = np.corrcoef(boltzmann_all_atom, boltzmann_xray)\n",
    "print(a)\n",
    "\n",
    "print(\"Boltzmann_allatom vs Gaussian fit:\")\n",
    "a = np.corrcoef(boltzmann_all_atom, gaussian_fit)\n",
    "print(a)\n",
    "\n"
   ]
  },
  {
   "cell_type": "code",
   "execution_count": 77,
   "id": "6ac71546",
   "metadata": {},
   "outputs": [
    {
     "data": {
      "text/plain": [
       "22"
      ]
     },
     "execution_count": 77,
     "metadata": {},
     "output_type": "execute_result"
    }
   ],
   "source": [
    "len(martini2)"
   ]
  },
  {
   "cell_type": "code",
   "execution_count": 79,
   "id": "15f8516b",
   "metadata": {},
   "outputs": [
    {
     "name": "stdout",
     "output_type": "stream",
     "text": [
      "Distance correlations: \n",
      "Martini vs Boltzmann_xray:\n",
      "[[1.         0.67784817]\n",
      " [0.67784817 1.        ]]\n",
      "Gaussian-fit vs Boltzmann_xray:\n",
      "[[1.         0.70526379]\n",
      " [0.70526379 1.        ]]\n",
      "Boltzmann_allatom vs Boltzmann_xray:\n",
      "[[1.         0.68973606]\n",
      " [0.68973606 1.        ]]\n",
      "Boltzmann_allatom vs Gaussian fit:\n",
      "[[1.         0.80764096]\n",
      " [0.80764096 1.        ]]\n"
     ]
    }
   ],
   "source": [
    "#siRNA ----------------- <distance>\n",
    "gaussian_fit = [0.412558467,0.236942976,0.338189474,0.329147264,0.338049492,0.328881889,\n",
    "                0.231969438,0.269096832,0.294355397,0.163957088,0.340896505,0.295066947,\n",
    "                0.291067187,0.163025494,0.389928094,0.339014621,0.223939049,0.285943739,\n",
    "                0.267981535,0.221055534,0.268946216,0.209043448,0.330715567]\n",
    "martini2 = [0.363,0.202,0.293,0.286,0.292,0.28,0.234,0.263,0.299,0.162,0.32,0.296,\n",
    "            0.296,0.162,0.385,0.32,0.224,0.281,0.267,0.224,0.289,0.276,0.354]\n",
    "boltzmann_xray = [0.326177644,0.307868127,0.337119491,0.328689902,0.334598699,0.329749351,\n",
    "                  0.234885741,0.248555637,0.296274244,0.173441828,0.323683961,0.124612617,\n",
    "                  0.29633237,0.16344011,0.339545458,0.342077495,0.208845038,0.287805774,\n",
    "                  0.269862652,0.196732918,0.275455449,0.308957597,0.368410809]\n",
    "boltzmann_all_atom = [0.407713445,0.240216956,0.343448102,0.329894573,0.525525345,0.330125308,\n",
    "                      0.233217213,0.269362292,0.295848259,0.162829001,0.341282879,0.29522389,\n",
    "                      0.291034438,0.162940589,0.389827467,0.339710294,0.055982705,\n",
    "                      0.285937434,0.267677625,0.221067451,0.268600881,0.20968964,0.506115117]\n",
    "\n",
    "print(\"Distance correlations: \")\n",
    "print(\"Martini vs Boltzmann_xray:\")\n",
    "a = np.corrcoef(martini2, boltzmann_xray)\n",
    "print(a)\n",
    "\n",
    "print(\"Gaussian-fit vs Boltzmann_xray:\")\n",
    "a = np.corrcoef(gaussian_fit, boltzmann_xray)\n",
    "print(a)\n",
    "\n",
    "print(\"Boltzmann_allatom vs Boltzmann_xray:\")\n",
    "a = np.corrcoef(boltzmann_all_atom, boltzmann_xray)\n",
    "print(a)\n",
    "\n",
    "print(\"Boltzmann_allatom vs Gaussian fit:\")\n",
    "a = np.corrcoef(boltzmann_all_atom, gaussian_fit)\n",
    "print(a)\n",
    "\n"
   ]
  },
  {
   "cell_type": "code",
   "execution_count": 85,
   "id": "ef8de982",
   "metadata": {},
   "outputs": [
    {
     "data": {
      "text/plain": [
       "33"
      ]
     },
     "execution_count": 85,
     "metadata": {},
     "output_type": "execute_result"
    }
   ],
   "source": [
    "len(boltzmann_xray)"
   ]
  },
  {
   "cell_type": "code",
   "execution_count": 82,
   "id": "7555ec2f",
   "metadata": {},
   "outputs": [
    {
     "name": "stdout",
     "output_type": "stream",
     "text": [
      "Angle correlations: \n",
      "Martini vs Boltzmann_xray:\n",
      "[[1.         0.64704915]\n",
      " [0.64704915 1.        ]]\n",
      "Gaussian-fit vs Boltzmann_xray:\n",
      "[[1.         0.82960105]\n",
      " [0.82960105 1.        ]]\n",
      "Boltzmann_allatom vs Boltzmann_xray:\n",
      "[[1.         0.82621662]\n",
      " [0.82621662 1.        ]]\n",
      "Boltzmann_allatom vs Gaussian fit:\n",
      "[[1.         0.97250744]\n",
      " [0.97250744 1.        ]]\n"
     ]
    }
   ],
   "source": [
    "\n",
    "\n",
    "#siRNA ----------------- <angle>\n",
    "gaussian_fit = [122.1347568,73.39134034,122.4384606,118.050877,121.0347794,117.4133302,83.6883298,\n",
    "                104.0040409,33.31613666,113.5895066,125.1413646,85.48132898,111.3852574,\n",
    "                71.23714547,91.64029912,28.7881953,98.34443939,151.4579902,49.56677413,\n",
    "                53.33387722,33.59831125,112.3778997,124.1142382,70.41805097,113.239885,83.6883298,92.36503846,\n",
    "                28.58879239,98.17228412,149.8977137,61.97353067,70.50855771,47.46694594]\n",
    "martini2 = [84,95,93,160,180,160,160,117,101,153,135,87,115,74,92,95,99,155,55,42,103,129,137,\n",
    "            72,117,84,96.5,155,102,157,61,71,47]\n",
    "boltzmann_xray = [92.77598498,67.56514165,119.3804158,111.4878575,121.1223355,114.714499,\n",
    "                  83.54106742,136.6822571,81.6814088,111.4443723,127.3753473,85.6037221,111.513756,\n",
    "                  69.11503808,92.11770381,65.97343612,97.38937221,150.7964495,62.83183795,\n",
    "                  46.17902509,86.49817873,109.9557427,125.6635664,70.37615087,113.0973353,\n",
    "                  113.0973353,92.36601683,64.50616005,149.122852,149.122852,61.60846184,\n",
    "                  70.48872221,47.82256729]\n",
    "boltzmann_all_atom = [125.663706,73.8413927,119.3805039,114.6378421,120.9222999,\n",
    "                      116.238933,84.82301227,108.3770019,32.78549324,94.24767528,\n",
    "                      124.0840892,89.67526512,111.7107208,70.72468218,92.70268831,28.27434755,\n",
    "                      98.94955378,153.9380343,50.26548217,53.40700105,25.13287108,111.5818678,\n",
    "                      123.9555317,69.11505445,95.97250557,117.6557956,92.69336142,34.55751887,\n",
    "                      102.1555248,149.1928888,62.83185286,70.7398918,53.40707502]\n",
    "\n",
    "print(\"Angle correlations: \")\n",
    "print(\"Martini vs Boltzmann_xray:\")\n",
    "a = np.corrcoef(martini2, boltzmann_xray)\n",
    "print(a)\n",
    "\n",
    "print(\"Gaussian-fit vs Boltzmann_xray:\")\n",
    "a = np.corrcoef(gaussian_fit, boltzmann_xray)\n",
    "print(a)\n",
    "\n",
    "print(\"Boltzmann_allatom vs Boltzmann_xray:\")\n",
    "a = np.corrcoef(boltzmann_all_atom, boltzmann_xray)\n",
    "print(a)\n",
    "\n",
    "print(\"Boltzmann_allatom vs Gaussian fit:\")\n",
    "a = np.corrcoef(boltzmann_all_atom, gaussian_fit)\n",
    "print(a)"
   ]
  },
  {
   "cell_type": "code",
   "execution_count": 88,
   "id": "ba08c16d",
   "metadata": {},
   "outputs": [
    {
     "name": "stdout",
     "output_type": "stream",
     "text": [
      "DIhedral correlations: \n",
      "Martini vs Boltzmann_xray:\n",
      "[[1.         0.36236683]\n",
      " [0.36236683 1.        ]]\n",
      "Gaussian-fit vs Boltzmann_xray:\n",
      "[[ 1.         -0.14070199]\n",
      " [-0.14070199  1.        ]]\n",
      "Boltzmann_allatom vs Boltzmann_xray:\n",
      "[[ 1.         -0.20788382]\n",
      " [-0.20788382  1.        ]]\n",
      "Boltzmann_allatom vs Gaussian fit:\n",
      "[[1.         0.99048701]\n",
      " [0.99048701 1.        ]]\n"
     ]
    }
   ],
   "source": [
    "#siRNA ----------------- <dihedral>\n",
    "gaussian_fit = [-140.1505066,-155,0.563551631,-145.1640485,-153.5832193,60.56127506,0.65575975,\n",
    "                -135.709377,-149.5880126]\n",
    "martini2 = [360,140,170,360,360,180,180,235,180]\n",
    "boltzmann_xray = [-93.56069614,-170.38976,-88.42736573,132.6013592,43.13562669,-2.479039775,\n",
    "                  -85.44003041,-164.3294971,134.8915755]\n",
    "boltzmann_all_atom = [-141.422328,-119.204,0,-144.9,-154.4043953,60.56,0,-133.5840577,\n",
    "                      -147.7950583]\n",
    "\n",
    "print(\"DIhedral correlations: \")\n",
    "print(\"Martini vs Boltzmann_xray:\")\n",
    "a = np.corrcoef(martini2, boltzmann_xray)\n",
    "print(a)\n",
    "\n",
    "print(\"Gaussian-fit vs Boltzmann_xray:\")\n",
    "a = np.corrcoef(gaussian_fit, boltzmann_xray)\n",
    "print(a)\n",
    "\n",
    "print(\"Boltzmann_allatom vs Boltzmann_xray:\")\n",
    "a = np.corrcoef(boltzmann_all_atom, boltzmann_xray)\n",
    "print(a)\n",
    "\n",
    "print(\"Boltzmann_allatom vs Gaussian fit:\")\n",
    "a = np.corrcoef(boltzmann_all_atom, gaussian_fit)\n",
    "print(a)"
   ]
  },
  {
   "cell_type": "code",
   "execution_count": null,
   "id": "253fc619",
   "metadata": {},
   "outputs": [],
   "source": []
  }
 ],
 "metadata": {
  "kernelspec": {
   "display_name": "Python 3",
   "language": "python",
   "name": "python3"
  },
  "language_info": {
   "codemirror_mode": {
    "name": "ipython",
    "version": 3
   },
   "file_extension": ".py",
   "mimetype": "text/x-python",
   "name": "python",
   "nbconvert_exporter": "python",
   "pygments_lexer": "ipython3",
   "version": "3.6.9"
  }
 },
 "nbformat": 4,
 "nbformat_minor": 5
}
