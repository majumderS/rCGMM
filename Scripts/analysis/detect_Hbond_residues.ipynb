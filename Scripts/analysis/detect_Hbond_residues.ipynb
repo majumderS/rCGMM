{
 "cells": [
  {
   "cell_type": "code",
   "execution_count": 1,
   "id": "ecfce2a5",
   "metadata": {},
   "outputs": [],
   "source": [
    "file = \"6bjv_CG.pdb\""
   ]
  },
  {
   "cell_type": "code",
   "execution_count": 2,
   "id": "a5fc361c",
   "metadata": {},
   "outputs": [
    {
     "name": "stdout",
     "output_type": "stream",
     "text": [
      "C\n",
      "UC\n",
      "UCG\n",
      "UCGA\n",
      "UCGAA\n",
      "UCGAAG\n",
      "UCGAAGU\n",
      "UCGAAGUA\n",
      "UCGAAGUAU\n",
      "UCGAAGUAUU\n",
      "UCGAAGUAUUC\n",
      "UCGAAGUAUUCC\n",
      "UCGAAGUAUUCCG\n",
      "UCGAAGUAUUCCGC\n",
      "UCGAAGUAUUCCGCG\n",
      "UCGAAGUAUUCCGCGU\n",
      "UCGAAGUAUUCCGCGUA\n",
      "UCGAAGUAUUCCGCGUAC\n",
      "UCGAAGUAUUCCGCGUACG\n",
      "UCGAAGUAUUCCGCGUACGU\n",
      "UCGAAGUAUUCCGCGUACGUU\n",
      "D\n",
      "CG\n",
      "CGU\n",
      "CGUA\n",
      "CGUAC\n",
      "CGUACG\n",
      "CGUACGC\n",
      "CGUACGCG\n",
      "CGUACGCGG\n",
      "CGUACGCGGA\n",
      "CGUACGCGGAA\n",
      "CGUACGCGGAAU\n",
      "CGUACGCGGAAUA\n",
      "CGUACGCGGAAUAC\n",
      "CGUACGCGGAAUACU\n",
      "CGUACGCGGAAUACUU\n",
      "CGUACGCGGAAUACUUC\n",
      "CGUACGCGGAAUACUUCG\n",
      "CGUACGCGGAAUACUUCGA\n",
      "CGUACGCGGAAUACUUCGAU\n",
      "CGUACGCGGAAUACUUCGAUU\n",
      "G\n",
      "PP\n",
      "PPP\n",
      "PPPP\n",
      "PPPPP\n",
      "PPPPPP\n",
      "PPPPPPP\n",
      "PPPPPPPP\n"
     ]
    }
   ],
   "source": [
    "# path = \"../mirna_molecules/8DG7.1.1_mdr.pdb\"\n",
    "path = \"../Launch_CG_simulations/6bjv_1us//\"+file\n",
    "# path = \"../../pirna_CG_model/launch_CG_simulations/3mj0_CG.pdb\"\n",
    "with open(path) as f:\n",
    "    chains = {}\n",
    "    res_id = []\n",
    "    pseudo_res_id = []\n",
    "    line_no = 0\n",
    "    lines = f.readlines()\n",
    "    seq_str = ''\n",
    "    prev_res_id = 0\n",
    "    prev_chain_id = ''\n",
    "    id_ = 1\n",
    "    for line in lines:\n",
    "#         print(line)\n",
    "        if(line.split()[0] == 'ENDMDL'):\n",
    "            #eof\n",
    "            break\n",
    "        if(line.split()[0] == 'ATOM'):\n",
    "            curr_res_id = int(line.split()[5])\n",
    "            curr_chain_id = line.split()[4]\n",
    "            \n",
    "            if(curr_res_id != prev_res_id and curr_chain_id == prev_chain_id):\n",
    "                #same chain different residue\n",
    "                seq_str = seq_str + line.split()[3]\n",
    "                prev_res_id = curr_res_id\n",
    "                res_id.append(curr_res_id)\n",
    "                pseudo_res_id.append(id_)\n",
    "                id_=id_+1\n",
    "                print(seq_str)\n",
    "                \n",
    "            elif(curr_res_id != prev_res_id and curr_chain_id != prev_chain_id):\n",
    "                #different chain different residue id\n",
    "                chains[curr_chain_id] = []\n",
    "                prev_chain_id = curr_chain_id\n",
    "                seq_str = ''\n",
    "                seq_str = seq_str + line.split()[3]\n",
    "                prev_res_id = curr_res_id\n",
    "                res_id.append(curr_res_id)\n",
    "                pseudo_res_id.append(id_)\n",
    "                id_=id_+1\n",
    "                print(curr_chain_id)\n",
    "            \n",
    "                \n",
    "        if(line.split()[0] == 'TER' and lines[line_no+1].split()[0] == 'ATOM' ):\n",
    "            print(seq_str)\n",
    "            chains[curr_chain_id]=seq_str\n",
    "            seq_str = ''\n",
    "        elif(line.split()[0] == 'TER' and lines[line_no+1].split()[0] == 'ENDMDL'):\n",
    "            print(\"SUbha\")\n",
    "            chains[curr_chain_id]=seq_str\n",
    "            seq_str = ''\n",
    "        elif(line.split()[0] == 'TER' and lines[line_no+1].split()[0] == 'CONECT'):\n",
    "            #to accomodate pseudo atom files\n",
    "            chains[curr_chain_id]=seq_str\n",
    "            break\n",
    "        line_no = line_no + 1\n",
    "            \n",
    "                "
   ]
  },
  {
   "cell_type": "code",
   "execution_count": 9,
   "id": "862310dd",
   "metadata": {},
   "outputs": [
    {
     "data": {
      "text/plain": [
       "{'C': [], 'D': [], 'G': 'PPPPPPPPP'}"
      ]
     },
     "execution_count": 9,
     "metadata": {},
     "output_type": "execute_result"
    }
   ],
   "source": [
    "chains"
   ]
  },
  {
   "cell_type": "code",
   "execution_count": 9,
   "id": "c6daf8a1",
   "metadata": {},
   "outputs": [],
   "source": [
    "sequence = chains['F']\n",
    "# sequence = \"GGUGUUGACUGUUGAAUCUCAUGGCAACACC\"\n",
    "\n",
    "#get secondary structure from rnafold http://rna.tbi.univie.ac.at/cgi-bin/RNAWebSuite/RNAfold.cgi\n",
    "secondary_struct=\"((((..........)))).....\"\n",
    "sec_map = []\n",
    "\n",
    "if (len(sequence) == len(secondary_struct)):\n",
    "    for i in range(0,len(sequence)):\n",
    "        sec_map.append([sequence[i],secondary_struct[i],res_id[i],pseudo_res_id[i]])"
   ]
  },
  {
   "cell_type": "code",
   "execution_count": 10,
   "id": "e1ef7aab",
   "metadata": {},
   "outputs": [
    {
     "data": {
      "text/plain": [
       "[['G', '(', 1, 1],\n",
       " ['G', '(', 2, 2],\n",
       " ['G', '(', 3, 3],\n",
       " ['U', '(', 4, 4],\n",
       " ['C', '.', 5, 5],\n",
       " ['U', '.', 6, 6],\n",
       " ['A', '.', 7, 7],\n",
       " ['U', '.', 8, 8],\n",
       " ['G', '.', 9, 9],\n",
       " ['A', '.', 10, 10],\n",
       " ['U', '.', 11, 11],\n",
       " ['A', '.', 12, 12],\n",
       " ['C', '.', 13, 13],\n",
       " ['C', '.', 14, 14],\n",
       " ['A', ')', 15, 15],\n",
       " ['C', ')', 16, 16],\n",
       " ['C', ')', 17, 17],\n",
       " ['C', ')', 18, 18],\n",
       " ['C', '.', 19, 19],\n",
       " ['G', '.', 20, 20],\n",
       " ['G', '.', 21, 21],\n",
       " ['A', '.', 22, 22],\n",
       " ['G', '.', 23, 23]]"
      ]
     },
     "execution_count": 10,
     "metadata": {},
     "output_type": "execute_result"
    }
   ],
   "source": [
    "sec_map"
   ]
  },
  {
   "cell_type": "code",
   "execution_count": 11,
   "id": "7fa1caaf",
   "metadata": {},
   "outputs": [
    {
     "name": "stdout",
     "output_type": "stream",
     "text": [
      "1 18\n",
      "2 17\n",
      "3 16\n",
      "4 15\n"
     ]
    }
   ],
   "source": [
    "start_p = 0\n",
    "end_p = len(sec_map)-1\n",
    "left_chain = []\n",
    "right_chain = []\n",
    "\n",
    "for i in range(0,len(sec_map)):\n",
    "    if(sec_map[start_p][1] == '(' and sec_map[end_p][1] == ')'):\n",
    "        print(str(sec_map[start_p][3]) +\" \"+str(sec_map[end_p][3]))\n",
    "        left_chain.append(start_p+1)\n",
    "        right_chain.append(end_p+1)\n",
    "        start_p = start_p +1\n",
    "        end_p = end_p -1\n",
    "    elif(sec_map[start_p][1] == '.' and sec_map[end_p][1] == ')'):\n",
    "        start_p = start_p + 1\n",
    "    elif(sec_map[start_p][1] == '(' and sec_map[end_p][1]=='.'):\n",
    "        end_p = end_p - 1\n",
    "    elif(sec_map[start_p][1]=='.' and sec_map[end_p][1] == '.'):\n",
    "        start_p = start_p + 1\n",
    "        end_p = end_p - 1\n",
    "    elif(start_p == end_p):\n",
    "        break\n",
    "        \n",
    "    "
   ]
  },
  {
   "cell_type": "code",
   "execution_count": 12,
   "id": "928370bb",
   "metadata": {},
   "outputs": [
    {
     "data": {
      "text/plain": [
       "[1, 2, 3, 4]"
      ]
     },
     "execution_count": 12,
     "metadata": {},
     "output_type": "execute_result"
    }
   ],
   "source": [
    "with open(\"../launch_CG_simulations/H_Bond_ids_\"+file+\".txt\",'w') as f:\n",
    "    f.write(\"left_chain=\" + str(left_chain) + \"\\n\" + \"right_chain=\"+str(right_chain))\n",
    "left_chain"
   ]
  },
  {
   "cell_type": "code",
   "execution_count": 13,
   "id": "42bafdfc",
   "metadata": {},
   "outputs": [
    {
     "data": {
      "text/plain": [
       "[18, 17, 16, 15]"
      ]
     },
     "execution_count": 13,
     "metadata": {},
     "output_type": "execute_result"
    }
   ],
   "source": [
    "right_chain"
   ]
  },
  {
   "cell_type": "code",
   "execution_count": null,
   "id": "d525c976",
   "metadata": {},
   "outputs": [],
   "source": []
  }
 ],
 "metadata": {
  "kernelspec": {
   "display_name": "Python 3",
   "language": "python",
   "name": "python3"
  },
  "language_info": {
   "codemirror_mode": {
    "name": "ipython",
    "version": 3
   },
   "file_extension": ".py",
   "mimetype": "text/x-python",
   "name": "python",
   "nbconvert_exporter": "python",
   "pygments_lexer": "ipython3",
   "version": "3.6.9"
  }
 },
 "nbformat": 4,
 "nbformat_minor": 5
}
