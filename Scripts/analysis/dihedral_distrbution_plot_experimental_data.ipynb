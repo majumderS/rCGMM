{
 "cells": [
  {
   "cell_type": "code",
   "execution_count": 1,
   "metadata": {},
   "outputs": [
    {
     "data": {
      "text/plain": [
       "array([[1.        , 0.00473037],\n",
       "       [0.00473037, 1.        ]])"
      ]
     },
     "execution_count": 1,
     "metadata": {},
     "output_type": "execute_result"
    }
   ],
   "source": [
    "martini2= [3.5,1,1.5,1.5,10,4,1,3.5,5,10,3,3]\n",
    "K_boltzmann = [1.491545229,0.939467267,0.870827266,2.011502542,1.8779708,1.791363503,1.936026703,\n",
    "               0.768785694,1.642665813,2.042698776,2.044193733,7.968220768]\n",
    "import numpy as np\n",
    "np.corrcoef(martini2, K_boltzmann)"
   ]
  },
  {
   "cell_type": "code",
   "execution_count": 4,
   "metadata": {},
   "outputs": [
    {
     "name": "stdout",
     "output_type": "stream",
     "text": [
      "correlation of distance : martini2 vs boltzmann\n",
      "[[ 1.         -0.18592114]\n",
      " [-0.18592114  1.        ]]\n"
     ]
    }
   ],
   "source": [
    "martini_data = [0,0,-10,180,100,180,-20,180,0,0,55,-130]\n",
    "boltzmann_dist_data = [-42.3,-91.1,-146.5,-141.42,-2.42,-144.46,-143.13,-154.4,63.35,0,\n",
    "                       -133.58,-147.79]\n",
    "\n",
    "import numpy as np\n",
    "print(\"correlation of distance : martini2 vs boltzmann\")\n",
    "print(np.corrcoef(martini_data, boltzmann_dist_data))\n",
    "\n"
   ]
  },
  {
   "cell_type": "code",
   "execution_count": 5,
   "metadata": {},
   "outputs": [
    {
     "name": "stdout",
     "output_type": "stream",
     "text": [
      "correlation of distance : gaussian vs boltzmann\n",
      "[[1.         0.99102543]\n",
      " [0.99102543 1.        ]]\n"
     ]
    }
   ],
   "source": [
    "boltzmann_dist_data = [-41.57,-91.92397966,-144.504,-141.422328,-119.204,0,-144.9,-143.1312254,\n",
    "                       -154.4043953,60.56,0,-133.5840577,-147.7950583]\n",
    "gaussian_dist_data = [-41.57338149,-91.92397966,-146.2497285,-140.1505066,-155,0.563551631,\n",
    "                      -145.1640485,-140.4858871,-153.5832193,60.56127506,0.65575975,-135.709377,\n",
    "                      -149.5880126]\n",
    "print(\"correlation of distance : gaussian vs boltzmann\")\n",
    "print(np.corrcoef(gaussian_dist_data, boltzmann_dist_data))"
   ]
  },
  {
   "cell_type": "code",
   "execution_count": 3,
   "metadata": {},
   "outputs": [
    {
     "data": {
      "text/plain": [
       "array([[1.00000000e+00, 7.37176857e-04],\n",
       "       [7.37176857e-04, 1.00000000e+00]])"
      ]
     },
     "execution_count": 3,
     "metadata": {},
     "output_type": "execute_result"
    }
   ],
   "source": [
    "martini_data = [0,0,-10,180,100,180,-20,180,0,0,55,-130,0,180,0,0]\n",
    "boltzmann_dist_data = [-42.3,-91,-146.5,-141.4,-2.42,-144.5,-143.13,-154.4,63.35,0.44,-133.6,\n",
    "                       -147.8,-134,134,60,144]\n",
    "import numpy as np\n",
    "np.corrcoef(martini_data, boltzmann_dist_data)"
   ]
  },
  {
   "cell_type": "code",
   "execution_count": 3,
   "metadata": {},
   "outputs": [],
   "source": [
    "import pandas as pd\n",
    "import seaborn as sns\n",
    "from scipy import stats\n",
    "import numpy as np\n",
    "import matplotlib.pyplot as plt\n",
    "%matplotlib inline\n",
    "import math\n",
    "from scipy.optimize import curve_fit\n",
    "dihedral_parameters = pd.DataFrame()\n",
    "dihedral_parameters_dict = {'Parameter':[],'raw data mean value':[],\n",
    "                            'raw data mode value gaussian-fitted mode value':[],\n",
    "                           'Seed value obtained using BOltzmann inversion':[],\n",
    "                           'K from boltzmann inversion':[]}"
   ]
  },
  {
   "cell_type": "code",
   "execution_count": 4,
   "metadata": {},
   "outputs": [],
   "source": [
    "dihedral_dict = dict.fromkeys(['BB1_BB2_BB3_ASC1','BB2_BB3_ASC1_ASC2','BB2_BB3_ASC1_ASC4',\\\n",
    "'BB2_BB3_ASC1_ASC4','ASC1_ASC2_ASC3_ASC4','BB1_BB2_BB3_USC1','BB2_BB3_USC1_USC2','BB2_BB3_USC1_USC3','BB1_BB2_BB3_GSC1',\\\n",
    "'BB2_BB3_GSC1_GSC2','BB2_BB3_GSC1_GSC4','GSC1_GSC2_GSC3_GSC4','BB1_BB2_BB3_CSC1','BB1_BB2_BB3_CSC1','BB2_BB3_CSC1_CSC2',\n",
    "'BB2_BB3_CSC1_CSC2','BB2_BB3_CSC1_CSC3','BB1_BB2_BB3_pBB1','BB2_BB3_pBB1_pBB2','BB3_pBB1_pBB2_pBB3','BB3_pBB1_pBB2_pBB3'\n",
    "])"
   ]
  },
  {
   "cell_type": "code",
   "execution_count": 6,
   "metadata": {},
   "outputs": [],
   "source": [
    "# df_Hmapped_dihedral_all = pd.read_csv('dihedral_final_allmolecules.csv')\n",
    "\n",
    "# df_Hmapped_angle_all = pd.read_csv('angle_final_allmolecules.csv')\n",
    "\n",
    "# df_Hmapped_distance_7w0f = pd.read_csv('piRNA_simu_files/3O3I/dist_final.xvg')\n",
    "# df_Hmapped_distance_all = pd.read_csv('dist_final_allmolecules.csv')\n",
    "\n",
    "df_Hmapped_dihedral_all = pd.read_excel('/home/subhasree/IISC_Bangalore/My_PhD_Studies/Lab_work/CG_Models/PDB_files/experimental_data_bonded_params.xlsx',\n",
    "                                        sheet_name=\"all_dihedral\",engine=\"openpyxl\")"
   ]
  },
  {
   "cell_type": "code",
   "execution_count": 7,
   "metadata": {},
   "outputs": [],
   "source": [
    "def return_modes_of_data(data):   \n",
    "    data = data\n",
    "    n = np.histogram(data)\n",
    "    count_dict = {}\n",
    "    for i in range(0,len(n[0])):\n",
    "        count_dict[n[0][i]] = n[1][i]\n",
    "    return sorted(count_dict.items()),(sum(data)/len(data))"
   ]
  },
  {
   "cell_type": "code",
   "execution_count": 8,
   "metadata": {},
   "outputs": [],
   "source": [
    "BB1_BB2_BB3_ASC1_Hmapped_dihedral_all = df_Hmapped_dihedral_all['BB1_BB2_BB3_ASC1']\n",
    "BB2_BB3_ASC1_ASC2_Hmapped_dihedral_all = df_Hmapped_dihedral_all['BB2_BB3_ASC1_ASC2']\n",
    "BB2_BB3_ASC1_ASC4_Hmapped_dihedral_all = df_Hmapped_dihedral_all['BB2_BB3_ASC1_ASC4']\n",
    "ASC1_ASC2_ASC3_ASC4_Hmapped_dihedral_all = df_Hmapped_dihedral_all['ASC1_ASC2_ASC3_ASC4']\n",
    "BB1_BB2_BB3_USC1_Hmapped_dihedral_all = df_Hmapped_dihedral_all['BB1_BB2_BB3_USC1']\n",
    "BB2_BB3_USC1_USC2_Hmapped_dihedral_all = df_Hmapped_dihedral_all['BB2_BB3_USC1_USC2']\n",
    "BB2_BB3_USC1_USC3_Hmapped_dihedral_all = df_Hmapped_dihedral_all['BB2_BB3_USC1_USC3']\n",
    "BB1_BB2_BB3_GSC1_Hmapped_dihedral_all = df_Hmapped_dihedral_all['BB1_BB2_BB3_GSC1']\n",
    "BB2_BB3_GSC1_GSC2_Hmapped_dihedral_all = df_Hmapped_dihedral_all['BB2_BB3_GSC1_GSC2']\n",
    "BB2_BB3_GSC1_GSC4_Hmapped_dihedral_all = df_Hmapped_dihedral_all['BB2_BB3_GSC1_GSC4']\n",
    "GSC1_GSC2_GSC3_GSC4_Hmapped_dihedral_all = df_Hmapped_dihedral_all['GSC1_GSC2_GSC3_GSC4']\n",
    "BB1_BB2_BB3_CSC1_Hmapped_dihedral_all = df_Hmapped_dihedral_all['BB1_BB2_BB3_CSC1']\n",
    "BB2_BB3_CSC1_CSC2_Hmapped_dihedral_all = df_Hmapped_dihedral_all['BB2_BB3_CSC1_CSC2']\n",
    "BB2_BB3_CSC1_CSC3_Hmapped_dihedral_all = df_Hmapped_dihedral_all['BB2_BB3_CSC1_CSC3']\n",
    "BB1_BB2_BB3_pBB1_Hmapped_dihedral_all = df_Hmapped_dihedral_all['BB1_BB2_BB3_pBB1']\n",
    "BB2_BB3_pBB1_pBB2_Hmapped_dihedral_all = df_Hmapped_dihedral_all['BB2_BB3_pBB1_pBB2']\n",
    "BB3_pBB1_pBB2_pBB3_Hmapped_dihedral_all = df_Hmapped_dihedral_all['BB3_pBB1_pBB2_pBB3']"
   ]
  },
  {
   "cell_type": "code",
   "execution_count": 9,
   "metadata": {},
   "outputs": [
    {
     "data": {
      "text/plain": [
       "0     148.350\n",
       "1     132.320\n",
       "2     130.999\n",
       "3     133.139\n",
       "4     132.222\n",
       "5     140.695\n",
       "6     139.630\n",
       "7     142.958\n",
       "8     132.508\n",
       "9     132.120\n",
       "10    135.775\n",
       "11    127.675\n",
       "12    127.431\n",
       "13    133.491\n",
       "14    129.112\n",
       "15    137.145\n",
       "16    129.755\n",
       "17    135.389\n",
       "18    134.658\n",
       "19    141.989\n",
       "Name: BB2_BB3_CSC1_CSC3, dtype: float64"
      ]
     },
     "execution_count": 9,
     "metadata": {},
     "output_type": "execute_result"
    }
   ],
   "source": [
    "BB2_BB3_CSC1_CSC3_Hmapped_dihedral_all"
   ]
  },
  {
   "cell_type": "code",
   "execution_count": 10,
   "metadata": {},
   "outputs": [],
   "source": [
    "def P2U(p):\n",
    "     boltzmann = 1.9858285706E-3 # Kcal/K\n",
    "     T = 298.15 # K\n",
    "     p_max = p.max()\n",
    "     return - boltzmann * T * np.log(p / p_max)"
   ]
  },
  {
   "cell_type": "code",
   "execution_count": 11,
   "metadata": {},
   "outputs": [],
   "source": [
    "def harmonic_proper_dihedral(theta, theta0, k):\n",
    "    n = 1\n",
    "    coslist = []\n",
    "    for t in theta:\n",
    "        coslist.append(math.cos(n*t - theta0))\n",
    "    final_coslist = np.array(coslist)\n",
    "    val =  k * (1 + final_coslist)\n",
    "    return val"
   ]
  },
  {
   "cell_type": "code",
   "execution_count": 12,
   "metadata": {},
   "outputs": [],
   "source": [
    "def harmonic_improper_dihedral(theta,theta0,k):\n",
    "    return k * (theta - theta0) ** 2"
   ]
  },
  {
   "cell_type": "code",
   "execution_count": 19,
   "metadata": {},
   "outputs": [
    {
     "name": "stderr",
     "output_type": "stream",
     "text": [
      "/home/subhasree/.local/lib/python3.6/site-packages/seaborn/distributions.py:2557: FutureWarning: `distplot` is a deprecated function and will be removed in a future version. Please adapt your code to use either `displot` (a figure-level function with similar flexibility) or `histplot` (an axes-level function for histograms).\n",
      "  warnings.warn(msg, FutureWarning)\n"
     ]
    },
    {
     "name": "stdout",
     "output_type": "stream",
     "text": [
      "BB1_BB2_BB3_pBB1_Hmapped_dihedral_all\n",
      "Mean: Raw data 15.093699999999998\n",
      "Mode: Raw data 31.313021315256094\n",
      "Mode: Gauss-fitted 31.313021315256094\n"
     ]
    },
    {
     "data": {
      "image/png": "[encoded data removed]",
      "text/plain": [
       "<Figure size 432x288 with 1 Axes>"
      ]
     },
     "metadata": {
      "needs_background": "light"
     },
     "output_type": "display_data"
    }
   ],
   "source": [
    "# # Density Plot and Histogram \n",
    "# l = []\n",
    "# for item in BB1_BB2_BB3_pBB1_Hmapped_dihedral_all.values:\n",
    "# #     l.append(int(item+180))\n",
    "\n",
    "# Density Plot and Histogram \n",
    "from scipy import stats\n",
    "xmedian = np.median(BB1_BB2_BB3_pBB1_Hmapped_dihedral_all)\n",
    "xmean = np.mean(BB1_BB2_BB3_pBB1_Hmapped_dihedral_all)\n",
    "# xmode = stats.mode(BB2_BB3_Hmapped_distance_all)[0][0] #gives wrong value\n",
    "\n",
    "#raw data plot\n",
    "plt2 = sns.distplot(BB1_BB2_BB3_pBB1_Hmapped_dihedral_all, kde=True, \n",
    "            color = 'white',norm_hist=False,\n",
    "             kde_kws={'linewidth': 1}\n",
    "             )\n",
    "\n",
    "x = plt2.lines[0].get_xdata()\n",
    "y = plt2.lines[0].get_ydata()\n",
    "maxid = np.argmax(y)\n",
    "xmode = x[maxid]\n",
    "plt2.axvline(xmean,c='red')\n",
    "plt2.axvline(xmedian,c='blue')\n",
    "plt2.axvline(xmode,c='green')\n",
    "\n",
    "# density plot\n",
    "import matplotlib.pyplot as plt\n",
    "ax = sns.kdeplot(BB1_BB2_BB3_pBB1_Hmapped_dihedral_all)\n",
    "x = ax.lines[0].get_xdata()\n",
    "y = ax.lines[0].get_ydata()\n",
    "maxid = np.argmax(y)\n",
    "\n",
    "print(\"BB1_BB2_BB3_pBB1_Hmapped_dihedral_all\")\n",
    "print(\"Mean: Raw data\",xmean)\n",
    "print(\"Mode: Raw data\",xmode)\n",
    "print(\"Mode: Gauss-fitted\",x[maxid])"
   ]
  },
  {
   "cell_type": "code",
   "execution_count": 20,
   "metadata": {},
   "outputs": [
    {
     "name": "stdout",
     "output_type": "stream",
     "text": [
      "parameter R_o is:  -41.213706709679215\n",
      "parameter K is:  0.8893146415922546\n"
     ]
    },
    {
     "data": {
      "image/png": "[encoded data removed]",
      "text/plain": [
       "<Figure size 432x288 with 1 Axes>"
      ]
     },
     "metadata": {
      "needs_background": "light"
     },
     "output_type": "display_data"
    }
   ],
   "source": [
    "def harmonic_proper_dihedral(theta, theta0, k):\n",
    "    n = 1\n",
    "    coslist = []\n",
    "    for t in theta:\n",
    "        coslist.append(math.cos(n*t - theta0))\n",
    "    final_coslist = np.array(coslist)\n",
    "    val =  k * (1 + final_coslist)\n",
    "    return val\n",
    "\n",
    "#get probability distribution from data\n",
    "plt2 = sns.kdeplot(BB1_BB2_BB3_pBB1_Hmapped_dihedral_all)\n",
    "xdata = plt2.lines[0].get_xdata()\n",
    "ydata = plt2.lines[0].get_ydata()\n",
    "\n",
    "#calculate energy\n",
    "U = P2U(ydata)\n",
    "\n",
    "#code to deal with innifite energy\n",
    "if(U.max() == float('inf')):\n",
    "    U2 = U\n",
    "    t = np.sort(U2)[::-1]\n",
    "    for x in t:\n",
    "        if(x==float('inf')):\n",
    "            continue\n",
    "        else:\n",
    "            second_largest = x\n",
    "            break\n",
    "    U[U==float('inf')]=(second_largest * 2)\n",
    "else:\n",
    "    U[U==float('inf')]=(U.max() * 2)\n",
    "\n",
    "plt.plot(xdata,U,color='black')\n",
    "\n",
    "#plot enegy and density\n",
    "import matplotlib.pyplot as plt\n",
    "plt.plot(xdata,U,color='black')\n",
    "\n",
    "# for i in range(0,xdata.shape[0]):\n",
    "params, pcov = curve_fit(harmonic_proper_dihedral, xdata,U,p0=[-41, 50000])\n",
    "print(\"parameter R_o is: \",params[0])\n",
    "print(\"parameter K is: \",params[1])\n",
    "# curve_fit(harmonic_angle, xdata[0], U, p0=[84, 1000])\n",
    "\n",
    "\n",
    "dihedral_parameters_dict['Parameter'].append('BB1_BB2_BB3_pBB1')\n",
    "dihedral_parameters_dict['raw data mean value'].append(xmean)\n",
    "dihedral_parameters_dict['raw data mode value gaussian-fitted mode value'].append(x[maxid])\n",
    "dihedral_parameters_dict['Seed value obtained using BOltzmann inversion'].append(params[0])\n",
    "dihedral_parameters_dict['K from boltzmann inversion'].append(params[1])"
   ]
  },
  {
   "cell_type": "code",
   "execution_count": 21,
   "metadata": {},
   "outputs": [
    {
     "name": "stderr",
     "output_type": "stream",
     "text": [
      "/home/subhasree/.local/lib/python3.6/site-packages/seaborn/distributions.py:2557: FutureWarning: `distplot` is a deprecated function and will be removed in a future version. Please adapt your code to use either `displot` (a figure-level function with similar flexibility) or `histplot` (an axes-level function for histograms).\n",
      "  warnings.warn(msg, FutureWarning)\n"
     ]
    },
    {
     "name": "stdout",
     "output_type": "stream",
     "text": [
      "second mode: 81.17518120043496\n",
      "BB2_BB3_pBB1_pBB2_Hmapped_dihedral_all\n",
      "Mean: Raw data -107.21355000000001\n",
      "Mode: Raw data -157.70684182144743\n",
      "Mode: Gauss-fitted -157.70684182144743\n"
     ]
    },
    {
     "data": {
      "image/png": "[encoded data removed]",
      "text/plain": [
       "<Figure size 432x288 with 1 Axes>"
      ]
     },
     "metadata": {
      "needs_background": "light"
     },
     "output_type": "display_data"
    }
   ],
   "source": [
    "# Density Plot and Histogram \n",
    "from scipy import stats\n",
    "xmedian = np.median(BB2_BB3_pBB1_pBB2_Hmapped_dihedral_all)\n",
    "xmean = np.mean(BB2_BB3_pBB1_pBB2_Hmapped_dihedral_all)\n",
    "# xmode = stats.mode(BB2_BB3_Hmapped_distance_all)[0][0] #gives wrong value\n",
    "\n",
    "# raw data plot\n",
    "plt = sns.distplot(BB2_BB3_pBB1_pBB2_Hmapped_dihedral_all, kde=True, \n",
    "            color = 'white',norm_hist=False,\n",
    "             kde_kws={'linewidth': 1}\n",
    "             )\n",
    "\n",
    "x = plt.lines[0].get_xdata()\n",
    "y = plt.lines[0].get_ydata()\n",
    "maxid = np.argmax(y)\n",
    "xmode = x[maxid]\n",
    "\n",
    "\n",
    "\n",
    "\n",
    "#script for multimodal graphs\n",
    "x_new = []\n",
    "y_new = []\n",
    "for item in x:\n",
    "    if(item>0 and item<200):\n",
    "        id = list(x).index(item)\n",
    "        x_new.append(x[id])\n",
    "        y_new.append(y[id])\n",
    "#check the mode in the new partition:\n",
    "print(\"second mode:\",x_new[np.argmax(y_new)])\n",
    "\n",
    "\n",
    "# #histogram plot + Density plot\n",
    "# import matplotlib.pyplot as plt\n",
    "# sns.displot(BB2_BB3_pBB1_pBB2_Hmapped_dihedral_all,bins=10)\n",
    "# \n",
    "# \n",
    "# \n",
    "\n",
    "#density plot\n",
    "import matplotlib.pyplot as plt\n",
    "ax = sns.kdeplot(BB2_BB3_pBB1_pBB2_Hmapped_dihedral_all)\n",
    "\n",
    "\n",
    "\n",
    "\n",
    "x = ax.lines[0].get_xdata()\n",
    "y = ax.lines[0].get_ydata()\n",
    "maxid = np.argmax(y)\n",
    "\n",
    "print(\"BB2_BB3_pBB1_pBB2_Hmapped_dihedral_all\")\n",
    "print(\"Mean: Raw data\",xmean)\n",
    "print(\"Mode: Raw data\",xmode)\n",
    "print(\"Mode: Gauss-fitted\",x[maxid])\n"
   ]
  },
  {
   "cell_type": "code",
   "execution_count": 22,
   "metadata": {},
   "outputs": [
    {
     "name": "stdout",
     "output_type": "stream",
     "text": [
      "parameter R_o is:  -90.09270383855635\n",
      "parameter K is:  1.2087412912222752\n"
     ]
    },
    {
     "data": {
      "image/png": "[encoded data removed]",
      "text/plain": [
       "<Figure size 432x288 with 1 Axes>"
      ]
     },
     "metadata": {
      "needs_background": "light"
     },
     "output_type": "display_data"
    }
   ],
   "source": [
    "def harmonic_proper_dihedral(theta, theta0, k):\n",
    "    n = 1\n",
    "    coslist = []\n",
    "    for t in theta:\n",
    "        coslist.append(math.cos(n*t - theta0))\n",
    "    final_coslist = np.array(coslist)\n",
    "    val =  k * (1 + final_coslist)\n",
    "    return val\n",
    "\n",
    "#get probability distribution from data\n",
    "plt2 = sns.kdeplot(BB2_BB3_pBB1_pBB2_Hmapped_dihedral_all)\n",
    "xdata = plt2.lines[0].get_xdata()\n",
    "ydata = plt2.lines[0].get_ydata()\n",
    "\n",
    "#calculate energy\n",
    "U = P2U(ydata)\n",
    "#code to deal with innifite energy\n",
    "if(U.max() == float('inf')):\n",
    "    U2 = U\n",
    "    t = np.sort(U2)[::-1]\n",
    "    for x in t:\n",
    "        if(x==float('inf')):\n",
    "            continue\n",
    "        else:\n",
    "            second_largest = x\n",
    "            break\n",
    "    U[U==float('inf')]=(second_largest * 2)\n",
    "else:\n",
    "    U[U==float('inf')]=(U.max() * 2)\n",
    "\n",
    "#plot enegy and density\n",
    "import matplotlib.pyplot as plt\n",
    "plt.plot(xdata,U,color='black')\n",
    "\n",
    "# for i in range(0,xdata.shape[0]):\n",
    "params, pcov = curve_fit(harmonic_proper_dihedral, xdata,U,p0=[-91, 1000])\n",
    "print(\"parameter R_o is: \",params[0])\n",
    "print(\"parameter K is: \",params[1])\n",
    "# curve_fit(harmonic_angle, xdata[0], U, p0=[84, 1000])\n",
    "\n",
    "dihedral_parameters_dict['Parameter'].append('BB2_BB3_pBB1_pBB2')\n",
    "dihedral_parameters_dict['raw data mean value'].append(xmean)\n",
    "dihedral_parameters_dict['raw data mode value gaussian-fitted mode value'].append(x[maxid])\n",
    "dihedral_parameters_dict['Seed value obtained using BOltzmann inversion'].append(params[0])\n",
    "dihedral_parameters_dict['K from boltzmann inversion'].append(params[1])"
   ]
  },
  {
   "cell_type": "code",
   "execution_count": 23,
   "metadata": {},
   "outputs": [
    {
     "name": "stderr",
     "output_type": "stream",
     "text": [
      "/home/subhasree/.local/lib/python3.6/site-packages/seaborn/distributions.py:2557: FutureWarning: `distplot` is a deprecated function and will be removed in a future version. Please adapt your code to use either `displot` (a figure-level function with similar flexibility) or `histplot` (an axes-level function for histograms).\n",
      "  warnings.warn(msg, FutureWarning)\n"
     ]
    },
    {
     "name": "stdout",
     "output_type": "stream",
     "text": [
      "second mode: 152.8763780713979\n",
      "BB3_pBB1_pBB2_pBB3_Hmapped_dihedral_all\n",
      "Mean: Raw data 134.45035\n",
      "Mode: Raw data 152.8763780713979\n",
      "Mode: Gauss-fitted 152.8763780713979\n"
     ]
    },
    {
     "data": {
      "image/png": "[encoded data removed]",
      "text/plain": [
       "<Figure size 432x288 with 1 Axes>"
      ]
     },
     "metadata": {
      "needs_background": "light"
     },
     "output_type": "display_data"
    }
   ],
   "source": [
    "# Density Plot and Histogram \n",
    "from scipy import stats\n",
    "xmedian = np.median(BB3_pBB1_pBB2_pBB3_Hmapped_dihedral_all)\n",
    "xmean = np.mean(BB3_pBB1_pBB2_pBB3_Hmapped_dihedral_all)\n",
    "# xmode = stats.mode(BB2_BB3_Hmapped_distance_all)[0][0] #gives wrong value\n",
    "\n",
    "#raw data plot\n",
    "plt = sns.distplot(BB3_pBB1_pBB2_pBB3_Hmapped_dihedral_all, kde=True, \n",
    "            color = 'white',norm_hist=False,\n",
    "             kde_kws={'linewidth': 1}\n",
    "             )\n",
    "\n",
    "x = plt.lines[0].get_xdata()\n",
    "y = plt.lines[0].get_ydata()\n",
    "maxid = np.argmax(y)\n",
    "xmode = x[maxid]\n",
    "\n",
    "\n",
    "\n",
    "\n",
    "#script for multimodal graphs\n",
    "x_new = []\n",
    "y_new = []\n",
    "for item in x:\n",
    "    if(item>0 and item<200):\n",
    "        id = list(x).index(item)\n",
    "        x_new.append(x[id])\n",
    "        y_new.append(y[id])\n",
    "#check the mode in the new partition:\n",
    "print(\"second mode:\",x_new[np.argmax(y_new)])\n",
    "\n",
    "# # #histogram plot + Density plot\n",
    "# import matplotlib.pyplot as plt\n",
    "# sns.displot(BB3_pBB1_pBB2_pBB3_Hmapped_dihedral_all,bins=10)\n",
    "# \n",
    "# \n",
    "# \n",
    "\n",
    "#density plot\n",
    "import matplotlib.pyplot as plt\n",
    "ax = sns.kdeplot(BB3_pBB1_pBB2_pBB3_Hmapped_dihedral_all)\n",
    "\n",
    "\n",
    "\n",
    "\n",
    "x = ax.lines[0].get_xdata()\n",
    "y = ax.lines[0].get_ydata()\n",
    "maxid = np.argmax(y)\n",
    "\n",
    "print(\"BB3_pBB1_pBB2_pBB3_Hmapped_dihedral_all\")\n",
    "print(\"Mean: Raw data\",xmean)\n",
    "print(\"Mode: Raw data\",xmode)\n",
    "print(\"Mode: Gauss-fitted\",x[maxid])\n"
   ]
  },
  {
   "cell_type": "code",
   "execution_count": 24,
   "metadata": {},
   "outputs": [
    {
     "ename": "RuntimeError",
     "evalue": "Optimal parameters not found: Number of calls to function has reached maxfev = 600.",
     "output_type": "error",
     "traceback": [
      "\u001b[0;31m---------------------------------------------------------------------------\u001b[0m",
      "\u001b[0;31mRuntimeError\u001b[0m                              Traceback (most recent call last)",
      "\u001b[0;32m<ipython-input-24-3f63df20b075>\u001b[0m in \u001b[0;36m<module>\u001b[0;34m\u001b[0m\n\u001b[1;32m     36\u001b[0m \u001b[0;34m\u001b[0m\u001b[0m\n\u001b[1;32m     37\u001b[0m \u001b[0;31m# for i in range(0,xdata.shape[0]):\u001b[0m\u001b[0;34m\u001b[0m\u001b[0;34m\u001b[0m\u001b[0;34m\u001b[0m\u001b[0m\n\u001b[0;32m---> 38\u001b[0;31m \u001b[0mparams\u001b[0m\u001b[0;34m,\u001b[0m \u001b[0mpcov\u001b[0m \u001b[0;34m=\u001b[0m \u001b[0mcurve_fit\u001b[0m\u001b[0;34m(\u001b[0m\u001b[0mharmonic_proper_dihedral\u001b[0m\u001b[0;34m,\u001b[0m \u001b[0mxdata\u001b[0m\u001b[0;34m,\u001b[0m\u001b[0mU\u001b[0m\u001b[0;34m,\u001b[0m\u001b[0mp0\u001b[0m\u001b[0;34m=\u001b[0m\u001b[0;34m[\u001b[0m\u001b[0;34m-\u001b[0m\u001b[0;36m146\u001b[0m\u001b[0;34m,\u001b[0m \u001b[0;36m50000\u001b[0m\u001b[0;34m]\u001b[0m\u001b[0;34m)\u001b[0m\u001b[0;34m\u001b[0m\u001b[0;34m\u001b[0m\u001b[0m\n\u001b[0m\u001b[1;32m     39\u001b[0m \u001b[0mprint\u001b[0m\u001b[0;34m(\u001b[0m\u001b[0;34m\"parameter R_o is: \"\u001b[0m\u001b[0;34m,\u001b[0m\u001b[0mparams\u001b[0m\u001b[0;34m[\u001b[0m\u001b[0;36m0\u001b[0m\u001b[0;34m]\u001b[0m\u001b[0;34m)\u001b[0m\u001b[0;34m\u001b[0m\u001b[0;34m\u001b[0m\u001b[0m\n\u001b[1;32m     40\u001b[0m \u001b[0mprint\u001b[0m\u001b[0;34m(\u001b[0m\u001b[0;34m\"parameter K is: \"\u001b[0m\u001b[0;34m,\u001b[0m\u001b[0mparams\u001b[0m\u001b[0;34m[\u001b[0m\u001b[0;36m1\u001b[0m\u001b[0;34m]\u001b[0m\u001b[0;34m)\u001b[0m\u001b[0;34m\u001b[0m\u001b[0;34m\u001b[0m\u001b[0m\n",
      "\u001b[0;32m~/.local/lib/python3.6/site-packages/scipy/optimize/minpack.py\u001b[0m in \u001b[0;36mcurve_fit\u001b[0;34m(f, xdata, ydata, p0, sigma, absolute_sigma, check_finite, bounds, method, jac, **kwargs)\u001b[0m\n\u001b[1;32m    766\u001b[0m         \u001b[0mcost\u001b[0m \u001b[0;34m=\u001b[0m \u001b[0mnp\u001b[0m\u001b[0;34m.\u001b[0m\u001b[0msum\u001b[0m\u001b[0;34m(\u001b[0m\u001b[0minfodict\u001b[0m\u001b[0;34m[\u001b[0m\u001b[0;34m'fvec'\u001b[0m\u001b[0;34m]\u001b[0m \u001b[0;34m**\u001b[0m \u001b[0;36m2\u001b[0m\u001b[0;34m)\u001b[0m\u001b[0;34m\u001b[0m\u001b[0;34m\u001b[0m\u001b[0m\n\u001b[1;32m    767\u001b[0m         \u001b[0;32mif\u001b[0m \u001b[0mier\u001b[0m \u001b[0;32mnot\u001b[0m \u001b[0;32min\u001b[0m \u001b[0;34m[\u001b[0m\u001b[0;36m1\u001b[0m\u001b[0;34m,\u001b[0m \u001b[0;36m2\u001b[0m\u001b[0;34m,\u001b[0m \u001b[0;36m3\u001b[0m\u001b[0;34m,\u001b[0m \u001b[0;36m4\u001b[0m\u001b[0;34m]\u001b[0m\u001b[0;34m:\u001b[0m\u001b[0;34m\u001b[0m\u001b[0;34m\u001b[0m\u001b[0m\n\u001b[0;32m--> 768\u001b[0;31m             \u001b[0;32mraise\u001b[0m \u001b[0mRuntimeError\u001b[0m\u001b[0;34m(\u001b[0m\u001b[0;34m\"Optimal parameters not found: \"\u001b[0m \u001b[0;34m+\u001b[0m \u001b[0merrmsg\u001b[0m\u001b[0;34m)\u001b[0m\u001b[0;34m\u001b[0m\u001b[0;34m\u001b[0m\u001b[0m\n\u001b[0m\u001b[1;32m    769\u001b[0m     \u001b[0;32melse\u001b[0m\u001b[0;34m:\u001b[0m\u001b[0;34m\u001b[0m\u001b[0;34m\u001b[0m\u001b[0m\n\u001b[1;32m    770\u001b[0m         \u001b[0;31m# Rename maxfev (leastsq) to max_nfev (least_squares), if specified.\u001b[0m\u001b[0;34m\u001b[0m\u001b[0;34m\u001b[0m\u001b[0;34m\u001b[0m\u001b[0m\n",
      "\u001b[0;31mRuntimeError\u001b[0m: Optimal parameters not found: Number of calls to function has reached maxfev = 600."
     ]
    },
    {
     "data": {
      "image/png": "[encoded data removed]",
      "text/plain": [
       "<Figure size 432x288 with 1 Axes>"
      ]
     },
     "metadata": {
      "needs_background": "light"
     },
     "output_type": "display_data"
    }
   ],
   "source": [
    "def harmonic_proper_dihedral(theta, theta0, k):\n",
    "    n = 2\n",
    "    coslist = []\n",
    "    for t in theta:\n",
    "        coslist.append(math.cos(n*t - theta0))\n",
    "    final_coslist = np.array(coslist)\n",
    "    val =  k * (1 + final_coslist)\n",
    "    return val\n",
    "\n",
    "#get probability distribution from data\n",
    "plt2 = sns.kdeplot(BB3_pBB1_pBB2_pBB3_Hmapped_dihedral_all)\n",
    "xdata = plt2.lines[0].get_xdata()\n",
    "ydata = plt2.lines[0].get_ydata()\n",
    "\n",
    "#calculate energy\n",
    "U = P2U(ydata)\n",
    "\n",
    "#code to deal with innifite energy\n",
    "if(U.max() == float('inf')):\n",
    "    U2 = U\n",
    "    t = np.sort(U2)[::-1]\n",
    "    for x in t:\n",
    "        if(x==float('inf')):\n",
    "            continue\n",
    "        else:\n",
    "            second_largest = x\n",
    "            break\n",
    "    U[U==float('inf')]=(second_largest * 2)\n",
    "else:\n",
    "    U[U==float('inf')]=(U.max() * 2)\n",
    "\n",
    "\n",
    "#plot enegy and density\n",
    "import matplotlib.pyplot as plt\n",
    "plt.plot(xdata,U,color='black')\n",
    "\n",
    "# for i in range(0,xdata.shape[0]):\n",
    "params, pcov = curve_fit(harmonic_proper_dihedral, xdata,U,p0=[-146, 50000])\n",
    "print(\"parameter R_o is: \",params[0])\n",
    "print(\"parameter K is: \",params[1])\n",
    "# curve_fit(harmonic_angle, xdata[0], U, p0=[84, 1000])\n",
    "\n",
    "dihedral_parameters_dict['Parameter'].append('BB3_pBB1_pBB2_pBB3')\n",
    "dihedral_parameters_dict['raw data mean value'].append(xmean)\n",
    "dihedral_parameters_dict['raw data mode value gaussian-fitted mode value'].append(x[maxid])\n",
    "dihedral_parameters_dict['Seed value obtained using BOltzmann inversion'].append(params[0])\n",
    "dihedral_parameters_dict['K from boltzmann inversion'].append(params[1])"
   ]
  },
  {
   "cell_type": "code",
   "execution_count": null,
   "metadata": {},
   "outputs": [],
   "source": [
    "# Density Plot and Histogram \n",
    "from scipy import stats\n",
    "xmedian = np.median(BB1_BB2_BB3_ASC1_Hmapped_dihedral_all)\n",
    "xmean = np.mean(BB1_BB2_BB3_ASC1_Hmapped_dihedral_all)\n",
    "# xmode = stats.mode(BB2_BB3_Hmapped_distance_all)[0][0] #gives wrong value\n",
    "\n",
    "# #raw data plot\n",
    "plt = sns.distplot(BB1_BB2_BB3_ASC1_Hmapped_dihedral_all, kde=True, \n",
    "            color = 'white',norm_hist=False,\n",
    "             kde_kws={'linewidth': 1}\n",
    "             )\n",
    "\n",
    "x = plt.lines[0].get_xdata()\n",
    "y = plt.lines[0].get_ydata()\n",
    "maxid = np.argmax(y)\n",
    "xmode = x[maxid]\n",
    "\n",
    "\n",
    "\n",
    "\n",
    "# # #histogram plot + Density plot\n",
    "# import matplotlib.pyplot as plt\n",
    "# sns.displot(BB1_BB2_BB3_ASC1_Hmapped_dihedral_all,bins=10)\n",
    "# \n",
    "# \n",
    "# \n",
    "\n",
    "# density plot\n",
    "import matplotlib.pyplot as plt\n",
    "ax = sns.kdeplot(BB1_BB2_BB3_ASC1_Hmapped_dihedral_all)\n",
    "\n",
    "\n",
    "\n",
    "\n",
    "x = ax.lines[0].get_xdata()\n",
    "y = ax.lines[0].get_ydata()\n",
    "maxid = np.argmax(y)\n",
    "\n",
    "print(\"BB1_BB2_BB3_ASC1_Hmapped_dihedral_all\")\n",
    "print(\"Mean: Raw data\",xmean)\n",
    "print(\"Mode: Raw data\",xmode)\n",
    "print(\"Mode: Gauss-fitted\",x[maxid])\n"
   ]
  },
  {
   "cell_type": "code",
   "execution_count": null,
   "metadata": {},
   "outputs": [],
   "source": [
    "def harmonic_proper_dihedral(theta, theta0, k):\n",
    "    n = 2\n",
    "    coslist = []\n",
    "    for t in theta:\n",
    "        coslist.append(math.cos(n*t - theta0))\n",
    "    final_coslist = np.array(coslist)\n",
    "    val =  k * (1 + final_coslist)\n",
    "    return val\n",
    "\n",
    "#get probability distribution from data\n",
    "plt2 = sns.kdeplot(BB1_BB2_BB3_ASC1_Hmapped_dihedral_all)\n",
    "xdata = plt2.lines[0].get_xdata()\n",
    "ydata = plt2.lines[0].get_ydata()\n",
    "\n",
    "#calculate energy\n",
    "U = P2U(ydata)\n",
    "\n",
    "#code to deal with innifite energy\n",
    "if(U.max() == float('inf')):\n",
    "    U2 = U\n",
    "    t = np.sort(U2)[::-1]\n",
    "    for x in t:\n",
    "        if(x==float('inf')):\n",
    "            continue\n",
    "        else:\n",
    "            second_largest = x\n",
    "            break\n",
    "    U[U==float('inf')]=(second_largest * 2)\n",
    "else:\n",
    "    U[U==float('inf')]=(U.max() * 2)\n",
    "\n",
    "\n",
    "#plot enegy and density\n",
    "import matplotlib.pyplot as plt\n",
    "plt.plot(xdata,U,color='red')\n",
    "\n",
    "# for i in range(0,xdata.shape[0]):\n",
    "params, pcov = curve_fit(harmonic_proper_dihedral, xdata,U,p0=[-140, 50000])\n",
    "print(\"parameter R_o is: \",params[0])\n",
    "print(\"parameter K is: \",params[1])\n",
    "# curve_fit(harmonic_angle, xdata[0], U, p0=[84, 1000])\n",
    "\n",
    "dihedral_parameters_dict['Parameter'].append('BB1_BB2_BB3_ASC1')\n",
    "dihedral_parameters_dict['raw data mean value'].append(xmean)\n",
    "dihedral_parameters_dict['raw data mode value gaussian-fitted mode value'].append(x[maxid])\n",
    "dihedral_parameters_dict['Seed value obtained using BOltzmann inversion'].append(params[0])\n",
    "dihedral_parameters_dict['K from boltzmann inversion'].append(params[1])"
   ]
  },
  {
   "cell_type": "code",
   "execution_count": null,
   "metadata": {},
   "outputs": [],
   "source": [
    "# Density Plot and Histogram \n",
    "from scipy import stats\n",
    "xmedian = np.median(BB2_BB3_ASC1_ASC2_Hmapped_dihedral_all)\n",
    "xmean = np.mean(BB2_BB3_ASC1_ASC2_Hmapped_dihedral_all)\n",
    "# xmode = stats.mode(BB2_BB3_Hmapped_distance_all)[0][0] #gives wrong value\n",
    "\n",
    "#raw data plot\n",
    "plt = sns.distplot(BB2_BB3_ASC1_ASC2_Hmapped_dihedral_all, kde=True, \n",
    "            color = 'white',norm_hist=False,\n",
    "             kde_kws={'linewidth': 1}\n",
    "             )\n",
    "\n",
    "x = plt.lines[0].get_xdata()\n",
    "y = plt.lines[0].get_ydata()\n",
    "maxid = np.argmax(y)\n",
    "xmode = x[maxid]\n",
    "\n",
    "\n",
    "\n",
    "\n",
    "#script for multimodal graphs\n",
    "x_new = []\n",
    "y_new = []\n",
    "for item in x:\n",
    "    if(item>0 and item<200):\n",
    "        id = list(x).index(item)\n",
    "        x_new.append(x[id])\n",
    "        y_new.append(y[id])\n",
    "#check the mode in the new partition:\n",
    "print(\"second mode:\",x_new[np.argmax(y_new)])\n",
    "\n",
    "# # #histogram plot + Density plot\n",
    "# import matplotlib.pyplot as plt\n",
    "# sns.displot(BB2_BB3_ASC1_ASC2_Hmapped_dihedral_all,bins=10)\n",
    "# \n",
    "# \n",
    "# \n",
    "\n",
    "#density plot\n",
    "import matplotlib.pyplot as plt\n",
    "ax = sns.kdeplot(BB2_BB3_ASC1_ASC2_Hmapped_dihedral_all)\n",
    "\n",
    "\n",
    "\n",
    "\n",
    "x = ax.lines[0].get_xdata()\n",
    "y = ax.lines[0].get_ydata()\n",
    "maxid = np.argmax(y)\n",
    "\n",
    "print(\"BB2_BB3_ASC1_ASC2_Hmapped_dihedral_all\")\n",
    "print(\"Mean: Raw data\",xmean)\n",
    "print(\"Mode: Raw data\",xmode)\n",
    "print(\"Mode: Gauss-fitted\",x[maxid])\n"
   ]
  },
  {
   "cell_type": "code",
   "execution_count": null,
   "metadata": {},
   "outputs": [],
   "source": [
    "def harmonic_proper_dihedral(theta, theta0, k):\n",
    "    n = 1\n",
    "    coslist = []\n",
    "    for t in theta:\n",
    "        coslist.append(math.cos(n*t - theta0))\n",
    "    final_coslist = np.array(coslist)\n",
    "    val =  k * (1 + final_coslist)\n",
    "    return val\n",
    "\n",
    "#get probability distribution from data\n",
    "plt2 = sns.kdeplot(BB2_BB3_ASC1_ASC2_Hmapped_dihedral_all)\n",
    "xdata = plt2.lines[0].get_xdata()\n",
    "ydata = plt2.lines[0].get_ydata()\n",
    "\n",
    "#calculate energy\n",
    "U = P2U(ydata)\n",
    "\n",
    "#code to deal with innifite energy\n",
    "if(U.max() == float('inf')):\n",
    "    U2 = U\n",
    "    t = np.sort(U2)[::-1]\n",
    "    for x in t:\n",
    "        if(x==float('inf')):\n",
    "            continue\n",
    "        else:\n",
    "            second_largest = x\n",
    "            break\n",
    "    U[U==float('inf')]=(second_largest * 2)\n",
    "else:\n",
    "    U[U==float('inf')]=(U.max() * 2)\n",
    "\n",
    "\n",
    "#plot enegy and density\n",
    "import matplotlib.pyplot as plt\n",
    "plt.plot(xdata,U,color='red')\n",
    "\n",
    "# for i in range(0,xdata.shape[0]):\n",
    "params, pcov = curve_fit(harmonic_proper_dihedral, xdata,U,p0=[-120, 50000])\n",
    "print(\"parameter R_o is: \",params[0])\n",
    "print(\"parameter K is: \",params[1])\n",
    "# curve_fit(harmonic_angle, xdata[0], U, p0=[84, 1000])\n",
    "dihedral_parameters_dict['Parameter'].append('BB2_BB3_ASC1_ASC2')\n",
    "dihedral_parameters_dict['raw data mean value'].append(xmean)\n",
    "dihedral_parameters_dict['raw data mode value gaussian-fitted mode value'].append(x[maxid])\n",
    "dihedral_parameters_dict['Seed value obtained using BOltzmann inversion'].append(params[0])\n",
    "dihedral_parameters_dict['K from boltzmann inversion'].append(params[1])"
   ]
  },
  {
   "cell_type": "code",
   "execution_count": null,
   "metadata": {},
   "outputs": [],
   "source": [
    "# Density Plot and Histogram \n",
    "from scipy import stats\n",
    "xmedian = np.median(BB2_BB3_ASC1_ASC4_Hmapped_dihedral_all)\n",
    "xmean = np.mean(BB2_BB3_ASC1_ASC4_Hmapped_dihedral_all)\n",
    "# xmode = stats.mode(BB2_BB3_Hmapped_distance_all)[0][0] #gives wrong value\n",
    "\n",
    "#raw data plot\n",
    "plt = sns.distplot(BB2_BB3_ASC1_ASC4_Hmapped_dihedral_all, kde=True, \n",
    "            color = 'white',norm_hist=False,\n",
    "             kde_kws={'linewidth': 1}\n",
    "             )\n",
    "\n",
    "x = plt.lines[0].get_xdata()\n",
    "y = plt.lines[0].get_ydata()\n",
    "maxid = np.argmax(y)\n",
    "xmode = x[maxid]\n",
    "\n",
    "\n",
    "\n",
    "\n",
    "# # #histogram plot + Density plot\n",
    "# import matplotlib.pyplot as plt\n",
    "# sns.displot(BB2_BB3_ASC1_ASC4_Hmapped_dihedral_all,bins=10)\n",
    "# \n",
    "# \n",
    "# \n",
    "\n",
    "# density plot\n",
    "import matplotlib.pyplot as plt\n",
    "ax = sns.kdeplot(BB2_BB3_ASC1_ASC4_Hmapped_dihedral_all)\n",
    "\n",
    "\n",
    "\n",
    "\n",
    "x = ax.lines[0].get_xdata()\n",
    "y = ax.lines[0].get_ydata()\n",
    "maxid = np.argmax(y)\n",
    "\n",
    "print(\"BB2_BB3_ASC1_ASC4_Hmapped_dihedral_all\")\n",
    "print(\"Mean: Raw data\",xmean)\n",
    "print(\"Mode: Raw data\",xmode)\n",
    "print(\"Mode: Gauss-fitted\",x[maxid])\n"
   ]
  },
  {
   "cell_type": "code",
   "execution_count": null,
   "metadata": {},
   "outputs": [],
   "source": [
    "BB2_BB3_ASC1_ASC4_Hmapped_dihedral_all_BB3"
   ]
  },
  {
   "cell_type": "code",
   "execution_count": 25,
   "metadata": {},
   "outputs": [
    {
     "ename": "IndexError",
     "evalue": "list index out of range",
     "output_type": "error",
     "traceback": [
      "\u001b[0;31m---------------------------------------------------------------------------\u001b[0m",
      "\u001b[0;31mIndexError\u001b[0m                                Traceback (most recent call last)",
      "\u001b[0;32m<ipython-input-25-a58b40c21c9e>\u001b[0m in \u001b[0;36m<module>\u001b[0;34m\u001b[0m\n\u001b[1;32m     10\u001b[0m \u001b[0;31m#get probability distribution from data\u001b[0m\u001b[0;34m\u001b[0m\u001b[0;34m\u001b[0m\u001b[0;34m\u001b[0m\u001b[0m\n\u001b[1;32m     11\u001b[0m \u001b[0mplt2\u001b[0m \u001b[0;34m=\u001b[0m \u001b[0msns\u001b[0m\u001b[0;34m.\u001b[0m\u001b[0mkdeplot\u001b[0m\u001b[0;34m(\u001b[0m\u001b[0mBB2_BB3_ASC1_ASC4_Hmapped_dihedral_all\u001b[0m\u001b[0;34m)\u001b[0m\u001b[0;34m\u001b[0m\u001b[0;34m\u001b[0m\u001b[0m\n\u001b[0;32m---> 12\u001b[0;31m \u001b[0mxdata\u001b[0m \u001b[0;34m=\u001b[0m \u001b[0mplt2\u001b[0m\u001b[0;34m.\u001b[0m\u001b[0mlines\u001b[0m\u001b[0;34m[\u001b[0m\u001b[0;36m0\u001b[0m\u001b[0;34m]\u001b[0m\u001b[0;34m.\u001b[0m\u001b[0mget_xdata\u001b[0m\u001b[0;34m(\u001b[0m\u001b[0;34m)\u001b[0m\u001b[0;34m\u001b[0m\u001b[0;34m\u001b[0m\u001b[0m\n\u001b[0m\u001b[1;32m     13\u001b[0m \u001b[0mydata\u001b[0m \u001b[0;34m=\u001b[0m \u001b[0mplt2\u001b[0m\u001b[0;34m.\u001b[0m\u001b[0mlines\u001b[0m\u001b[0;34m[\u001b[0m\u001b[0;36m0\u001b[0m\u001b[0;34m]\u001b[0m\u001b[0;34m.\u001b[0m\u001b[0mget_ydata\u001b[0m\u001b[0;34m(\u001b[0m\u001b[0;34m)\u001b[0m\u001b[0;34m\u001b[0m\u001b[0;34m\u001b[0m\u001b[0m\n\u001b[1;32m     14\u001b[0m \u001b[0;34m\u001b[0m\u001b[0m\n",
      "\u001b[0;31mIndexError\u001b[0m: list index out of range"
     ]
    },
    {
     "data": {
      "image/png": "[encoded data removed]",
      "text/plain": [
       "<Figure size 432x288 with 1 Axes>"
      ]
     },
     "metadata": {
      "needs_background": "light"
     },
     "output_type": "display_data"
    }
   ],
   "source": [
    "def harmonic_proper_dihedral(theta, theta0, k):\n",
    "    n = 2\n",
    "    coslist = []\n",
    "    for t in theta:\n",
    "        coslist.append(math.cos(n*t - theta0))\n",
    "    final_coslist = np.array(coslist)\n",
    "    val =  k * (1 + final_coslist)\n",
    "    return val\n",
    "\n",
    "#get probability distribution from data\n",
    "plt2 = sns.kdeplot(BB2_BB3_ASC1_ASC4_Hmapped_dihedral_all)\n",
    "xdata = plt2.lines[0].get_xdata()\n",
    "ydata = plt2.lines[0].get_ydata()\n",
    "\n",
    "#calculate energy\n",
    "U = P2U(ydata)\n",
    "\n",
    "#code to deal with innifite energy\n",
    "if(U.max() == float('inf')):\n",
    "    U2 = U\n",
    "    t = np.sort(U2)[::-1]\n",
    "    for x in t:\n",
    "        if(x==float('inf')):\n",
    "            continue\n",
    "        else:\n",
    "            second_largest = x\n",
    "            break\n",
    "    U[U==float('inf')]=(second_largest * 2)\n",
    "else:\n",
    "    U[U==float('inf')]=(U.max() * 2)\n",
    "\n",
    "#plot enegy and density\n",
    "import matplotlib.pyplot as plt\n",
    "plt.plot(xdata,U,color='red')\n",
    "\n",
    "# for i in range(0,xdata.shape[0]):\n",
    "params, pcov = curve_fit(harmonic_proper_dihedral, xdata,U,p0=[0, 50000])\n",
    "print(\"parameter R_o is: \",params[0])\n",
    "print(\"parameter K is: \",params[1])\n",
    "# curve_fit(harmonic_angle, xdata[0], U, p0=[84, 1000])\n",
    "dihedral_parameters_dict['Parameter'].append('BB2_BB3_ASC1_ASC4')\n",
    "dihedral_parameters_dict['raw data mean value'].append(xmean)\n",
    "dihedral_parameters_dict['raw data mode value gaussian-fitted mode value'].append(x[maxid])\n",
    "dihedral_parameters_dict['Seed value obtained using BOltzmann inversion'].append(params[0])\n",
    "dihedral_parameters_dict['K from boltzmann inversion'].append(params[1])"
   ]
  },
  {
   "cell_type": "code",
   "execution_count": 26,
   "metadata": {},
   "outputs": [
    {
     "name": "stderr",
     "output_type": "stream",
     "text": [
      "/home/subhasree/.local/lib/python3.6/site-packages/seaborn/distributions.py:2557: FutureWarning: `distplot` is a deprecated function and will be removed in a future version. Please adapt your code to use either `displot` (a figure-level function with similar flexibility) or `histplot` (an axes-level function for histograms).\n",
      "  warnings.warn(msg, FutureWarning)\n",
      "/home/subhasree/.local/lib/python3.6/site-packages/seaborn/distributions.py:1657: FutureWarning: The `bw` parameter is deprecated in favor of `bw_method` and `bw_adjust`. Using 0.5 for `bw_method`, but please see the docs for the new parameters and update your code.\n",
      "  warnings.warn(msg, FutureWarning)\n"
     ]
    },
    {
     "name": "stdout",
     "output_type": "stream",
     "text": [
      "ASC1_ASC2_ASC3_ASC4_Hmapped_dihedral_all\n",
      "Mean: Raw data 0.19119999999999998\n",
      "Mode: Raw data 0.04532471101250879\n",
      "Mode: Gauss-fitted 0.04532471101250879\n"
     ]
    },
    {
     "data": {
      "image/png": "[encoded data removed]",
      "text/plain": [
       "<Figure size 432x288 with 1 Axes>"
      ]
     },
     "metadata": {
      "needs_background": "light"
     },
     "output_type": "display_data"
    }
   ],
   "source": [
    "# Density Plot and Histogram \n",
    "from scipy import stats\n",
    "xmedian = np.median(ASC1_ASC2_ASC3_ASC4_Hmapped_dihedral_all)\n",
    "xmean = np.mean(ASC1_ASC2_ASC3_ASC4_Hmapped_dihedral_all)\n",
    "# xmode = stats.mode(BB2_BB3_Hmapped_distance_all)[0][0] #gives wrong value\n",
    "\n",
    "#raw data plot\n",
    "plt = sns.distplot(ASC1_ASC2_ASC3_ASC4_Hmapped_dihedral_all, kde=True, \n",
    "            color = 'white',norm_hist=False,\n",
    "             kde_kws={'linewidth': 1}\n",
    "             )\n",
    "\n",
    "x = plt.lines[0].get_xdata()\n",
    "y = plt.lines[0].get_ydata()\n",
    "maxid = np.argmax(y)\n",
    "xmode = x[maxid]\n",
    "\n",
    "\n",
    "\n",
    "\n",
    "# # #histogram plot + Density plot\n",
    "# import matplotlib.pyplot as plt\n",
    "# sns.displot(ASC1_ASC2_ASC3_ASC4_Hmapped_dihedral_all,bins=10)\n",
    "# \n",
    "# \n",
    "# \n",
    "\n",
    "# density plot\n",
    "import matplotlib.pyplot as plt\n",
    "ax = sns.kdeplot(ASC1_ASC2_ASC3_ASC4_Hmapped_dihedral_all,bw=0.5)\n",
    "\n",
    "\n",
    "\n",
    "\n",
    "x = ax.lines[0].get_xdata()\n",
    "y = ax.lines[0].get_ydata()\n",
    "maxid = np.argmax(y)\n",
    "\n",
    "print(\"ASC1_ASC2_ASC3_ASC4_Hmapped_dihedral_all\")\n",
    "print(\"Mean: Raw data\",xmean)\n",
    "print(\"Mode: Raw data\",xmode)\n",
    "print(\"Mode: Gauss-fitted\",x[maxid])\n"
   ]
  },
  {
   "cell_type": "code",
   "execution_count": 27,
   "metadata": {},
   "outputs": [
    {
     "name": "stderr",
     "output_type": "stream",
     "text": [
      "/home/subhasree/.local/lib/python3.6/site-packages/seaborn/distributions.py:1657: FutureWarning: The `bw` parameter is deprecated in favor of `bw_method` and `bw_adjust`. Using 0.5 for `bw_method`, but please see the docs for the new parameters and update your code.\n",
      "  warnings.warn(msg, FutureWarning)\n"
     ]
    },
    {
     "name": "stdout",
     "output_type": "stream",
     "text": [
      "parameter R_o is:  1.988437505127405\n",
      "parameter K is:  1.088145427213688\n"
     ]
    },
    {
     "data": {
      "image/png": "[encoded data removed]",
      "text/plain": [
       "<Figure size 432x288 with 1 Axes>"
      ]
     },
     "metadata": {
      "needs_background": "light"
     },
     "output_type": "display_data"
    }
   ],
   "source": [
    "def harmonic_proper_dihedral(theta, theta0, k):\n",
    "    n = 1\n",
    "    coslist = []\n",
    "    for t in theta:\n",
    "        coslist.append(math.cos(n*t - theta0))\n",
    "    final_coslist = np.array(coslist)\n",
    "    val =  k * (1 + final_coslist)\n",
    "    return val\n",
    "\n",
    "#get probability distribution from data\n",
    "plt2 = sns.kdeplot(ASC1_ASC2_ASC3_ASC4_Hmapped_dihedral_all,bw=0.5)\n",
    "xdata = plt2.lines[0].get_xdata()\n",
    "ydata = plt2.lines[0].get_ydata()\n",
    "\n",
    "#calculate energy\n",
    "U = P2U(ydata)\n",
    "\n",
    "#code to deal with innifite energy\n",
    "if(U.max() == float('inf')):\n",
    "    U2 = U\n",
    "    t = np.sort(U2)[::-1]\n",
    "    for x in t:\n",
    "        if(x==float('inf')):\n",
    "            continue\n",
    "        else:\n",
    "            second_largest = x\n",
    "            break\n",
    "    U[U==float('inf')]=(second_largest * 2)\n",
    "else:\n",
    "    U[U==float('inf')]=(U.max() * 2)\n",
    "\n",
    "#plot enegy and density\n",
    "import matplotlib.pyplot as plt\n",
    "plt.plot(xdata,U,color='red')\n",
    "\n",
    "# for i in range(0,xdata.shape[0]):\n",
    "params, pcov = curve_fit(harmonic_proper_dihedral, xdata,U,p0=[-1, 50000])\n",
    "print(\"parameter R_o is: \",params[0])\n",
    "print(\"parameter K is: \",params[1])\n",
    "# curve_fit(harmonic_angle, xdata[0], U, p0=[84, 1000])\n",
    "dihedral_parameters_dict['Parameter'].append('ASC1_ASC2_ASC3_ASC4')\n",
    "dihedral_parameters_dict['raw data mean value'].append(xmean)\n",
    "dihedral_parameters_dict['raw data mode value gaussian-fitted mode value'].append(x[maxid])\n",
    "dihedral_parameters_dict['Seed value obtained using BOltzmann inversion'].append(params[0])\n",
    "dihedral_parameters_dict['K from boltzmann inversion'].append(params[1])"
   ]
  },
  {
   "cell_type": "code",
   "execution_count": 28,
   "metadata": {},
   "outputs": [
    {
     "name": "stderr",
     "output_type": "stream",
     "text": [
      "/home/subhasree/.local/lib/python3.6/site-packages/seaborn/distributions.py:2557: FutureWarning: `distplot` is a deprecated function and will be removed in a future version. Please adapt your code to use either `displot` (a figure-level function with similar flexibility) or `histplot` (an axes-level function for histograms).\n",
      "  warnings.warn(msg, FutureWarning)\n",
      "/home/subhasree/.local/lib/python3.6/site-packages/seaborn/distributions.py:1657: FutureWarning: The `bw` parameter is deprecated in favor of `bw_method` and `bw_adjust`. Using 0.2 for `bw_method`, but please see the docs for the new parameters and update your code.\n",
      "  warnings.warn(msg, FutureWarning)\n"
     ]
    },
    {
     "name": "stdout",
     "output_type": "stream",
     "text": [
      "BB1_BB2_BB3_USC1_Hmapped_dihedral_all\n",
      "Mean: Raw data -81.58184210526318\n",
      "Mode: Raw data -87.45476885948744\n",
      "Mode: Gauss-fitted -87.45476885948744\n"
     ]
    },
    {
     "data": {
      "image/png": "[encoded data removed]",
      "text/plain": [
       "<Figure size 432x288 with 1 Axes>"
      ]
     },
     "metadata": {
      "needs_background": "light"
     },
     "output_type": "display_data"
    }
   ],
   "source": [
    "# Density Plot and Histogram \n",
    "from scipy import stats\n",
    "xmedian = np.median(BB1_BB2_BB3_USC1_Hmapped_dihedral_all)\n",
    "xmean = np.mean(BB1_BB2_BB3_USC1_Hmapped_dihedral_all)\n",
    "# xmode = stats.mode(BB2_BB3_Hmapped_distance_all)[0][0] #gives wrong value\n",
    "\n",
    "#raw data plot\n",
    "plt = sns.distplot(BB1_BB2_BB3_USC1_Hmapped_dihedral_all, kde=True, \n",
    "            color = 'white',norm_hist=False,\n",
    "             kde_kws={'linewidth': 1}\n",
    "             )\n",
    "\n",
    "x = plt.lines[0].get_xdata()\n",
    "y = plt.lines[0].get_ydata()\n",
    "maxid = np.argmax(y)\n",
    "xmode = x[maxid]\n",
    "\n",
    "\n",
    "\n",
    "\n",
    "# # #histogram plot + Density plot\n",
    "# import matplotlib.pyplot as plt\n",
    "# sns.displot(BB1_BB2_BB3_USC1_Hmapped_dihedral_all,bins=10)\n",
    "# \n",
    "# \n",
    "# \n",
    "\n",
    "#density plot\n",
    "import matplotlib.pyplot as plt\n",
    "ax = sns.kdeplot(BB1_BB2_BB3_USC1_Hmapped_dihedral_all,bw=0.2)\n",
    "\n",
    "\n",
    "\n",
    "\n",
    "x = ax.lines[0].get_xdata()\n",
    "y = ax.lines[0].get_ydata()\n",
    "maxid = np.argmax(y)\n",
    "\n",
    "print(\"BB1_BB2_BB3_USC1_Hmapped_dihedral_all\")\n",
    "print(\"Mean: Raw data\",xmean)\n",
    "print(\"Mode: Raw data\",xmode)\n",
    "print(\"Mode: Gauss-fitted\",x[maxid])\n"
   ]
  },
  {
   "cell_type": "code",
   "execution_count": 29,
   "metadata": {},
   "outputs": [
    {
     "name": "stderr",
     "output_type": "stream",
     "text": [
      "/home/subhasree/.local/lib/python3.6/site-packages/seaborn/distributions.py:1657: FutureWarning: The `bw` parameter is deprecated in favor of `bw_method` and `bw_adjust`. Using 0.2 for `bw_method`, but please see the docs for the new parameters and update your code.\n",
      "  warnings.warn(msg, FutureWarning)\n"
     ]
    },
    {
     "ename": "RuntimeError",
     "evalue": "Optimal parameters not found: Number of calls to function has reached maxfev = 600.",
     "output_type": "error",
     "traceback": [
      "\u001b[0;31m---------------------------------------------------------------------------\u001b[0m",
      "\u001b[0;31mRuntimeError\u001b[0m                              Traceback (most recent call last)",
      "\u001b[0;32m<ipython-input-29-d179022eac92>\u001b[0m in \u001b[0;36m<module>\u001b[0;34m\u001b[0m\n\u001b[1;32m     35\u001b[0m \u001b[0;34m\u001b[0m\u001b[0m\n\u001b[1;32m     36\u001b[0m \u001b[0;31m# for i in range(0,xdata.shape[0]):\u001b[0m\u001b[0;34m\u001b[0m\u001b[0;34m\u001b[0m\u001b[0;34m\u001b[0m\u001b[0m\n\u001b[0;32m---> 37\u001b[0;31m \u001b[0mparams\u001b[0m\u001b[0;34m,\u001b[0m \u001b[0mpcov\u001b[0m \u001b[0;34m=\u001b[0m \u001b[0mcurve_fit\u001b[0m\u001b[0;34m(\u001b[0m\u001b[0mharmonic_proper_dihedral\u001b[0m\u001b[0;34m,\u001b[0m \u001b[0mxdata\u001b[0m\u001b[0;34m,\u001b[0m\u001b[0mU\u001b[0m\u001b[0;34m,\u001b[0m\u001b[0mp0\u001b[0m\u001b[0;34m=\u001b[0m\u001b[0;34m[\u001b[0m\u001b[0;34m-\u001b[0m\u001b[0;36m134\u001b[0m\u001b[0;34m,\u001b[0m \u001b[0;36m1000\u001b[0m\u001b[0;34m]\u001b[0m\u001b[0;34m)\u001b[0m\u001b[0;34m\u001b[0m\u001b[0;34m\u001b[0m\u001b[0m\n\u001b[0m\u001b[1;32m     38\u001b[0m \u001b[0mprint\u001b[0m\u001b[0;34m(\u001b[0m\u001b[0;34m\"parameter R_o is: \"\u001b[0m\u001b[0;34m,\u001b[0m\u001b[0mparams\u001b[0m\u001b[0;34m[\u001b[0m\u001b[0;36m0\u001b[0m\u001b[0;34m]\u001b[0m\u001b[0;34m)\u001b[0m\u001b[0;34m\u001b[0m\u001b[0;34m\u001b[0m\u001b[0m\n\u001b[1;32m     39\u001b[0m \u001b[0mprint\u001b[0m\u001b[0;34m(\u001b[0m\u001b[0;34m\"parameter K is: \"\u001b[0m\u001b[0;34m,\u001b[0m\u001b[0mparams\u001b[0m\u001b[0;34m[\u001b[0m\u001b[0;36m1\u001b[0m\u001b[0;34m]\u001b[0m\u001b[0;34m)\u001b[0m\u001b[0;34m\u001b[0m\u001b[0;34m\u001b[0m\u001b[0m\n",
      "\u001b[0;32m~/.local/lib/python3.6/site-packages/scipy/optimize/minpack.py\u001b[0m in \u001b[0;36mcurve_fit\u001b[0;34m(f, xdata, ydata, p0, sigma, absolute_sigma, check_finite, bounds, method, jac, **kwargs)\u001b[0m\n\u001b[1;32m    766\u001b[0m         \u001b[0mcost\u001b[0m \u001b[0;34m=\u001b[0m \u001b[0mnp\u001b[0m\u001b[0;34m.\u001b[0m\u001b[0msum\u001b[0m\u001b[0;34m(\u001b[0m\u001b[0minfodict\u001b[0m\u001b[0;34m[\u001b[0m\u001b[0;34m'fvec'\u001b[0m\u001b[0;34m]\u001b[0m \u001b[0;34m**\u001b[0m \u001b[0;36m2\u001b[0m\u001b[0;34m)\u001b[0m\u001b[0;34m\u001b[0m\u001b[0;34m\u001b[0m\u001b[0m\n\u001b[1;32m    767\u001b[0m         \u001b[0;32mif\u001b[0m \u001b[0mier\u001b[0m \u001b[0;32mnot\u001b[0m \u001b[0;32min\u001b[0m \u001b[0;34m[\u001b[0m\u001b[0;36m1\u001b[0m\u001b[0;34m,\u001b[0m \u001b[0;36m2\u001b[0m\u001b[0;34m,\u001b[0m \u001b[0;36m3\u001b[0m\u001b[0;34m,\u001b[0m \u001b[0;36m4\u001b[0m\u001b[0;34m]\u001b[0m\u001b[0;34m:\u001b[0m\u001b[0;34m\u001b[0m\u001b[0;34m\u001b[0m\u001b[0m\n\u001b[0;32m--> 768\u001b[0;31m             \u001b[0;32mraise\u001b[0m \u001b[0mRuntimeError\u001b[0m\u001b[0;34m(\u001b[0m\u001b[0;34m\"Optimal parameters not found: \"\u001b[0m \u001b[0;34m+\u001b[0m \u001b[0merrmsg\u001b[0m\u001b[0;34m)\u001b[0m\u001b[0;34m\u001b[0m\u001b[0;34m\u001b[0m\u001b[0m\n\u001b[0m\u001b[1;32m    769\u001b[0m     \u001b[0;32melse\u001b[0m\u001b[0;34m:\u001b[0m\u001b[0;34m\u001b[0m\u001b[0;34m\u001b[0m\u001b[0m\n\u001b[1;32m    770\u001b[0m         \u001b[0;31m# Rename maxfev (leastsq) to max_nfev (least_squares), if specified.\u001b[0m\u001b[0;34m\u001b[0m\u001b[0;34m\u001b[0m\u001b[0;34m\u001b[0m\u001b[0m\n",
      "\u001b[0;31mRuntimeError\u001b[0m: Optimal parameters not found: Number of calls to function has reached maxfev = 600."
     ]
    },
    {
     "data": {
      "image/png": "[encoded data removed]",
      "text/plain": [
       "<Figure size 432x288 with 1 Axes>"
      ]
     },
     "metadata": {
      "needs_background": "light"
     },
     "output_type": "display_data"
    }
   ],
   "source": [
    "def harmonic_proper_dihedral(theta, theta0, k):\n",
    "    n = 2\n",
    "    coslist = []\n",
    "    for t in theta:\n",
    "        coslist.append(math.cos(n*t - theta0))\n",
    "    final_coslist = np.array(coslist)\n",
    "    val =  k * (1 + final_coslist)\n",
    "    return val\n",
    "\n",
    "#get probability distribution from data\n",
    "plt2 = sns.kdeplot(BB1_BB2_BB3_USC1_Hmapped_dihedral_all,bw=0.2)\n",
    "xdata = plt2.lines[0].get_xdata()\n",
    "ydata = plt2.lines[0].get_ydata()\n",
    "\n",
    "#calculate energy\n",
    "U = P2U(ydata)\n",
    "\n",
    "#code to deal with innifite energy\n",
    "if(U.max() == float('inf')):\n",
    "    U2 = U\n",
    "    t = np.sort(U2)[::-1]\n",
    "    for x in t:\n",
    "        if(x==float('inf')):\n",
    "            continue\n",
    "        else:\n",
    "            second_largest = x\n",
    "            break\n",
    "    U[U==float('inf')]=(second_largest * 2)\n",
    "else:\n",
    "    U[U==float('inf')]=(U.max() * 2)\n",
    "\n",
    "#plot enegy and density\n",
    "import matplotlib.pyplot as plt\n",
    "plt.plot(xdata,U,color='blue')\n",
    "\n",
    "# for i in range(0,xdata.shape[0]):\n",
    "params, pcov = curve_fit(harmonic_proper_dihedral, xdata,U,p0=[-134, 1000])\n",
    "print(\"parameter R_o is: \",params[0])\n",
    "print(\"parameter K is: \",params[1])\n",
    "# curve_fit(harmonic_angle, xdata[0], U, p0=[84, 1000])\n",
    "dihedral_parameters_dict['Parameter'].append('BB1_BB2_BB3_USC1')\n",
    "dihedral_parameters_dict['raw data mean value'].append(xmean)\n",
    "dihedral_parameters_dict['raw data mode value gaussian-fitted mode value'].append(x[maxid])\n",
    "dihedral_parameters_dict['Seed value obtained using BOltzmann inversion'].append(params[0])\n",
    "dihedral_parameters_dict['K from boltzmann inversion'].append(params[1])"
   ]
  },
  {
   "cell_type": "code",
   "execution_count": null,
   "metadata": {},
   "outputs": [],
   "source": [
    "# Density Plot and Histogram \n",
    "from scipy import stats\n",
    "xmedian = np.median(BB2_BB3_USC1_USC2_Hmapped_dihedral_all)\n",
    "xmean = np.mean(BB2_BB3_USC1_USC2_Hmapped_dihedral_all)\n",
    "# xmode = stats.mode(BB2_BB3_Hmapped_distance_all)[0][0] #gives wrong value\n",
    "\n",
    "# #raw data plot\n",
    "plt = sns.distplot(BB2_BB3_USC1_USC2_Hmapped_dihedral_all, kde=True, \n",
    "            color = 'white',norm_hist=False,\n",
    "             kde_kws={'linewidth': 1}\n",
    "             )\n",
    "\n",
    "x = plt.lines[0].get_xdata()\n",
    "y = plt.lines[0].get_ydata()\n",
    "maxid = np.argmax(y)\n",
    "xmode = x[maxid]\n",
    "\n",
    "\n",
    "\n",
    "\n",
    "#script for multimodal graphs\n",
    "x_new = []\n",
    "y_new = []\n",
    "for item in x:\n",
    "    if(item>0 and item<200):\n",
    "        id = list(x).index(item)\n",
    "        x_new.append(x[id])\n",
    "        y_new.append(y[id])\n",
    "#check the mode in the new partition:\n",
    "print(\"second mode:\",x_new[np.argmax(y_new)])\n",
    "\n",
    "# # #histogram plot + Density plot\n",
    "# import matplotlib.pyplot as plt\n",
    "# sns.displot(BB2_BB3_USC1_USC2_Hmapped_dihedral_all,bins=10)\n",
    "# \n",
    "# \n",
    "# \n",
    "\n",
    "#density plot\n",
    "import matplotlib.pyplot as plt\n",
    "ax = sns.kdeplot(BB2_BB3_USC1_USC2_Hmapped_dihedral_all)\n",
    "\n",
    "\n",
    "\n",
    "\n",
    "x = ax.lines[0].get_xdata()\n",
    "y = ax.lines[0].get_ydata()\n",
    "maxid = np.argmax(y)\n",
    "\n",
    "print(\"BB2_BB3_USC1_USC2_Hmapped_dihedral_all\")\n",
    "print(\"Mean: Raw data\",xmean)\n",
    "print(\"Mode: Raw data\",xmode)\n",
    "print(\"Mode: Gauss-fitted\",x[maxid])\n"
   ]
  },
  {
   "cell_type": "code",
   "execution_count": null,
   "metadata": {},
   "outputs": [],
   "source": [
    "def harmonic_proper_dihedral(theta, theta0, k):\n",
    "    n = 1\n",
    "    coslist = []\n",
    "    for t in theta:\n",
    "        coslist.append(math.cos(n*t - theta0))\n",
    "    final_coslist = np.array(coslist)\n",
    "    val =  k * (1 + final_coslist)\n",
    "    return val\n",
    "\n",
    "#get probability distribution from data\n",
    "plt2 = sns.kdeplot(BB2_BB3_USC1_USC2_Hmapped_dihedral_all)\n",
    "xdata = plt2.lines[0].get_xdata()\n",
    "ydata = plt2.lines[0].get_ydata()\n",
    "\n",
    "#calculate energy\n",
    "U = P2U(ydata)\n",
    "\n",
    "#code to deal with innifite energy\n",
    "if(U.max() == float('inf')):\n",
    "    U2 = U\n",
    "    t = np.sort(U2)[::-1]\n",
    "    for x in t:\n",
    "        if(x==float('inf')):\n",
    "            continue\n",
    "        else:\n",
    "            second_largest = x\n",
    "            break\n",
    "    U[U==float('inf')]=(second_largest * 2)\n",
    "else:\n",
    "    U[U==float('inf')]=(U.max() * 2)\n",
    "\n",
    "#plot enegy and density\n",
    "import matplotlib.pyplot as plt\n",
    "plt.plot(xdata,U,color='blue')\n",
    "\n",
    "# for i in range(0,xdata.shape[0]):\n",
    "params, pcov = curve_fit(harmonic_proper_dihedral, xdata,U,p0=[-145, 1000])\n",
    "print(\"parameter R_o is: \",params[0])\n",
    "print(\"parameter K is: \",params[1])\n",
    "# curve_fit(harmonic_angle, xdata[0], U, p0=[84, 1000])\n",
    "dihedral_parameters_dict['Parameter'].append('BB2_BB3_USC1_USC2')\n",
    "dihedral_parameters_dict['raw data mean value'].append(xmean)\n",
    "dihedral_parameters_dict['raw data mode value gaussian-fitted mode value'].append(x[maxid])\n",
    "dihedral_parameters_dict['Seed value obtained using BOltzmann inversion'].append(params[0])\n",
    "dihedral_parameters_dict['K from boltzmann inversion'].append(params[1])"
   ]
  },
  {
   "cell_type": "code",
   "execution_count": null,
   "metadata": {},
   "outputs": [],
   "source": [
    "# Density Plot and Histogram \n",
    "from scipy import stats\n",
    "xmedian = np.median(BB2_BB3_USC1_USC3_Hmapped_dihedral_all)\n",
    "xmean = np.mean(BB2_BB3_USC1_USC3_Hmapped_dihedral_all)\n",
    "# xmode = stats.mode(BB2_BB3_Hmapped_distance_all)[0][0] #gives wrong value\n",
    "\n",
    "#raw data plot\n",
    "plt = sns.distplot(BB2_BB3_USC1_USC3_Hmapped_dihedral_all, kde=True, \n",
    "            color = 'white',norm_hist=False,\n",
    "             kde_kws={'linewidth': 1}\n",
    "             )\n",
    "\n",
    "x = plt.lines[0].get_xdata()\n",
    "y = plt.lines[0].get_ydata()\n",
    "maxid = np.argmax(y)\n",
    "xmode = x[maxid]\n",
    "\n",
    "\n",
    "\n",
    "\n",
    "# # #histogram plot + Density plot\n",
    "# import matplotlib.pyplot as plt\n",
    "# sns.displot(BB2_BB3_USC1_USC3_Hmapped_dihedral_all,bins=10)\n",
    "# \n",
    "# \n",
    "# \n",
    "\n",
    "#density plot\n",
    "import matplotlib.pyplot as plt\n",
    "ax = sns.kdeplot(BB2_BB3_USC1_USC3_Hmapped_dihedral_all)\n",
    "\n",
    "\n",
    "\n",
    "\n",
    "x = ax.lines[0].get_xdata()\n",
    "y = ax.lines[0].get_ydata()\n",
    "maxid = np.argmax(y)\n",
    "\n",
    "print(\"BB2_BB3_USC1_USC3_Hmapped_dihedral_all\")\n",
    "print(\"Mean: Raw data\",xmean)\n",
    "print(\"Mode: Raw data\",xmode)\n",
    "print(\"Mode: Gauss-fitted\",x[maxid])\n"
   ]
  },
  {
   "cell_type": "code",
   "execution_count": 30,
   "metadata": {},
   "outputs": [
    {
     "name": "stdout",
     "output_type": "stream",
     "text": [
      "parameter R_o is:  200.8813376021011\n",
      "parameter K is:  0.8050588630575112\n"
     ]
    },
    {
     "data": {
      "image/png": "[encoded data removed]",
      "text/plain": [
       "<Figure size 432x288 with 1 Axes>"
      ]
     },
     "metadata": {
      "needs_background": "light"
     },
     "output_type": "display_data"
    }
   ],
   "source": [
    "def harmonic_proper_dihedral(theta, theta0, k):\n",
    "    n = 6\n",
    "    coslist = []\n",
    "    for t in theta:\n",
    "        coslist.append(math.cos(n*t - theta0))\n",
    "    final_coslist = np.array(coslist)\n",
    "    val =  k * (1 + final_coslist)\n",
    "    return val\n",
    "\n",
    "#get probability distribution from data\n",
    "plt2 = sns.kdeplot(BB2_BB3_USC1_USC3_Hmapped_dihedral_all)\n",
    "xdata = plt2.lines[0].get_xdata()\n",
    "ydata = plt2.lines[0].get_ydata()\n",
    "\n",
    "#calculate energy\n",
    "U = P2U(ydata)\n",
    "\n",
    "#code to deal with innifite energy\n",
    "if(U.max() == float('inf')):\n",
    "    U2 = U\n",
    "    t = np.sort(U2)[::-1]\n",
    "    for x in t:\n",
    "        if(x==float('inf')):\n",
    "            continue\n",
    "        else:\n",
    "            second_largest = x\n",
    "            break\n",
    "    U[U==float('inf')]=(second_largest * 2)\n",
    "else:\n",
    "    U[U==float('inf')]=(U.max() * 2)\n",
    "\n",
    "#plot enegy and density\n",
    "import matplotlib.pyplot as plt\n",
    "plt.plot(xdata,U,color='blue')\n",
    "\n",
    "# for i in range(0,xdata.shape[0]):\n",
    "params, pcov = curve_fit(harmonic_proper_dihedral, xdata,U,p0=[200, 1000])\n",
    "print(\"parameter R_o is: \",params[0])\n",
    "print(\"parameter K is: \",params[1])\n",
    "# curve_fit(harmonic_angle, xdata[0], U, p0=[84, 1000])\n",
    "dihedral_parameters_dict['Parameter'].append('BB2_BB3_USC1_USC3')\n",
    "dihedral_parameters_dict['raw data mean value'].append(xmean)\n",
    "dihedral_parameters_dict['raw data mode value gaussian-fitted mode value'].append(x[maxid])\n",
    "dihedral_parameters_dict['Seed value obtained using BOltzmann inversion'].append(params[0])\n",
    "dihedral_parameters_dict['K from boltzmann inversion'].append(params[1])"
   ]
  },
  {
   "cell_type": "code",
   "execution_count": 31,
   "metadata": {},
   "outputs": [
    {
     "name": "stderr",
     "output_type": "stream",
     "text": [
      "/home/subhasree/.local/lib/python3.6/site-packages/seaborn/distributions.py:2557: FutureWarning: `distplot` is a deprecated function and will be removed in a future version. Please adapt your code to use either `displot` (a figure-level function with similar flexibility) or `histplot` (an axes-level function for histograms).\n",
      "  warnings.warn(msg, FutureWarning)\n",
      "/home/subhasree/.local/lib/python3.6/site-packages/seaborn/distributions.py:1657: FutureWarning: The `bw` parameter is deprecated in favor of `bw_method` and `bw_adjust`. Using 0.5 for `bw_method`, but please see the docs for the new parameters and update your code.\n",
      "  warnings.warn(msg, FutureWarning)\n"
     ]
    },
    {
     "name": "stdout",
     "output_type": "stream",
     "text": [
      "BB1_BB2_BB3_GSC1_Hmapped_dihedral_all\n",
      "Mean: Raw data -102.22\n",
      "Mode: Raw data -97.35680323944221\n",
      "Mode: Gauss-fitted -97.35680323944221\n"
     ]
    },
    {
     "data": {
      "image/png": "[encoded data removed]",
      "text/plain": [
       "<Figure size 432x288 with 1 Axes>"
      ]
     },
     "metadata": {
      "needs_background": "light"
     },
     "output_type": "display_data"
    }
   ],
   "source": [
    "# Density Plot and Histogram \n",
    "from scipy import stats\n",
    "xmedian = np.median(BB1_BB2_BB3_GSC1_Hmapped_dihedral_all)\n",
    "xmean = np.mean(BB1_BB2_BB3_GSC1_Hmapped_dihedral_all)\n",
    "# xmode = stats.mode(BB2_BB3_Hmapped_distance_all)[0][0] #gives wrong value\n",
    "\n",
    "#raw data plot\n",
    "plt = sns.distplot(BB1_BB2_BB3_GSC1_Hmapped_dihedral_all, kde=True, \n",
    "            color = 'white',norm_hist=False,\n",
    "             kde_kws={'linewidth': 1}\n",
    "             )\n",
    "\n",
    "x = plt.lines[0].get_xdata()\n",
    "y = plt.lines[0].get_ydata()\n",
    "maxid = np.argmax(y)\n",
    "xmode = x[maxid]\n",
    "\n",
    "\n",
    "\n",
    "\n",
    "# # #histogram plot + Density plot\n",
    "# import matplotlib.pyplot as plt\n",
    "# sns.displot(BB1_BB2_BB3_GSC1_Hmapped_dihedral_all,bins=10)\n",
    "# \n",
    "# \n",
    "# \n",
    "\n",
    "#density plot\n",
    "import matplotlib.pyplot as plt\n",
    "ax = sns.kdeplot(BB1_BB2_BB3_GSC1_Hmapped_dihedral_all,bw=0.5)\n",
    "\n",
    "\n",
    "\n",
    "\n",
    "x = ax.lines[0].get_xdata()\n",
    "y = ax.lines[0].get_ydata()\n",
    "maxid = np.argmax(y)\n",
    "\n",
    "print(\"BB1_BB2_BB3_GSC1_Hmapped_dihedral_all\")\n",
    "print(\"Mean: Raw data\",xmean)\n",
    "print(\"Mode: Raw data\",xmode)\n",
    "print(\"Mode: Gauss-fitted\",x[maxid])\n"
   ]
  },
  {
   "cell_type": "code",
   "execution_count": 32,
   "metadata": {},
   "outputs": [
    {
     "name": "stderr",
     "output_type": "stream",
     "text": [
      "/home/subhasree/.local/lib/python3.6/site-packages/seaborn/distributions.py:1657: FutureWarning: The `bw` parameter is deprecated in favor of `bw_method` and `bw_adjust`. Using 0.5 for `bw_method`, but please see the docs for the new parameters and update your code.\n",
      "  warnings.warn(msg, FutureWarning)\n"
     ]
    },
    {
     "name": "stdout",
     "output_type": "stream",
     "text": [
      "parameter R_o is:  -141.6013936190662\n",
      "parameter K is:  0.8457721677302402\n"
     ]
    },
    {
     "data": {
      "image/png": "[encoded data removed]",
      "text/plain": [
       "<Figure size 432x288 with 1 Axes>"
      ]
     },
     "metadata": {
      "needs_background": "light"
     },
     "output_type": "display_data"
    }
   ],
   "source": [
    "def harmonic_proper_dihedral(theta, theta0, k):\n",
    "    n = 2\n",
    "    coslist = []\n",
    "    for t in theta:\n",
    "        coslist.append(math.cos(n*t - theta0))\n",
    "    final_coslist = np.array(coslist)\n",
    "    val =  k * (1 + final_coslist)\n",
    "    return val\n",
    "\n",
    "#get probability distribution from data\n",
    "plt2 = sns.kdeplot(BB1_BB2_BB3_GSC1_Hmapped_dihedral_all,bw=0.5)\n",
    "xdata = plt2.lines[0].get_xdata()\n",
    "ydata = plt2.lines[0].get_ydata()\n",
    "\n",
    "#calculate energy\n",
    "U = P2U(ydata)\n",
    "#code to deal with innifite energy\n",
    "if(U.max() == float('inf')):\n",
    "    U2 = U\n",
    "    t = np.sort(U2)[::-1]\n",
    "    for x in t:\n",
    "        if(x==float('inf')):\n",
    "            continue\n",
    "        else:\n",
    "            second_largest = x\n",
    "            break\n",
    "    U[U==float('inf')]=(second_largest * 2)\n",
    "else:\n",
    "    U[U==float('inf')]=(U.max() * 2)\n",
    "\n",
    "#plot enegy and density\n",
    "import matplotlib.pyplot as plt\n",
    "plt.plot(xdata,U,color='green')\n",
    "\n",
    "# for i in range(0,xdata.shape[0]):\n",
    "params, pcov = curve_fit(harmonic_proper_dihedral, xdata,U,p0=[-140, 1000])\n",
    "print(\"parameter R_o is: \",params[0])\n",
    "print(\"parameter K is: \",params[1])\n",
    "# curve_fit(harmonic_angle, xdata[0], U, p0=[84, 1000])\n",
    "dihedral_parameters_dict['Parameter'].append('BB1_BB2_BB3_GSC1')\n",
    "dihedral_parameters_dict['raw data mean value'].append(xmean)\n",
    "dihedral_parameters_dict['raw data mode value gaussian-fitted mode value'].append(x[maxid])\n",
    "dihedral_parameters_dict['Seed value obtained using BOltzmann inversion'].append(params[0])\n",
    "dihedral_parameters_dict['K from boltzmann inversion'].append(params[1])"
   ]
  },
  {
   "cell_type": "code",
   "execution_count": 33,
   "metadata": {},
   "outputs": [
    {
     "name": "stderr",
     "output_type": "stream",
     "text": [
      "/home/subhasree/.local/lib/python3.6/site-packages/seaborn/distributions.py:2557: FutureWarning: `distplot` is a deprecated function and will be removed in a future version. Please adapt your code to use either `displot` (a figure-level function with similar flexibility) or `histplot` (an axes-level function for histograms).\n",
      "  warnings.warn(msg, FutureWarning)\n"
     ]
    },
    {
     "name": "stdout",
     "output_type": "stream",
     "text": [
      "second mode: 1.031043837469099\n",
      "third mode: 154.20043929266734\n",
      "BB2_BB3_GSC1_GSC2_Hmapped_dihedral_all\n",
      "Mean: Raw data -142.67340000000002\n",
      "Mode: Raw data -166.86617810380594\n",
      "Mode: Gauss-fitted -166.86617810380594\n"
     ]
    },
    {
     "data": {
      "image/png": "[encoded data removed]",
      "text/plain": [
       "<Figure size 432x288 with 1 Axes>"
      ]
     },
     "metadata": {
      "needs_background": "light"
     },
     "output_type": "display_data"
    }
   ],
   "source": [
    "# Density Plot and Histogram \n",
    "from scipy import stats\n",
    "xmedian = np.median(BB2_BB3_GSC1_GSC2_Hmapped_dihedral_all)\n",
    "xmean = np.mean(BB2_BB3_GSC1_GSC2_Hmapped_dihedral_all)\n",
    "# xmode = stats.mode(BB2_BB3_Hmapped_distance_all)[0][0] #gives wrong value\n",
    "\n",
    "#raw data plot\n",
    "plt = sns.distplot(BB2_BB3_GSC1_GSC2_Hmapped_dihedral_all, kde=True, \n",
    "            color = 'white',norm_hist=False,\n",
    "             kde_kws={'linewidth': 1}\n",
    "             )\n",
    "\n",
    "x = plt.lines[0].get_xdata()\n",
    "y = plt.lines[0].get_ydata()\n",
    "maxid = np.argmax(y)\n",
    "xmode = x[maxid]\n",
    "\n",
    "\n",
    "\n",
    "\n",
    "#script for multimodal graphs\n",
    "x_new = []\n",
    "y_new = []\n",
    "for item in x:\n",
    "    if(item>0 and item<100):\n",
    "        id = list(x).index(item)\n",
    "        x_new.append(x[id])\n",
    "        y_new.append(y[id])\n",
    "#check the mode in the new partition:\n",
    "print(\"second mode:\",x_new[np.argmax(y_new)])\n",
    "\n",
    "#script for multimodal graphs\n",
    "x_new = []\n",
    "y_new = []\n",
    "for item in x:\n",
    "    if(item>100 and item<200):\n",
    "        id = list(x).index(item)\n",
    "        x_new.append(x[id])\n",
    "        y_new.append(y[id])\n",
    "#check the mode in the new partition:\n",
    "print(\"third mode:\",x_new[np.argmax(y_new)])\n",
    "\n",
    "# # #histogram plot + Density plot\n",
    "# import matplotlib.pyplot as plt\n",
    "# sns.displot(BB2_BB3_GSC1_GSC2_Hmapped_dihedral_all,bins=10)\n",
    "# \n",
    "# \n",
    "# \n",
    "\n",
    "#density plot\n",
    "import matplotlib.pyplot as plt\n",
    "ax = sns.kdeplot(BB2_BB3_GSC1_GSC2_Hmapped_dihedral_all)\n",
    "\n",
    "\n",
    "\n",
    "\n",
    "x = ax.lines[0].get_xdata()\n",
    "y = ax.lines[0].get_ydata()\n",
    "maxid = np.argmax(y)\n",
    "\n",
    "print(\"BB2_BB3_GSC1_GSC2_Hmapped_dihedral_all\")\n",
    "print(\"Mean: Raw data\",xmean)\n",
    "print(\"Mode: Raw data\",xmode)\n",
    "print(\"Mode: Gauss-fitted\",x[maxid])\n"
   ]
  },
  {
   "cell_type": "code",
   "execution_count": 34,
   "metadata": {},
   "outputs": [
    {
     "name": "stdout",
     "output_type": "stream",
     "text": [
      "parameter R_o is:  -153.5267115956899\n",
      "parameter K is:  1.1013618615284957\n"
     ]
    },
    {
     "data": {
      "image/png": "[encoded data removed]",
      "text/plain": [
       "<Figure size 432x288 with 1 Axes>"
      ]
     },
     "metadata": {
      "needs_background": "light"
     },
     "output_type": "display_data"
    }
   ],
   "source": [
    "def harmonic_proper_dihedral(theta, theta0, k):\n",
    "    n = 1\n",
    "    coslist = []\n",
    "    for t in theta:\n",
    "        coslist.append(math.cos(n*t - theta0))\n",
    "    final_coslist = np.array(coslist)\n",
    "    val =  k * (1 + final_coslist)\n",
    "    return val\n",
    "\n",
    "#get probability distribution from data\n",
    "plt2 = sns.kdeplot(BB2_BB3_GSC1_GSC2_Hmapped_dihedral_all)\n",
    "xdata = plt2.lines[0].get_xdata()\n",
    "ydata = plt2.lines[0].get_ydata()\n",
    "\n",
    "#calculate energy\n",
    "U = P2U(ydata)\n",
    "#code to deal with innifite energy\n",
    "if(U.max() == float('inf')):\n",
    "    U2 = U\n",
    "    t = np.sort(U2)[::-1]\n",
    "    for x in t:\n",
    "        if(x==float('inf')):\n",
    "            continue\n",
    "        else:\n",
    "            second_largest = x\n",
    "            break\n",
    "    U[U==float('inf')]=(second_largest * 2)\n",
    "else:\n",
    "    U[U==float('inf')]=(U.max() * 2)\n",
    "\n",
    "#plot enegy and density\n",
    "import matplotlib.pyplot as plt\n",
    "plt.plot(xdata,U,color='green')\n",
    "\n",
    "# for i in range(0,xdata.shape[0]):\n",
    "params, pcov = curve_fit(harmonic_proper_dihedral, xdata,U,p0=[-153, 1000])\n",
    "print(\"parameter R_o is: \",params[0])\n",
    "print(\"parameter K is: \",params[1])\n",
    "# curve_fit(harmonic_angle, xdata[0], U, p0=[84, 1000])\n",
    "dihedral_parameters_dict['Parameter'].append('BB2_BB3_GSC1_GSC2')\n",
    "dihedral_parameters_dict['raw data mean value'].append(xmean)\n",
    "dihedral_parameters_dict['raw data mode value gaussian-fitted mode value'].append(x[maxid])\n",
    "dihedral_parameters_dict['Seed value obtained using BOltzmann inversion'].append(params[0])\n",
    "dihedral_parameters_dict['K from boltzmann inversion'].append(params[1])"
   ]
  },
  {
   "cell_type": "code",
   "execution_count": 35,
   "metadata": {},
   "outputs": [
    {
     "name": "stderr",
     "output_type": "stream",
     "text": [
      "/home/subhasree/.local/lib/python3.6/site-packages/seaborn/distributions.py:2557: FutureWarning: `distplot` is a deprecated function and will be removed in a future version. Please adapt your code to use either `displot` (a figure-level function with similar flexibility) or `histplot` (an axes-level function for histograms).\n",
      "  warnings.warn(msg, FutureWarning)\n",
      "/home/subhasree/.local/lib/python3.6/site-packages/seaborn/distributions.py:1657: FutureWarning: The `bw` parameter is deprecated in favor of `bw_method` and `bw_adjust`. Using 0.7 for `bw_method`, but please see the docs for the new parameters and update your code.\n",
      "  warnings.warn(msg, FutureWarning)\n"
     ]
    },
    {
     "name": "stdout",
     "output_type": "stream",
     "text": [
      "second mode: -0.4925147093179807\n",
      "third mode: 43.90390772471865\n",
      "BB2_BB3_GSC1_GSC4_Hmapped_dihedral_all\n",
      "Mean: Raw data 53.2959\n",
      "Mode: Raw data 43.90390772471865\n",
      "Mode: Gauss-fitted 43.90390772471865\n"
     ]
    },
    {
     "data": {
      "image/png": "[encoded data removed]",
      "text/plain": [
       "<Figure size 432x288 with 1 Axes>"
      ]
     },
     "metadata": {
      "needs_background": "light"
     },
     "output_type": "display_data"
    }
   ],
   "source": [
    "# Density Plot and Histogram \n",
    "from scipy import stats\n",
    "xmedian = np.median(BB2_BB3_GSC1_GSC4_Hmapped_dihedral_all)\n",
    "xmean = np.mean(BB2_BB3_GSC1_GSC4_Hmapped_dihedral_all)\n",
    "# xmode = stats.mode(BB2_BB3_Hmapped_distance_all)[0][0] #gives wrong value\n",
    "\n",
    "#raw data plot\n",
    "plt = sns.distplot(BB2_BB3_GSC1_GSC4_Hmapped_dihedral_all, kde=True, \n",
    "            color = 'white',norm_hist=False,\n",
    "             kde_kws={'linewidth': 1}\n",
    "             )\n",
    "\n",
    "x = plt.lines[0].get_xdata()\n",
    "y = plt.lines[0].get_ydata()\n",
    "maxid = np.argmax(y)\n",
    "xmode = x[maxid]\n",
    "\n",
    "\n",
    "\n",
    "\n",
    "#script for multimodal graphs\n",
    "x_new = []\n",
    "y_new = []\n",
    "for item in x:\n",
    "    if(item>-200 and item<0):\n",
    "        id = list(x).index(item)\n",
    "        x_new.append(x[id])\n",
    "        y_new.append(y[id])\n",
    "#check the mode in the new partition:\n",
    "print(\"second mode:\",x_new[np.argmax(y_new)])\n",
    "\n",
    "#script for multimodal graphs\n",
    "x_new = []\n",
    "y_new = []\n",
    "for item in x:\n",
    "    if(item>0 and item<200):\n",
    "        id = list(x).index(item)\n",
    "        x_new.append(x[id])\n",
    "        y_new.append(y[id])\n",
    "#check the mode in the new partition:\n",
    "print(\"third mode:\",x_new[np.argmax(y_new)])\n",
    "\n",
    "# # #histogram plot + Density plot\n",
    "# import matplotlib.pyplot as plt\n",
    "# sns.displot(BB2_BB3_GSC1_GSC4_Hmapped_dihedral_all,bins=10)\n",
    "# \n",
    "# \n",
    "# \n",
    "\n",
    "#density plot\n",
    "import matplotlib.pyplot as plt\n",
    "ax = sns.kdeplot(BB2_BB3_GSC1_GSC4_Hmapped_dihedral_all,bw=0.7)\n",
    "\n",
    "\n",
    "\n",
    "\n",
    "x = ax.lines[0].get_xdata()\n",
    "y = ax.lines[0].get_ydata()\n",
    "maxid = np.argmax(y)\n",
    "\n",
    "print(\"BB2_BB3_GSC1_GSC4_Hmapped_dihedral_all\")\n",
    "print(\"Mean: Raw data\",xmean)\n",
    "print(\"Mode: Raw data\",xmode)\n",
    "print(\"Mode: Gauss-fitted\",x[maxid])\n"
   ]
  },
  {
   "cell_type": "code",
   "execution_count": 36,
   "metadata": {},
   "outputs": [
    {
     "data": {
      "text/plain": [
       "0     178.724\n",
       "1    -165.150\n",
       "2    -169.868\n",
       "3    -164.360\n",
       "4    -167.711\n",
       "5    -159.161\n",
       "6    -160.669\n",
       "7    -159.126\n",
       "8    -165.430\n",
       "9    -169.239\n",
       "10   -167.551\n",
       "11   -164.436\n",
       "12   -173.900\n",
       "13   -166.043\n",
       "14   -168.932\n",
       "15   -162.636\n",
       "16   -169.457\n",
       "17   -161.719\n",
       "18   -166.131\n",
       "19   -150.506\n",
       "Name: BB2_BB3_CSC1_CSC2, dtype: float64"
      ]
     },
     "execution_count": 36,
     "metadata": {},
     "output_type": "execute_result"
    }
   ],
   "source": [
    "BB2_BB3_CSC1_CSC2_Hmapped_dihedral_all"
   ]
  },
  {
   "cell_type": "code",
   "execution_count": 37,
   "metadata": {},
   "outputs": [
    {
     "name": "stderr",
     "output_type": "stream",
     "text": [
      "/home/subhasree/.local/lib/python3.6/site-packages/seaborn/distributions.py:1657: FutureWarning: The `bw` parameter is deprecated in favor of `bw_method` and `bw_adjust`. Using 0.7 for `bw_method`, but please see the docs for the new parameters and update your code.\n",
      "  warnings.warn(msg, FutureWarning)\n"
     ]
    },
    {
     "ename": "RuntimeError",
     "evalue": "Optimal parameters not found: Number of calls to function has reached maxfev = 600.",
     "output_type": "error",
     "traceback": [
      "\u001b[0;31m---------------------------------------------------------------------------\u001b[0m",
      "\u001b[0;31mRuntimeError\u001b[0m                              Traceback (most recent call last)",
      "\u001b[0;32m<ipython-input-37-f79ec5c63c74>\u001b[0m in \u001b[0;36m<module>\u001b[0;34m\u001b[0m\n\u001b[1;32m     34\u001b[0m \u001b[0;34m\u001b[0m\u001b[0m\n\u001b[1;32m     35\u001b[0m \u001b[0;31m# for i in range(0,xdata.shape[0]):\u001b[0m\u001b[0;34m\u001b[0m\u001b[0;34m\u001b[0m\u001b[0;34m\u001b[0m\u001b[0m\n\u001b[0;32m---> 36\u001b[0;31m \u001b[0mparams\u001b[0m\u001b[0;34m,\u001b[0m \u001b[0mpcov\u001b[0m \u001b[0;34m=\u001b[0m \u001b[0mcurve_fit\u001b[0m\u001b[0;34m(\u001b[0m\u001b[0mharmonic_proper_dihedral\u001b[0m\u001b[0;34m,\u001b[0m \u001b[0mxdata\u001b[0m\u001b[0;34m,\u001b[0m\u001b[0mU\u001b[0m\u001b[0;34m,\u001b[0m\u001b[0mp0\u001b[0m\u001b[0;34m=\u001b[0m\u001b[0;34m[\u001b[0m\u001b[0;36m61\u001b[0m\u001b[0;34m,\u001b[0m \u001b[0;36m50000\u001b[0m\u001b[0;34m]\u001b[0m\u001b[0;34m)\u001b[0m\u001b[0;34m\u001b[0m\u001b[0;34m\u001b[0m\u001b[0m\n\u001b[0m\u001b[1;32m     37\u001b[0m \u001b[0mprint\u001b[0m\u001b[0;34m(\u001b[0m\u001b[0;34m\"parameter R_o is: \"\u001b[0m\u001b[0;34m,\u001b[0m\u001b[0mparams\u001b[0m\u001b[0;34m[\u001b[0m\u001b[0;36m0\u001b[0m\u001b[0;34m]\u001b[0m\u001b[0;34m)\u001b[0m\u001b[0;34m\u001b[0m\u001b[0;34m\u001b[0m\u001b[0m\n\u001b[1;32m     38\u001b[0m \u001b[0mprint\u001b[0m\u001b[0;34m(\u001b[0m\u001b[0;34m\"parameter K is: \"\u001b[0m\u001b[0;34m,\u001b[0m\u001b[0mparams\u001b[0m\u001b[0;34m[\u001b[0m\u001b[0;36m1\u001b[0m\u001b[0;34m]\u001b[0m\u001b[0;34m)\u001b[0m\u001b[0;34m\u001b[0m\u001b[0;34m\u001b[0m\u001b[0m\n",
      "\u001b[0;32m~/.local/lib/python3.6/site-packages/scipy/optimize/minpack.py\u001b[0m in \u001b[0;36mcurve_fit\u001b[0;34m(f, xdata, ydata, p0, sigma, absolute_sigma, check_finite, bounds, method, jac, **kwargs)\u001b[0m\n\u001b[1;32m    766\u001b[0m         \u001b[0mcost\u001b[0m \u001b[0;34m=\u001b[0m \u001b[0mnp\u001b[0m\u001b[0;34m.\u001b[0m\u001b[0msum\u001b[0m\u001b[0;34m(\u001b[0m\u001b[0minfodict\u001b[0m\u001b[0;34m[\u001b[0m\u001b[0;34m'fvec'\u001b[0m\u001b[0;34m]\u001b[0m \u001b[0;34m**\u001b[0m \u001b[0;36m2\u001b[0m\u001b[0;34m)\u001b[0m\u001b[0;34m\u001b[0m\u001b[0;34m\u001b[0m\u001b[0m\n\u001b[1;32m    767\u001b[0m         \u001b[0;32mif\u001b[0m \u001b[0mier\u001b[0m \u001b[0;32mnot\u001b[0m \u001b[0;32min\u001b[0m \u001b[0;34m[\u001b[0m\u001b[0;36m1\u001b[0m\u001b[0;34m,\u001b[0m \u001b[0;36m2\u001b[0m\u001b[0;34m,\u001b[0m \u001b[0;36m3\u001b[0m\u001b[0;34m,\u001b[0m \u001b[0;36m4\u001b[0m\u001b[0;34m]\u001b[0m\u001b[0;34m:\u001b[0m\u001b[0;34m\u001b[0m\u001b[0;34m\u001b[0m\u001b[0m\n\u001b[0;32m--> 768\u001b[0;31m             \u001b[0;32mraise\u001b[0m \u001b[0mRuntimeError\u001b[0m\u001b[0;34m(\u001b[0m\u001b[0;34m\"Optimal parameters not found: \"\u001b[0m \u001b[0;34m+\u001b[0m \u001b[0merrmsg\u001b[0m\u001b[0;34m)\u001b[0m\u001b[0;34m\u001b[0m\u001b[0;34m\u001b[0m\u001b[0m\n\u001b[0m\u001b[1;32m    769\u001b[0m     \u001b[0;32melse\u001b[0m\u001b[0;34m:\u001b[0m\u001b[0;34m\u001b[0m\u001b[0;34m\u001b[0m\u001b[0m\n\u001b[1;32m    770\u001b[0m         \u001b[0;31m# Rename maxfev (leastsq) to max_nfev (least_squares), if specified.\u001b[0m\u001b[0;34m\u001b[0m\u001b[0;34m\u001b[0m\u001b[0;34m\u001b[0m\u001b[0m\n",
      "\u001b[0;31mRuntimeError\u001b[0m: Optimal parameters not found: Number of calls to function has reached maxfev = 600."
     ]
    },
    {
     "data": {
      "image/png": "[encoded data removed]",
      "text/plain": [
       "<Figure size 432x288 with 1 Axes>"
      ]
     },
     "metadata": {
      "needs_background": "light"
     },
     "output_type": "display_data"
    }
   ],
   "source": [
    "def harmonic_proper_dihedral(theta, theta0, k):\n",
    "    n = 2\n",
    "    coslist = []\n",
    "    for t in theta:\n",
    "        coslist.append(math.cos(n*t - theta0))\n",
    "    final_coslist = np.array(coslist)\n",
    "    val =  k * (1 + final_coslist)\n",
    "    return val\n",
    "\n",
    "#get probability distribution from data\n",
    "plt2 = sns.kdeplot(BB2_BB3_GSC1_GSC4_Hmapped_dihedral_all,bw=0.7)\n",
    "xdata = plt2.lines[0].get_xdata()\n",
    "ydata = plt2.lines[0].get_ydata()\n",
    "\n",
    "#calculate energy\n",
    "U = P2U(ydata)\n",
    "#code to deal with innifite energy\n",
    "if(U.max() == float('inf')):\n",
    "    U2 = U\n",
    "    t = np.sort(U2)[::-1]\n",
    "    for x in t:\n",
    "        if(x==float('inf')):\n",
    "            continue\n",
    "        else:\n",
    "            second_largest = x\n",
    "            break\n",
    "    U[U==float('inf')]=(second_largest * 2)\n",
    "else:\n",
    "    U[U==float('inf')]=(U.max() * 2)\n",
    "\n",
    "#plot enegy and density\n",
    "import matplotlib.pyplot as plt\n",
    "plt.plot(xdata,U,color='green')\n",
    "\n",
    "# for i in range(0,xdata.shape[0]):\n",
    "params, pcov = curve_fit(harmonic_proper_dihedral, xdata,U,p0=[61, 50000])\n",
    "print(\"parameter R_o is: \",params[0])\n",
    "print(\"parameter K is: \",params[1])\n",
    "# curve_fit(harmonic_angle, xdata[0], U, p0=[84, 1000])\n",
    "dihedral_parameters_dict['Parameter'].append('BB2_BB3_GSC1_GSC4')\n",
    "dihedral_parameters_dict['raw data mean value'].append(xmean)\n",
    "dihedral_parameters_dict['raw data mode value gaussian-fitted mode value'].append(x[maxid])\n",
    "dihedral_parameters_dict['Seed value obtained using BOltzmann inversion'].append(params[0])\n",
    "dihedral_parameters_dict['K from boltzmann inversion'].append(params[1])"
   ]
  },
  {
   "cell_type": "code",
   "execution_count": null,
   "metadata": {},
   "outputs": [],
   "source": [
    "# Density Plot and Histogram \n",
    "from scipy import stats\n",
    "xmedian = np.median(GSC1_GSC2_GSC3_GSC4_Hmapped_dihedral_all)\n",
    "xmean = np.mean(GSC1_GSC2_GSC3_GSC4_Hmapped_dihedral_all)\n",
    "# xmode = stats.mode(BB2_BB3_Hmapped_distance_all)[0][0] #gives wrong value\n",
    "\n",
    "# #raw data plot\n",
    "plt = sns.distplot(GSC1_GSC2_GSC3_GSC4_Hmapped_dihedral_all, kde=True, \n",
    "            color = 'white',norm_hist=False,\n",
    "             kde_kws={'linewidth': 1}\n",
    "             )\n",
    "\n",
    "x = plt.lines[0].get_xdata()\n",
    "y = plt.lines[0].get_ydata()\n",
    "maxid = np.argmax(y)\n",
    "xmode = x[maxid]\n",
    "\n",
    "\n",
    "\n",
    "\n",
    "# # #histogram plot + Density plot\n",
    "# import matplotlib.pyplot as plt\n",
    "# sns.displot(GSC1_GSC2_GSC3_GSC4_Hmapped_dihedral_all,bins=10)\n",
    "# \n",
    "# \n",
    "# \n",
    "\n",
    "#density plot\n",
    "import matplotlib.pyplot as plt\n",
    "ax = sns.kdeplot(GSC1_GSC2_GSC3_GSC4_Hmapped_dihedral_all,bw=0.5)\n",
    "\n",
    "\n",
    "\n",
    "\n",
    "x = ax.lines[0].get_xdata()\n",
    "y = ax.lines[0].get_ydata()\n",
    "maxid = np.argmax(y)\n",
    "\n",
    "print(\"GSC1_GSC2_GSC3_GSC4_Hmapped_dihedral_all\")\n",
    "print(\"Mean: Raw data\",xmean)\n",
    "print(\"Mode: Raw data\",xmode)\n",
    "print(\"Mode: Gauss-fitted\",x[maxid])\n"
   ]
  },
  {
   "cell_type": "code",
   "execution_count": 38,
   "metadata": {},
   "outputs": [
    {
     "name": "stderr",
     "output_type": "stream",
     "text": [
      "/home/subhasree/.local/lib/python3.6/site-packages/seaborn/distributions.py:1657: FutureWarning: The `bw` parameter is deprecated in favor of `bw_method` and `bw_adjust`. Using 0.5 for `bw_method`, but please see the docs for the new parameters and update your code.\n",
      "  warnings.warn(msg, FutureWarning)\n"
     ]
    },
    {
     "name": "stdout",
     "output_type": "stream",
     "text": [
      "parameter R_o is:  2.0376036301500893\n",
      "parameter K is:  1.174750611905852\n"
     ]
    },
    {
     "data": {
      "image/png": "[encoded data removed]",
      "text/plain": [
       "<Figure size 432x288 with 1 Axes>"
      ]
     },
     "metadata": {
      "needs_background": "light"
     },
     "output_type": "display_data"
    }
   ],
   "source": [
    "def harmonic_proper_dihedral(theta, theta0, k):\n",
    "    n = 1\n",
    "    coslist = []\n",
    "    for t in theta:\n",
    "        coslist.append(math.cos(n*t - theta0))\n",
    "    final_coslist = np.array(coslist)\n",
    "    val =  k * (1 + final_coslist)\n",
    "    return val\n",
    "\n",
    "#get probability distribution from data\n",
    "plt2 = sns.kdeplot(GSC1_GSC2_GSC3_GSC4_Hmapped_dihedral_all,bw=0.5)\n",
    "xdata = plt2.lines[0].get_xdata()\n",
    "ydata = plt2.lines[0].get_ydata()\n",
    "\n",
    "#calculate energy\n",
    "U = P2U(ydata)\n",
    "#code to deal with innifite energy\n",
    "if(U.max() == float('inf')):\n",
    "    U2 = U\n",
    "    t = np.sort(U2)[::-1]\n",
    "    for x in t:\n",
    "        if(x==float('inf')):\n",
    "            continue\n",
    "        else:\n",
    "            second_largest = x\n",
    "            break\n",
    "    U[U==float('inf')]=(second_largest * 2)\n",
    "else:\n",
    "    U[U==float('inf')]=(U.max() * 2)\n",
    "\n",
    "#plot enegy and density\n",
    "import matplotlib.pyplot as plt\n",
    "plt.plot(xdata,U,color='green')\n",
    "\n",
    "# for i in range(0,xdata.shape[0]):\n",
    "params, pcov = curve_fit(harmonic_proper_dihedral, xdata,U,p0=[0, 1000])\n",
    "print(\"parameter R_o is: \",params[0])\n",
    "print(\"parameter K is: \",params[1])\n",
    "# curve_fit(harmonic_angle, xdata[0], U, p0=[84, 1000])\n",
    "dihedral_parameters_dict['Parameter'].append('GSC1_GSC2_GSC3_GSC4')\n",
    "dihedral_parameters_dict['raw data mean value'].append(xmean)\n",
    "dihedral_parameters_dict['raw data mode value gaussian-fitted mode value'].append(x[maxid])\n",
    "dihedral_parameters_dict['Seed value obtained using BOltzmann inversion'].append(params[0])\n",
    "dihedral_parameters_dict['K from boltzmann inversion'].append(params[1])"
   ]
  },
  {
   "cell_type": "code",
   "execution_count": 39,
   "metadata": {},
   "outputs": [
    {
     "name": "stderr",
     "output_type": "stream",
     "text": [
      "/home/subhasree/.local/lib/python3.6/site-packages/seaborn/distributions.py:2557: FutureWarning: `distplot` is a deprecated function and will be removed in a future version. Please adapt your code to use either `displot` (a figure-level function with similar flexibility) or `histplot` (an axes-level function for histograms).\n",
      "  warnings.warn(msg, FutureWarning)\n",
      "/home/subhasree/.local/lib/python3.6/site-packages/seaborn/distributions.py:1657: FutureWarning: The `bw` parameter is deprecated in favor of `bw_method` and `bw_adjust`. Using 0.5 for `bw_method`, but please see the docs for the new parameters and update your code.\n",
      "  warnings.warn(msg, FutureWarning)\n"
     ]
    },
    {
     "name": "stdout",
     "output_type": "stream",
     "text": [
      "BB1_BB2_BB3_CSC1_Hmapped_dihedral_all\n",
      "Mean: Raw data -88.14959999999999\n",
      "Mode: Raw data -86.39605108272113\n",
      "Mode: Gauss-fitted -86.39605108272113\n"
     ]
    },
    {
     "data": {
      "image/png": "[encoded data removed]",
      "text/plain": [
       "<Figure size 432x288 with 1 Axes>"
      ]
     },
     "metadata": {
      "needs_background": "light"
     },
     "output_type": "display_data"
    }
   ],
   "source": [
    "# Density Plot and Histogram \n",
    "from scipy import stats\n",
    "xmedian = np.median(BB1_BB2_BB3_CSC1_Hmapped_dihedral_all)\n",
    "xmean = np.mean(BB1_BB2_BB3_CSC1_Hmapped_dihedral_all)\n",
    "# xmode = stats.mode(BB2_BB3_Hmapped_distance_all)[0][0] #gives wrong value\n",
    "\n",
    "#raw data plot\n",
    "plt = sns.distplot(BB1_BB2_BB3_CSC1_Hmapped_dihedral_all, kde=True, \n",
    "            color = 'white',norm_hist=False,\n",
    "             kde_kws={'linewidth': 1}\n",
    "             )\n",
    "\n",
    "x = plt.lines[0].get_xdata()\n",
    "y = plt.lines[0].get_ydata()\n",
    "maxid = np.argmax(y)\n",
    "xmode = x[maxid]\n",
    "\n",
    "\n",
    "\n",
    "\n",
    "# # #histogram plot + Density plot\n",
    "# import matplotlib.pyplot as plt\n",
    "# sns.displot(BB1_BB2_BB3_CSC1_Hmapped_dihedral_all,bins=10)\n",
    "# \n",
    "# \n",
    "# \n",
    "\n",
    "#density plot\n",
    "import matplotlib.pyplot as plt\n",
    "ax = sns.kdeplot(BB1_BB2_BB3_CSC1_Hmapped_dihedral_all,bw=0.5)\n",
    "\n",
    "\n",
    "\n",
    "\n",
    "x = ax.lines[0].get_xdata()\n",
    "y = ax.lines[0].get_ydata()\n",
    "maxid = np.argmax(y)\n",
    "\n",
    "print(\"BB1_BB2_BB3_CSC1_Hmapped_dihedral_all\")\n",
    "print(\"Mean: Raw data\",xmean)\n",
    "print(\"Mode: Raw data\",xmode)\n",
    "print(\"Mode: Gauss-fitted\",x[maxid])\n"
   ]
  },
  {
   "cell_type": "code",
   "execution_count": null,
   "metadata": {},
   "outputs": [],
   "source": []
  },
  {
   "cell_type": "markdown",
   "metadata": {},
   "source": [
    "## "
   ]
  },
  {
   "cell_type": "code",
   "execution_count": 40,
   "metadata": {},
   "outputs": [
    {
     "name": "stderr",
     "output_type": "stream",
     "text": [
      "/home/subhasree/.local/lib/python3.6/site-packages/seaborn/distributions.py:1657: FutureWarning: The `bw` parameter is deprecated in favor of `bw_method` and `bw_adjust`. Using 0.5 for `bw_method`, but please see the docs for the new parameters and update your code.\n",
      "  warnings.warn(msg, FutureWarning)\n"
     ]
    },
    {
     "name": "stdout",
     "output_type": "stream",
     "text": [
      "parameter R_o is:  -134.87169928893505\n",
      "parameter K is:  0.8171194944713225\n"
     ]
    },
    {
     "data": {
      "image/png": "[encoded data removed]",
      "text/plain": [
       "<Figure size 432x288 with 1 Axes>"
      ]
     },
     "metadata": {
      "needs_background": "light"
     },
     "output_type": "display_data"
    }
   ],
   "source": [
    "def harmonic_proper_dihedral(theta, theta0, k):\n",
    "    n = 2\n",
    "    coslist = []\n",
    "    for t in theta:\n",
    "        coslist.append(math.cos(n*t - theta0))\n",
    "    final_coslist = np.array(coslist)\n",
    "    val =  k * (1 + final_coslist)\n",
    "    return val\n",
    "\n",
    "#get probability distribution from data\n",
    "plt2 = sns.kdeplot(BB1_BB2_BB3_CSC1_Hmapped_dihedral_all,bw=0.5)\n",
    "xdata = plt2.lines[0].get_xdata()\n",
    "ydata = plt2.lines[0].get_ydata()\n",
    "\n",
    "#calculate energy\n",
    "U = P2U(ydata)\n",
    "#code to deal with innifite energy\n",
    "if(U.max() == float('inf')):\n",
    "    U2 = U\n",
    "    t = np.sort(U2)[::-1]\n",
    "    for x in t:\n",
    "        if(x==float('inf')):\n",
    "            continue\n",
    "        else:\n",
    "            second_largest = x\n",
    "            break\n",
    "    U[U==float('inf')]=(second_largest * 2)\n",
    "else:\n",
    "    U[U==float('inf')]=(U.max() * 2)\n",
    "\n",
    "#plot enegy and density\n",
    "import matplotlib.pyplot as plt\n",
    "plt.plot(xdata,U,color='magenta')\n",
    "\n",
    "# for i in range(0,xdata.shape[0]):\n",
    "params, pcov = curve_fit(harmonic_proper_dihedral, xdata,U,p0=[-135, 1000])\n",
    "print(\"parameter R_o is: \",params[0])\n",
    "print(\"parameter K is: \",params[1])\n",
    "# curve_fit(harmonic_angle, xdata[0], U, p0=[84, 1000])\n",
    "dihedral_parameters_dict['Parameter'].append('BB1_BB2_BB3_CSC1')\n",
    "dihedral_parameters_dict['raw data mean value'].append(xmean)\n",
    "dihedral_parameters_dict['raw data mode value gaussian-fitted mode value'].append(x[maxid])\n",
    "dihedral_parameters_dict['Seed value obtained using BOltzmann inversion'].append(params[0])\n",
    "dihedral_parameters_dict['K from boltzmann inversion'].append(params[1])"
   ]
  },
  {
   "cell_type": "code",
   "execution_count": 41,
   "metadata": {},
   "outputs": [
    {
     "name": "stderr",
     "output_type": "stream",
     "text": [
      "/home/subhasree/.local/lib/python3.6/site-packages/seaborn/distributions.py:2557: FutureWarning: `distplot` is a deprecated function and will be removed in a future version. Please adapt your code to use either `displot` (a figure-level function with similar flexibility) or `histplot` (an axes-level function for histograms).\n",
      "  warnings.warn(msg, FutureWarning)\n"
     ]
    },
    {
     "name": "stdout",
     "output_type": "stream",
     "text": [
      "BB2_BB3_CSC1_CSC2_Hmapped_dihedral_all\n",
      "Mean: Raw data -147.66505\n",
      "Mode: Raw data -163.65150236832397\n",
      "Mode: Gauss-fitted -163.65150236832397\n"
     ]
    },
    {
     "name": "stderr",
     "output_type": "stream",
     "text": [
      "/home/subhasree/.local/lib/python3.6/site-packages/seaborn/distributions.py:1657: FutureWarning: The `bw` parameter is deprecated in favor of `bw_method` and `bw_adjust`. Using 0.5 for `bw_method`, but please see the docs for the new parameters and update your code.\n",
      "  warnings.warn(msg, FutureWarning)\n"
     ]
    },
    {
     "data": {
      "image/png": "[encoded data removed]",
      "text/plain": [
       "<Figure size 432x288 with 1 Axes>"
      ]
     },
     "metadata": {
      "needs_background": "light"
     },
     "output_type": "display_data"
    }
   ],
   "source": [
    "# Density Plot and Histogram \n",
    "from scipy import stats\n",
    "xmedian = np.median(BB2_BB3_CSC1_CSC2_Hmapped_dihedral_all)\n",
    "xmean = np.mean(BB2_BB3_CSC1_CSC2_Hmapped_dihedral_all)\n",
    "# xmode = stats.mode(BB2_BB3_Hmapped_distance_all)[0][0] #gives wrong value\n",
    "\n",
    "#raw data plot\n",
    "plt = sns.distplot(BB2_BB3_CSC1_CSC2_Hmapped_dihedral_all, kde=True, \n",
    "            color = 'white',norm_hist=False,\n",
    "             kde_kws={'linewidth': 1}\n",
    "             )\n",
    "\n",
    "x = plt.lines[0].get_xdata()\n",
    "y = plt.lines[0].get_ydata()\n",
    "maxid = np.argmax(y)\n",
    "xmode = x[maxid]\n",
    "\n",
    "\n",
    "\n",
    "\n",
    "# # #histogram plot + Density plot\n",
    "# import matplotlib.pyplot as plt\n",
    "# sns.displot(BB2_BB3_CSC1_CSC2_Hmapped_dihedral_all,bins=10)\n",
    "# \n",
    "# \n",
    "# \n",
    "\n",
    "#density plot\n",
    "import matplotlib.pyplot as plt\n",
    "ax = sns.kdeplot(BB2_BB3_CSC1_CSC2_Hmapped_dihedral_all,bw=0.5)\n",
    "\n",
    "\n",
    "\n",
    "\n",
    "x = ax.lines[0].get_xdata()\n",
    "y = ax.lines[0].get_ydata()\n",
    "maxid = np.argmax(y)\n",
    "\n",
    "print(\"BB2_BB3_CSC1_CSC2_Hmapped_dihedral_all\")\n",
    "print(\"Mean: Raw data\",xmean)\n",
    "print(\"Mode: Raw data\",xmode)\n",
    "print(\"Mode: Gauss-fitted\",x[maxid])\n"
   ]
  },
  {
   "cell_type": "code",
   "execution_count": 42,
   "metadata": {},
   "outputs": [
    {
     "name": "stderr",
     "output_type": "stream",
     "text": [
      "/home/subhasree/.local/lib/python3.6/site-packages/seaborn/distributions.py:1657: FutureWarning: The `bw` parameter is deprecated in favor of `bw_method` and `bw_adjust`. Using 0.5 for `bw_method`, but please see the docs for the new parameters and update your code.\n",
      "  warnings.warn(msg, FutureWarning)\n"
     ]
    },
    {
     "ename": "RuntimeError",
     "evalue": "Optimal parameters not found: Number of calls to function has reached maxfev = 600.",
     "output_type": "error",
     "traceback": [
      "\u001b[0;31m---------------------------------------------------------------------------\u001b[0m",
      "\u001b[0;31mRuntimeError\u001b[0m                              Traceback (most recent call last)",
      "\u001b[0;32m<ipython-input-42-b277baf16d56>\u001b[0m in \u001b[0;36m<module>\u001b[0;34m\u001b[0m\n\u001b[1;32m     34\u001b[0m \u001b[0;34m\u001b[0m\u001b[0m\n\u001b[1;32m     35\u001b[0m \u001b[0;31m# for i in range(0,xdata.shape[0]):\u001b[0m\u001b[0;34m\u001b[0m\u001b[0;34m\u001b[0m\u001b[0;34m\u001b[0m\u001b[0m\n\u001b[0;32m---> 36\u001b[0;31m \u001b[0mparams\u001b[0m\u001b[0;34m,\u001b[0m \u001b[0mpcov\u001b[0m \u001b[0;34m=\u001b[0m \u001b[0mcurve_fit\u001b[0m\u001b[0;34m(\u001b[0m\u001b[0mharmonic_proper_dihedral\u001b[0m\u001b[0;34m,\u001b[0m \u001b[0mxdata\u001b[0m\u001b[0;34m,\u001b[0m\u001b[0mU\u001b[0m\u001b[0;34m,\u001b[0m\u001b[0mp0\u001b[0m\u001b[0;34m=\u001b[0m\u001b[0;34m[\u001b[0m\u001b[0;34m-\u001b[0m\u001b[0;36m149\u001b[0m\u001b[0;34m,\u001b[0m \u001b[0;36m1000\u001b[0m\u001b[0;34m]\u001b[0m\u001b[0;34m)\u001b[0m\u001b[0;34m\u001b[0m\u001b[0;34m\u001b[0m\u001b[0m\n\u001b[0m\u001b[1;32m     37\u001b[0m \u001b[0mprint\u001b[0m\u001b[0;34m(\u001b[0m\u001b[0;34m\"parameter R_o is: \"\u001b[0m\u001b[0;34m,\u001b[0m\u001b[0mparams\u001b[0m\u001b[0;34m[\u001b[0m\u001b[0;36m0\u001b[0m\u001b[0;34m]\u001b[0m\u001b[0;34m)\u001b[0m\u001b[0;34m\u001b[0m\u001b[0;34m\u001b[0m\u001b[0m\n\u001b[1;32m     38\u001b[0m \u001b[0mprint\u001b[0m\u001b[0;34m(\u001b[0m\u001b[0;34m\"parameter K is: \"\u001b[0m\u001b[0;34m,\u001b[0m\u001b[0mparams\u001b[0m\u001b[0;34m[\u001b[0m\u001b[0;36m1\u001b[0m\u001b[0;34m]\u001b[0m\u001b[0;34m)\u001b[0m\u001b[0;34m\u001b[0m\u001b[0;34m\u001b[0m\u001b[0m\n",
      "\u001b[0;32m~/.local/lib/python3.6/site-packages/scipy/optimize/minpack.py\u001b[0m in \u001b[0;36mcurve_fit\u001b[0;34m(f, xdata, ydata, p0, sigma, absolute_sigma, check_finite, bounds, method, jac, **kwargs)\u001b[0m\n\u001b[1;32m    766\u001b[0m         \u001b[0mcost\u001b[0m \u001b[0;34m=\u001b[0m \u001b[0mnp\u001b[0m\u001b[0;34m.\u001b[0m\u001b[0msum\u001b[0m\u001b[0;34m(\u001b[0m\u001b[0minfodict\u001b[0m\u001b[0;34m[\u001b[0m\u001b[0;34m'fvec'\u001b[0m\u001b[0;34m]\u001b[0m \u001b[0;34m**\u001b[0m \u001b[0;36m2\u001b[0m\u001b[0;34m)\u001b[0m\u001b[0;34m\u001b[0m\u001b[0;34m\u001b[0m\u001b[0m\n\u001b[1;32m    767\u001b[0m         \u001b[0;32mif\u001b[0m \u001b[0mier\u001b[0m \u001b[0;32mnot\u001b[0m \u001b[0;32min\u001b[0m \u001b[0;34m[\u001b[0m\u001b[0;36m1\u001b[0m\u001b[0;34m,\u001b[0m \u001b[0;36m2\u001b[0m\u001b[0;34m,\u001b[0m \u001b[0;36m3\u001b[0m\u001b[0;34m,\u001b[0m \u001b[0;36m4\u001b[0m\u001b[0;34m]\u001b[0m\u001b[0;34m:\u001b[0m\u001b[0;34m\u001b[0m\u001b[0;34m\u001b[0m\u001b[0m\n\u001b[0;32m--> 768\u001b[0;31m             \u001b[0;32mraise\u001b[0m \u001b[0mRuntimeError\u001b[0m\u001b[0;34m(\u001b[0m\u001b[0;34m\"Optimal parameters not found: \"\u001b[0m \u001b[0;34m+\u001b[0m \u001b[0merrmsg\u001b[0m\u001b[0;34m)\u001b[0m\u001b[0;34m\u001b[0m\u001b[0;34m\u001b[0m\u001b[0m\n\u001b[0m\u001b[1;32m    769\u001b[0m     \u001b[0;32melse\u001b[0m\u001b[0;34m:\u001b[0m\u001b[0;34m\u001b[0m\u001b[0;34m\u001b[0m\u001b[0m\n\u001b[1;32m    770\u001b[0m         \u001b[0;31m# Rename maxfev (leastsq) to max_nfev (least_squares), if specified.\u001b[0m\u001b[0;34m\u001b[0m\u001b[0;34m\u001b[0m\u001b[0;34m\u001b[0m\u001b[0m\n",
      "\u001b[0;31mRuntimeError\u001b[0m: Optimal parameters not found: Number of calls to function has reached maxfev = 600."
     ]
    },
    {
     "data": {
      "image/png": "[encoded data removed]",
      "text/plain": [
       "<Figure size 432x288 with 1 Axes>"
      ]
     },
     "metadata": {
      "needs_background": "light"
     },
     "output_type": "display_data"
    }
   ],
   "source": [
    "def harmonic_proper_dihedral(theta, theta0, k):\n",
    "    n = 6\n",
    "    coslist = []\n",
    "    for t in theta:\n",
    "        coslist.append(math.cos(n*t - theta0))\n",
    "    final_coslist = np.array(coslist)\n",
    "    val =  k * (1 + final_coslist)\n",
    "    return val\n",
    "\n",
    "#get probability distribution from data\n",
    "plt2 = sns.kdeplot(BB2_BB3_CSC1_CSC2_Hmapped_dihedral_all,bw=0.5)\n",
    "xdata = plt2.lines[0].get_xdata()\n",
    "ydata = plt2.lines[0].get_ydata()\n",
    "\n",
    "#calculate energy\n",
    "U = P2U(ydata)\n",
    "#code to deal with innifite energy\n",
    "if(U.max() == float('inf')):\n",
    "    U2 = U\n",
    "    t = np.sort(U2)[::-1]\n",
    "    for x in t:\n",
    "        if(x==float('inf')):\n",
    "            continue\n",
    "        else:\n",
    "            second_largest = x\n",
    "            break\n",
    "    U[U==float('inf')]=(second_largest * 2)\n",
    "else:\n",
    "    U[U==float('inf')]=(U.max() * 2)\n",
    "\n",
    "#plot enegy and density\n",
    "import matplotlib.pyplot as plt\n",
    "plt.plot(xdata,U,color='magenta')\n",
    "\n",
    "# for i in range(0,xdata.shape[0]):\n",
    "params, pcov = curve_fit(harmonic_proper_dihedral, xdata,U,p0=[-149, 1000])\n",
    "print(\"parameter R_o is: \",params[0])\n",
    "print(\"parameter K is: \",params[1])\n",
    "# curve_fit(harmonic_angle, xdata[0], U, p0=[84, 1000])\n",
    "dihedral_parameters_dict['Parameter'].append('BB2_BB3_CSC1_CSC2')\n",
    "dihedral_parameters_dict['raw data mean value'].append(xmean)\n",
    "dihedral_parameters_dict['raw data mode value gaussian-fitted mode value'].append(x[maxid])\n",
    "dihedral_parameters_dict['Seed value obtained using BOltzmann inversion'].append(params[0])\n",
    "dihedral_parameters_dict['K from boltzmann inversion'].append(params[1])"
   ]
  },
  {
   "cell_type": "code",
   "execution_count": null,
   "metadata": {},
   "outputs": [],
   "source": [
    "# Density Plot and Histogram \n",
    "from scipy import stats\n",
    "xmedian = np.median(BB2_BB3_CSC1_CSC3_Hmapped_dihedral_all)\n",
    "xmean = np.mean(BB2_BB3_CSC1_CSC3_Hmapped_dihedral_all)\n",
    "# xmode = stats.mode(BB2_BB3_Hmapped_distance_all)[0][0] #gives wrong value\n",
    "\n",
    "#raw data plot\n",
    "plt = sns.distplot(BB2_BB3_CSC1_CSC3_Hmapped_dihedral_all, kde=True, \n",
    "            color = 'white',norm_hist=False,\n",
    "             kde_kws={'linewidth': 1}\n",
    "             )\n",
    "\n",
    "x = plt.lines[0].get_xdata()\n",
    "y = plt.lines[0].get_ydata()\n",
    "maxid = np.argmax(y)\n",
    "xmode = x[maxid]\n",
    "\n",
    "\n",
    "\n",
    "\n",
    "# # #histogram plot + Density plot\n",
    "# import matplotlib.pyplot as plt\n",
    "# sns.displot(BB2_BB3_CSC1_CSC3_Hmapped_dihedral_all,bins=10)\n",
    "# \n",
    "# \n",
    "# \n",
    "\n",
    "#density plot\n",
    "import matplotlib.pyplot as plt\n",
    "ax = sns.kdeplot(BB2_BB3_CSC1_CSC3_Hmapped_dihedral_all,bw=0.5)\n",
    "\n",
    "\n",
    "\n",
    "\n",
    "x = ax.lines[0].get_xdata()\n",
    "y = ax.lines[0].get_ydata()\n",
    "maxid = np.argmax(y)\n",
    "\n",
    "print(\"BB2_BB3_CSC1_CSC3_Hmapped_dihedral_all\")\n",
    "print(\"Mean: Raw data\",xmean)\n",
    "print(\"Mode: Raw data\",xmode)\n",
    "print(\"Mode: Gauss-fitted\",x[maxid])\n"
   ]
  },
  {
   "cell_type": "code",
   "execution_count": null,
   "metadata": {},
   "outputs": [],
   "source": [
    "def harmonic_proper_dihedral(theta, theta0, k):\n",
    "    n = 1\n",
    "    coslist = []\n",
    "    for t in theta:\n",
    "        coslist.append(math.cos(n*t - theta0))\n",
    "    final_coslist = np.array(coslist)\n",
    "    val =  k * (1 + final_coslist)\n",
    "    return val\n",
    "\n",
    "#get probability distribution from data\n",
    "plt2 = sns.kdeplot(BB2_BB3_CSC1_CSC3_Hmapped_dihedral_all)\n",
    "xdata = plt2.lines[0].get_xdata()\n",
    "ydata = plt2.lines[0].get_ydata()\n",
    "#calculate energy\n",
    "U = P2U(ydata)\n",
    "# print(U)\n",
    "\n",
    "if(U.max() == float('inf')):\n",
    "    U2 = U.copy()\n",
    "    t = np.sort(U2)[::-1]\n",
    "    for x in t:\n",
    "        if(x==float('inf')):\n",
    "            continue\n",
    "        else:\n",
    "            second_largest = x\n",
    "            break\n",
    "    U[U==float('inf')]=(second_largest * 2)\n",
    "else:\n",
    "    U[U==float('inf')]=(U.max() * 2)\n",
    "\n",
    "plt.plot(xdata,U)\n",
    "plt.plot(xdata,U)\n",
    "\n",
    "#plot enegy and density\n",
    "import matplotlib.pyplot as plt\n",
    "plt.plot(xdata,U,color='magenta')\n",
    "\n",
    "# for i in range(0,xdata.shape[0]):\n",
    "params, pcov = curve_fit(harmonic_proper_dihedral, xdata,U,p0=[144, 50000])\n",
    "print(\"parameter R_o is: \",params[0])\n",
    "print(\"parameter K is: \",params[1])\n",
    "# curve_fit(harmonic_angle, xdata[0], U, p0=[84, 1000])\n",
    "\n",
    "dihedral_parameters_dict['Parameter'].append('BB2_BB3_CSC1_CSC3')\n",
    "dihedral_parameters_dict['raw data mean value'].append(xmean)\n",
    "dihedral_parameters_dict['raw data mode value gaussian-fitted mode value'].append(x[maxid])\n",
    "dihedral_parameters_dict['Seed value obtained using BOltzmann inversion'].append(params[0])\n",
    "dihedral_parameters_dict['K from boltzmann inversion'].append(params[1])"
   ]
  },
  {
   "cell_type": "code",
   "execution_count": null,
   "metadata": {},
   "outputs": [],
   "source": [
    "# Density Plot and Histogram \n",
    "from scipy import stats\n",
    "xmedian = np.median(BB2_BB3_CSC1_CSC3_Hmapped_dihedral_all)\n",
    "xmean = np.mean(BB2_BB3_CSC1_CSC3_Hmapped_dihedral_all)\n",
    "# xmode = stats.mode(BB2_BB3_Hmapped_distance_all)[0][0] #gives wrong value\n",
    "\n",
    "#raw data plot\n",
    "plt = sns.distplot(BB2_BB3_CSC1_CSC3_Hmapped_dihedral_all, kde=True, \n",
    "            color = 'white',norm_hist=False,\n",
    "             kde_kws={'linewidth': 1}\n",
    "             )\n",
    "\n",
    "x = plt.lines[0].get_xdata()\n",
    "y = plt.lines[0].get_ydata()\n",
    "maxid = np.argmax(y)\n",
    "xmode = x[maxid]\n",
    "\n",
    "\n",
    "\n",
    "\n",
    "# # #histogram plot + Density plot\n",
    "# import matplotlib.pyplot as plt\n",
    "# sns.displot(BB2_BB3_CSC1_CSC3_Hmapped_dihedral_all,bins=10)\n",
    "# \n",
    "# \n",
    "# \n",
    "\n",
    "#density plot\n",
    "import matplotlib.pyplot as plt\n",
    "ax = sns.kdeplot(BB2_BB3_CSC1_CSC3_Hmapped_dihedral_all)\n",
    "\n",
    "\n",
    "\n",
    "\n",
    "x = ax.lines[0].get_xdata()\n",
    "y = ax.lines[0].get_ydata()\n",
    "maxid = np.argmax(y)\n",
    "\n",
    "print(\"BB2_BB3_CSC1_CSC3_Hmapped_dihedral_all\")\n",
    "print(\"Mean: Raw data\",xmean)\n",
    "print(\"Mode: Raw data\",xmode)\n",
    "print(\"Mode: Gauss-fitted\",x[maxid])\n"
   ]
  },
  {
   "cell_type": "code",
   "execution_count": 43,
   "metadata": {},
   "outputs": [
    {
     "name": "stdout",
     "output_type": "stream",
     "text": [
      "parameter R_o is:  144.1073037574884\n",
      "parameter K is:  0.8249215694942282\n"
     ]
    },
    {
     "data": {
      "image/png": "[encoded data removed]",
      "text/plain": [
       "<Figure size 432x288 with 1 Axes>"
      ]
     },
     "metadata": {
      "needs_background": "light"
     },
     "output_type": "display_data"
    }
   ],
   "source": [
    "def harmonic_proper_dihedral(theta, theta0, k):\n",
    "    n = 1\n",
    "    coslist = []\n",
    "    for t in theta:\n",
    "        coslist.append(math.cos(n*t - theta0))\n",
    "    final_coslist = np.array(coslist)\n",
    "    val =  k * (1 + final_coslist)\n",
    "    return val\n",
    "\n",
    "#get probability distribution from data\n",
    "plt2 = sns.kdeplot(BB2_BB3_CSC1_CSC3_Hmapped_dihedral_all)\n",
    "xdata = plt2.lines[0].get_xdata()\n",
    "ydata = plt2.lines[0].get_ydata()\n",
    "#calculate energy\n",
    "U = P2U(ydata)\n",
    "# print(U)\n",
    "\n",
    "if(U.max() == float('inf')):\n",
    "    U2 = U.copy()\n",
    "    t = np.sort(U2)[::-1]\n",
    "    for x in t:\n",
    "        if(x==float('inf')):\n",
    "            continue\n",
    "        else:\n",
    "            second_largest = x\n",
    "            break\n",
    "    U[U==float('inf')]=(second_largest * 2)\n",
    "else:\n",
    "    U[U==float('inf')]=(U.max() * 2)\n",
    "\n",
    "plt.plot(xdata,U)\n",
    "plt.plot(xdata,U)\n",
    "\n",
    "#plot enegy and density\n",
    "import matplotlib.pyplot as plt\n",
    "plt.plot(xdata,U,color='magenta')\n",
    "\n",
    "# for i in range(0,xdata.shape[0]):\n",
    "params, pcov = curve_fit(harmonic_proper_dihedral, xdata,U,p0=[144, 1000])\n",
    "print(\"parameter R_o is: \",params[0])\n",
    "print(\"parameter K is: \",params[1])\n",
    "# curve_fit(harmonic_angle, xdata[0], U, p0=[84, 1000])\n",
    "\n",
    "dihedral_parameters_dict['Parameter'].append('BB2_BB3_CSC1_CSC3')\n",
    "dihedral_parameters_dict['raw data mean value'].append(xmean)\n",
    "dihedral_parameters_dict['raw data mode value gaussian-fitted mode value'].append(x[maxid])\n",
    "dihedral_parameters_dict['Seed value obtained using BOltzmann inversion'].append(params[0])\n",
    "dihedral_parameters_dict['K from boltzmann inversion'].append(params[1])"
   ]
  },
  {
   "cell_type": "code",
   "execution_count": 45,
   "metadata": {},
   "outputs": [
    {
     "data": {
      "text/html": [
       "<div>\n",
       "<style scoped>\n",
       "    .dataframe tbody tr th:only-of-type {\n",
       "        vertical-align: middle;\n",
       "    }\n",
       "\n",
       "    .dataframe tbody tr th {\n",
       "        vertical-align: top;\n",
       "    }\n",
       "\n",
       "    .dataframe thead th {\n",
       "        text-align: right;\n",
       "    }\n",
       "</style>\n",
       "<table border=\"1\" class=\"dataframe\">\n",
       "  <thead>\n",
       "    <tr style=\"text-align: right;\">\n",
       "      <th></th>\n",
       "      <th>Parameter</th>\n",
       "      <th>raw data mean value</th>\n",
       "      <th>raw data mode value gaussian-fitted mode value</th>\n",
       "      <th>Seed value obtained using BOltzmann inversion</th>\n",
       "      <th>K from boltzmann inversion</th>\n",
       "    </tr>\n",
       "  </thead>\n",
       "  <tbody>\n",
       "    <tr>\n",
       "      <th>0</th>\n",
       "      <td>BB1_BB2_BB3_pBB1</td>\n",
       "      <td>15.093700</td>\n",
       "      <td>31.313021</td>\n",
       "      <td>-41.213707</td>\n",
       "      <td>0.889315</td>\n",
       "    </tr>\n",
       "    <tr>\n",
       "      <th>1</th>\n",
       "      <td>BB2_BB3_pBB1_pBB2</td>\n",
       "      <td>-107.213550</td>\n",
       "      <td>-157.706842</td>\n",
       "      <td>-90.092704</td>\n",
       "      <td>1.208741</td>\n",
       "    </tr>\n",
       "    <tr>\n",
       "      <th>2</th>\n",
       "      <td>BB1_BB2_BB3_pBB1</td>\n",
       "      <td>15.093700</td>\n",
       "      <td>31.313021</td>\n",
       "      <td>-41.213707</td>\n",
       "      <td>0.889315</td>\n",
       "    </tr>\n",
       "    <tr>\n",
       "      <th>3</th>\n",
       "      <td>BB2_BB3_pBB1_pBB2</td>\n",
       "      <td>-107.213550</td>\n",
       "      <td>-157.706842</td>\n",
       "      <td>-90.092704</td>\n",
       "      <td>1.208741</td>\n",
       "    </tr>\n",
       "    <tr>\n",
       "      <th>4</th>\n",
       "      <td>ASC1_ASC2_ASC3_ASC4</td>\n",
       "      <td>0.191200</td>\n",
       "      <td>0.045325</td>\n",
       "      <td>1.988438</td>\n",
       "      <td>1.088145</td>\n",
       "    </tr>\n",
       "    <tr>\n",
       "      <th>5</th>\n",
       "      <td>BB2_BB3_USC1_USC3</td>\n",
       "      <td>-81.581842</td>\n",
       "      <td>-87.454769</td>\n",
       "      <td>200.881338</td>\n",
       "      <td>0.805059</td>\n",
       "    </tr>\n",
       "    <tr>\n",
       "      <th>6</th>\n",
       "      <td>BB1_BB2_BB3_GSC1</td>\n",
       "      <td>-102.220000</td>\n",
       "      <td>-97.356803</td>\n",
       "      <td>-141.601394</td>\n",
       "      <td>0.845772</td>\n",
       "    </tr>\n",
       "    <tr>\n",
       "      <th>7</th>\n",
       "      <td>BB2_BB3_GSC1_GSC2</td>\n",
       "      <td>-142.673400</td>\n",
       "      <td>-166.866178</td>\n",
       "      <td>-153.526712</td>\n",
       "      <td>1.101362</td>\n",
       "    </tr>\n",
       "    <tr>\n",
       "      <th>8</th>\n",
       "      <td>GSC1_GSC2_GSC3_GSC4</td>\n",
       "      <td>53.295900</td>\n",
       "      <td>43.903908</td>\n",
       "      <td>2.037604</td>\n",
       "      <td>1.174751</td>\n",
       "    </tr>\n",
       "    <tr>\n",
       "      <th>9</th>\n",
       "      <td>BB1_BB2_BB3_CSC1</td>\n",
       "      <td>-88.149600</td>\n",
       "      <td>-86.396051</td>\n",
       "      <td>-134.871699</td>\n",
       "      <td>0.817119</td>\n",
       "    </tr>\n",
       "    <tr>\n",
       "      <th>10</th>\n",
       "      <td>BB2_BB3_CSC1_CSC3</td>\n",
       "      <td>-147.665050</td>\n",
       "      <td>-163.651502</td>\n",
       "      <td>144.107304</td>\n",
       "      <td>0.824922</td>\n",
       "    </tr>\n",
       "  </tbody>\n",
       "</table>\n",
       "</div>"
      ],
      "text/plain": [
       "              Parameter  raw data mean value  \\\n",
       "0      BB1_BB2_BB3_pBB1            15.093700   \n",
       "1     BB2_BB3_pBB1_pBB2          -107.213550   \n",
       "2      BB1_BB2_BB3_pBB1            15.093700   \n",
       "3     BB2_BB3_pBB1_pBB2          -107.213550   \n",
       "4   ASC1_ASC2_ASC3_ASC4             0.191200   \n",
       "5     BB2_BB3_USC1_USC3           -81.581842   \n",
       "6      BB1_BB2_BB3_GSC1          -102.220000   \n",
       "7     BB2_BB3_GSC1_GSC2          -142.673400   \n",
       "8   GSC1_GSC2_GSC3_GSC4            53.295900   \n",
       "9      BB1_BB2_BB3_CSC1           -88.149600   \n",
       "10    BB2_BB3_CSC1_CSC3          -147.665050   \n",
       "\n",
       "    raw data mode value gaussian-fitted mode value  \\\n",
       "0                                        31.313021   \n",
       "1                                      -157.706842   \n",
       "2                                        31.313021   \n",
       "3                                      -157.706842   \n",
       "4                                         0.045325   \n",
       "5                                       -87.454769   \n",
       "6                                       -97.356803   \n",
       "7                                      -166.866178   \n",
       "8                                        43.903908   \n",
       "9                                       -86.396051   \n",
       "10                                     -163.651502   \n",
       "\n",
       "    Seed value obtained using BOltzmann inversion  K from boltzmann inversion  \n",
       "0                                      -41.213707                    0.889315  \n",
       "1                                      -90.092704                    1.208741  \n",
       "2                                      -41.213707                    0.889315  \n",
       "3                                      -90.092704                    1.208741  \n",
       "4                                        1.988438                    1.088145  \n",
       "5                                      200.881338                    0.805059  \n",
       "6                                     -141.601394                    0.845772  \n",
       "7                                     -153.526712                    1.101362  \n",
       "8                                        2.037604                    1.174751  \n",
       "9                                     -134.871699                    0.817119  \n",
       "10                                     144.107304                    0.824922  "
      ]
     },
     "execution_count": 45,
     "metadata": {},
     "output_type": "execute_result"
    }
   ],
   "source": [
    "dihedral_parameters['Parameter'] = dihedral_parameters_dict['Parameter']\n",
    "dihedral_parameters['raw data mean value'] = dihedral_parameters_dict['raw data mean value']\n",
    "dihedral_parameters['raw data mode value gaussian-fitted mode value'] = dihedral_parameters_dict['raw data mode value gaussian-fitted mode value']\n",
    "dihedral_parameters['Seed value obtained using BOltzmann inversion'] = dihedral_parameters_dict['Seed value obtained using BOltzmann inversion']\n",
    "dihedral_parameters['K from boltzmann inversion'] = dihedral_parameters_dict['K from boltzmann inversion']\n",
    "dihedral_parameters\n",
    "# dihedral_parameters.to_csv(\"sirna_parameters_dihedrals.csv\")"
   ]
  },
  {
   "cell_type": "code",
   "execution_count": 47,
   "metadata": {},
   "outputs": [],
   "source": [
    "dihedral_parameters.to_csv(\"/home/subhasree/IISC_Bangalore/My_PhD_Studies/Lab_work/CG_Models/PDB_files/all_parameters_dihedral.csv\")"
   ]
  },
  {
   "cell_type": "code",
   "execution_count": 49,
   "metadata": {},
   "outputs": [
    {
     "name": "stdout",
     "output_type": "stream",
     "text": [
      "correlation of dihedral : all_atom vs experimental\n",
      "[[1.         0.65451569]\n",
      " [0.65451569 1.        ]]\n"
     ]
    }
   ],
   "source": [
    "all_atom_boltzmann_param = [-40.83764151,-103.7198472,2.071629279,134.406962,-140.2209697,\n",
    "                            -159.8088452,3.006710868,-136.5307989,-149.8128265]\n",
    "experimental_data_boltzmann = [-41.2137067096792,-90.0927038385563,1.98843750512741,\n",
    "                               200.881337602101,-141.601393619066,-153.52671159569,\n",
    "                               2.03760363015009,-134.871699288935,144.107303757488\n",
    "]\n",
    "# import numpy as np\n",
    "print(\"correlation of dihedral : all_atom vs experimental\")\n",
    "print(np.corrcoef(all_atom_boltzmann_param, experimental_data_boltzmann))\n"
   ]
  },
  {
   "cell_type": "code",
   "execution_count": null,
   "metadata": {},
   "outputs": [],
   "source": []
  }
 ],
 "metadata": {
  "kernelspec": {
   "display_name": "Python 3",
   "language": "python",
   "name": "python3"
  },
  "language_info": {
   "codemirror_mode": {
    "name": "ipython",
    "version": 3
   },
   "file_extension": ".py",
   "mimetype": "text/x-python",
   "name": "python",
   "nbconvert_exporter": "python",
   "pygments_lexer": "ipython3",
   "version": "3.6.9"
  }
 },
 "nbformat": 4,
 "nbformat_minor": 2
}
