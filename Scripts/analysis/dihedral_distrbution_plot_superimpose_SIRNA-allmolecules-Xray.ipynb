{
 "cells": [
  {
   "cell_type": "code",
   "execution_count": 138,
   "metadata": {},
   "outputs": [
    {
     "data": {
      "text/plain": [
       "array([[1.        , 0.00473037],\n",
       "       [0.00473037, 1.        ]])"
      ]
     },
     "execution_count": 138,
     "metadata": {},
     "output_type": "execute_result"
    }
   ],
   "source": [
    "martini2= [3.5,1,1.5,1.5,10,4,1,3.5,5,10,3,3]\n",
    "K_boltzmann = [1.491545229,0.939467267,0.870827266,2.011502542,1.8779708,1.791363503,1.936026703,\n",
    "               0.768785694,1.642665813,2.042698776,2.044193733,7.968220768]\n",
    "import numpy as np\n",
    "np.corrcoef(martini2, K_boltzmann)"
   ]
  },
  {
   "cell_type": "code",
   "execution_count": 139,
   "metadata": {},
   "outputs": [
    {
     "name": "stdout",
     "output_type": "stream",
     "text": [
      "correlation of distance : martini2 vs boltzmann\n",
      "[[ 1.         -0.18592114]\n",
      " [-0.18592114  1.        ]]\n"
     ]
    }
   ],
   "source": [
    "martini_data = [0,0,-10,180,100,180,-20,180,0,0,55,-130]\n",
    "boltzmann_dist_data = [-42.3,-91.1,-146.5,-141.42,-2.42,-144.46,-143.13,-154.4,63.35,0,\n",
    "                       -133.58,-147.79]\n",
    "\n",
    "import numpy as np\n",
    "print(\"correlation of distance : martini2 vs boltzmann\")\n",
    "print(np.corrcoef(martini_data, boltzmann_dist_data))\n",
    "\n"
   ]
  },
  {
   "cell_type": "code",
   "execution_count": 140,
   "metadata": {},
   "outputs": [
    {
     "name": "stdout",
     "output_type": "stream",
     "text": [
      "correlation of distance : gaussian vs boltzmann\n",
      "[[1.         0.99102543]\n",
      " [0.99102543 1.        ]]\n"
     ]
    }
   ],
   "source": [
    "boltzmann_dist_data = [-41.57,-91.92397966,-144.504,-141.422328,-119.204,0,-144.9,-143.1312254,\n",
    "                       -154.4043953,60.56,0,-133.5840577,-147.7950583]\n",
    "gaussian_dist_data = [-41.57338149,-91.92397966,-146.2497285,-140.1505066,-155,0.563551631,\n",
    "                      -145.1640485,-140.4858871,-153.5832193,60.56127506,0.65575975,-135.709377,\n",
    "                      -149.5880126]\n",
    "print(\"correlation of distance : gaussian vs boltzmann\")\n",
    "print(np.corrcoef(gaussian_dist_data, boltzmann_dist_data))"
   ]
  },
  {
   "cell_type": "code",
   "execution_count": 141,
   "metadata": {},
   "outputs": [
    {
     "data": {
      "text/plain": [
       "array([[1.00000000e+00, 7.37176857e-04],\n",
       "       [7.37176857e-04, 1.00000000e+00]])"
      ]
     },
     "execution_count": 141,
     "metadata": {},
     "output_type": "execute_result"
    }
   ],
   "source": [
    "martini_data = [0,0,-10,180,100,180,-20,180,0,0,55,-130,0,180,0,0]\n",
    "boltzmann_dist_data = [-42.3,-91,-146.5,-141.4,-2.42,-144.5,-143.13,-154.4,63.35,0.44,-133.6,\n",
    "                       -147.8,-134,134,60,144]\n",
    "import numpy as np\n",
    "np.corrcoef(martini_data, boltzmann_dist_data)"
   ]
  },
  {
   "cell_type": "code",
   "execution_count": 142,
   "metadata": {},
   "outputs": [],
   "source": [
    "import pandas as pd\n",
    "import seaborn as sns\n",
    "from scipy import stats\n",
    "import numpy as np\n",
    "import matplotlib.pyplot as plt\n",
    "%matplotlib inline\n",
    "import math\n",
    "from scipy.optimize import curve_fit\n",
    "dihedral_parameters = pd.DataFrame()\n",
    "dihedral_parameters_dict = {'Parameter':[],'raw data mean value':[],\n",
    "                            'raw data mode value gaussian-fitted mode value':[],\n",
    "                           'Seed value obtained using BOltzmann inversion':[],\n",
    "                           'K from boltzmann inversion':[]}"
   ]
  },
  {
   "cell_type": "code",
   "execution_count": 143,
   "metadata": {},
   "outputs": [],
   "source": [
    "dihedral_dict = dict.fromkeys(['BB1_BB2_BB3_ASC1','BB2_BB3_ASC1_ASC2','BB2_BB3_ASC1_ASC4',\\\n",
    "'BB2_BB3_ASC1_ASC4','ASC1_ASC2_ASC3_ASC4','BB1_BB2_BB3_USC1','BB2_BB3_USC1_USC2','BB2_BB3_USC1_USC3','BB1_BB2_BB3_GSC1',\\\n",
    "'BB2_BB3_GSC1_GSC2','BB2_BB3_GSC1_GSC4','GSC1_GSC2_GSC3_GSC4','BB1_BB2_BB3_CSC1','BB1_BB2_BB3_CSC1','BB2_BB3_CSC1_CSC2',\n",
    "'BB2_BB3_CSC1_CSC2','BB2_BB3_CSC1_CSC3','BB1_BB2_BB3_pBB1','BB2_BB3_pBB1_pBB2','BB3_pBB1_pBB2_pBB3','BB3_pBB1_pBB2_pBB3'\n",
    "])"
   ]
  },
  {
   "cell_type": "code",
   "execution_count": 144,
   "metadata": {},
   "outputs": [],
   "source": [
    "df_Hmapped_dihedral_all = pd.read_csv('Xray_params_sirna/final_dihedral_sirna_Xray.csv')"
   ]
  },
  {
   "cell_type": "code",
   "execution_count": 145,
   "metadata": {},
   "outputs": [],
   "source": [
    "def return_modes_of_data(data):   \n",
    "    data = data\n",
    "    n = np.histogram(data)\n",
    "    count_dict = {}\n",
    "    for i in range(0,len(n[0])):\n",
    "        count_dict[n[0][i]] = n[1][i]\n",
    "    return sorted(count_dict.items()),(sum(data)/len(data))"
   ]
  },
  {
   "cell_type": "code",
   "execution_count": 146,
   "metadata": {},
   "outputs": [],
   "source": [
    "BB1_BB2_BB3_ASC1_Hmapped_dihedral_all = df_Hmapped_dihedral_all['BB1_BB2_BB3_ASC1']\n",
    "BB2_BB3_ASC1_ASC2_Hmapped_dihedral_all = df_Hmapped_dihedral_all['BB2_BB3_ASC1_ASC2']\n",
    "BB2_BB3_ASC1_ASC4_Hmapped_dihedral_all = df_Hmapped_dihedral_all['BB2_BB3_ASC1_ASC4']\n",
    "ASC1_ASC2_ASC3_ASC4_Hmapped_dihedral_all = df_Hmapped_dihedral_all['ASC1_ASC2_ASC3_ASC4']\n",
    "BB1_BB2_BB3_USC1_Hmapped_dihedral_all = df_Hmapped_dihedral_all['BB1_BB2_BB3_USC1']\n",
    "BB2_BB3_USC1_USC2_Hmapped_dihedral_all = df_Hmapped_dihedral_all['BB2_BB3_USC1_USC2']\n",
    "BB2_BB3_USC1_USC3_Hmapped_dihedral_all = df_Hmapped_dihedral_all['BB2_BB3_USC1_USC3']\n",
    "# BB1_BB2_BB3_GSC1_Hmapped_dihedral_all = df_Hmapped_dihedral_all['BB1_BB2_BB3_GSC1']\n",
    "BB2_BB3_GSC1_GSC2_Hmapped_dihedral_all = df_Hmapped_dihedral_all['BB2_BB3_GSC1_GSC2']\n",
    "BB2_BB3_GSC1_GSC4_Hmapped_dihedral_all = df_Hmapped_dihedral_all['BB2_BB3_GSC1_GSC4']\n",
    "GSC1_GSC2_GSC3_GSC4_Hmapped_dihedral_all = df_Hmapped_dihedral_all['GSC1_GSC2_GSC3_GSC4']\n",
    "BB1_BB2_BB3_CSC1_Hmapped_dihedral_all = df_Hmapped_dihedral_all['BB1_BB2_BB3_CSC1']\n",
    "BB2_BB3_CSC1_CSC2_Hmapped_dihedral_all = df_Hmapped_dihedral_all['BB2_BB3_CSC1_CSC2']\n",
    "BB2_BB3_CSC1_CSC3_Hmapped_dihedral_all = df_Hmapped_dihedral_all['BB2_BB3_CSC1_CSC3']\n",
    "# BB1_BB2_BB3_pBB1_Hmapped_dihedral_all = df_Hmapped_dihedral_all['BB1_BB2_BB3_pBB1']\n",
    "# BB2_BB3_pBB1_pBB2_Hmapped_dihedral_all = df_Hmapped_dihedral_all['BB2_BB3_pBB1_pBB2']\n",
    "# BB3_pBB1_pBB2_pBB3_Hmapped_dihedral_all = df_Hmapped_dihedral_all['BB3_pBB1_pBB2_pBB3']"
   ]
  },
  {
   "cell_type": "code",
   "execution_count": 147,
   "metadata": {},
   "outputs": [
    {
     "data": {
      "text/plain": [
       "0    NaN\n",
       "1    NaN\n",
       "2    NaN\n",
       "3    NaN\n",
       "4    NaN\n",
       "5    NaN\n",
       "6    NaN\n",
       "7    NaN\n",
       "8    NaN\n",
       "9    NaN\n",
       "10   NaN\n",
       "Name: BB2_BB3_CSC1_CSC3, dtype: float64"
      ]
     },
     "execution_count": 147,
     "metadata": {},
     "output_type": "execute_result"
    }
   ],
   "source": [
    "BB2_BB3_CSC1_CSC3_Hmapped_dihedral_all"
   ]
  },
  {
   "cell_type": "code",
   "execution_count": 148,
   "metadata": {},
   "outputs": [],
   "source": [
    "def P2U(p):\n",
    "     boltzmann = 1.9858285706E-3 # Kcal/K\n",
    "     T = 298.15 # K\n",
    "     p_max = p.max()\n",
    "     return - boltzmann * T * np.log(p / p_max)"
   ]
  },
  {
   "cell_type": "code",
   "execution_count": 149,
   "metadata": {},
   "outputs": [],
   "source": [
    "def harmonic_proper_dihedral(theta, theta0, k):\n",
    "    n = 1\n",
    "    coslist = []\n",
    "    for t in theta:\n",
    "        coslist.append(math.cos(n*t - theta0))\n",
    "    final_coslist = np.array(coslist)\n",
    "    val =  k * (1 + final_coslist)\n",
    "    return val"
   ]
  },
  {
   "cell_type": "code",
   "execution_count": 150,
   "metadata": {},
   "outputs": [],
   "source": [
    "def harmonic_improper_dihedral(theta,theta0,k):\n",
    "    return k * (theta - theta0) ** 2"
   ]
  },
  {
   "cell_type": "code",
   "execution_count": 151,
   "metadata": {},
   "outputs": [
    {
     "ename": "NameError",
     "evalue": "name 'BB1_BB2_BB3_pBB1_Hmapped_dihedral_all' is not defined",
     "output_type": "error",
     "traceback": [
      "\u001b[0;31m---------------------------------------------------------------------------\u001b[0m",
      "\u001b[0;31mNameError\u001b[0m                                 Traceback (most recent call last)",
      "\u001b[0;32m<ipython-input-151-4ec1f61e8174>\u001b[0m in \u001b[0;36m<module>\u001b[0;34m\u001b[0m\n\u001b[1;32m      6\u001b[0m \u001b[0;31m# Density Plot and Histogram\u001b[0m\u001b[0;34m\u001b[0m\u001b[0;34m\u001b[0m\u001b[0;34m\u001b[0m\u001b[0m\n\u001b[1;32m      7\u001b[0m \u001b[0;32mfrom\u001b[0m \u001b[0mscipy\u001b[0m \u001b[0;32mimport\u001b[0m \u001b[0mstats\u001b[0m\u001b[0;34m\u001b[0m\u001b[0;34m\u001b[0m\u001b[0m\n\u001b[0;32m----> 8\u001b[0;31m \u001b[0mxmedian\u001b[0m \u001b[0;34m=\u001b[0m \u001b[0mnp\u001b[0m\u001b[0;34m.\u001b[0m\u001b[0mmedian\u001b[0m\u001b[0;34m(\u001b[0m\u001b[0mBB1_BB2_BB3_pBB1_Hmapped_dihedral_all\u001b[0m\u001b[0;34m)\u001b[0m\u001b[0;34m\u001b[0m\u001b[0;34m\u001b[0m\u001b[0m\n\u001b[0m\u001b[1;32m      9\u001b[0m \u001b[0mxmean\u001b[0m \u001b[0;34m=\u001b[0m \u001b[0mnp\u001b[0m\u001b[0;34m.\u001b[0m\u001b[0mmean\u001b[0m\u001b[0;34m(\u001b[0m\u001b[0mBB1_BB2_BB3_pBB1_Hmapped_dihedral_all\u001b[0m\u001b[0;34m)\u001b[0m\u001b[0;34m\u001b[0m\u001b[0;34m\u001b[0m\u001b[0m\n\u001b[1;32m     10\u001b[0m \u001b[0;31m# xmode = stats.mode(BB2_BB3_Hmapped_distance_all)[0][0] #gives wrong value\u001b[0m\u001b[0;34m\u001b[0m\u001b[0;34m\u001b[0m\u001b[0;34m\u001b[0m\u001b[0m\n",
      "\u001b[0;31mNameError\u001b[0m: name 'BB1_BB2_BB3_pBB1_Hmapped_dihedral_all' is not defined"
     ]
    }
   ],
   "source": [
    "# # Density Plot and Histogram \n",
    "# l = []\n",
    "# for item in BB1_BB2_BB3_pBB1_Hmapped_dihedral_all.values:\n",
    "# #     l.append(int(item+180))\n",
    "\n",
    "# Density Plot and Histogram \n",
    "from scipy import stats\n",
    "xmedian = np.median(BB1_BB2_BB3_pBB1_Hmapped_dihedral_all)\n",
    "xmean = np.mean(BB1_BB2_BB3_pBB1_Hmapped_dihedral_all)\n",
    "# xmode = stats.mode(BB2_BB3_Hmapped_distance_all)[0][0] #gives wrong value\n",
    "\n",
    "#raw data plot\n",
    "plt2 = sns.distplot(BB1_BB2_BB3_pBB1_Hmapped_dihedral_all, kde=True, \n",
    "            color = 'white',norm_hist=False,\n",
    "             kde_kws={'linewidth': 1}\n",
    "             )\n",
    "\n",
    "x = plt2.lines[0].get_xdata()\n",
    "y = plt2.lines[0].get_ydata()\n",
    "maxid = np.argmax(y)\n",
    "xmode = x[maxid]\n",
    "plt2.axvline(xmean,c='red')\n",
    "plt2.axvline(xmedian,c='blue')\n",
    "plt2.axvline(xmode,c='green')\n",
    "\n",
    "# density plot\n",
    "import matplotlib.pyplot as plt\n",
    "ax = sns.kdeplot(BB1_BB2_BB3_pBB1_Hmapped_dihedral_all)\n",
    "x = ax.lines[0].get_xdata()\n",
    "y = ax.lines[0].get_ydata()\n",
    "maxid = np.argmax(y)\n",
    "\n",
    "print(\"BB1_BB2_BB3_pBB1_Hmapped_dihedral_all\")\n",
    "print(\"Mean: Raw data\",xmean)\n",
    "print(\"Mode: Raw data\",xmode)\n",
    "print(\"Mode: Gauss-fitted\",x[maxid])"
   ]
  },
  {
   "cell_type": "code",
   "execution_count": null,
   "metadata": {},
   "outputs": [],
   "source": [
    "def harmonic_proper_dihedral(theta, theta0, k):\n",
    "    n = 1\n",
    "    coslist = []\n",
    "    for t in theta:\n",
    "        coslist.append(math.cos(n*t - theta0))\n",
    "    final_coslist = np.array(coslist)\n",
    "    val =  k * (1 + final_coslist)\n",
    "    return val\n",
    "\n",
    "#get probability distribution from data\n",
    "plt2 = sns.kdeplot(BB1_BB2_BB3_pBB1_Hmapped_dihedral_all)\n",
    "xdata = plt2.lines[0].get_xdata()\n",
    "ydata = plt2.lines[0].get_ydata()\n",
    "\n",
    "#calculate energy\n",
    "U = P2U(ydata)\n",
    "\n",
    "#code to deal with innifite energy\n",
    "if(U.max() == float('inf')):\n",
    "    U2 = U\n",
    "    t = np.sort(U2)[::-1]\n",
    "    for x in t:\n",
    "        if(x==float('inf')):\n",
    "            continue\n",
    "        else:\n",
    "            second_largest = x\n",
    "            break\n",
    "    U[U==float('inf')]=(second_largest * 2)\n",
    "else:\n",
    "    U[U==float('inf')]=(U.max() * 2)\n",
    "\n",
    "plt.plot(xdata,U,color='black')\n",
    "\n",
    "#plot enegy and density\n",
    "import matplotlib.pyplot as plt\n",
    "plt.plot(xdata,U,color='black')\n",
    "\n",
    "# for i in range(0,xdata.shape[0]):\n",
    "params, pcov = curve_fit(harmonic_proper_dihedral, xdata,U,p0=[-41, 50000])\n",
    "print(\"parameter R_o is: \",params[0])\n",
    "print(\"parameter K is: \",params[1])\n",
    "# curve_fit(harmonic_angle, xdata[0], U, p0=[84, 1000])\n",
    "\n",
    "\n",
    "dihedral_parameters_dict['Parameter'].append('BB1_BB2_BB3_pBB1')\n",
    "dihedral_parameters_dict['raw data mean value'].append(xmean)\n",
    "dihedral_parameters_dict['raw data mode value gaussian-fitted mode value'].append(x[maxid])\n",
    "dihedral_parameters_dict['Seed value obtained using BOltzmann inversion'].append(params[0])\n",
    "dihedral_parameters_dict['K from boltzmann inversion'].append(params[1])"
   ]
  },
  {
   "cell_type": "code",
   "execution_count": null,
   "metadata": {},
   "outputs": [],
   "source": [
    "# Density Plot and Histogram \n",
    "from scipy import stats\n",
    "xmedian = np.median(BB2_BB3_pBB1_pBB2_Hmapped_dihedral_all)\n",
    "xmean = np.mean(BB2_BB3_pBB1_pBB2_Hmapped_dihedral_all)\n",
    "# xmode = stats.mode(BB2_BB3_Hmapped_distance_all)[0][0] #gives wrong value\n",
    "\n",
    "# raw data plot\n",
    "plt = sns.distplot(BB2_BB3_pBB1_pBB2_Hmapped_dihedral_all, kde=True, \n",
    "            color = 'white',norm_hist=False,\n",
    "             kde_kws={'linewidth': 1}\n",
    "             )\n",
    "\n",
    "x = plt.lines[0].get_xdata()\n",
    "y = plt.lines[0].get_ydata()\n",
    "maxid = np.argmax(y)\n",
    "xmode = x[maxid]\n",
    "\n",
    "\n",
    "\n",
    "\n",
    "#script for multimodal graphs\n",
    "x_new = []\n",
    "y_new = []\n",
    "for item in x:\n",
    "    if(item>0 and item<200):\n",
    "        id = list(x).index(item)\n",
    "        x_new.append(x[id])\n",
    "        y_new.append(y[id])\n",
    "#check the mode in the new partition:\n",
    "print(\"second mode:\",x_new[np.argmax(y_new)])\n",
    "\n",
    "\n",
    "# #histogram plot + Density plot\n",
    "# import matplotlib.pyplot as plt\n",
    "# sns.displot(BB2_BB3_pBB1_pBB2_Hmapped_dihedral_all,bins=10)\n",
    "# \n",
    "# \n",
    "# \n",
    "\n",
    "#density plot\n",
    "import matplotlib.pyplot as plt\n",
    "ax = sns.kdeplot(BB2_BB3_pBB1_pBB2_Hmapped_dihedral_all)\n",
    "\n",
    "\n",
    "\n",
    "\n",
    "x = ax.lines[0].get_xdata()\n",
    "y = ax.lines[0].get_ydata()\n",
    "maxid = np.argmax(y)\n",
    "\n",
    "print(\"BB2_BB3_pBB1_pBB2_Hmapped_dihedral_all\")\n",
    "print(\"Mean: Raw data\",xmean)\n",
    "print(\"Mode: Raw data\",xmode)\n",
    "print(\"Mode: Gauss-fitted\",x[maxid])\n"
   ]
  },
  {
   "cell_type": "code",
   "execution_count": null,
   "metadata": {},
   "outputs": [],
   "source": [
    "def harmonic_proper_dihedral(theta, theta0, k):\n",
    "    n = 1\n",
    "    coslist = []\n",
    "    for t in theta:\n",
    "        coslist.append(math.cos(n*t - theta0))\n",
    "    final_coslist = np.array(coslist)\n",
    "    val =  k * (1 + final_coslist)\n",
    "    return val\n",
    "\n",
    "#get probability distribution from data\n",
    "plt2 = sns.kdeplot(BB2_BB3_pBB1_pBB2_Hmapped_dihedral_all)\n",
    "xdata = plt2.lines[0].get_xdata()\n",
    "ydata = plt2.lines[0].get_ydata()\n",
    "\n",
    "#calculate energy\n",
    "U = P2U(ydata)\n",
    "#code to deal with innifite energy\n",
    "if(U.max() == float('inf')):\n",
    "    U2 = U\n",
    "    t = np.sort(U2)[::-1]\n",
    "    for x in t:\n",
    "        if(x==float('inf')):\n",
    "            continue\n",
    "        else:\n",
    "            second_largest = x\n",
    "            break\n",
    "    U[U==float('inf')]=(second_largest * 2)\n",
    "else:\n",
    "    U[U==float('inf')]=(U.max() * 2)\n",
    "\n",
    "#plot enegy and density\n",
    "import matplotlib.pyplot as plt\n",
    "plt.plot(xdata,U,color='black')\n",
    "\n",
    "# for i in range(0,xdata.shape[0]):\n",
    "params, pcov = curve_fit(harmonic_proper_dihedral, xdata,U,p0=[-91, 1000])\n",
    "print(\"parameter R_o is: \",params[0])\n",
    "print(\"parameter K is: \",params[1])\n",
    "# curve_fit(harmonic_angle, xdata[0], U, p0=[84, 1000])\n",
    "\n",
    "dihedral_parameters_dict['Parameter'].append('BB2_BB3_pBB1_pBB2')\n",
    "dihedral_parameters_dict['raw data mean value'].append(xmean)\n",
    "dihedral_parameters_dict['raw data mode value gaussian-fitted mode value'].append(x[maxid])\n",
    "dihedral_parameters_dict['Seed value obtained using BOltzmann inversion'].append(params[0])\n",
    "dihedral_parameters_dict['K from boltzmann inversion'].append(params[1])"
   ]
  },
  {
   "cell_type": "code",
   "execution_count": null,
   "metadata": {},
   "outputs": [],
   "source": [
    "# Density Plot and Histogram \n",
    "from scipy import stats\n",
    "xmedian = np.median(BB3_pBB1_pBB2_pBB3_Hmapped_dihedral_all)\n",
    "xmean = np.mean(BB3_pBB1_pBB2_pBB3_Hmapped_dihedral_all)\n",
    "# xmode = stats.mode(BB2_BB3_Hmapped_distance_all)[0][0] #gives wrong value\n",
    "\n",
    "#raw data plot\n",
    "plt = sns.distplot(BB3_pBB1_pBB2_pBB3_Hmapped_dihedral_all, kde=True, \n",
    "            color = 'white',norm_hist=False,\n",
    "             kde_kws={'linewidth': 1}\n",
    "             )\n",
    "\n",
    "x = plt.lines[0].get_xdata()\n",
    "y = plt.lines[0].get_ydata()\n",
    "maxid = np.argmax(y)\n",
    "xmode = x[maxid]\n",
    "\n",
    "\n",
    "\n",
    "\n",
    "#script for multimodal graphs\n",
    "x_new = []\n",
    "y_new = []\n",
    "for item in x:\n",
    "    if(item>0 and item<200):\n",
    "        id = list(x).index(item)\n",
    "        x_new.append(x[id])\n",
    "        y_new.append(y[id])\n",
    "#check the mode in the new partition:\n",
    "print(\"second mode:\",x_new[np.argmax(y_new)])\n",
    "\n",
    "# # #histogram plot + Density plot\n",
    "# import matplotlib.pyplot as plt\n",
    "# sns.displot(BB3_pBB1_pBB2_pBB3_Hmapped_dihedral_all,bins=10)\n",
    "# \n",
    "# \n",
    "# \n",
    "\n",
    "#density plot\n",
    "import matplotlib.pyplot as plt\n",
    "ax = sns.kdeplot(BB3_pBB1_pBB2_pBB3_Hmapped_dihedral_all)\n",
    "\n",
    "\n",
    "\n",
    "\n",
    "x = ax.lines[0].get_xdata()\n",
    "y = ax.lines[0].get_ydata()\n",
    "maxid = np.argmax(y)\n",
    "\n",
    "print(\"BB3_pBB1_pBB2_pBB3_Hmapped_dihedral_all\")\n",
    "print(\"Mean: Raw data\",xmean)\n",
    "print(\"Mode: Raw data\",xmode)\n",
    "print(\"Mode: Gauss-fitted\",x[maxid])\n"
   ]
  },
  {
   "cell_type": "code",
   "execution_count": 152,
   "metadata": {},
   "outputs": [
    {
     "ename": "NameError",
     "evalue": "name 'BB3_pBB1_pBB2_pBB3_Hmapped_dihedral_all' is not defined",
     "output_type": "error",
     "traceback": [
      "\u001b[0;31m---------------------------------------------------------------------------\u001b[0m",
      "\u001b[0;31mNameError\u001b[0m                                 Traceback (most recent call last)",
      "\u001b[0;32m<ipython-input-152-3f63df20b075>\u001b[0m in \u001b[0;36m<module>\u001b[0;34m\u001b[0m\n\u001b[1;32m      9\u001b[0m \u001b[0;34m\u001b[0m\u001b[0m\n\u001b[1;32m     10\u001b[0m \u001b[0;31m#get probability distribution from data\u001b[0m\u001b[0;34m\u001b[0m\u001b[0;34m\u001b[0m\u001b[0;34m\u001b[0m\u001b[0m\n\u001b[0;32m---> 11\u001b[0;31m \u001b[0mplt2\u001b[0m \u001b[0;34m=\u001b[0m \u001b[0msns\u001b[0m\u001b[0;34m.\u001b[0m\u001b[0mkdeplot\u001b[0m\u001b[0;34m(\u001b[0m\u001b[0mBB3_pBB1_pBB2_pBB3_Hmapped_dihedral_all\u001b[0m\u001b[0;34m)\u001b[0m\u001b[0;34m\u001b[0m\u001b[0;34m\u001b[0m\u001b[0m\n\u001b[0m\u001b[1;32m     12\u001b[0m \u001b[0mxdata\u001b[0m \u001b[0;34m=\u001b[0m \u001b[0mplt2\u001b[0m\u001b[0;34m.\u001b[0m\u001b[0mlines\u001b[0m\u001b[0;34m[\u001b[0m\u001b[0;36m0\u001b[0m\u001b[0;34m]\u001b[0m\u001b[0;34m.\u001b[0m\u001b[0mget_xdata\u001b[0m\u001b[0;34m(\u001b[0m\u001b[0;34m)\u001b[0m\u001b[0;34m\u001b[0m\u001b[0;34m\u001b[0m\u001b[0m\n\u001b[1;32m     13\u001b[0m \u001b[0mydata\u001b[0m \u001b[0;34m=\u001b[0m \u001b[0mplt2\u001b[0m\u001b[0;34m.\u001b[0m\u001b[0mlines\u001b[0m\u001b[0;34m[\u001b[0m\u001b[0;36m0\u001b[0m\u001b[0;34m]\u001b[0m\u001b[0;34m.\u001b[0m\u001b[0mget_ydata\u001b[0m\u001b[0;34m(\u001b[0m\u001b[0;34m)\u001b[0m\u001b[0;34m\u001b[0m\u001b[0;34m\u001b[0m\u001b[0m\n",
      "\u001b[0;31mNameError\u001b[0m: name 'BB3_pBB1_pBB2_pBB3_Hmapped_dihedral_all' is not defined"
     ]
    }
   ],
   "source": [
    "def harmonic_proper_dihedral(theta, theta0, k):\n",
    "    n = 2\n",
    "    coslist = []\n",
    "    for t in theta:\n",
    "        coslist.append(math.cos(n*t - theta0))\n",
    "    final_coslist = np.array(coslist)\n",
    "    val =  k * (1 + final_coslist)\n",
    "    return val\n",
    "\n",
    "#get probability distribution from data\n",
    "plt2 = sns.kdeplot(BB3_pBB1_pBB2_pBB3_Hmapped_dihedral_all)\n",
    "xdata = plt2.lines[0].get_xdata()\n",
    "ydata = plt2.lines[0].get_ydata()\n",
    "\n",
    "#calculate energy\n",
    "U = P2U(ydata)\n",
    "\n",
    "#code to deal with innifite energy\n",
    "if(U.max() == float('inf')):\n",
    "    U2 = U\n",
    "    t = np.sort(U2)[::-1]\n",
    "    for x in t:\n",
    "        if(x==float('inf')):\n",
    "            continue\n",
    "        else:\n",
    "            second_largest = x\n",
    "            break\n",
    "    U[U==float('inf')]=(second_largest * 2)\n",
    "else:\n",
    "    U[U==float('inf')]=(U.max() * 2)\n",
    "\n",
    "\n",
    "#plot enegy and density\n",
    "import matplotlib.pyplot as plt\n",
    "plt.plot(xdata,U,color='black')\n",
    "\n",
    "# for i in range(0,xdata.shape[0]):\n",
    "params, pcov = curve_fit(harmonic_proper_dihedral, xdata,U,p0=[-146, 50000])\n",
    "print(\"parameter R_o is: \",params[0])\n",
    "print(\"parameter K is: \",params[1])\n",
    "# curve_fit(harmonic_angle, xdata[0], U, p0=[84, 1000])\n",
    "\n",
    "dihedral_parameters_dict['Parameter'].append('BB3_pBB1_pBB2_pBB3')\n",
    "dihedral_parameters_dict['raw data mean value'].append(xmean)\n",
    "dihedral_parameters_dict['raw data mode value gaussian-fitted mode value'].append(x[maxid])\n",
    "dihedral_parameters_dict['Seed value obtained using BOltzmann inversion'].append(params[0])\n",
    "dihedral_parameters_dict['K from boltzmann inversion'].append(params[1])"
   ]
  },
  {
   "cell_type": "code",
   "execution_count": 153,
   "metadata": {},
   "outputs": [
    {
     "name": "stderr",
     "output_type": "stream",
     "text": [
      "/home/subhasree/.local/lib/python3.6/site-packages/seaborn/distributions.py:2557: FutureWarning: `distplot` is a deprecated function and will be removed in a future version. Please adapt your code to use either `displot` (a figure-level function with similar flexibility) or `histplot` (an axes-level function for histograms).\n",
      "  warnings.warn(msg, FutureWarning)\n"
     ]
    },
    {
     "name": "stdout",
     "output_type": "stream",
     "text": [
      "BB1_BB2_BB3_ASC1_Hmapped_dihedral_all\n",
      "Mean: Raw data -94.27227272727272\n",
      "Mode: Raw data -92.88810749552229\n",
      "Mode: Gauss-fitted -92.88810749552229\n"
     ]
    },
    {
     "data": {
      "image/png": "[encoded data removed]",
      "text/plain": [
       "<Figure size 432x288 with 1 Axes>"
      ]
     },
     "metadata": {
      "needs_background": "light"
     },
     "output_type": "display_data"
    }
   ],
   "source": [
    "# Density Plot and Histogram \n",
    "from scipy import stats\n",
    "xmedian = np.median(BB1_BB2_BB3_ASC1_Hmapped_dihedral_all)\n",
    "xmean = np.mean(BB1_BB2_BB3_ASC1_Hmapped_dihedral_all)\n",
    "# xmode = stats.mode(BB2_BB3_Hmapped_distance_all)[0][0] #gives wrong value\n",
    "\n",
    "# #raw data plot\n",
    "plt = sns.distplot(BB1_BB2_BB3_ASC1_Hmapped_dihedral_all, kde=True, \n",
    "            color = 'white',norm_hist=False,\n",
    "             kde_kws={'linewidth': 1}\n",
    "             )\n",
    "\n",
    "x = plt.lines[0].get_xdata()\n",
    "y = plt.lines[0].get_ydata()\n",
    "maxid = np.argmax(y)\n",
    "xmode = x[maxid]\n",
    "\n",
    "\n",
    "\n",
    "\n",
    "# # #histogram plot + Density plot\n",
    "# import matplotlib.pyplot as plt\n",
    "# sns.displot(BB1_BB2_BB3_ASC1_Hmapped_dihedral_all,bins=10)\n",
    "# \n",
    "# \n",
    "# \n",
    "\n",
    "# density plot\n",
    "import matplotlib.pyplot as plt\n",
    "ax = sns.kdeplot(BB1_BB2_BB3_ASC1_Hmapped_dihedral_all)\n",
    "\n",
    "\n",
    "\n",
    "\n",
    "x = ax.lines[0].get_xdata()\n",
    "y = ax.lines[0].get_ydata()\n",
    "maxid = np.argmax(y)\n",
    "\n",
    "print(\"BB1_BB2_BB3_ASC1_Hmapped_dihedral_all\")\n",
    "print(\"Mean: Raw data\",xmean)\n",
    "print(\"Mode: Raw data\",xmode)\n",
    "print(\"Mode: Gauss-fitted\",x[maxid])\n"
   ]
  },
  {
   "cell_type": "code",
   "execution_count": 154,
   "metadata": {},
   "outputs": [
    {
     "name": "stdout",
     "output_type": "stream",
     "text": [
      "parameter R_o is:  -93.56069613620379\n",
      "parameter K is:  0.7609716268869955\n"
     ]
    },
    {
     "data": {
      "image/png": "[encoded data removed]",
      "text/plain": [
       "<Figure size 432x288 with 1 Axes>"
      ]
     },
     "metadata": {
      "needs_background": "light"
     },
     "output_type": "display_data"
    }
   ],
   "source": [
    "def harmonic_proper_dihedral(theta, theta0, k):\n",
    "    n = 2\n",
    "    coslist = []\n",
    "    for t in theta:\n",
    "        coslist.append(math.cos(n*t - theta0))\n",
    "    final_coslist = np.array(coslist)\n",
    "    val =  k * (1 + final_coslist)\n",
    "    return val\n",
    "\n",
    "#get probability distribution from data\n",
    "plt2 = sns.kdeplot(BB1_BB2_BB3_ASC1_Hmapped_dihedral_all)\n",
    "xdata = plt2.lines[0].get_xdata()\n",
    "ydata = plt2.lines[0].get_ydata()\n",
    "\n",
    "#calculate energy\n",
    "U = P2U(ydata)\n",
    "\n",
    "#code to deal with innifite energy\n",
    "if(U.max() == float('inf')):\n",
    "    U2 = U\n",
    "    t = np.sort(U2)[::-1]\n",
    "    for x in t:\n",
    "        if(x==float('inf')):\n",
    "            continue\n",
    "        else:\n",
    "            second_largest = x\n",
    "            break\n",
    "    U[U==float('inf')]=(second_largest * 2)\n",
    "else:\n",
    "    U[U==float('inf')]=(U.max() * 2)\n",
    "\n",
    "\n",
    "#plot enegy and density\n",
    "import matplotlib.pyplot as plt\n",
    "plt.plot(xdata,U,color='red')\n",
    "\n",
    "# for i in range(0,xdata.shape[0]):\n",
    "params, pcov = curve_fit(harmonic_proper_dihedral, xdata,U,p0=[-94, 1000])\n",
    "print(\"parameter R_o is: \",params[0])\n",
    "print(\"parameter K is: \",params[1])\n",
    "# curve_fit(harmonic_angle, xdata[0], U, p0=[84, 1000])\n",
    "\n",
    "dihedral_parameters_dict['Parameter'].append('BB1_BB2_BB3_ASC1')\n",
    "dihedral_parameters_dict['raw data mean value'].append(xmean)\n",
    "dihedral_parameters_dict['raw data mode value gaussian-fitted mode value'].append(x[maxid])\n",
    "dihedral_parameters_dict['Seed value obtained using BOltzmann inversion'].append(params[0])\n",
    "dihedral_parameters_dict['K from boltzmann inversion'].append(params[1])"
   ]
  },
  {
   "cell_type": "code",
   "execution_count": 155,
   "metadata": {},
   "outputs": [
    {
     "name": "stderr",
     "output_type": "stream",
     "text": [
      "/home/subhasree/.local/lib/python3.6/site-packages/seaborn/distributions.py:2557: FutureWarning: `distplot` is a deprecated function and will be removed in a future version. Please adapt your code to use either `displot` (a figure-level function with similar flexibility) or `histplot` (an axes-level function for histograms).\n",
      "  warnings.warn(msg, FutureWarning)\n"
     ]
    },
    {
     "name": "stdout",
     "output_type": "stream",
     "text": [
      "BB2_BB3_ASC1_ASC2_Hmapped_dihedral_all\n",
      "Mean: Raw data -170.1511818181818\n",
      "Mode: Raw data -168.1140106383157\n",
      "Mode: Gauss-fitted -168.1140106383157\n"
     ]
    },
    {
     "data": {
      "image/png": "[encoded data removed]",
      "text/plain": [
       "<Figure size 432x288 with 1 Axes>"
      ]
     },
     "metadata": {
      "needs_background": "light"
     },
     "output_type": "display_data"
    }
   ],
   "source": [
    "# Density Plot and Histogram \n",
    "from scipy import stats\n",
    "xmedian = np.median(BB2_BB3_ASC1_ASC2_Hmapped_dihedral_all)\n",
    "xmean = np.mean(BB2_BB3_ASC1_ASC2_Hmapped_dihedral_all)\n",
    "# xmode = stats.mode(BB2_BB3_Hmapped_distance_all)[0][0] #gives wrong value\n",
    "\n",
    "#raw data plot\n",
    "plt = sns.distplot(BB2_BB3_ASC1_ASC2_Hmapped_dihedral_all, kde=True, \n",
    "            color = 'white',norm_hist=False,\n",
    "             kde_kws={'linewidth': 1}\n",
    "             )\n",
    "\n",
    "x = plt.lines[0].get_xdata()\n",
    "y = plt.lines[0].get_ydata()\n",
    "maxid = np.argmax(y)\n",
    "xmode = x[maxid]\n",
    "\n",
    "\n",
    "\n",
    "\n",
    "#script for multimodal graphs\n",
    "x_new = []\n",
    "y_new = []\n",
    "for item in x:\n",
    "    if(item>0 and item<200):\n",
    "        id = list(x).index(item)\n",
    "        x_new.append(x[id])\n",
    "        y_new.append(y[id])\n",
    "#check the mode in the new partition:\n",
    "# print(\"second mode:\",x_new[np.argmax(y_new)])\n",
    "\n",
    "# # #histogram plot + Density plot\n",
    "# import matplotlib.pyplot as plt\n",
    "# sns.displot(BB2_BB3_ASC1_ASC2_Hmapped_dihedral_all,bins=10)\n",
    "# \n",
    "# \n",
    "# \n",
    "\n",
    "#density plot\n",
    "import matplotlib.pyplot as plt\n",
    "ax = sns.kdeplot(BB2_BB3_ASC1_ASC2_Hmapped_dihedral_all)\n",
    "\n",
    "\n",
    "\n",
    "\n",
    "x = ax.lines[0].get_xdata()\n",
    "y = ax.lines[0].get_ydata()\n",
    "maxid = np.argmax(y)\n",
    "\n",
    "print(\"BB2_BB3_ASC1_ASC2_Hmapped_dihedral_all\")\n",
    "print(\"Mean: Raw data\",xmean)\n",
    "print(\"Mode: Raw data\",xmode)\n",
    "print(\"Mode: Gauss-fitted\",x[maxid])\n"
   ]
  },
  {
   "cell_type": "code",
   "execution_count": 156,
   "metadata": {},
   "outputs": [
    {
     "name": "stdout",
     "output_type": "stream",
     "text": [
      "parameter R_o is:  -170.38976000629177\n",
      "parameter K is:  0.6172634880359691\n"
     ]
    },
    {
     "data": {
      "image/png": "[encoded data removed]",
      "text/plain": [
       "<Figure size 432x288 with 1 Axes>"
      ]
     },
     "metadata": {
      "needs_background": "light"
     },
     "output_type": "display_data"
    }
   ],
   "source": [
    "def harmonic_proper_dihedral(theta, theta0, k):\n",
    "    n = 1\n",
    "    coslist = []\n",
    "    for t in theta:\n",
    "        coslist.append(math.cos(n*t - theta0))\n",
    "    final_coslist = np.array(coslist)\n",
    "    val =  k * (1 + final_coslist)\n",
    "    return val\n",
    "\n",
    "#get probability distribution from data\n",
    "plt2 = sns.kdeplot(BB2_BB3_ASC1_ASC2_Hmapped_dihedral_all)\n",
    "xdata = plt2.lines[0].get_xdata()\n",
    "ydata = plt2.lines[0].get_ydata()\n",
    "\n",
    "#calculate energy\n",
    "U = P2U(ydata)\n",
    "\n",
    "#code to deal with innifite energy\n",
    "if(U.max() == float('inf')):\n",
    "    U2 = U\n",
    "    t = np.sort(U2)[::-1]\n",
    "    for x in t:\n",
    "        if(x==float('inf')):\n",
    "            continue\n",
    "        else:\n",
    "            second_largest = x\n",
    "            break\n",
    "    U[U==float('inf')]=(second_largest * 2)\n",
    "else:\n",
    "    U[U==float('inf')]=(U.max() * 2)\n",
    "\n",
    "\n",
    "#plot enegy and density\n",
    "import matplotlib.pyplot as plt\n",
    "plt.plot(xdata,U,color='red')\n",
    "\n",
    "# for i in range(0,xdata.shape[0]):\n",
    "params, pcov = curve_fit(harmonic_proper_dihedral, xdata,U,p0=[-168, 50000])\n",
    "print(\"parameter R_o is: \",params[0])\n",
    "print(\"parameter K is: \",params[1])\n",
    "# curve_fit(harmonic_angle, xdata[0], U, p0=[84, 1000])\n",
    "dihedral_parameters_dict['Parameter'].append('BB2_BB3_ASC1_ASC2')\n",
    "dihedral_parameters_dict['raw data mean value'].append(xmean)\n",
    "dihedral_parameters_dict['raw data mode value gaussian-fitted mode value'].append(x[maxid])\n",
    "dihedral_parameters_dict['Seed value obtained using BOltzmann inversion'].append(params[0])\n",
    "dihedral_parameters_dict['K from boltzmann inversion'].append(params[1])"
   ]
  },
  {
   "cell_type": "code",
   "execution_count": 157,
   "metadata": {},
   "outputs": [
    {
     "name": "stderr",
     "output_type": "stream",
     "text": [
      "/home/subhasree/.local/lib/python3.6/site-packages/seaborn/distributions.py:2557: FutureWarning: `distplot` is a deprecated function and will be removed in a future version. Please adapt your code to use either `displot` (a figure-level function with similar flexibility) or `histplot` (an axes-level function for histograms).\n",
      "  warnings.warn(msg, FutureWarning)\n"
     ]
    },
    {
     "name": "stdout",
     "output_type": "stream",
     "text": [
      "BB2_BB3_ASC1_ASC4_Hmapped_dihedral_all\n",
      "Mean: Raw data 0.2029090909090909\n",
      "Mode: Raw data -168.1140106383157\n",
      "Mode: Gauss-fitted -168.1140106383157\n"
     ]
    },
    {
     "data": {
      "image/png": "[encoded data removed]",
      "text/plain": [
       "<Figure size 432x288 with 1 Axes>"
      ]
     },
     "metadata": {
      "needs_background": "light"
     },
     "output_type": "display_data"
    }
   ],
   "source": [
    "# Density Plot and Histogram \n",
    "from scipy import stats\n",
    "xmedian = np.median(BB2_BB3_ASC1_ASC4_Hmapped_dihedral_all)\n",
    "xmean = np.mean(BB2_BB3_ASC1_ASC4_Hmapped_dihedral_all)\n",
    "# xmode = stats.mode(BB2_BB3_Hmapped_distance_all)[0][0] #gives wrong value\n",
    "\n",
    "#raw data plot\n",
    "plt = sns.distplot(BB2_BB3_ASC1_ASC4_Hmapped_dihedral_all, kde=True, \n",
    "            color = 'white',norm_hist=False,\n",
    "             kde_kws={'linewidth': 1}\n",
    "             )\n",
    "\n",
    "# x = plt.lines[0].get_xdata()\n",
    "# y = plt.lines[0].get_ydata()\n",
    "# maxid = np.argmax(y)\n",
    "# xmode = x[maxid]\n",
    "\n",
    "\n",
    "\n",
    "\n",
    "# # #histogram plot + Density plot\n",
    "# import matplotlib.pyplot as plt\n",
    "# sns.displot(BB2_BB3_ASC1_ASC4_Hmapped_dihedral_all,bins=10)\n",
    "# \n",
    "# \n",
    "# \n",
    "\n",
    "# density plot\n",
    "import matplotlib.pyplot as plt\n",
    "ax = sns.kdeplot(BB2_BB3_ASC1_ASC4_Hmapped_dihedral_all)\n",
    "\n",
    "\n",
    "\n",
    "\n",
    "# x = ax.lines[0].get_xdata()\n",
    "# y = ax.lines[0].get_ydata()\n",
    "# maxid = np.argmax(y)\n",
    "\n",
    "print(\"BB2_BB3_ASC1_ASC4_Hmapped_dihedral_all\")\n",
    "print(\"Mean: Raw data\",xmean)\n",
    "print(\"Mode: Raw data\",xmode)\n",
    "print(\"Mode: Gauss-fitted\",x[maxid])\n"
   ]
  },
  {
   "cell_type": "code",
   "execution_count": 158,
   "metadata": {},
   "outputs": [
    {
     "name": "stdout",
     "output_type": "stream",
     "text": [
      "parameter R_o is:  3.7223692016266043\n",
      "parameter K is:  1.8255521755363093\n"
     ]
    },
    {
     "data": {
      "image/png": "[encoded data removed]",
      "text/plain": [
       "<Figure size 432x288 with 1 Axes>"
      ]
     },
     "metadata": {
      "needs_background": "light"
     },
     "output_type": "display_data"
    }
   ],
   "source": [
    "def harmonic_proper_dihedral(theta, theta0, k):\n",
    "    n = 2\n",
    "    coslist = []\n",
    "    for t in theta:\n",
    "        coslist.append(math.cos(n*t - theta0))\n",
    "    final_coslist = np.array(coslist)\n",
    "    val =  k * (1 + final_coslist)\n",
    "    return val\n",
    "\n",
    "#get probability distribution from data\n",
    "plt2 = sns.kdeplot(BB2_BB3_ASC1_ASC4_Hmapped_dihedral_all)\n",
    "xdata = plt2.lines[0].get_xdata()\n",
    "ydata = plt2.lines[0].get_ydata()\n",
    "\n",
    "#calculate energy\n",
    "U = P2U(ydata)\n",
    "\n",
    "#code to deal with innifite energy\n",
    "if(U.max() == float('inf')):\n",
    "    U2 = U\n",
    "    t = np.sort(U2)[::-1]\n",
    "    for x in t:\n",
    "        if(x==float('inf')):\n",
    "            continue\n",
    "        else:\n",
    "            second_largest = x\n",
    "            break\n",
    "    U[U==float('inf')]=(second_largest * 2)\n",
    "else:\n",
    "    U[U==float('inf')]=(U.max() * 2)\n",
    "\n",
    "#plot enegy and density\n",
    "import matplotlib.pyplot as plt\n",
    "plt.plot(xdata,U,color='red')\n",
    "\n",
    "# for i in range(0,xdata.shape[0]):\n",
    "params, pcov = curve_fit(harmonic_proper_dihedral, xdata,U,p0=[0, 50000])\n",
    "print(\"parameter R_o is: \",params[0])\n",
    "print(\"parameter K is: \",params[1])\n",
    "# curve_fit(harmonic_angle, xdata[0], U, p0=[84, 1000])\n",
    "dihedral_parameters_dict['Parameter'].append('BB2_BB3_ASC1_ASC4')\n",
    "dihedral_parameters_dict['raw data mean value'].append(xmean)\n",
    "dihedral_parameters_dict['raw data mode value gaussian-fitted mode value'].append(x[maxid])\n",
    "dihedral_parameters_dict['Seed value obtained using BOltzmann inversion'].append(params[0])\n",
    "dihedral_parameters_dict['K from boltzmann inversion'].append(params[1])"
   ]
  },
  {
   "cell_type": "code",
   "execution_count": 159,
   "metadata": {},
   "outputs": [
    {
     "data": {
      "text/plain": [
       "0     -84.589\n",
       "1     -86.190\n",
       "2     -84.589\n",
       "3    -107.173\n",
       "4     -89.697\n",
       "5     -77.022\n",
       "6    -107.923\n",
       "7     -98.359\n",
       "8     -85.584\n",
       "9     -68.890\n",
       "10   -106.438\n",
       "Name: ASC1_ASC2_ASC3_ASC4, dtype: float64"
      ]
     },
     "execution_count": 159,
     "metadata": {},
     "output_type": "execute_result"
    }
   ],
   "source": [
    "ASC1_ASC2_ASC3_ASC4_Hmapped_dihedral_all"
   ]
  },
  {
   "cell_type": "code",
   "execution_count": 160,
   "metadata": {},
   "outputs": [
    {
     "name": "stderr",
     "output_type": "stream",
     "text": [
      "/home/subhasree/.local/lib/python3.6/site-packages/seaborn/distributions.py:2557: FutureWarning: `distplot` is a deprecated function and will be removed in a future version. Please adapt your code to use either `displot` (a figure-level function with similar flexibility) or `histplot` (an axes-level function for histograms).\n",
      "  warnings.warn(msg, FutureWarning)\n",
      "/home/subhasree/.local/lib/python3.6/site-packages/seaborn/distributions.py:1657: FutureWarning: The `bw` parameter is deprecated in favor of `bw_method` and `bw_adjust`. Using 0.5 for `bw_method`, but please see the docs for the new parameters and update your code.\n",
      "  warnings.warn(msg, FutureWarning)\n"
     ]
    },
    {
     "name": "stdout",
     "output_type": "stream",
     "text": [
      "ASC1_ASC2_ASC3_ASC4_Hmapped_dihedral_all\n",
      "Mean: Raw data -90.58672727272727\n",
      "Mode: Raw data -86.00540637815124\n",
      "Mode: Gauss-fitted -86.00540637815124\n"
     ]
    },
    {
     "data": {
      "image/png": "[encoded data removed]",
      "text/plain": [
       "<Figure size 432x288 with 1 Axes>"
      ]
     },
     "metadata": {
      "needs_background": "light"
     },
     "output_type": "display_data"
    }
   ],
   "source": [
    "# Density Plot and Histogram \n",
    "from scipy import stats\n",
    "# xmedian = np.median(ASC1_ASC2_ASC3_ASC4_Hmapped_dihedral_all)\n",
    "xmean = np.mean(ASC1_ASC2_ASC3_ASC4_Hmapped_dihedral_all)\n",
    "# xmode = stats.mode(BB2_BB3_Hmapped_distance_all)[0][0] #gives wrong value\n",
    "\n",
    "#raw data plot\n",
    "plt = sns.distplot(ASC1_ASC2_ASC3_ASC4_Hmapped_dihedral_all, kde=True, \n",
    "            color = 'white',norm_hist=False,\n",
    "             kde_kws={'linewidth': 1}\n",
    "             )\n",
    "\n",
    "x = plt.lines[0].get_xdata()\n",
    "y = plt.lines[0].get_ydata()\n",
    "maxid = np.argmax(y)\n",
    "xmode = x[maxid]\n",
    "\n",
    "\n",
    "\n",
    "\n",
    "# # #histogram plot + Density plot\n",
    "# import matplotlib.pyplot as plt\n",
    "# sns.displot(ASC1_ASC2_ASC3_ASC4_Hmapped_dihedral_all,bins=10)\n",
    "# \n",
    "# \n",
    "# \n",
    "\n",
    "# density plot\n",
    "import matplotlib.pyplot as plt\n",
    "ax = sns.kdeplot(ASC1_ASC2_ASC3_ASC4_Hmapped_dihedral_all,bw=0.5)\n",
    "\n",
    "\n",
    "\n",
    "\n",
    "x = ax.lines[0].get_xdata()\n",
    "y = ax.lines[0].get_ydata()\n",
    "maxid = np.argmax(y)\n",
    "\n",
    "print(\"ASC1_ASC2_ASC3_ASC4_Hmapped_dihedral_all\")\n",
    "print(\"Mean: Raw data\",xmean)\n",
    "print(\"Mode: Raw data\",xmode)\n",
    "print(\"Mode: Gauss-fitted\",x[maxid])\n"
   ]
  },
  {
   "cell_type": "code",
   "execution_count": 161,
   "metadata": {},
   "outputs": [
    {
     "name": "stderr",
     "output_type": "stream",
     "text": [
      "/home/subhasree/.local/lib/python3.6/site-packages/seaborn/distributions.py:1657: FutureWarning: The `bw` parameter is deprecated in favor of `bw_method` and `bw_adjust`. Using 0.5 for `bw_method`, but please see the docs for the new parameters and update your code.\n",
      "  warnings.warn(msg, FutureWarning)\n"
     ]
    },
    {
     "name": "stdout",
     "output_type": "stream",
     "text": [
      "parameter R_o is:  -88.427365728524\n",
      "parameter K is:  0.6466471847447812\n"
     ]
    },
    {
     "data": {
      "image/png": "[encoded data removed]",
      "text/plain": [
       "<Figure size 432x288 with 1 Axes>"
      ]
     },
     "metadata": {
      "needs_background": "light"
     },
     "output_type": "display_data"
    }
   ],
   "source": [
    "def harmonic_proper_dihedral(theta, theta0, k):\n",
    "    n = 1\n",
    "    coslist = []\n",
    "    for t in theta:\n",
    "        coslist.append(math.cos(n*t - theta0))\n",
    "    final_coslist = np.array(coslist)\n",
    "    val =  k * (1 + final_coslist)\n",
    "    return val\n",
    "\n",
    "#get probability distribution from data\n",
    "plt2 = sns.kdeplot(ASC1_ASC2_ASC3_ASC4_Hmapped_dihedral_all,bw=0.5)\n",
    "xdata = plt2.lines[0].get_xdata()\n",
    "ydata = plt2.lines[0].get_ydata()\n",
    "\n",
    "#calculate energy\n",
    "U = P2U(ydata)\n",
    "\n",
    "#code to deal with innifite energy\n",
    "if(U.max() == float('inf')):\n",
    "    U2 = U\n",
    "    t = np.sort(U2)[::-1]\n",
    "    for x in t:\n",
    "        if(x==float('inf')):\n",
    "            continue\n",
    "        else:\n",
    "            second_largest = x\n",
    "            break\n",
    "    U[U==float('inf')]=(second_largest * 2)\n",
    "else:\n",
    "    U[U==float('inf')]=(U.max() * 2)\n",
    "\n",
    "#plot enegy and density\n",
    "import matplotlib.pyplot as plt\n",
    "plt.plot(xdata,U,color='red')\n",
    "\n",
    "# for i in range(0,xdata.shape[0]):\n",
    "params, pcov = curve_fit(harmonic_proper_dihedral, xdata,U,p0=[-86, 50000])\n",
    "print(\"parameter R_o is: \",params[0])\n",
    "print(\"parameter K is: \",params[1])\n",
    "# curve_fit(harmonic_angle, xdata[0], U, p0=[84, 1000])\n",
    "dihedral_parameters_dict['Parameter'].append('ASC1_ASC2_ASC3_ASC4')\n",
    "dihedral_parameters_dict['raw data mean value'].append(xmean)\n",
    "dihedral_parameters_dict['raw data mode value gaussian-fitted mode value'].append(x[maxid])\n",
    "dihedral_parameters_dict['Seed value obtained using BOltzmann inversion'].append(params[0])\n",
    "dihedral_parameters_dict['K from boltzmann inversion'].append(params[1])"
   ]
  },
  {
   "cell_type": "code",
   "execution_count": 162,
   "metadata": {},
   "outputs": [
    {
     "name": "stdout",
     "output_type": "stream",
     "text": [
      "BB1_BB2_BB3_USC1_Hmapped_dihedral_all\n",
      "Mean: Raw data -161.76827272727272\n",
      "Mode: Raw data -159.82481270661899\n",
      "Mode: Gauss-fitted -159.82481270661899\n"
     ]
    },
    {
     "name": "stderr",
     "output_type": "stream",
     "text": [
      "/home/subhasree/.local/lib/python3.6/site-packages/seaborn/distributions.py:2557: FutureWarning: `distplot` is a deprecated function and will be removed in a future version. Please adapt your code to use either `displot` (a figure-level function with similar flexibility) or `histplot` (an axes-level function for histograms).\n",
      "  warnings.warn(msg, FutureWarning)\n",
      "/home/subhasree/.local/lib/python3.6/site-packages/seaborn/distributions.py:1657: FutureWarning: The `bw` parameter is deprecated in favor of `bw_method` and `bw_adjust`. Using 0.2 for `bw_method`, but please see the docs for the new parameters and update your code.\n",
      "  warnings.warn(msg, FutureWarning)\n"
     ]
    },
    {
     "data": {
      "image/png": "[encoded data removed]",
      "text/plain": [
       "<Figure size 432x288 with 1 Axes>"
      ]
     },
     "metadata": {
      "needs_background": "light"
     },
     "output_type": "display_data"
    }
   ],
   "source": [
    "# Density Plot and Histogram \n",
    "from scipy import stats\n",
    "xmedian = np.median(BB1_BB2_BB3_USC1_Hmapped_dihedral_all)\n",
    "xmean = np.mean(BB1_BB2_BB3_USC1_Hmapped_dihedral_all)\n",
    "# xmode = stats.mode(BB2_BB3_Hmapped_distance_all)[0][0] #gives wrong value\n",
    "\n",
    "#raw data plot\n",
    "plt = sns.distplot(BB1_BB2_BB3_USC1_Hmapped_dihedral_all, kde=True, \n",
    "            color = 'white',norm_hist=False,\n",
    "             kde_kws={'linewidth': 1}\n",
    "             )\n",
    "\n",
    "x = plt.lines[0].get_xdata()\n",
    "y = plt.lines[0].get_ydata()\n",
    "maxid = np.argmax(y)\n",
    "xmode = x[maxid]\n",
    "\n",
    "\n",
    "\n",
    "\n",
    "# # #histogram plot + Density plot\n",
    "# import matplotlib.pyplot as plt\n",
    "# sns.displot(BB1_BB2_BB3_USC1_Hmapped_dihedral_all,bins=10)\n",
    "# \n",
    "# \n",
    "# \n",
    "\n",
    "#density plot\n",
    "import matplotlib.pyplot as plt\n",
    "ax = sns.kdeplot(BB1_BB2_BB3_USC1_Hmapped_dihedral_all,bw=0.2)\n",
    "\n",
    "\n",
    "\n",
    "\n",
    "x = ax.lines[0].get_xdata()\n",
    "y = ax.lines[0].get_ydata()\n",
    "maxid = np.argmax(y)\n",
    "\n",
    "print(\"BB1_BB2_BB3_USC1_Hmapped_dihedral_all\")\n",
    "print(\"Mean: Raw data\",xmean)\n",
    "print(\"Mode: Raw data\",xmode)\n",
    "print(\"Mode: Gauss-fitted\",x[maxid])\n"
   ]
  },
  {
   "cell_type": "code",
   "execution_count": 163,
   "metadata": {},
   "outputs": [
    {
     "name": "stderr",
     "output_type": "stream",
     "text": [
      "/home/subhasree/.local/lib/python3.6/site-packages/seaborn/distributions.py:1657: FutureWarning: The `bw` parameter is deprecated in favor of `bw_method` and `bw_adjust`. Using 0.2 for `bw_method`, but please see the docs for the new parameters and update your code.\n",
      "  warnings.warn(msg, FutureWarning)\n"
     ]
    },
    {
     "name": "stdout",
     "output_type": "stream",
     "text": [
      "parameter R_o is:  -157.7906389829146\n",
      "parameter K is:  0.6330438349031606\n"
     ]
    },
    {
     "data": {
      "image/png": "[encoded data removed]",
      "text/plain": [
       "<Figure size 432x288 with 1 Axes>"
      ]
     },
     "metadata": {
      "needs_background": "light"
     },
     "output_type": "display_data"
    }
   ],
   "source": [
    "def harmonic_proper_dihedral(theta, theta0, k):\n",
    "    n = 2\n",
    "    coslist = []\n",
    "    for t in theta:\n",
    "        coslist.append(math.cos(n*t - theta0))\n",
    "    final_coslist = np.array(coslist)\n",
    "    val =  k * (1 + final_coslist)\n",
    "    return val\n",
    "\n",
    "#get probability distribution from data\n",
    "plt2 = sns.kdeplot(BB1_BB2_BB3_USC1_Hmapped_dihedral_all,bw=0.2)\n",
    "xdata = plt2.lines[0].get_xdata()\n",
    "ydata = plt2.lines[0].get_ydata()\n",
    "\n",
    "#calculate energy\n",
    "U = P2U(ydata)\n",
    "\n",
    "#code to deal with innifite energy\n",
    "if(U.max() == float('inf')):\n",
    "    U2 = U\n",
    "    t = np.sort(U2)[::-1]\n",
    "    for x in t:\n",
    "        if(x==float('inf')):\n",
    "            continue\n",
    "        else:\n",
    "            second_largest = x\n",
    "            break\n",
    "    U[U==float('inf')]=(second_largest * 2)\n",
    "else:\n",
    "    U[U==float('inf')]=(U.max() * 2)\n",
    "\n",
    "#plot enegy and density\n",
    "import matplotlib.pyplot as plt\n",
    "plt.plot(xdata,U,color='blue')\n",
    "\n",
    "# for i in range(0,xdata.shape[0]):\n",
    "params, pcov = curve_fit(harmonic_proper_dihedral, xdata,U,p0=[-159, 1000])\n",
    "print(\"parameter R_o is: \",params[0])\n",
    "print(\"parameter K is: \",params[1])\n",
    "# curve_fit(harmonic_angle, xdata[0], U, p0=[84, 1000])\n",
    "dihedral_parameters_dict['Parameter'].append('BB1_BB2_BB3_USC1')\n",
    "dihedral_parameters_dict['raw data mean value'].append(xmean)\n",
    "dihedral_parameters_dict['raw data mode value gaussian-fitted mode value'].append(x[maxid])\n",
    "dihedral_parameters_dict['Seed value obtained using BOltzmann inversion'].append(params[0])\n",
    "dihedral_parameters_dict['K from boltzmann inversion'].append(params[1])"
   ]
  },
  {
   "cell_type": "code",
   "execution_count": 164,
   "metadata": {},
   "outputs": [
    {
     "name": "stderr",
     "output_type": "stream",
     "text": [
      "/home/subhasree/.local/lib/python3.6/site-packages/seaborn/distributions.py:2557: FutureWarning: `distplot` is a deprecated function and will be removed in a future version. Please adapt your code to use either `displot` (a figure-level function with similar flexibility) or `histplot` (an axes-level function for histograms).\n",
      "  warnings.warn(msg, FutureWarning)\n"
     ]
    },
    {
     "name": "stdout",
     "output_type": "stream",
     "text": [
      "second mode: 134.63552476587114\n",
      "BB2_BB3_USC1_USC2_Hmapped_dihedral_all\n",
      "Mean: Raw data 133.93527272727272\n",
      "Mode: Raw data 134.63552476587114\n",
      "Mode: Gauss-fitted 134.63552476587114\n"
     ]
    },
    {
     "data": {
      "image/png": "[encoded data removed]",
      "text/plain": [
       "<Figure size 432x288 with 1 Axes>"
      ]
     },
     "metadata": {
      "needs_background": "light"
     },
     "output_type": "display_data"
    }
   ],
   "source": [
    "# Density Plot and Histogram \n",
    "from scipy import stats\n",
    "xmedian = np.median(BB2_BB3_USC1_USC2_Hmapped_dihedral_all)\n",
    "xmean = np.mean(BB2_BB3_USC1_USC2_Hmapped_dihedral_all)\n",
    "# xmode = stats.mode(BB2_BB3_Hmapped_distance_all)[0][0] #gives wrong value\n",
    "\n",
    "# #raw data plot\n",
    "plt = sns.distplot(BB2_BB3_USC1_USC2_Hmapped_dihedral_all, kde=True, \n",
    "            color = 'white',norm_hist=False,\n",
    "             kde_kws={'linewidth': 1}\n",
    "             )\n",
    "\n",
    "x = plt.lines[0].get_xdata()\n",
    "y = plt.lines[0].get_ydata()\n",
    "maxid = np.argmax(y)\n",
    "xmode = x[maxid]\n",
    "\n",
    "\n",
    "\n",
    "\n",
    "#script for multimodal graphs\n",
    "x_new = []\n",
    "y_new = []\n",
    "for item in x:\n",
    "    if(item>0 and item<200):\n",
    "        id = list(x).index(item)\n",
    "        x_new.append(x[id])\n",
    "        y_new.append(y[id])\n",
    "#check the mode in the new partition:\n",
    "print(\"second mode:\",x_new[np.argmax(y_new)])\n",
    "\n",
    "# # #histogram plot + Density plot\n",
    "# import matplotlib.pyplot as plt\n",
    "# sns.displot(BB2_BB3_USC1_USC2_Hmapped_dihedral_all,bins=10)\n",
    "# \n",
    "# \n",
    "# \n",
    "\n",
    "#density plot\n",
    "import matplotlib.pyplot as plt\n",
    "ax = sns.kdeplot(BB2_BB3_USC1_USC2_Hmapped_dihedral_all)\n",
    "\n",
    "\n",
    "\n",
    "\n",
    "x = ax.lines[0].get_xdata()\n",
    "y = ax.lines[0].get_ydata()\n",
    "maxid = np.argmax(y)\n",
    "\n",
    "print(\"BB2_BB3_USC1_USC2_Hmapped_dihedral_all\")\n",
    "print(\"Mean: Raw data\",xmean)\n",
    "print(\"Mode: Raw data\",xmode)\n",
    "print(\"Mode: Gauss-fitted\",x[maxid])\n"
   ]
  },
  {
   "cell_type": "code",
   "execution_count": 165,
   "metadata": {},
   "outputs": [
    {
     "name": "stdout",
     "output_type": "stream",
     "text": [
      "parameter R_o is:  132.60135921439462\n",
      "parameter K is:  0.7670594168122871\n"
     ]
    },
    {
     "data": {
      "image/png": "[encoded data removed]",
      "text/plain": [
       "<Figure size 432x288 with 1 Axes>"
      ]
     },
     "metadata": {
      "needs_background": "light"
     },
     "output_type": "display_data"
    }
   ],
   "source": [
    "def harmonic_proper_dihedral(theta, theta0, k):\n",
    "    n = 1\n",
    "    coslist = []\n",
    "    for t in theta:\n",
    "        coslist.append(math.cos(n*t - theta0))\n",
    "    final_coslist = np.array(coslist)\n",
    "    val =  k * (1 + final_coslist)\n",
    "    return val\n",
    "\n",
    "#get probability distribution from data\n",
    "plt2 = sns.kdeplot(BB2_BB3_USC1_USC2_Hmapped_dihedral_all)\n",
    "xdata = plt2.lines[0].get_xdata()\n",
    "ydata = plt2.lines[0].get_ydata()\n",
    "\n",
    "#calculate energy\n",
    "U = P2U(ydata)\n",
    "\n",
    "#code to deal with innifite energy\n",
    "if(U.max() == float('inf')):\n",
    "    U2 = U\n",
    "    t = np.sort(U2)[::-1]\n",
    "    for x in t:\n",
    "        if(x==float('inf')):\n",
    "            continue\n",
    "        else:\n",
    "            second_largest = x\n",
    "            break\n",
    "    U[U==float('inf')]=(second_largest * 2)\n",
    "else:\n",
    "    U[U==float('inf')]=(U.max() * 2)\n",
    "\n",
    "#plot enegy and density\n",
    "import matplotlib.pyplot as plt\n",
    "plt.plot(xdata,U,color='blue')\n",
    "\n",
    "# for i in range(0,xdata.shape[0]):\n",
    "params, pcov = curve_fit(harmonic_proper_dihedral, xdata,U,p0=[134, 1000])\n",
    "print(\"parameter R_o is: \",params[0])\n",
    "print(\"parameter K is: \",params[1])\n",
    "# curve_fit(harmonic_angle, xdata[0], U, p0=[84, 1000])\n",
    "dihedral_parameters_dict['Parameter'].append('BB2_BB3_USC1_USC2')\n",
    "dihedral_parameters_dict['raw data mean value'].append(xmean)\n",
    "dihedral_parameters_dict['raw data mode value gaussian-fitted mode value'].append(x[maxid])\n",
    "dihedral_parameters_dict['Seed value obtained using BOltzmann inversion'].append(params[0])\n",
    "dihedral_parameters_dict['K from boltzmann inversion'].append(params[1])"
   ]
  },
  {
   "cell_type": "code",
   "execution_count": 166,
   "metadata": {},
   "outputs": [
    {
     "name": "stderr",
     "output_type": "stream",
     "text": [
      "/home/subhasree/.local/lib/python3.6/site-packages/seaborn/distributions.py:2557: FutureWarning: `distplot` is a deprecated function and will be removed in a future version. Please adapt your code to use either `displot` (a figure-level function with similar flexibility) or `histplot` (an axes-level function for histograms).\n",
      "  warnings.warn(msg, FutureWarning)\n"
     ]
    },
    {
     "name": "stdout",
     "output_type": "stream",
     "text": [
      "BB2_BB3_USC1_USC3_Hmapped_dihedral_all\n",
      "Mean: Raw data -142.40218181818182\n",
      "Mode: Raw data -170.6388185555885\n",
      "Mode: Gauss-fitted -170.6388185555885\n"
     ]
    },
    {
     "data": {
      "image/png": "[encoded data removed]",
      "text/plain": [
       "<Figure size 432x288 with 1 Axes>"
      ]
     },
     "metadata": {
      "needs_background": "light"
     },
     "output_type": "display_data"
    }
   ],
   "source": [
    "# Density Plot and Histogram \n",
    "from scipy import stats\n",
    "xmedian = np.median(BB2_BB3_USC1_USC3_Hmapped_dihedral_all)\n",
    "xmean = np.mean(BB2_BB3_USC1_USC3_Hmapped_dihedral_all)\n",
    "# xmode = stats.mode(BB2_BB3_Hmapped_distance_all)[0][0] #gives wrong value\n",
    "\n",
    "#raw data plot\n",
    "plt = sns.distplot(BB2_BB3_USC1_USC3_Hmapped_dihedral_all, kde=True, \n",
    "            color = 'white',norm_hist=False,\n",
    "             kde_kws={'linewidth': 1}\n",
    "             )\n",
    "\n",
    "x = plt.lines[0].get_xdata()\n",
    "y = plt.lines[0].get_ydata()\n",
    "maxid = np.argmax(y)\n",
    "xmode = x[maxid]\n",
    "\n",
    "\n",
    "\n",
    "\n",
    "# # #histogram plot + Density plot\n",
    "# import matplotlib.pyplot as plt\n",
    "# sns.displot(BB2_BB3_USC1_USC3_Hmapped_dihedral_all,bins=10)\n",
    "# \n",
    "# \n",
    "# \n",
    "\n",
    "#density plot\n",
    "import matplotlib.pyplot as plt\n",
    "ax = sns.kdeplot(BB2_BB3_USC1_USC3_Hmapped_dihedral_all)\n",
    "\n",
    "\n",
    "\n",
    "\n",
    "x = ax.lines[0].get_xdata()\n",
    "y = ax.lines[0].get_ydata()\n",
    "maxid = np.argmax(y)\n",
    "\n",
    "print(\"BB2_BB3_USC1_USC3_Hmapped_dihedral_all\")\n",
    "print(\"Mean: Raw data\",xmean)\n",
    "print(\"Mode: Raw data\",xmode)\n",
    "print(\"Mode: Gauss-fitted\",x[maxid])\n"
   ]
  },
  {
   "cell_type": "code",
   "execution_count": 167,
   "metadata": {},
   "outputs": [
    {
     "name": "stdout",
     "output_type": "stream",
     "text": [
      "parameter R_o is:  -169.7018923302299\n",
      "parameter K is:  0.9796188457754988\n"
     ]
    },
    {
     "data": {
      "image/png": "[encoded data removed]",
      "text/plain": [
       "<Figure size 432x288 with 1 Axes>"
      ]
     },
     "metadata": {
      "needs_background": "light"
     },
     "output_type": "display_data"
    }
   ],
   "source": [
    "def harmonic_proper_dihedral(theta, theta0, k):\n",
    "    n = 6\n",
    "    coslist = []\n",
    "    for t in theta:\n",
    "        coslist.append(math.cos(n*t - theta0))\n",
    "    final_coslist = np.array(coslist)\n",
    "    val =  k * (1 + final_coslist)\n",
    "    return val\n",
    "\n",
    "#get probability distribution from data\n",
    "plt2 = sns.kdeplot(BB2_BB3_USC1_USC3_Hmapped_dihedral_all)\n",
    "xdata = plt2.lines[0].get_xdata()\n",
    "ydata = plt2.lines[0].get_ydata()\n",
    "\n",
    "#calculate energy\n",
    "U = P2U(ydata)\n",
    "\n",
    "#code to deal with innifite energy\n",
    "if(U.max() == float('inf')):\n",
    "    U2 = U\n",
    "    t = np.sort(U2)[::-1]\n",
    "    for x in t:\n",
    "        if(x==float('inf')):\n",
    "            continue\n",
    "        else:\n",
    "            second_largest = x\n",
    "            break\n",
    "    U[U==float('inf')]=(second_largest * 2)\n",
    "else:\n",
    "    U[U==float('inf')]=(U.max() * 2)\n",
    "\n",
    "#plot enegy and density\n",
    "import matplotlib.pyplot as plt\n",
    "plt.plot(xdata,U,color='blue')\n",
    "\n",
    "# for i in range(0,xdata.shape[0]):\n",
    "params, pcov = curve_fit(harmonic_proper_dihedral, xdata,U,p0=[-170, 1000])\n",
    "print(\"parameter R_o is: \",params[0])\n",
    "print(\"parameter K is: \",params[1])\n",
    "# curve_fit(harmonic_angle, xdata[0], U, p0=[84, 1000])\n",
    "dihedral_parameters_dict['Parameter'].append('BB2_BB3_USC1_USC3')\n",
    "dihedral_parameters_dict['raw data mean value'].append(xmean)\n",
    "dihedral_parameters_dict['raw data mode value gaussian-fitted mode value'].append(x[maxid])\n",
    "dihedral_parameters_dict['Seed value obtained using BOltzmann inversion'].append(params[0])\n",
    "dihedral_parameters_dict['K from boltzmann inversion'].append(params[1])"
   ]
  },
  {
   "cell_type": "code",
   "execution_count": 168,
   "metadata": {},
   "outputs": [
    {
     "ename": "NameError",
     "evalue": "name 'BB1_BB2_BB3_GSC1_Hmapped_dihedral_all' is not defined",
     "output_type": "error",
     "traceback": [
      "\u001b[0;31m---------------------------------------------------------------------------\u001b[0m",
      "\u001b[0;31mNameError\u001b[0m                                 Traceback (most recent call last)",
      "\u001b[0;32m<ipython-input-168-abd1e8484b21>\u001b[0m in \u001b[0;36m<module>\u001b[0;34m\u001b[0m\n\u001b[1;32m      1\u001b[0m \u001b[0;31m# Density Plot and Histogram\u001b[0m\u001b[0;34m\u001b[0m\u001b[0;34m\u001b[0m\u001b[0;34m\u001b[0m\u001b[0m\n\u001b[1;32m      2\u001b[0m \u001b[0;32mfrom\u001b[0m \u001b[0mscipy\u001b[0m \u001b[0;32mimport\u001b[0m \u001b[0mstats\u001b[0m\u001b[0;34m\u001b[0m\u001b[0;34m\u001b[0m\u001b[0m\n\u001b[0;32m----> 3\u001b[0;31m \u001b[0mxmedian\u001b[0m \u001b[0;34m=\u001b[0m \u001b[0mnp\u001b[0m\u001b[0;34m.\u001b[0m\u001b[0mmedian\u001b[0m\u001b[0;34m(\u001b[0m\u001b[0mBB1_BB2_BB3_GSC1_Hmapped_dihedral_all\u001b[0m\u001b[0;34m)\u001b[0m\u001b[0;34m\u001b[0m\u001b[0;34m\u001b[0m\u001b[0m\n\u001b[0m\u001b[1;32m      4\u001b[0m \u001b[0mxmean\u001b[0m \u001b[0;34m=\u001b[0m \u001b[0mnp\u001b[0m\u001b[0;34m.\u001b[0m\u001b[0mmean\u001b[0m\u001b[0;34m(\u001b[0m\u001b[0mBB1_BB2_BB3_GSC1_Hmapped_dihedral_all\u001b[0m\u001b[0;34m)\u001b[0m\u001b[0;34m\u001b[0m\u001b[0;34m\u001b[0m\u001b[0m\n\u001b[1;32m      5\u001b[0m \u001b[0;31m# xmode = stats.mode(BB2_BB3_Hmapped_distance_all)[0][0] #gives wrong value\u001b[0m\u001b[0;34m\u001b[0m\u001b[0;34m\u001b[0m\u001b[0;34m\u001b[0m\u001b[0m\n",
      "\u001b[0;31mNameError\u001b[0m: name 'BB1_BB2_BB3_GSC1_Hmapped_dihedral_all' is not defined"
     ]
    }
   ],
   "source": [
    "# Density Plot and Histogram \n",
    "from scipy import stats\n",
    "xmedian = np.median(BB1_BB2_BB3_GSC1_Hmapped_dihedral_all)\n",
    "xmean = np.mean(BB1_BB2_BB3_GSC1_Hmapped_dihedral_all)\n",
    "# xmode = stats.mode(BB2_BB3_Hmapped_distance_all)[0][0] #gives wrong value\n",
    "\n",
    "#raw data plot\n",
    "plt = sns.distplot(BB1_BB2_BB3_GSC1_Hmapped_dihedral_all, kde=True, \n",
    "            color = 'white',norm_hist=False,\n",
    "             kde_kws={'linewidth': 1}\n",
    "             )\n",
    "\n",
    "x = plt.lines[0].get_xdata()\n",
    "y = plt.lines[0].get_ydata()\n",
    "maxid = np.argmax(y)\n",
    "xmode = x[maxid]\n",
    "\n",
    "\n",
    "\n",
    "\n",
    "# # #histogram plot + Density plot\n",
    "# import matplotlib.pyplot as plt\n",
    "# sns.displot(BB1_BB2_BB3_GSC1_Hmapped_dihedral_all,bins=10)\n",
    "# \n",
    "# \n",
    "# \n",
    "\n",
    "#density plot\n",
    "import matplotlib.pyplot as plt\n",
    "ax = sns.kdeplot(BB1_BB2_BB3_GSC1_Hmapped_dihedral_all,bw=0.5)\n",
    "\n",
    "\n",
    "\n",
    "\n",
    "x = ax.lines[0].get_xdata()\n",
    "y = ax.lines[0].get_ydata()\n",
    "maxid = np.argmax(y)\n",
    "\n",
    "print(\"BB1_BB2_BB3_GSC1_Hmapped_dihedral_all\")\n",
    "print(\"Mean: Raw data\",xmean)\n",
    "print(\"Mode: Raw data\",xmode)\n",
    "print(\"Mode: Gauss-fitted\",x[maxid])\n"
   ]
  },
  {
   "cell_type": "code",
   "execution_count": 169,
   "metadata": {},
   "outputs": [
    {
     "ename": "NameError",
     "evalue": "name 'BB1_BB2_BB3_GSC1_Hmapped_dihedral_all' is not defined",
     "output_type": "error",
     "traceback": [
      "\u001b[0;31m---------------------------------------------------------------------------\u001b[0m",
      "\u001b[0;31mNameError\u001b[0m                                 Traceback (most recent call last)",
      "\u001b[0;32m<ipython-input-169-1262180b2c14>\u001b[0m in \u001b[0;36m<module>\u001b[0;34m\u001b[0m\n\u001b[1;32m      9\u001b[0m \u001b[0;34m\u001b[0m\u001b[0m\n\u001b[1;32m     10\u001b[0m \u001b[0;31m#get probability distribution from data\u001b[0m\u001b[0;34m\u001b[0m\u001b[0;34m\u001b[0m\u001b[0;34m\u001b[0m\u001b[0m\n\u001b[0;32m---> 11\u001b[0;31m \u001b[0mplt2\u001b[0m \u001b[0;34m=\u001b[0m \u001b[0msns\u001b[0m\u001b[0;34m.\u001b[0m\u001b[0mkdeplot\u001b[0m\u001b[0;34m(\u001b[0m\u001b[0mBB1_BB2_BB3_GSC1_Hmapped_dihedral_all\u001b[0m\u001b[0;34m,\u001b[0m\u001b[0mbw\u001b[0m\u001b[0;34m=\u001b[0m\u001b[0;36m0.5\u001b[0m\u001b[0;34m)\u001b[0m\u001b[0;34m\u001b[0m\u001b[0;34m\u001b[0m\u001b[0m\n\u001b[0m\u001b[1;32m     12\u001b[0m \u001b[0mxdata\u001b[0m \u001b[0;34m=\u001b[0m \u001b[0mplt2\u001b[0m\u001b[0;34m.\u001b[0m\u001b[0mlines\u001b[0m\u001b[0;34m[\u001b[0m\u001b[0;36m0\u001b[0m\u001b[0;34m]\u001b[0m\u001b[0;34m.\u001b[0m\u001b[0mget_xdata\u001b[0m\u001b[0;34m(\u001b[0m\u001b[0;34m)\u001b[0m\u001b[0;34m\u001b[0m\u001b[0;34m\u001b[0m\u001b[0m\n\u001b[1;32m     13\u001b[0m \u001b[0mydata\u001b[0m \u001b[0;34m=\u001b[0m \u001b[0mplt2\u001b[0m\u001b[0;34m.\u001b[0m\u001b[0mlines\u001b[0m\u001b[0;34m[\u001b[0m\u001b[0;36m0\u001b[0m\u001b[0;34m]\u001b[0m\u001b[0;34m.\u001b[0m\u001b[0mget_ydata\u001b[0m\u001b[0;34m(\u001b[0m\u001b[0;34m)\u001b[0m\u001b[0;34m\u001b[0m\u001b[0;34m\u001b[0m\u001b[0m\n",
      "\u001b[0;31mNameError\u001b[0m: name 'BB1_BB2_BB3_GSC1_Hmapped_dihedral_all' is not defined"
     ]
    }
   ],
   "source": [
    "def harmonic_proper_dihedral(theta, theta0, k):\n",
    "    n = 2\n",
    "    coslist = []\n",
    "    for t in theta:\n",
    "        coslist.append(math.cos(n*t - theta0))\n",
    "    final_coslist = np.array(coslist)\n",
    "    val =  k * (1 + final_coslist)\n",
    "    return val\n",
    "\n",
    "#get probability distribution from data\n",
    "plt2 = sns.kdeplot(BB1_BB2_BB3_GSC1_Hmapped_dihedral_all,bw=0.5)\n",
    "xdata = plt2.lines[0].get_xdata()\n",
    "ydata = plt2.lines[0].get_ydata()\n",
    "\n",
    "#calculate energy\n",
    "U = P2U(ydata)\n",
    "#code to deal with innifite energy\n",
    "if(U.max() == float('inf')):\n",
    "    U2 = U\n",
    "    t = np.sort(U2)[::-1]\n",
    "    for x in t:\n",
    "        if(x==float('inf')):\n",
    "            continue\n",
    "        else:\n",
    "            second_largest = x\n",
    "            break\n",
    "    U[U==float('inf')]=(second_largest * 2)\n",
    "else:\n",
    "    U[U==float('inf')]=(U.max() * 2)\n",
    "\n",
    "#plot enegy and density\n",
    "import matplotlib.pyplot as plt\n",
    "plt.plot(xdata,U,color='green')\n",
    "\n",
    "# for i in range(0,xdata.shape[0]):\n",
    "params, pcov = curve_fit(harmonic_proper_dihedral, xdata,U,p0=[-140, 1000])\n",
    "print(\"parameter R_o is: \",params[0])\n",
    "print(\"parameter K is: \",params[1])\n",
    "# curve_fit(harmonic_angle, xdata[0], U, p0=[84, 1000])\n",
    "dihedral_parameters_dict['Parameter'].append('BB1_BB2_BB3_GSC1')\n",
    "dihedral_parameters_dict['raw data mean value'].append(xmean)\n",
    "dihedral_parameters_dict['raw data mode value gaussian-fitted mode value'].append(x[maxid])\n",
    "dihedral_parameters_dict['Seed value obtained using BOltzmann inversion'].append(params[0])\n",
    "dihedral_parameters_dict['K from boltzmann inversion'].append(params[1])"
   ]
  },
  {
   "cell_type": "code",
   "execution_count": 170,
   "metadata": {},
   "outputs": [
    {
     "name": "stderr",
     "output_type": "stream",
     "text": [
      "/home/subhasree/.local/lib/python3.6/site-packages/seaborn/distributions.py:2557: FutureWarning: `distplot` is a deprecated function and will be removed in a future version. Please adapt your code to use either `displot` (a figure-level function with similar flexibility) or `histplot` (an axes-level function for histograms).\n",
      "  warnings.warn(msg, FutureWarning)\n"
     ]
    },
    {
     "name": "stdout",
     "output_type": "stream",
     "text": [
      "second mode: 43.246315727799086\n",
      "third mode: 100.14898949579724\n",
      "BB2_BB3_GSC1_GSC2_Hmapped_dihedral_all\n",
      "Mean: Raw data 46.425363636363635\n",
      "Mode: Raw data 43.246315727799086\n",
      "Mode: Gauss-fitted 43.246315727799086\n"
     ]
    },
    {
     "data": {
      "image/png": "[encoded data removed]",
      "text/plain": [
       "<Figure size 432x288 with 1 Axes>"
      ]
     },
     "metadata": {
      "needs_background": "light"
     },
     "output_type": "display_data"
    }
   ],
   "source": [
    "# Density Plot and Histogram \n",
    "from scipy import stats\n",
    "xmedian = np.median(BB2_BB3_GSC1_GSC2_Hmapped_dihedral_all)\n",
    "xmean = np.mean(BB2_BB3_GSC1_GSC2_Hmapped_dihedral_all)\n",
    "# xmode = stats.mode(BB2_BB3_Hmapped_distance_all)[0][0] #gives wrong value\n",
    "\n",
    "#raw data plot\n",
    "plt = sns.distplot(BB2_BB3_GSC1_GSC2_Hmapped_dihedral_all, kde=True, \n",
    "            color = 'white',norm_hist=False,\n",
    "             kde_kws={'linewidth': 1}\n",
    "             )\n",
    "\n",
    "x = plt.lines[0].get_xdata()\n",
    "y = plt.lines[0].get_ydata()\n",
    "maxid = np.argmax(y)\n",
    "xmode = x[maxid]\n",
    "\n",
    "\n",
    "\n",
    "\n",
    "#script for multimodal graphs\n",
    "x_new = []\n",
    "y_new = []\n",
    "for item in x:\n",
    "    if(item>0 and item<100):\n",
    "        id = list(x).index(item)\n",
    "        x_new.append(x[id])\n",
    "        y_new.append(y[id])\n",
    "#check the mode in the new partition:\n",
    "print(\"second mode:\",x_new[np.argmax(y_new)])\n",
    "\n",
    "#script for multimodal graphs\n",
    "x_new = []\n",
    "y_new = []\n",
    "for item in x:\n",
    "    if(item>100 and item<200):\n",
    "        id = list(x).index(item)\n",
    "        x_new.append(x[id])\n",
    "        y_new.append(y[id])\n",
    "#check the mode in the new partition:\n",
    "print(\"third mode:\",x_new[np.argmax(y_new)])\n",
    "\n",
    "# # #histogram plot + Density plot\n",
    "# import matplotlib.pyplot as plt\n",
    "# sns.displot(BB2_BB3_GSC1_GSC2_Hmapped_dihedral_all,bins=10)\n",
    "# \n",
    "# \n",
    "# \n",
    "\n",
    "#density plot\n",
    "import matplotlib.pyplot as plt\n",
    "ax = sns.kdeplot(BB2_BB3_GSC1_GSC2_Hmapped_dihedral_all)\n",
    "\n",
    "\n",
    "\n",
    "\n",
    "x = ax.lines[0].get_xdata()\n",
    "y = ax.lines[0].get_ydata()\n",
    "maxid = np.argmax(y)\n",
    "\n",
    "print(\"BB2_BB3_GSC1_GSC2_Hmapped_dihedral_all\")\n",
    "print(\"Mean: Raw data\",xmean)\n",
    "print(\"Mode: Raw data\",xmode)\n",
    "print(\"Mode: Gauss-fitted\",x[maxid])\n"
   ]
  },
  {
   "cell_type": "code",
   "execution_count": 171,
   "metadata": {},
   "outputs": [
    {
     "name": "stdout",
     "output_type": "stream",
     "text": [
      "parameter R_o is:  43.13562669242991\n",
      "parameter K is:  0.9826664452023477\n"
     ]
    },
    {
     "data": {
      "image/png": "[encoded data removed]",
      "text/plain": [
       "<Figure size 432x288 with 1 Axes>"
      ]
     },
     "metadata": {
      "needs_background": "light"
     },
     "output_type": "display_data"
    }
   ],
   "source": [
    "def harmonic_proper_dihedral(theta, theta0, k):\n",
    "    n = 1\n",
    "    coslist = []\n",
    "    for t in theta:\n",
    "        coslist.append(math.cos(n*t - theta0))\n",
    "    final_coslist = np.array(coslist)\n",
    "    val =  k * (1 + final_coslist)\n",
    "    return val\n",
    "\n",
    "#get probability distribution from data\n",
    "plt2 = sns.kdeplot(BB2_BB3_GSC1_GSC2_Hmapped_dihedral_all)\n",
    "xdata = plt2.lines[0].get_xdata()\n",
    "ydata = plt2.lines[0].get_ydata()\n",
    "\n",
    "#calculate energy\n",
    "U = P2U(ydata)\n",
    "#code to deal with innifite energy\n",
    "if(U.max() == float('inf')):\n",
    "    U2 = U\n",
    "    t = np.sort(U2)[::-1]\n",
    "    for x in t:\n",
    "        if(x==float('inf')):\n",
    "            continue\n",
    "        else:\n",
    "            second_largest = x\n",
    "            break\n",
    "    U[U==float('inf')]=(second_largest * 2)\n",
    "else:\n",
    "    U[U==float('inf')]=(U.max() * 2)\n",
    "\n",
    "#plot enegy and density\n",
    "import matplotlib.pyplot as plt\n",
    "plt.plot(xdata,U,color='green')\n",
    "\n",
    "# for i in range(0,xdata.shape[0]):\n",
    "params, pcov = curve_fit(harmonic_proper_dihedral, xdata,U,p0=[43, 1000])\n",
    "print(\"parameter R_o is: \",params[0])\n",
    "print(\"parameter K is: \",params[1])\n",
    "# curve_fit(harmonic_angle, xdata[0], U, p0=[84, 1000])\n",
    "dihedral_parameters_dict['Parameter'].append('BB2_BB3_GSC1_GSC2')\n",
    "dihedral_parameters_dict['raw data mean value'].append(xmean)\n",
    "dihedral_parameters_dict['raw data mode value gaussian-fitted mode value'].append(x[maxid])\n",
    "dihedral_parameters_dict['Seed value obtained using BOltzmann inversion'].append(params[0])\n",
    "dihedral_parameters_dict['K from boltzmann inversion'].append(params[1])"
   ]
  },
  {
   "cell_type": "code",
   "execution_count": 172,
   "metadata": {},
   "outputs": [
    {
     "name": "stderr",
     "output_type": "stream",
     "text": [
      "/home/subhasree/.local/lib/python3.6/site-packages/seaborn/distributions.py:2557: FutureWarning: `distplot` is a deprecated function and will be removed in a future version. Please adapt your code to use either `displot` (a figure-level function with similar flexibility) or `histplot` (an axes-level function for histograms).\n",
      "  warnings.warn(msg, FutureWarning)\n",
      "/home/subhasree/.local/lib/python3.6/site-packages/seaborn/distributions.py:1657: FutureWarning: The `bw` parameter is deprecated in favor of `bw_method` and `bw_adjust`. Using 0.7 for `bw_method`, but please see the docs for the new parameters and update your code.\n",
      "  warnings.warn(msg, FutureWarning)\n"
     ]
    },
    {
     "name": "stdout",
     "output_type": "stream",
     "text": [
      "second mode: -0.001622907937294027\n",
      "third mode: 0.05691552980035297\n",
      "BB2_BB3_GSC1_GSC4_Hmapped_dihedral_all\n",
      "Mean: Raw data 0.271\n",
      "Mode: Raw data 0.05691552980035297\n",
      "Mode: Gauss-fitted 0.05691552980035297\n"
     ]
    },
    {
     "data": {
      "image/png": "[encoded data removed]",
      "text/plain": [
       "<Figure size 432x288 with 1 Axes>"
      ]
     },
     "metadata": {
      "needs_background": "light"
     },
     "output_type": "display_data"
    }
   ],
   "source": [
    "# Density Plot and Histogram \n",
    "from scipy import stats\n",
    "xmedian = np.median(BB2_BB3_GSC1_GSC4_Hmapped_dihedral_all)\n",
    "xmean = np.mean(BB2_BB3_GSC1_GSC4_Hmapped_dihedral_all)\n",
    "# xmode = stats.mode(BB2_BB3_Hmapped_distance_all)[0][0] #gives wrong value\n",
    "\n",
    "#raw data plot\n",
    "plt = sns.distplot(BB2_BB3_GSC1_GSC4_Hmapped_dihedral_all, kde=True, \n",
    "            color = 'white',norm_hist=False,\n",
    "             kde_kws={'linewidth': 1}\n",
    "             )\n",
    "\n",
    "x = plt.lines[0].get_xdata()\n",
    "y = plt.lines[0].get_ydata()\n",
    "maxid = np.argmax(y)\n",
    "xmode = x[maxid]\n",
    "\n",
    "\n",
    "\n",
    "\n",
    "#script for multimodal graphs\n",
    "x_new = []\n",
    "y_new = []\n",
    "for item in x:\n",
    "    if(item>-200 and item<0):\n",
    "        id = list(x).index(item)\n",
    "        x_new.append(x[id])\n",
    "        y_new.append(y[id])\n",
    "#check the mode in the new partition:\n",
    "print(\"second mode:\",x_new[np.argmax(y_new)])\n",
    "\n",
    "#script for multimodal graphs\n",
    "x_new = []\n",
    "y_new = []\n",
    "for item in x:\n",
    "    if(item>0 and item<200):\n",
    "        id = list(x).index(item)\n",
    "        x_new.append(x[id])\n",
    "        y_new.append(y[id])\n",
    "#check the mode in the new partition:\n",
    "print(\"third mode:\",x_new[np.argmax(y_new)])\n",
    "\n",
    "# # #histogram plot + Density plot\n",
    "# import matplotlib.pyplot as plt\n",
    "# sns.displot(BB2_BB3_GSC1_GSC4_Hmapped_dihedral_all,bins=10)\n",
    "# \n",
    "# \n",
    "# \n",
    "\n",
    "#density plot\n",
    "import matplotlib.pyplot as plt\n",
    "ax = sns.kdeplot(BB2_BB3_GSC1_GSC4_Hmapped_dihedral_all,bw=0.7)\n",
    "\n",
    "\n",
    "\n",
    "\n",
    "x = ax.lines[0].get_xdata()\n",
    "y = ax.lines[0].get_ydata()\n",
    "maxid = np.argmax(y)\n",
    "\n",
    "print(\"BB2_BB3_GSC1_GSC4_Hmapped_dihedral_all\")\n",
    "print(\"Mean: Raw data\",xmean)\n",
    "print(\"Mode: Raw data\",xmode)\n",
    "print(\"Mode: Gauss-fitted\",x[maxid])\n"
   ]
  },
  {
   "cell_type": "code",
   "execution_count": 173,
   "metadata": {},
   "outputs": [
    {
     "data": {
      "text/plain": [
       "0     133.656\n",
       "1     136.943\n",
       "2     133.656\n",
       "3     141.792\n",
       "4     127.279\n",
       "5     127.646\n",
       "6     134.536\n",
       "7     129.926\n",
       "8     133.115\n",
       "9     135.328\n",
       "10    129.094\n",
       "Name: BB2_BB3_CSC1_CSC2, dtype: float64"
      ]
     },
     "execution_count": 173,
     "metadata": {},
     "output_type": "execute_result"
    }
   ],
   "source": [
    "BB2_BB3_CSC1_CSC2_Hmapped_dihedral_all"
   ]
  },
  {
   "cell_type": "code",
   "execution_count": 174,
   "metadata": {},
   "outputs": [
    {
     "name": "stdout",
     "output_type": "stream",
     "text": [
      "parameter R_o is:  -2.479039775418748\n",
      "parameter K is:  1.3553609487974287\n"
     ]
    },
    {
     "name": "stderr",
     "output_type": "stream",
     "text": [
      "/home/subhasree/.local/lib/python3.6/site-packages/seaborn/distributions.py:1657: FutureWarning: The `bw` parameter is deprecated in favor of `bw_method` and `bw_adjust`. Using 0.7 for `bw_method`, but please see the docs for the new parameters and update your code.\n",
      "  warnings.warn(msg, FutureWarning)\n"
     ]
    },
    {
     "data": {
      "image/png": "[encoded data removed]",
      "text/plain": [
       "<Figure size 432x288 with 1 Axes>"
      ]
     },
     "metadata": {
      "needs_background": "light"
     },
     "output_type": "display_data"
    }
   ],
   "source": [
    "def harmonic_proper_dihedral(theta, theta0, k):\n",
    "    n = 2\n",
    "    coslist = []\n",
    "    for t in theta:\n",
    "        coslist.append(math.cos(n*t - theta0))\n",
    "    final_coslist = np.array(coslist)\n",
    "    val =  k * (1 + final_coslist)\n",
    "    return val\n",
    "\n",
    "#get probability distribution from data\n",
    "plt2 = sns.kdeplot(BB2_BB3_GSC1_GSC4_Hmapped_dihedral_all,bw=0.7)\n",
    "xdata = plt2.lines[0].get_xdata()\n",
    "ydata = plt2.lines[0].get_ydata()\n",
    "\n",
    "#calculate energy\n",
    "U = P2U(ydata)\n",
    "#code to deal with innifite energy\n",
    "if(U.max() == float('inf')):\n",
    "    U2 = U\n",
    "    t = np.sort(U2)[::-1]\n",
    "    for x in t:\n",
    "        if(x==float('inf')):\n",
    "            continue\n",
    "        else:\n",
    "            second_largest = x\n",
    "            break\n",
    "    U[U==float('inf')]=(second_largest * 2)\n",
    "else:\n",
    "    U[U==float('inf')]=(U.max() * 2)\n",
    "\n",
    "#plot enegy and density\n",
    "import matplotlib.pyplot as plt\n",
    "plt.plot(xdata,U,color='green')\n",
    "\n",
    "# for i in range(0,xdata.shape[0]):\n",
    "params, pcov = curve_fit(harmonic_proper_dihedral, xdata,U,p0=[0, 50000])\n",
    "print(\"parameter R_o is: \",params[0])\n",
    "print(\"parameter K is: \",params[1])\n",
    "# curve_fit(harmonic_angle, xdata[0], U, p0=[84, 1000])\n",
    "dihedral_parameters_dict['Parameter'].append('BB2_BB3_GSC1_GSC4')\n",
    "dihedral_parameters_dict['raw data mean value'].append(xmean)\n",
    "dihedral_parameters_dict['raw data mode value gaussian-fitted mode value'].append(x[maxid])\n",
    "dihedral_parameters_dict['Seed value obtained using BOltzmann inversion'].append(params[0])\n",
    "dihedral_parameters_dict['K from boltzmann inversion'].append(params[1])"
   ]
  },
  {
   "cell_type": "code",
   "execution_count": 175,
   "metadata": {},
   "outputs": [
    {
     "name": "stderr",
     "output_type": "stream",
     "text": [
      "/home/subhasree/.local/lib/python3.6/site-packages/seaborn/distributions.py:2557: FutureWarning: `distplot` is a deprecated function and will be removed in a future version. Please adapt your code to use either `displot` (a figure-level function with similar flexibility) or `histplot` (an axes-level function for histograms).\n",
      "  warnings.warn(msg, FutureWarning)\n",
      "/home/subhasree/.local/lib/python3.6/site-packages/seaborn/distributions.py:1657: FutureWarning: The `bw` parameter is deprecated in favor of `bw_method` and `bw_adjust`. Using 0.5 for `bw_method`, but please see the docs for the new parameters and update your code.\n",
      "  warnings.warn(msg, FutureWarning)\n"
     ]
    },
    {
     "name": "stdout",
     "output_type": "stream",
     "text": [
      "GSC1_GSC2_GSC3_GSC4_Hmapped_dihedral_all\n",
      "Mean: Raw data -88.16736363636363\n",
      "Mode: Raw data -87.05486684622815\n",
      "Mode: Gauss-fitted -87.05486684622815\n"
     ]
    },
    {
     "data": {
      "image/png": "[encoded data removed]",
      "text/plain": [
       "<Figure size 432x288 with 1 Axes>"
      ]
     },
     "metadata": {
      "needs_background": "light"
     },
     "output_type": "display_data"
    }
   ],
   "source": [
    "# Density Plot and Histogram \n",
    "from scipy import stats\n",
    "xmedian = np.median(GSC1_GSC2_GSC3_GSC4_Hmapped_dihedral_all)\n",
    "xmean = np.mean(GSC1_GSC2_GSC3_GSC4_Hmapped_dihedral_all)\n",
    "# xmode = stats.mode(BB2_BB3_Hmapped_distance_all)[0][0] #gives wrong value\n",
    "\n",
    "# #raw data plot\n",
    "plt = sns.distplot(GSC1_GSC2_GSC3_GSC4_Hmapped_dihedral_all, kde=True, \n",
    "            color = 'white',norm_hist=False,\n",
    "             kde_kws={'linewidth': 1}\n",
    "             )\n",
    "\n",
    "x = plt.lines[0].get_xdata()\n",
    "y = plt.lines[0].get_ydata()\n",
    "maxid = np.argmax(y)\n",
    "xmode = x[maxid]\n",
    "\n",
    "\n",
    "\n",
    "\n",
    "# # #histogram plot + Density plot\n",
    "# import matplotlib.pyplot as plt\n",
    "# sns.displot(GSC1_GSC2_GSC3_GSC4_Hmapped_dihedral_all,bins=10)\n",
    "# \n",
    "# \n",
    "# \n",
    "\n",
    "#density plot\n",
    "import matplotlib.pyplot as plt\n",
    "ax = sns.kdeplot(GSC1_GSC2_GSC3_GSC4_Hmapped_dihedral_all,bw=0.5)\n",
    "\n",
    "\n",
    "\n",
    "\n",
    "x = ax.lines[0].get_xdata()\n",
    "y = ax.lines[0].get_ydata()\n",
    "maxid = np.argmax(y)\n",
    "\n",
    "print(\"GSC1_GSC2_GSC3_GSC4_Hmapped_dihedral_all\")\n",
    "print(\"Mean: Raw data\",xmean)\n",
    "print(\"Mode: Raw data\",xmode)\n",
    "print(\"Mode: Gauss-fitted\",x[maxid])\n"
   ]
  },
  {
   "cell_type": "code",
   "execution_count": 176,
   "metadata": {},
   "outputs": [
    {
     "name": "stderr",
     "output_type": "stream",
     "text": [
      "/home/subhasree/.local/lib/python3.6/site-packages/seaborn/distributions.py:1657: FutureWarning: The `bw` parameter is deprecated in favor of `bw_method` and `bw_adjust`. Using 0.5 for `bw_method`, but please see the docs for the new parameters and update your code.\n",
      "  warnings.warn(msg, FutureWarning)\n"
     ]
    },
    {
     "name": "stdout",
     "output_type": "stream",
     "text": [
      "parameter R_o is:  -85.44003041443328\n",
      "parameter K is:  0.7444482069518706\n"
     ]
    },
    {
     "data": {
      "image/png": "[encoded data removed]",
      "text/plain": [
       "<Figure size 432x288 with 1 Axes>"
      ]
     },
     "metadata": {
      "needs_background": "light"
     },
     "output_type": "display_data"
    }
   ],
   "source": [
    "def harmonic_proper_dihedral(theta, theta0, k):\n",
    "    n = 1\n",
    "    coslist = []\n",
    "    for t in theta:\n",
    "        coslist.append(math.cos(n*t - theta0))\n",
    "    final_coslist = np.array(coslist)\n",
    "    val =  k * (1 + final_coslist)\n",
    "    return val\n",
    "\n",
    "#get probability distribution from data\n",
    "plt2 = sns.kdeplot(GSC1_GSC2_GSC3_GSC4_Hmapped_dihedral_all,bw=0.5)\n",
    "xdata = plt2.lines[0].get_xdata()\n",
    "ydata = plt2.lines[0].get_ydata()\n",
    "\n",
    "#calculate energy\n",
    "U = P2U(ydata)\n",
    "#code to deal with innifite energy\n",
    "if(U.max() == float('inf')):\n",
    "    U2 = U\n",
    "    t = np.sort(U2)[::-1]\n",
    "    for x in t:\n",
    "        if(x==float('inf')):\n",
    "            continue\n",
    "        else:\n",
    "            second_largest = x\n",
    "            break\n",
    "    U[U==float('inf')]=(second_largest * 2)\n",
    "else:\n",
    "    U[U==float('inf')]=(U.max() * 2)\n",
    "\n",
    "#plot enegy and density\n",
    "import matplotlib.pyplot as plt\n",
    "plt.plot(xdata,U,color='green')\n",
    "\n",
    "# for i in range(0,xdata.shape[0]):\n",
    "params, pcov = curve_fit(harmonic_proper_dihedral, xdata,U,p0=[-87, 1000])\n",
    "print(\"parameter R_o is: \",params[0])\n",
    "print(\"parameter K is: \",params[1])\n",
    "# curve_fit(harmonic_angle, xdata[0], U, p0=[84, 1000])\n",
    "dihedral_parameters_dict['Parameter'].append('GSC1_GSC2_GSC3_GSC4')\n",
    "dihedral_parameters_dict['raw data mean value'].append(xmean)\n",
    "dihedral_parameters_dict['raw data mode value gaussian-fitted mode value'].append(x[maxid])\n",
    "dihedral_parameters_dict['Seed value obtained using BOltzmann inversion'].append(params[0])\n",
    "dihedral_parameters_dict['K from boltzmann inversion'].append(params[1])"
   ]
  },
  {
   "cell_type": "code",
   "execution_count": 177,
   "metadata": {},
   "outputs": [
    {
     "name": "stderr",
     "output_type": "stream",
     "text": [
      "/home/subhasree/.local/lib/python3.6/site-packages/seaborn/distributions.py:2557: FutureWarning: `distplot` is a deprecated function and will be removed in a future version. Please adapt your code to use either `displot` (a figure-level function with similar flexibility) or `histplot` (an axes-level function for histograms).\n",
      "  warnings.warn(msg, FutureWarning)\n",
      "/home/subhasree/.local/lib/python3.6/site-packages/seaborn/distributions.py:1657: FutureWarning: The `bw` parameter is deprecated in favor of `bw_method` and `bw_adjust`. Using 0.5 for `bw_method`, but please see the docs for the new parameters and update your code.\n",
      "  warnings.warn(msg, FutureWarning)\n"
     ]
    },
    {
     "name": "stdout",
     "output_type": "stream",
     "text": [
      "BB1_BB2_BB3_CSC1_Hmapped_dihedral_all\n",
      "Mean: Raw data -165.2260909090909\n",
      "Mode: Raw data -166.25474044294063\n",
      "Mode: Gauss-fitted -166.25474044294063\n"
     ]
    },
    {
     "data": {
      "image/png": "[encoded data removed]",
      "text/plain": [
       "<Figure size 432x288 with 1 Axes>"
      ]
     },
     "metadata": {
      "needs_background": "light"
     },
     "output_type": "display_data"
    }
   ],
   "source": [
    "# Density Plot and Histogram \n",
    "from scipy import stats\n",
    "xmedian = np.median(BB1_BB2_BB3_CSC1_Hmapped_dihedral_all)\n",
    "xmean = np.mean(BB1_BB2_BB3_CSC1_Hmapped_dihedral_all)\n",
    "# xmode = stats.mode(BB2_BB3_Hmapped_distance_all)[0][0] #gives wrong value\n",
    "\n",
    "#raw data plot\n",
    "plt = sns.distplot(BB1_BB2_BB3_CSC1_Hmapped_dihedral_all, kde=True, \n",
    "            color = 'white',norm_hist=False,\n",
    "             kde_kws={'linewidth': 1}\n",
    "             )\n",
    "\n",
    "x = plt.lines[0].get_xdata()\n",
    "y = plt.lines[0].get_ydata()\n",
    "maxid = np.argmax(y)\n",
    "xmode = x[maxid]\n",
    "\n",
    "\n",
    "\n",
    "\n",
    "# # #histogram plot + Density plot\n",
    "# import matplotlib.pyplot as plt\n",
    "# sns.displot(BB1_BB2_BB3_CSC1_Hmapped_dihedral_all,bins=10)\n",
    "# \n",
    "# \n",
    "# \n",
    "\n",
    "#density plot\n",
    "import matplotlib.pyplot as plt\n",
    "ax = sns.kdeplot(BB1_BB2_BB3_CSC1_Hmapped_dihedral_all,bw=0.5)\n",
    "\n",
    "\n",
    "\n",
    "\n",
    "x = ax.lines[0].get_xdata()\n",
    "y = ax.lines[0].get_ydata()\n",
    "maxid = np.argmax(y)\n",
    "\n",
    "print(\"BB1_BB2_BB3_CSC1_Hmapped_dihedral_all\")\n",
    "print(\"Mean: Raw data\",xmean)\n",
    "print(\"Mode: Raw data\",xmode)\n",
    "print(\"Mode: Gauss-fitted\",x[maxid])\n"
   ]
  },
  {
   "cell_type": "code",
   "execution_count": null,
   "metadata": {},
   "outputs": [],
   "source": []
  },
  {
   "cell_type": "markdown",
   "metadata": {},
   "source": [
    "## "
   ]
  },
  {
   "cell_type": "code",
   "execution_count": 178,
   "metadata": {},
   "outputs": [
    {
     "name": "stderr",
     "output_type": "stream",
     "text": [
      "/home/subhasree/.local/lib/python3.6/site-packages/seaborn/distributions.py:1657: FutureWarning: The `bw` parameter is deprecated in favor of `bw_method` and `bw_adjust`. Using 0.5 for `bw_method`, but please see the docs for the new parameters and update your code.\n",
      "  warnings.warn(msg, FutureWarning)\n"
     ]
    },
    {
     "name": "stdout",
     "output_type": "stream",
     "text": [
      "parameter R_o is:  -164.32949707673242\n",
      "parameter K is:  0.8594094051237097\n"
     ]
    },
    {
     "data": {
      "image/png": "[encoded data removed]",
      "text/plain": [
       "<Figure size 432x288 with 1 Axes>"
      ]
     },
     "metadata": {
      "needs_background": "light"
     },
     "output_type": "display_data"
    }
   ],
   "source": [
    "def harmonic_proper_dihedral(theta, theta0, k):\n",
    "    n = 2\n",
    "    coslist = []\n",
    "    for t in theta:\n",
    "        coslist.append(math.cos(n*t - theta0))\n",
    "    final_coslist = np.array(coslist)\n",
    "    val =  k * (1 + final_coslist)\n",
    "    return val\n",
    "\n",
    "#get probability distribution from data\n",
    "plt2 = sns.kdeplot(BB1_BB2_BB3_CSC1_Hmapped_dihedral_all,bw=0.5)\n",
    "xdata = plt2.lines[0].get_xdata()\n",
    "ydata = plt2.lines[0].get_ydata()\n",
    "\n",
    "#calculate energy\n",
    "U = P2U(ydata)\n",
    "#code to deal with innifite energy\n",
    "if(U.max() == float('inf')):\n",
    "    U2 = U\n",
    "    t = np.sort(U2)[::-1]\n",
    "    for x in t:\n",
    "        if(x==float('inf')):\n",
    "            continue\n",
    "        else:\n",
    "            second_largest = x\n",
    "            break\n",
    "    U[U==float('inf')]=(second_largest * 2)\n",
    "else:\n",
    "    U[U==float('inf')]=(U.max() * 2)\n",
    "\n",
    "#plot enegy and density\n",
    "import matplotlib.pyplot as plt\n",
    "plt.plot(xdata,U,color='magenta')\n",
    "\n",
    "# for i in range(0,xdata.shape[0]):\n",
    "params, pcov = curve_fit(harmonic_proper_dihedral, xdata,U,p0=[-166, 1000])\n",
    "print(\"parameter R_o is: \",params[0])\n",
    "print(\"parameter K is: \",params[1])\n",
    "# curve_fit(harmonic_angle, xdata[0], U, p0=[84, 1000])\n",
    "dihedral_parameters_dict['Parameter'].append('BB1_BB2_BB3_CSC1')\n",
    "dihedral_parameters_dict['raw data mean value'].append(xmean)\n",
    "dihedral_parameters_dict['raw data mode value gaussian-fitted mode value'].append(x[maxid])\n",
    "dihedral_parameters_dict['Seed value obtained using BOltzmann inversion'].append(params[0])\n",
    "dihedral_parameters_dict['K from boltzmann inversion'].append(params[1])"
   ]
  },
  {
   "cell_type": "code",
   "execution_count": 179,
   "metadata": {},
   "outputs": [
    {
     "name": "stderr",
     "output_type": "stream",
     "text": [
      "/home/subhasree/.local/lib/python3.6/site-packages/seaborn/distributions.py:2557: FutureWarning: `distplot` is a deprecated function and will be removed in a future version. Please adapt your code to use either `displot` (a figure-level function with similar flexibility) or `histplot` (an axes-level function for histograms).\n",
      "  warnings.warn(msg, FutureWarning)\n",
      "/home/subhasree/.local/lib/python3.6/site-packages/seaborn/distributions.py:1657: FutureWarning: The `bw` parameter is deprecated in favor of `bw_method` and `bw_adjust`. Using 0.5 for `bw_method`, but please see the docs for the new parameters and update your code.\n",
      "  warnings.warn(msg, FutureWarning)\n"
     ]
    },
    {
     "name": "stdout",
     "output_type": "stream",
     "text": [
      "BB2_BB3_CSC1_CSC2_Hmapped_dihedral_all\n",
      "Mean: Raw data 132.99736363636364\n",
      "Mode: Raw data 133.68975614480337\n",
      "Mode: Gauss-fitted 133.68975614480337\n"
     ]
    },
    {
     "data": {
      "image/png": "[encoded data removed]",
      "text/plain": [
       "<Figure size 432x288 with 1 Axes>"
      ]
     },
     "metadata": {
      "needs_background": "light"
     },
     "output_type": "display_data"
    }
   ],
   "source": [
    "# Density Plot and Histogram \n",
    "from scipy import stats\n",
    "xmedian = np.median(BB2_BB3_CSC1_CSC2_Hmapped_dihedral_all)\n",
    "xmean = np.mean(BB2_BB3_CSC1_CSC2_Hmapped_dihedral_all)\n",
    "# xmode = stats.mode(BB2_BB3_Hmapped_distance_all)[0][0] #gives wrong value\n",
    "\n",
    "#raw data plot\n",
    "plt = sns.distplot(BB2_BB3_CSC1_CSC2_Hmapped_dihedral_all, kde=True, \n",
    "            color = 'white',norm_hist=False,\n",
    "             kde_kws={'linewidth': 1}\n",
    "             )\n",
    "\n",
    "x = plt.lines[0].get_xdata()\n",
    "y = plt.lines[0].get_ydata()\n",
    "maxid = np.argmax(y)\n",
    "xmode = x[maxid]\n",
    "\n",
    "\n",
    "\n",
    "\n",
    "# # #histogram plot + Density plot\n",
    "# import matplotlib.pyplot as plt\n",
    "# sns.displot(BB2_BB3_CSC1_CSC2_Hmapped_dihedral_all,bins=10)\n",
    "# \n",
    "# \n",
    "# \n",
    "\n",
    "#density plot\n",
    "import matplotlib.pyplot as plt\n",
    "ax = sns.kdeplot(BB2_BB3_CSC1_CSC2_Hmapped_dihedral_all,bw=0.5)\n",
    "\n",
    "\n",
    "\n",
    "\n",
    "x = ax.lines[0].get_xdata()\n",
    "y = ax.lines[0].get_ydata()\n",
    "maxid = np.argmax(y)\n",
    "\n",
    "print(\"BB2_BB3_CSC1_CSC2_Hmapped_dihedral_all\")\n",
    "print(\"Mean: Raw data\",xmean)\n",
    "print(\"Mode: Raw data\",xmode)\n",
    "print(\"Mode: Gauss-fitted\",x[maxid])\n"
   ]
  },
  {
   "cell_type": "code",
   "execution_count": 180,
   "metadata": {},
   "outputs": [
    {
     "name": "stderr",
     "output_type": "stream",
     "text": [
      "/home/subhasree/.local/lib/python3.6/site-packages/seaborn/distributions.py:1657: FutureWarning: The `bw` parameter is deprecated in favor of `bw_method` and `bw_adjust`. Using 0.5 for `bw_method`, but please see the docs for the new parameters and update your code.\n",
      "  warnings.warn(msg, FutureWarning)\n"
     ]
    },
    {
     "name": "stdout",
     "output_type": "stream",
     "text": [
      "parameter R_o is:  134.89157549255054\n",
      "parameter K is:  0.6622113359850403\n"
     ]
    },
    {
     "data": {
      "image/png": "[encoded data removed]",
      "text/plain": [
       "<Figure size 432x288 with 1 Axes>"
      ]
     },
     "metadata": {
      "needs_background": "light"
     },
     "output_type": "display_data"
    }
   ],
   "source": [
    "def harmonic_proper_dihedral(theta, theta0, k):\n",
    "    n = 6\n",
    "    coslist = []\n",
    "    for t in theta:\n",
    "        coslist.append(math.cos(n*t - theta0))\n",
    "    final_coslist = np.array(coslist)\n",
    "    val =  k * (1 + final_coslist)\n",
    "    return val\n",
    "\n",
    "#get probability distribution from data\n",
    "plt2 = sns.kdeplot(BB2_BB3_CSC1_CSC2_Hmapped_dihedral_all,bw=0.5)\n",
    "xdata = plt2.lines[0].get_xdata()\n",
    "ydata = plt2.lines[0].get_ydata()\n",
    "\n",
    "#calculate energy\n",
    "U = P2U(ydata)\n",
    "#code to deal with innifite energy\n",
    "if(U.max() == float('inf')):\n",
    "    U2 = U\n",
    "    t = np.sort(U2)[::-1]\n",
    "    for x in t:\n",
    "        if(x==float('inf')):\n",
    "            continue\n",
    "        else:\n",
    "            second_largest = x\n",
    "            break\n",
    "    U[U==float('inf')]=(second_largest * 2)\n",
    "else:\n",
    "    U[U==float('inf')]=(U.max() * 2)\n",
    "\n",
    "#plot enegy and density\n",
    "import matplotlib.pyplot as plt\n",
    "plt.plot(xdata,U,color='magenta')\n",
    "\n",
    "# for i in range(0,xdata.shape[0]):\n",
    "params, pcov = curve_fit(harmonic_proper_dihedral, xdata,U,p0=[133, 1000])\n",
    "print(\"parameter R_o is: \",params[0])\n",
    "print(\"parameter K is: \",params[1])\n",
    "# curve_fit(harmonic_angle, xdata[0], U, p0=[84, 1000])\n",
    "dihedral_parameters_dict['Parameter'].append('BB2_BB3_CSC1_CSC2')\n",
    "dihedral_parameters_dict['raw data mean value'].append(xmean)\n",
    "dihedral_parameters_dict['raw data mode value gaussian-fitted mode value'].append(x[maxid])\n",
    "dihedral_parameters_dict['Seed value obtained using BOltzmann inversion'].append(params[0])\n",
    "dihedral_parameters_dict['K from boltzmann inversion'].append(params[1])"
   ]
  },
  {
   "cell_type": "code",
   "execution_count": 181,
   "metadata": {},
   "outputs": [
    {
     "data": {
      "text/plain": [
       "0    NaN\n",
       "1    NaN\n",
       "2    NaN\n",
       "3    NaN\n",
       "4    NaN\n",
       "5    NaN\n",
       "6    NaN\n",
       "7    NaN\n",
       "8    NaN\n",
       "9    NaN\n",
       "10   NaN\n",
       "Name: BB2_BB3_CSC1_CSC3, dtype: float64"
      ]
     },
     "execution_count": 181,
     "metadata": {},
     "output_type": "execute_result"
    }
   ],
   "source": [
    "BB2_BB3_CSC1_CSC3_Hmapped_dihedral_all"
   ]
  },
  {
   "cell_type": "code",
   "execution_count": 182,
   "metadata": {},
   "outputs": [
    {
     "name": "stderr",
     "output_type": "stream",
     "text": [
      "/home/subhasree/.local/lib/python3.6/site-packages/seaborn/distributions.py:2557: FutureWarning: `distplot` is a deprecated function and will be removed in a future version. Please adapt your code to use either `displot` (a figure-level function with similar flexibility) or `histplot` (an axes-level function for histograms).\n",
      "  warnings.warn(msg, FutureWarning)\n",
      "/home/subhasree/.local/lib/python3.6/site-packages/numpy/lib/histograms.py:905: RuntimeWarning: invalid value encountered in true_divide\n",
      "  return n/db/n.sum(), bin_edges\n"
     ]
    },
    {
     "ename": "IndexError",
     "evalue": "list index out of range",
     "output_type": "error",
     "traceback": [
      "\u001b[0;31m---------------------------------------------------------------------------\u001b[0m",
      "\u001b[0;31mIndexError\u001b[0m                                Traceback (most recent call last)",
      "\u001b[0;32m<ipython-input-182-382cc6af95ad>\u001b[0m in \u001b[0;36m<module>\u001b[0;34m\u001b[0m\n\u001b[1;32m     11\u001b[0m              )\n\u001b[1;32m     12\u001b[0m \u001b[0;34m\u001b[0m\u001b[0m\n\u001b[0;32m---> 13\u001b[0;31m \u001b[0mx\u001b[0m \u001b[0;34m=\u001b[0m \u001b[0mplt\u001b[0m\u001b[0;34m.\u001b[0m\u001b[0mlines\u001b[0m\u001b[0;34m[\u001b[0m\u001b[0;36m0\u001b[0m\u001b[0;34m]\u001b[0m\u001b[0;34m.\u001b[0m\u001b[0mget_xdata\u001b[0m\u001b[0;34m(\u001b[0m\u001b[0;34m)\u001b[0m\u001b[0;34m\u001b[0m\u001b[0;34m\u001b[0m\u001b[0m\n\u001b[0m\u001b[1;32m     14\u001b[0m \u001b[0my\u001b[0m \u001b[0;34m=\u001b[0m \u001b[0mplt\u001b[0m\u001b[0;34m.\u001b[0m\u001b[0mlines\u001b[0m\u001b[0;34m[\u001b[0m\u001b[0;36m0\u001b[0m\u001b[0;34m]\u001b[0m\u001b[0;34m.\u001b[0m\u001b[0mget_ydata\u001b[0m\u001b[0;34m(\u001b[0m\u001b[0;34m)\u001b[0m\u001b[0;34m\u001b[0m\u001b[0;34m\u001b[0m\u001b[0m\n\u001b[1;32m     15\u001b[0m \u001b[0mmaxid\u001b[0m \u001b[0;34m=\u001b[0m \u001b[0mnp\u001b[0m\u001b[0;34m.\u001b[0m\u001b[0margmax\u001b[0m\u001b[0;34m(\u001b[0m\u001b[0my\u001b[0m\u001b[0;34m)\u001b[0m\u001b[0;34m\u001b[0m\u001b[0;34m\u001b[0m\u001b[0m\n",
      "\u001b[0;31mIndexError\u001b[0m: list index out of range"
     ]
    },
    {
     "data": {
      "image/png": "[encoded data removed]",
      "text/plain": [
       "<Figure size 432x288 with 1 Axes>"
      ]
     },
     "metadata": {
      "needs_background": "light"
     },
     "output_type": "display_data"
    }
   ],
   "source": [
    "# Density Plot and Histogram \n",
    "from scipy import stats\n",
    "xmedian = np.median(BB2_BB3_CSC1_CSC3_Hmapped_dihedral_all)\n",
    "xmean = np.mean(BB2_BB3_CSC1_CSC3_Hmapped_dihedral_all)\n",
    "# xmode = stats.mode(BB2_BB3_Hmapped_distance_all)[0][0] #gives wrong value\n",
    "\n",
    "#raw data plot\n",
    "plt = sns.distplot(BB2_BB3_CSC1_CSC3_Hmapped_dihedral_all, kde=True, \n",
    "            color = 'white',norm_hist=False,\n",
    "             kde_kws={'linewidth': 1}\n",
    "             )\n",
    "\n",
    "x = plt.lines[0].get_xdata()\n",
    "y = plt.lines[0].get_ydata()\n",
    "maxid = np.argmax(y)\n",
    "xmode = x[maxid]\n",
    "\n",
    "\n",
    "\n",
    "\n",
    "# # #histogram plot + Density plot\n",
    "# import matplotlib.pyplot as plt\n",
    "# sns.displot(BB2_BB3_CSC1_CSC3_Hmapped_dihedral_all,bins=10)\n",
    "# \n",
    "# \n",
    "# \n",
    "\n",
    "#density plot\n",
    "import matplotlib.pyplot as plt\n",
    "ax = sns.kdeplot(BB2_BB3_CSC1_CSC3_Hmapped_dihedral_all,bw=0.5)\n",
    "\n",
    "\n",
    "\n",
    "\n",
    "x = ax.lines[0].get_xdata()\n",
    "y = ax.lines[0].get_ydata()\n",
    "maxid = np.argmax(y)\n",
    "\n",
    "print(\"BB2_BB3_CSC1_CSC3_Hmapped_dihedral_all\")\n",
    "print(\"Mean: Raw data\",xmean)\n",
    "print(\"Mode: Raw data\",xmode)\n",
    "print(\"Mode: Gauss-fitted\",x[maxid])\n"
   ]
  },
  {
   "cell_type": "code",
   "execution_count": null,
   "metadata": {},
   "outputs": [],
   "source": [
    "def harmonic_proper_dihedral(theta, theta0, k):\n",
    "    n = 1\n",
    "    coslist = []\n",
    "    for t in theta:\n",
    "        coslist.append(math.cos(n*t - theta0))\n",
    "    final_coslist = np.array(coslist)\n",
    "    val =  k * (1 + final_coslist)\n",
    "    return val\n",
    "\n",
    "#get probability distribution from data\n",
    "plt2 = sns.kdeplot(BB2_BB3_CSC1_CSC3_Hmapped_dihedral_all)\n",
    "xdata = plt2.lines[0].get_xdata()\n",
    "ydata = plt2.lines[0].get_ydata()\n",
    "#calculate energy\n",
    "U = P2U(ydata)\n",
    "# print(U)\n",
    "\n",
    "if(U.max() == float('inf')):\n",
    "    U2 = U.copy()\n",
    "    t = np.sort(U2)[::-1]\n",
    "    for x in t:\n",
    "        if(x==float('inf')):\n",
    "            continue\n",
    "        else:\n",
    "            second_largest = x\n",
    "            break\n",
    "    U[U==float('inf')]=(second_largest * 2)\n",
    "else:\n",
    "    U[U==float('inf')]=(U.max() * 2)\n",
    "\n",
    "plt.plot(xdata,U)\n",
    "plt.plot(xdata,U)\n",
    "\n",
    "#plot enegy and density\n",
    "import matplotlib.pyplot as plt\n",
    "plt.plot(xdata,U,color='magenta')\n",
    "\n",
    "# for i in range(0,xdata.shape[0]):\n",
    "params, pcov = curve_fit(harmonic_proper_dihedral, xdata,U,p0=[144, 50000])\n",
    "print(\"parameter R_o is: \",params[0])\n",
    "print(\"parameter K is: \",params[1])\n",
    "# curve_fit(harmonic_angle, xdata[0], U, p0=[84, 1000])\n",
    "\n",
    "dihedral_parameters_dict['Parameter'].append('BB2_BB3_CSC1_CSC3')\n",
    "dihedral_parameters_dict['raw data mean value'].append(xmean)\n",
    "dihedral_parameters_dict['raw data mode value gaussian-fitted mode value'].append(x[maxid])\n",
    "dihedral_parameters_dict['Seed value obtained using BOltzmann inversion'].append(params[0])\n",
    "dihedral_parameters_dict['K from boltzmann inversion'].append(params[1])"
   ]
  },
  {
   "cell_type": "code",
   "execution_count": 183,
   "metadata": {},
   "outputs": [
    {
     "ename": "IndexError",
     "evalue": "list index out of range",
     "output_type": "error",
     "traceback": [
      "\u001b[0;31m---------------------------------------------------------------------------\u001b[0m",
      "\u001b[0;31mIndexError\u001b[0m                                Traceback (most recent call last)",
      "\u001b[0;32m<ipython-input-183-8e7784eb9ed3>\u001b[0m in \u001b[0;36m<module>\u001b[0;34m\u001b[0m\n\u001b[1;32m     11\u001b[0m              )\n\u001b[1;32m     12\u001b[0m \u001b[0;34m\u001b[0m\u001b[0m\n\u001b[0;32m---> 13\u001b[0;31m \u001b[0mx\u001b[0m \u001b[0;34m=\u001b[0m \u001b[0mplt\u001b[0m\u001b[0;34m.\u001b[0m\u001b[0mlines\u001b[0m\u001b[0;34m[\u001b[0m\u001b[0;36m0\u001b[0m\u001b[0;34m]\u001b[0m\u001b[0;34m.\u001b[0m\u001b[0mget_xdata\u001b[0m\u001b[0;34m(\u001b[0m\u001b[0;34m)\u001b[0m\u001b[0;34m\u001b[0m\u001b[0;34m\u001b[0m\u001b[0m\n\u001b[0m\u001b[1;32m     14\u001b[0m \u001b[0my\u001b[0m \u001b[0;34m=\u001b[0m \u001b[0mplt\u001b[0m\u001b[0;34m.\u001b[0m\u001b[0mlines\u001b[0m\u001b[0;34m[\u001b[0m\u001b[0;36m0\u001b[0m\u001b[0;34m]\u001b[0m\u001b[0;34m.\u001b[0m\u001b[0mget_ydata\u001b[0m\u001b[0;34m(\u001b[0m\u001b[0;34m)\u001b[0m\u001b[0;34m\u001b[0m\u001b[0;34m\u001b[0m\u001b[0m\n\u001b[1;32m     15\u001b[0m \u001b[0mmaxid\u001b[0m \u001b[0;34m=\u001b[0m \u001b[0mnp\u001b[0m\u001b[0;34m.\u001b[0m\u001b[0margmax\u001b[0m\u001b[0;34m(\u001b[0m\u001b[0my\u001b[0m\u001b[0;34m)\u001b[0m\u001b[0;34m\u001b[0m\u001b[0;34m\u001b[0m\u001b[0m\n",
      "\u001b[0;31mIndexError\u001b[0m: list index out of range"
     ]
    },
    {
     "data": {
      "image/png": "[encoded data removed]",
      "text/plain": [
       "<Figure size 432x288 with 1 Axes>"
      ]
     },
     "metadata": {
      "needs_background": "light"
     },
     "output_type": "display_data"
    }
   ],
   "source": [
    "# Density Plot and Histogram \n",
    "from scipy import stats\n",
    "xmedian = np.median(BB2_BB3_CSC1_CSC3_Hmapped_dihedral_all)\n",
    "xmean = np.mean(BB2_BB3_CSC1_CSC3_Hmapped_dihedral_all)\n",
    "# xmode = stats.mode(BB2_BB3_Hmapped_distance_all)[0][0] #gives wrong value\n",
    "\n",
    "#raw data plot\n",
    "plt = sns.distplot(BB2_BB3_CSC1_CSC3_Hmapped_dihedral_all, kde=True, \n",
    "            color = 'white',norm_hist=False,\n",
    "             kde_kws={'linewidth': 1}\n",
    "             )\n",
    "\n",
    "x = plt.lines[0].get_xdata()\n",
    "y = plt.lines[0].get_ydata()\n",
    "maxid = np.argmax(y)\n",
    "xmode = x[maxid]\n",
    "\n",
    "\n",
    "\n",
    "\n",
    "# # #histogram plot + Density plot\n",
    "# import matplotlib.pyplot as plt\n",
    "# sns.displot(BB2_BB3_CSC1_CSC3_Hmapped_dihedral_all,bins=10)\n",
    "# \n",
    "# \n",
    "# \n",
    "\n",
    "#density plot\n",
    "import matplotlib.pyplot as plt\n",
    "ax = sns.kdeplot(BB2_BB3_CSC1_CSC3_Hmapped_dihedral_all)\n",
    "\n",
    "\n",
    "\n",
    "\n",
    "x = ax.lines[0].get_xdata()\n",
    "y = ax.lines[0].get_ydata()\n",
    "maxid = np.argmax(y)\n",
    "\n",
    "print(\"BB2_BB3_CSC1_CSC3_Hmapped_dihedral_all\")\n",
    "print(\"Mean: Raw data\",xmean)\n",
    "print(\"Mode: Raw data\",xmode)\n",
    "print(\"Mode: Gauss-fitted\",x[maxid])\n"
   ]
  },
  {
   "cell_type": "code",
   "execution_count": 184,
   "metadata": {},
   "outputs": [
    {
     "ename": "IndexError",
     "evalue": "list index out of range",
     "output_type": "error",
     "traceback": [
      "\u001b[0;31m---------------------------------------------------------------------------\u001b[0m",
      "\u001b[0;31mIndexError\u001b[0m                                Traceback (most recent call last)",
      "\u001b[0;32m<ipython-input-184-1ee2844ffcc0>\u001b[0m in \u001b[0;36m<module>\u001b[0;34m\u001b[0m\n\u001b[1;32m     10\u001b[0m \u001b[0;31m#get probability distribution from data\u001b[0m\u001b[0;34m\u001b[0m\u001b[0;34m\u001b[0m\u001b[0;34m\u001b[0m\u001b[0m\n\u001b[1;32m     11\u001b[0m \u001b[0mplt2\u001b[0m \u001b[0;34m=\u001b[0m \u001b[0msns\u001b[0m\u001b[0;34m.\u001b[0m\u001b[0mkdeplot\u001b[0m\u001b[0;34m(\u001b[0m\u001b[0mBB2_BB3_CSC1_CSC3_Hmapped_dihedral_all\u001b[0m\u001b[0;34m)\u001b[0m\u001b[0;34m\u001b[0m\u001b[0;34m\u001b[0m\u001b[0m\n\u001b[0;32m---> 12\u001b[0;31m \u001b[0mxdata\u001b[0m \u001b[0;34m=\u001b[0m \u001b[0mplt2\u001b[0m\u001b[0;34m.\u001b[0m\u001b[0mlines\u001b[0m\u001b[0;34m[\u001b[0m\u001b[0;36m0\u001b[0m\u001b[0;34m]\u001b[0m\u001b[0;34m.\u001b[0m\u001b[0mget_xdata\u001b[0m\u001b[0;34m(\u001b[0m\u001b[0;34m)\u001b[0m\u001b[0;34m\u001b[0m\u001b[0;34m\u001b[0m\u001b[0m\n\u001b[0m\u001b[1;32m     13\u001b[0m \u001b[0mydata\u001b[0m \u001b[0;34m=\u001b[0m \u001b[0mplt2\u001b[0m\u001b[0;34m.\u001b[0m\u001b[0mlines\u001b[0m\u001b[0;34m[\u001b[0m\u001b[0;36m0\u001b[0m\u001b[0;34m]\u001b[0m\u001b[0;34m.\u001b[0m\u001b[0mget_ydata\u001b[0m\u001b[0;34m(\u001b[0m\u001b[0;34m)\u001b[0m\u001b[0;34m\u001b[0m\u001b[0;34m\u001b[0m\u001b[0m\n\u001b[1;32m     14\u001b[0m \u001b[0;31m#calculate energy\u001b[0m\u001b[0;34m\u001b[0m\u001b[0;34m\u001b[0m\u001b[0;34m\u001b[0m\u001b[0m\n",
      "\u001b[0;31mIndexError\u001b[0m: list index out of range"
     ]
    },
    {
     "data": {
      "image/png": "[encoded data removed]",
      "text/plain": [
       "<Figure size 432x288 with 1 Axes>"
      ]
     },
     "metadata": {
      "needs_background": "light"
     },
     "output_type": "display_data"
    }
   ],
   "source": [
    "def harmonic_proper_dihedral(theta, theta0, k):\n",
    "    n = 1\n",
    "    coslist = []\n",
    "    for t in theta:\n",
    "        coslist.append(math.cos(n*t - theta0))\n",
    "    final_coslist = np.array(coslist)\n",
    "    val =  k * (1 + final_coslist)\n",
    "    return val\n",
    "\n",
    "#get probability distribution from data\n",
    "plt2 = sns.kdeplot(BB2_BB3_CSC1_CSC3_Hmapped_dihedral_all)\n",
    "xdata = plt2.lines[0].get_xdata()\n",
    "ydata = plt2.lines[0].get_ydata()\n",
    "#calculate energy\n",
    "U = P2U(ydata)\n",
    "# print(U)\n",
    "\n",
    "if(U.max() == float('inf')):\n",
    "    U2 = U.copy()\n",
    "    t = np.sort(U2)[::-1]\n",
    "    for x in t:\n",
    "        if(x==float('inf')):\n",
    "            continue\n",
    "        else:\n",
    "            second_largest = x\n",
    "            break\n",
    "    U[U==float('inf')]=(second_largest * 2)\n",
    "else:\n",
    "    U[U==float('inf')]=(U.max() * 2)\n",
    "\n",
    "plt.plot(xdata,U)\n",
    "plt.plot(xdata,U)\n",
    "\n",
    "#plot enegy and density\n",
    "import matplotlib.pyplot as plt\n",
    "plt.plot(xdata,U,color='magenta')\n",
    "\n",
    "# for i in range(0,xdata.shape[0]):\n",
    "params, pcov = curve_fit(harmonic_proper_dihedral, xdata,U,p0=[144, 1000])\n",
    "print(\"parameter R_o is: \",params[0])\n",
    "print(\"parameter K is: \",params[1])\n",
    "# curve_fit(harmonic_angle, xdata[0], U, p0=[84, 1000])\n",
    "\n",
    "dihedral_parameters_dict['Parameter'].append('BB2_BB3_CSC1_CSC3')\n",
    "dihedral_parameters_dict['raw data mean value'].append(xmean)\n",
    "dihedral_parameters_dict['raw data mode value gaussian-fitted mode value'].append(x[maxid])\n",
    "dihedral_parameters_dict['Seed value obtained using BOltzmann inversion'].append(params[0])\n",
    "dihedral_parameters_dict['K from boltzmann inversion'].append(params[1])"
   ]
  },
  {
   "cell_type": "code",
   "execution_count": 185,
   "metadata": {},
   "outputs": [],
   "source": [
    "dihedral_parameters['Parameter'] = dihedral_parameters_dict['Parameter']\n",
    "dihedral_parameters['raw data mean value'] = dihedral_parameters_dict['raw data mean value']\n",
    "dihedral_parameters['raw data mode value gaussian-fitted mode value'] = dihedral_parameters_dict['raw data mode value gaussian-fitted mode value']\n",
    "dihedral_parameters['Seed value obtained using BOltzmann inversion'] = dihedral_parameters_dict['Seed value obtained using BOltzmann inversion']\n",
    "dihedral_parameters['K from boltzmann inversion'] = dihedral_parameters_dict['K from boltzmann inversion']\n",
    "dihedral_parameters.head()\n",
    "dihedral_parameters.to_csv(\"sirna_parameters_dihedrals.csv\")"
   ]
  },
  {
   "cell_type": "code",
   "execution_count": null,
   "metadata": {},
   "outputs": [],
   "source": []
  },
  {
   "cell_type": "code",
   "execution_count": null,
   "metadata": {},
   "outputs": [],
   "source": []
  }
 ],
 "metadata": {
  "kernelspec": {
   "display_name": "Python 3",
   "language": "python",
   "name": "python3"
  },
  "language_info": {
   "codemirror_mode": {
    "name": "ipython",
    "version": 3
   },
   "file_extension": ".py",
   "mimetype": "text/x-python",
   "name": "python",
   "nbconvert_exporter": "python",
   "pygments_lexer": "ipython3",
   "version": "3.6.9"
  }
 },
 "nbformat": 4,
 "nbformat_minor": 2
}
