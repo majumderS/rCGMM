{
 "cells": [
  {
   "cell_type": "code",
   "execution_count": 1,
   "metadata": {},
   "outputs": [
    {
     "data": {
      "text/plain": [
       "array([[1.        , 0.00473037],\n",
       "       [0.00473037, 1.        ]])"
      ]
     },
     "execution_count": 1,
     "metadata": {},
     "output_type": "execute_result"
    }
   ],
   "source": [
    "martini2= [3.5,1,1.5,1.5,10,4,1,3.5,5,10,3,3]\n",
    "K_boltzmann = [1.491545229,0.939467267,0.870827266,2.011502542,1.8779708,1.791363503,1.936026703,\n",
    "               0.768785694,1.642665813,2.042698776,2.044193733,7.968220768]\n",
    "import numpy as np\n",
    "np.corrcoef(martini2, K_boltzmann)"
   ]
  },
  {
   "cell_type": "code",
   "execution_count": 4,
   "metadata": {},
   "outputs": [
    {
     "name": "stdout",
     "output_type": "stream",
     "text": [
      "correlation of distance : martini2 vs boltzmann\n",
      "[[ 1.         -0.18592114]\n",
      " [-0.18592114  1.        ]]\n"
     ]
    }
   ],
   "source": [
    "martini_data = [0,0,-10,180,100,180,-20,180,0,0,55,-130]\n",
    "boltzmann_dist_data = [-42.3,-91.1,-146.5,-141.42,-2.42,-144.46,-143.13,-154.4,63.35,0,\n",
    "                       -133.58,-147.79]\n",
    "\n",
    "import numpy as np\n",
    "print(\"correlation of distance : martini2 vs boltzmann\")\n",
    "print(np.corrcoef(martini_data, boltzmann_dist_data))\n",
    "\n"
   ]
  },
  {
   "cell_type": "code",
   "execution_count": 5,
   "metadata": {},
   "outputs": [
    {
     "name": "stdout",
     "output_type": "stream",
     "text": [
      "correlation of distance : gaussian vs boltzmann\n",
      "[[1.         0.99102543]\n",
      " [0.99102543 1.        ]]\n"
     ]
    }
   ],
   "source": [
    "boltzmann_dist_data = [-41.57,-91.92397966,-144.504,-141.422328,-119.204,0,-144.9,-143.1312254,\n",
    "                       -154.4043953,60.56,0,-133.5840577,-147.7950583]\n",
    "gaussian_dist_data = [-41.57338149,-91.92397966,-146.2497285,-140.1505066,-155,0.563551631,\n",
    "                      -145.1640485,-140.4858871,-153.5832193,60.56127506,0.65575975,-135.709377,\n",
    "                      -149.5880126]\n",
    "print(\"correlation of distance : gaussian vs boltzmann\")\n",
    "print(np.corrcoef(gaussian_dist_data, boltzmann_dist_data))"
   ]
  },
  {
   "cell_type": "code",
   "execution_count": 3,
   "metadata": {},
   "outputs": [
    {
     "data": {
      "text/plain": [
       "array([[1.00000000e+00, 7.37176857e-04],\n",
       "       [7.37176857e-04, 1.00000000e+00]])"
      ]
     },
     "execution_count": 3,
     "metadata": {},
     "output_type": "execute_result"
    }
   ],
   "source": [
    "martini_data = [0,0,-10,180,100,180,-20,180,0,0,55,-130,0,180,0,0]\n",
    "boltzmann_dist_data = [-42.3,-91,-146.5,-141.4,-2.42,-144.5,-143.13,-154.4,63.35,0.44,-133.6,\n",
    "                       -147.8,-134,134,60,144]\n",
    "import numpy as np\n",
    "np.corrcoef(martini_data, boltzmann_dist_data)"
   ]
  },
  {
   "cell_type": "code",
   "execution_count": 4,
   "metadata": {},
   "outputs": [],
   "source": [
    "import pandas as pd\n",
    "import seaborn as sns\n",
    "from scipy import stats\n",
    "import numpy as np\n",
    "import matplotlib.pyplot as plt\n",
    "%matplotlib inline\n",
    "import math\n",
    "from scipy.optimize import curve_fit\n",
    "dihedral_parameters = pd.DataFrame()\n",
    "dihedral_parameters_dict = {'Parameter':[],'raw data mean value':[],\n",
    "                            'raw data mode value gaussian-fitted mode value':[],\n",
    "                           'Seed value obtained using BOltzmann inversion':[],\n",
    "                           'K from boltzmann inversion':[]}"
   ]
  },
  {
   "cell_type": "code",
   "execution_count": 5,
   "metadata": {},
   "outputs": [],
   "source": [
    "dihedral_dict = dict.fromkeys(['BB1_BB2_BB3_ASC1','BB2_BB3_ASC1_ASC2','BB2_BB3_ASC1_ASC4',\\\n",
    "'BB2_BB3_ASC1_ASC4','ASC1_ASC2_ASC3_ASC4','BB1_BB2_BB3_USC1','BB2_BB3_USC1_USC2','BB2_BB3_USC1_USC3','BB1_BB2_BB3_GSC1',\\\n",
    "'BB2_BB3_GSC1_GSC2','BB2_BB3_GSC1_GSC4','GSC1_GSC2_GSC3_GSC4','BB1_BB2_BB3_CSC1','BB1_BB2_BB3_CSC1','BB2_BB3_CSC1_CSC2',\n",
    "'BB2_BB3_CSC1_CSC2','BB2_BB3_CSC1_CSC3','BB1_BB2_BB3_pBB1','BB2_BB3_pBB1_pBB2','BB3_pBB1_pBB2_pBB3','BB3_pBB1_pBB2_pBB3'\n",
    "])"
   ]
  },
  {
   "cell_type": "code",
   "execution_count": 6,
   "metadata": {},
   "outputs": [],
   "source": [
    "df_Hmapped_dihedral_all = pd.read_csv('dihedral_final_allmolecules.csv')"
   ]
  },
  {
   "cell_type": "code",
   "execution_count": 7,
   "metadata": {},
   "outputs": [],
   "source": [
    "def return_modes_of_data(data):   \n",
    "    data = data\n",
    "    n = np.histogram(data)\n",
    "    count_dict = {}\n",
    "    for i in range(0,len(n[0])):\n",
    "        count_dict[n[0][i]] = n[1][i]\n",
    "    return sorted(count_dict.items()),(sum(data)/len(data))"
   ]
  },
  {
   "cell_type": "code",
   "execution_count": 8,
   "metadata": {},
   "outputs": [],
   "source": [
    "BB1_BB2_BB3_ASC1_Hmapped_dihedral_all = df_Hmapped_dihedral_all['BB1_BB2_BB3_ASC1']\n",
    "BB2_BB3_ASC1_ASC2_Hmapped_dihedral_all = df_Hmapped_dihedral_all['BB2_BB3_ASC1_ASC2']\n",
    "BB2_BB3_ASC1_ASC4_Hmapped_dihedral_all = df_Hmapped_dihedral_all['BB2_BB3_ASC1_ASC4']\n",
    "ASC1_ASC2_ASC3_ASC4_Hmapped_dihedral_all = df_Hmapped_dihedral_all['ASC1_ASC2_ASC3_ASC4']\n",
    "BB1_BB2_BB3_USC1_Hmapped_dihedral_all = df_Hmapped_dihedral_all['BB1_BB2_BB3_USC1']\n",
    "BB2_BB3_USC1_USC2_Hmapped_dihedral_all = df_Hmapped_dihedral_all['BB2_BB3_USC1_USC2']\n",
    "BB2_BB3_USC1_USC3_Hmapped_dihedral_all = df_Hmapped_dihedral_all['BB2_BB3_USC1_USC3']\n",
    "BB1_BB2_BB3_GSC1_Hmapped_dihedral_all = df_Hmapped_dihedral_all['BB1_BB2_BB3_GSC1']\n",
    "BB2_BB3_GSC1_GSC2_Hmapped_dihedral_all = df_Hmapped_dihedral_all['BB2_BB3_GSC1_GSC2']\n",
    "BB2_BB3_GSC1_GSC4_Hmapped_dihedral_all = df_Hmapped_dihedral_all['BB2_BB3_GSC1_GSC4']\n",
    "GSC1_GSC2_GSC3_GSC4_Hmapped_dihedral_all = df_Hmapped_dihedral_all['GSC1_GSC2_GSC3_GSC4']\n",
    "BB1_BB2_BB3_CSC1_Hmapped_dihedral_all = df_Hmapped_dihedral_all['BB1_BB2_BB3_CSC1']\n",
    "BB2_BB3_CSC1_CSC2_Hmapped_dihedral_all = df_Hmapped_dihedral_all['BB2_BB3_CSC1_CSC2']\n",
    "BB2_BB3_CSC1_CSC3_Hmapped_dihedral_all = df_Hmapped_dihedral_all['BB2_BB3_CSC1_CSC3']\n",
    "BB1_BB2_BB3_pBB1_Hmapped_dihedral_all = df_Hmapped_dihedral_all['BB1_BB2_BB3_pBB1']\n",
    "BB2_BB3_pBB1_pBB2_Hmapped_dihedral_all = df_Hmapped_dihedral_all['BB2_BB3_pBB1_pBB2']\n",
    "BB3_pBB1_pBB2_pBB3_Hmapped_dihedral_all = df_Hmapped_dihedral_all['BB3_pBB1_pBB2_pBB3']"
   ]
  },
  {
   "cell_type": "code",
   "execution_count": 67,
   "metadata": {},
   "outputs": [
    {
     "data": {
      "text/plain": [
       "0       139.120\n",
       "1       141.682\n",
       "2       140.664\n",
       "3       146.314\n",
       "4       140.931\n",
       "         ...   \n",
       "9894    140.953\n",
       "9895    146.948\n",
       "9896    147.991\n",
       "9897    141.386\n",
       "9898    142.261\n",
       "Name: BB2_BB3_CSC1_CSC3, Length: 9899, dtype: float64"
      ]
     },
     "execution_count": 67,
     "metadata": {},
     "output_type": "execute_result"
    }
   ],
   "source": [
    "BB2_BB3_CSC1_CSC3_Hmapped_dihedral_all"
   ]
  },
  {
   "cell_type": "code",
   "execution_count": 9,
   "metadata": {},
   "outputs": [],
   "source": [
    "def P2U(p):\n",
    "     boltzmann = 1.9858285706E-3 # Kcal/K\n",
    "     T = 298.15 # K\n",
    "     p_max = p.max()\n",
    "     return - boltzmann * T * np.log(p / p_max)"
   ]
  },
  {
   "cell_type": "code",
   "execution_count": 10,
   "metadata": {},
   "outputs": [],
   "source": [
    "def harmonic_proper_dihedral(theta, theta0, k):\n",
    "    n = 1\n",
    "    coslist = []\n",
    "    for t in theta:\n",
    "        coslist.append(math.cos(n*t - theta0))\n",
    "    final_coslist = np.array(coslist)\n",
    "    val =  k * (1 + final_coslist)\n",
    "    return val"
   ]
  },
  {
   "cell_type": "code",
   "execution_count": 11,
   "metadata": {},
   "outputs": [],
   "source": [
    "def harmonic_improper_dihedral(theta,theta0,k):\n",
    "    return k * (theta - theta0) ** 2"
   ]
  },
  {
   "cell_type": "code",
   "execution_count": 12,
   "metadata": {},
   "outputs": [
    {
     "name": "stderr",
     "output_type": "stream",
     "text": [
      "/home/subhasree/.local/lib/python3.6/site-packages/seaborn/distributions.py:2557: FutureWarning: `distplot` is a deprecated function and will be removed in a future version. Please adapt your code to use either `displot` (a figure-level function with similar flexibility) or `histplot` (an axes-level function for histograms).\n",
      "  warnings.warn(msg, FutureWarning)\n"
     ]
    },
    {
     "name": "stdout",
     "output_type": "stream",
     "text": [
      "BB1_BB2_BB3_pBB1_Hmapped_dihedral_all\n",
      "Mean: Raw data -29.832481462774016\n",
      "Mode: Raw data -41.57338149077886\n",
      "Mode: Gauss-fitted -41.57338149077886\n"
     ]
    },
    {
     "data": {
      "image/png": "[encoded data removed]",
      "text/plain": [
       "<Figure size 432x288 with 1 Axes>"
      ]
     },
     "metadata": {
      "needs_background": "light"
     },
     "output_type": "display_data"
    }
   ],
   "source": [
    "# # Density Plot and Histogram \n",
    "# l = []\n",
    "# for item in BB1_BB2_BB3_pBB1_Hmapped_dihedral_all.values:\n",
    "# #     l.append(int(item+180))\n",
    "\n",
    "# Density Plot and Histogram \n",
    "from scipy import stats\n",
    "xmedian = np.median(BB1_BB2_BB3_pBB1_Hmapped_dihedral_all)\n",
    "xmean = np.mean(BB1_BB2_BB3_pBB1_Hmapped_dihedral_all)\n",
    "# xmode = stats.mode(BB2_BB3_Hmapped_distance_all)[0][0] #gives wrong value\n",
    "\n",
    "#raw data plot\n",
    "plt2 = sns.distplot(BB1_BB2_BB3_pBB1_Hmapped_dihedral_all, kde=True, \n",
    "            color = 'white',norm_hist=False,\n",
    "             kde_kws={'linewidth': 1}\n",
    "             )\n",
    "\n",
    "x = plt2.lines[0].get_xdata()\n",
    "y = plt2.lines[0].get_ydata()\n",
    "maxid = np.argmax(y)\n",
    "xmode = x[maxid]\n",
    "plt2.axvline(xmean,c='red')\n",
    "plt2.axvline(xmedian,c='blue')\n",
    "plt2.axvline(xmode,c='green')\n",
    "\n",
    "# density plot\n",
    "import matplotlib.pyplot as plt\n",
    "ax = sns.kdeplot(BB1_BB2_BB3_pBB1_Hmapped_dihedral_all)\n",
    "x = ax.lines[0].get_xdata()\n",
    "y = ax.lines[0].get_ydata()\n",
    "maxid = np.argmax(y)\n",
    "\n",
    "print(\"BB1_BB2_BB3_pBB1_Hmapped_dihedral_all\")\n",
    "print(\"Mean: Raw data\",xmean)\n",
    "print(\"Mode: Raw data\",xmode)\n",
    "print(\"Mode: Gauss-fitted\",x[maxid])"
   ]
  },
  {
   "cell_type": "code",
   "execution_count": 48,
   "metadata": {},
   "outputs": [
    {
     "ename": "RuntimeError",
     "evalue": "Optimal parameters not found: Number of calls to function has reached maxfev = 600.",
     "output_type": "error",
     "traceback": [
      "\u001b[0;31m---------------------------------------------------------------------------\u001b[0m",
      "\u001b[0;31mRuntimeError\u001b[0m                              Traceback (most recent call last)",
      "\u001b[0;32m<ipython-input-48-6446dfe4946c>\u001b[0m in \u001b[0;36m<module>\u001b[0;34m\u001b[0m\n\u001b[1;32m     37\u001b[0m \u001b[0;34m\u001b[0m\u001b[0m\n\u001b[1;32m     38\u001b[0m \u001b[0;31m# for i in range(0,xdata.shape[0]):\u001b[0m\u001b[0;34m\u001b[0m\u001b[0;34m\u001b[0m\u001b[0;34m\u001b[0m\u001b[0m\n\u001b[0;32m---> 39\u001b[0;31m \u001b[0mparams\u001b[0m\u001b[0;34m,\u001b[0m \u001b[0mpcov\u001b[0m \u001b[0;34m=\u001b[0m \u001b[0mcurve_fit\u001b[0m\u001b[0;34m(\u001b[0m\u001b[0mharmonic_proper_dihedral\u001b[0m\u001b[0;34m,\u001b[0m \u001b[0mxdata\u001b[0m\u001b[0;34m,\u001b[0m\u001b[0mU\u001b[0m\u001b[0;34m,\u001b[0m\u001b[0mp0\u001b[0m\u001b[0;34m=\u001b[0m\u001b[0;34m[\u001b[0m\u001b[0;34m-\u001b[0m\u001b[0;36m41\u001b[0m\u001b[0;34m,\u001b[0m \u001b[0;36m50000\u001b[0m\u001b[0;34m]\u001b[0m\u001b[0;34m)\u001b[0m\u001b[0;34m\u001b[0m\u001b[0;34m\u001b[0m\u001b[0m\n\u001b[0m\u001b[1;32m     40\u001b[0m \u001b[0mprint\u001b[0m\u001b[0;34m(\u001b[0m\u001b[0;34m\"parameter R_o is: \"\u001b[0m\u001b[0;34m,\u001b[0m\u001b[0mparams\u001b[0m\u001b[0;34m[\u001b[0m\u001b[0;36m0\u001b[0m\u001b[0;34m]\u001b[0m\u001b[0;34m)\u001b[0m\u001b[0;34m\u001b[0m\u001b[0;34m\u001b[0m\u001b[0m\n\u001b[1;32m     41\u001b[0m \u001b[0mprint\u001b[0m\u001b[0;34m(\u001b[0m\u001b[0;34m\"parameter K is: \"\u001b[0m\u001b[0;34m,\u001b[0m\u001b[0mparams\u001b[0m\u001b[0;34m[\u001b[0m\u001b[0;36m1\u001b[0m\u001b[0;34m]\u001b[0m\u001b[0;34m)\u001b[0m\u001b[0;34m\u001b[0m\u001b[0;34m\u001b[0m\u001b[0m\n",
      "\u001b[0;32m~/.local/lib/python3.6/site-packages/scipy/optimize/minpack.py\u001b[0m in \u001b[0;36mcurve_fit\u001b[0;34m(f, xdata, ydata, p0, sigma, absolute_sigma, check_finite, bounds, method, jac, **kwargs)\u001b[0m\n\u001b[1;32m    787\u001b[0m         \u001b[0mcost\u001b[0m \u001b[0;34m=\u001b[0m \u001b[0mnp\u001b[0m\u001b[0;34m.\u001b[0m\u001b[0msum\u001b[0m\u001b[0;34m(\u001b[0m\u001b[0minfodict\u001b[0m\u001b[0;34m[\u001b[0m\u001b[0;34m'fvec'\u001b[0m\u001b[0;34m]\u001b[0m \u001b[0;34m**\u001b[0m \u001b[0;36m2\u001b[0m\u001b[0;34m)\u001b[0m\u001b[0;34m\u001b[0m\u001b[0;34m\u001b[0m\u001b[0m\n\u001b[1;32m    788\u001b[0m         \u001b[0;32mif\u001b[0m \u001b[0mier\u001b[0m \u001b[0;32mnot\u001b[0m \u001b[0;32min\u001b[0m \u001b[0;34m[\u001b[0m\u001b[0;36m1\u001b[0m\u001b[0;34m,\u001b[0m \u001b[0;36m2\u001b[0m\u001b[0;34m,\u001b[0m \u001b[0;36m3\u001b[0m\u001b[0;34m,\u001b[0m \u001b[0;36m4\u001b[0m\u001b[0;34m]\u001b[0m\u001b[0;34m:\u001b[0m\u001b[0;34m\u001b[0m\u001b[0;34m\u001b[0m\u001b[0m\n\u001b[0;32m--> 789\u001b[0;31m             \u001b[0;32mraise\u001b[0m \u001b[0mRuntimeError\u001b[0m\u001b[0;34m(\u001b[0m\u001b[0;34m\"Optimal parameters not found: \"\u001b[0m \u001b[0;34m+\u001b[0m \u001b[0merrmsg\u001b[0m\u001b[0;34m)\u001b[0m\u001b[0;34m\u001b[0m\u001b[0;34m\u001b[0m\u001b[0m\n\u001b[0m\u001b[1;32m    790\u001b[0m     \u001b[0;32melse\u001b[0m\u001b[0;34m:\u001b[0m\u001b[0;34m\u001b[0m\u001b[0;34m\u001b[0m\u001b[0m\n\u001b[1;32m    791\u001b[0m         \u001b[0;31m# Rename maxfev (leastsq) to max_nfev (least_squares), if specified.\u001b[0m\u001b[0;34m\u001b[0m\u001b[0;34m\u001b[0m\u001b[0;34m\u001b[0m\u001b[0m\n",
      "\u001b[0;31mRuntimeError\u001b[0m: Optimal parameters not found: Number of calls to function has reached maxfev = 600."
     ]
    },
    {
     "data": {
      "image/png": "[encoded data removed]",
      "text/plain": [
       "<Figure size 432x288 with 1 Axes>"
      ]
     },
     "metadata": {
      "needs_background": "light"
     },
     "output_type": "display_data"
    }
   ],
   "source": [
    "def harmonic_proper_dihedral(theta, theta0, k):\n",
    "    n = 1\n",
    "    coslist = []\n",
    "    for t in theta:\n",
    "        coslist.append(math.cos(n*t - theta0))\n",
    "    final_coslist = np.array(coslist)\n",
    "    val =  k * (1 + final_coslist)\n",
    "    return val\n",
    "\n",
    "#get probability distribution from data\n",
    "plt2 = sns.kdeplot(BB1_BB2_BB3_pBB1_Hmapped_dihedral_all)\n",
    "xdata = plt2.lines[0].get_xdata()\n",
    "ydata = plt2.lines[0].get_ydata()\n",
    "\n",
    "#calculate energy\n",
    "U = P2U(ydata)\n",
    "\n",
    "#code to deal with innifite energy\n",
    "if(U.max() == float('inf')):\n",
    "    U2 = U\n",
    "    t = np.sort(U2)[::-1]\n",
    "    for x in t:\n",
    "        if(x==float('inf')):\n",
    "            continue\n",
    "        else:\n",
    "            second_largest = x\n",
    "            break\n",
    "    U[U==float('inf')]=(second_largest * 2)\n",
    "else:\n",
    "    U[U==float('inf')]=(U.max() * 2)\n",
    "\n",
    "plt.plot(xdata,U,color='black')\n",
    "\n",
    "#plot enegy and density\n",
    "import matplotlib.pyplot as plt\n",
    "plt.plot(xdata,U,color='black')\n",
    "\n",
    "# for i in range(0,xdata.shape[0]):\n",
    "params, pcov = curve_fit(harmonic_proper_dihedral, xdata,U,p0=[-41, 50000])\n",
    "print(\"parameter R_o is: \",params[0])\n",
    "print(\"parameter K is: \",params[1])\n",
    "# curve_fit(harmonic_angle, xdata[0], U, p0=[84, 1000])\n",
    "\n",
    "\n",
    "dihedral_parameters_dict['Parameter'].append('BB1_BB2_BB3_pBB1')\n",
    "dihedral_parameters_dict['raw data mean value'].append(xmean)\n",
    "dihedral_parameters_dict['raw data mode value gaussian-fitted mode value'].append(x[maxid])\n",
    "dihedral_parameters_dict['Seed value obtained using BOltzmann inversion'].append(params[0])\n",
    "dihedral_parameters_dict['K from boltzmann inversion'].append(params[1])"
   ]
  },
  {
   "cell_type": "code",
   "execution_count": 28,
   "metadata": {},
   "outputs": [
    {
     "name": "stderr",
     "output_type": "stream",
     "text": [
      "/home/subhasree/.local/lib/python3.6/site-packages/seaborn/distributions.py:2557: FutureWarning: `distplot` is a deprecated function and will be removed in a future version. Please adapt your code to use either `displot` (a figure-level function with similar flexibility) or `histplot` (an axes-level function for histograms).\n",
      "  warnings.warn(msg, FutureWarning)\n"
     ]
    },
    {
     "name": "stdout",
     "output_type": "stream",
     "text": [
      "second mode: 85.34537871691484\n",
      "BB2_BB3_pBB1_pBB2_Hmapped_dihedral_all\n",
      "Mean: Raw data -54.19474098393776\n",
      "Mode: Raw data -91.92397965589518\n",
      "Mode: Gauss-fitted -91.92397965589518\n"
     ]
    },
    {
     "data": {
      "image/png": "[encoded data removed]",
      "text/plain": [
       "<Figure size 432x288 with 1 Axes>"
      ]
     },
     "metadata": {
      "needs_background": "light"
     },
     "output_type": "display_data"
    }
   ],
   "source": [
    "# Density Plot and Histogram \n",
    "from scipy import stats\n",
    "xmedian = np.median(BB2_BB3_pBB1_pBB2_Hmapped_dihedral_all)\n",
    "xmean = np.mean(BB2_BB3_pBB1_pBB2_Hmapped_dihedral_all)\n",
    "# xmode = stats.mode(BB2_BB3_Hmapped_distance_all)[0][0] #gives wrong value\n",
    "\n",
    "# raw data plot\n",
    "plt = sns.distplot(BB2_BB3_pBB1_pBB2_Hmapped_dihedral_all, kde=True, \n",
    "            color = 'white',norm_hist=False,\n",
    "             kde_kws={'linewidth': 1}\n",
    "             )\n",
    "\n",
    "x = plt.lines[0].get_xdata()\n",
    "y = plt.lines[0].get_ydata()\n",
    "maxid = np.argmax(y)\n",
    "xmode = x[maxid]\n",
    "\n",
    "\n",
    "\n",
    "\n",
    "#script for multimodal graphs\n",
    "x_new = []\n",
    "y_new = []\n",
    "for item in x:\n",
    "    if(item>0 and item<200):\n",
    "        id = list(x).index(item)\n",
    "        x_new.append(x[id])\n",
    "        y_new.append(y[id])\n",
    "#check the mode in the new partition:\n",
    "print(\"second mode:\",x_new[np.argmax(y_new)])\n",
    "\n",
    "\n",
    "# #histogram plot + Density plot\n",
    "# import matplotlib.pyplot as plt\n",
    "# sns.displot(BB2_BB3_pBB1_pBB2_Hmapped_dihedral_all,bins=10)\n",
    "# \n",
    "# \n",
    "# \n",
    "\n",
    "#density plot\n",
    "import matplotlib.pyplot as plt\n",
    "ax = sns.kdeplot(BB2_BB3_pBB1_pBB2_Hmapped_dihedral_all)\n",
    "\n",
    "\n",
    "\n",
    "\n",
    "x = ax.lines[0].get_xdata()\n",
    "y = ax.lines[0].get_ydata()\n",
    "maxid = np.argmax(y)\n",
    "\n",
    "print(\"BB2_BB3_pBB1_pBB2_Hmapped_dihedral_all\")\n",
    "print(\"Mean: Raw data\",xmean)\n",
    "print(\"Mode: Raw data\",xmode)\n",
    "print(\"Mode: Gauss-fitted\",x[maxid])\n"
   ]
  },
  {
   "cell_type": "code",
   "execution_count": 29,
   "metadata": {},
   "outputs": [
    {
     "ename": "RuntimeError",
     "evalue": "Optimal parameters not found: Number of calls to function has reached maxfev = 600.",
     "output_type": "error",
     "traceback": [
      "\u001b[0;31m---------------------------------------------------------------------------\u001b[0m",
      "\u001b[0;31mRuntimeError\u001b[0m                              Traceback (most recent call last)",
      "\u001b[0;32m<ipython-input-29-db2c2eca5e78>\u001b[0m in \u001b[0;36m<module>\u001b[0;34m\u001b[0m\n\u001b[1;32m     34\u001b[0m \u001b[0;34m\u001b[0m\u001b[0m\n\u001b[1;32m     35\u001b[0m \u001b[0;31m# for i in range(0,xdata.shape[0]):\u001b[0m\u001b[0;34m\u001b[0m\u001b[0;34m\u001b[0m\u001b[0;34m\u001b[0m\u001b[0m\n\u001b[0;32m---> 36\u001b[0;31m \u001b[0mparams\u001b[0m\u001b[0;34m,\u001b[0m \u001b[0mpcov\u001b[0m \u001b[0;34m=\u001b[0m \u001b[0mcurve_fit\u001b[0m\u001b[0;34m(\u001b[0m\u001b[0mharmonic_proper_dihedral\u001b[0m\u001b[0;34m,\u001b[0m \u001b[0mxdata\u001b[0m\u001b[0;34m,\u001b[0m\u001b[0mU\u001b[0m\u001b[0;34m,\u001b[0m\u001b[0mp0\u001b[0m\u001b[0;34m=\u001b[0m\u001b[0;34m[\u001b[0m\u001b[0;34m-\u001b[0m\u001b[0;36m91\u001b[0m\u001b[0;34m,\u001b[0m \u001b[0;36m1000\u001b[0m\u001b[0;34m]\u001b[0m\u001b[0;34m)\u001b[0m\u001b[0;34m\u001b[0m\u001b[0;34m\u001b[0m\u001b[0m\n\u001b[0m\u001b[1;32m     37\u001b[0m \u001b[0mprint\u001b[0m\u001b[0;34m(\u001b[0m\u001b[0;34m\"parameter R_o is: \"\u001b[0m\u001b[0;34m,\u001b[0m\u001b[0mparams\u001b[0m\u001b[0;34m[\u001b[0m\u001b[0;36m0\u001b[0m\u001b[0;34m]\u001b[0m\u001b[0;34m)\u001b[0m\u001b[0;34m\u001b[0m\u001b[0;34m\u001b[0m\u001b[0m\n\u001b[1;32m     38\u001b[0m \u001b[0mprint\u001b[0m\u001b[0;34m(\u001b[0m\u001b[0;34m\"parameter K is: \"\u001b[0m\u001b[0;34m,\u001b[0m\u001b[0mparams\u001b[0m\u001b[0;34m[\u001b[0m\u001b[0;36m1\u001b[0m\u001b[0;34m]\u001b[0m\u001b[0;34m)\u001b[0m\u001b[0;34m\u001b[0m\u001b[0;34m\u001b[0m\u001b[0m\n",
      "\u001b[0;32m~/.local/lib/python3.6/site-packages/scipy/optimize/minpack.py\u001b[0m in \u001b[0;36mcurve_fit\u001b[0;34m(f, xdata, ydata, p0, sigma, absolute_sigma, check_finite, bounds, method, jac, **kwargs)\u001b[0m\n\u001b[1;32m    787\u001b[0m         \u001b[0mcost\u001b[0m \u001b[0;34m=\u001b[0m \u001b[0mnp\u001b[0m\u001b[0;34m.\u001b[0m\u001b[0msum\u001b[0m\u001b[0;34m(\u001b[0m\u001b[0minfodict\u001b[0m\u001b[0;34m[\u001b[0m\u001b[0;34m'fvec'\u001b[0m\u001b[0;34m]\u001b[0m \u001b[0;34m**\u001b[0m \u001b[0;36m2\u001b[0m\u001b[0;34m)\u001b[0m\u001b[0;34m\u001b[0m\u001b[0;34m\u001b[0m\u001b[0m\n\u001b[1;32m    788\u001b[0m         \u001b[0;32mif\u001b[0m \u001b[0mier\u001b[0m \u001b[0;32mnot\u001b[0m \u001b[0;32min\u001b[0m \u001b[0;34m[\u001b[0m\u001b[0;36m1\u001b[0m\u001b[0;34m,\u001b[0m \u001b[0;36m2\u001b[0m\u001b[0;34m,\u001b[0m \u001b[0;36m3\u001b[0m\u001b[0;34m,\u001b[0m \u001b[0;36m4\u001b[0m\u001b[0;34m]\u001b[0m\u001b[0;34m:\u001b[0m\u001b[0;34m\u001b[0m\u001b[0;34m\u001b[0m\u001b[0m\n\u001b[0;32m--> 789\u001b[0;31m             \u001b[0;32mraise\u001b[0m \u001b[0mRuntimeError\u001b[0m\u001b[0;34m(\u001b[0m\u001b[0;34m\"Optimal parameters not found: \"\u001b[0m \u001b[0;34m+\u001b[0m \u001b[0merrmsg\u001b[0m\u001b[0;34m)\u001b[0m\u001b[0;34m\u001b[0m\u001b[0;34m\u001b[0m\u001b[0m\n\u001b[0m\u001b[1;32m    790\u001b[0m     \u001b[0;32melse\u001b[0m\u001b[0;34m:\u001b[0m\u001b[0;34m\u001b[0m\u001b[0;34m\u001b[0m\u001b[0m\n\u001b[1;32m    791\u001b[0m         \u001b[0;31m# Rename maxfev (leastsq) to max_nfev (least_squares), if specified.\u001b[0m\u001b[0;34m\u001b[0m\u001b[0;34m\u001b[0m\u001b[0;34m\u001b[0m\u001b[0m\n",
      "\u001b[0;31mRuntimeError\u001b[0m: Optimal parameters not found: Number of calls to function has reached maxfev = 600."
     ]
    },
    {
     "data": {
      "image/png": "[encoded data removed]",
      "text/plain": [
       "<Figure size 432x288 with 1 Axes>"
      ]
     },
     "metadata": {
      "needs_background": "light"
     },
     "output_type": "display_data"
    }
   ],
   "source": [
    "def harmonic_proper_dihedral(theta, theta0, k):\n",
    "    n = 1\n",
    "    coslist = []\n",
    "    for t in theta:\n",
    "        coslist.append(math.cos(n*t - theta0))\n",
    "    final_coslist = np.array(coslist)\n",
    "    val =  k * (1 + final_coslist)\n",
    "    return val\n",
    "\n",
    "#get probability distribution from data\n",
    "plt2 = sns.kdeplot(BB2_BB3_pBB1_pBB2_Hmapped_dihedral_all)\n",
    "xdata = plt2.lines[0].get_xdata()\n",
    "ydata = plt2.lines[0].get_ydata()\n",
    "\n",
    "#calculate energy\n",
    "U = P2U(ydata)\n",
    "#code to deal with innifite energy\n",
    "if(U.max() == float('inf')):\n",
    "    U2 = U\n",
    "    t = np.sort(U2)[::-1]\n",
    "    for x in t:\n",
    "        if(x==float('inf')):\n",
    "            continue\n",
    "        else:\n",
    "            second_largest = x\n",
    "            break\n",
    "    U[U==float('inf')]=(second_largest * 2)\n",
    "else:\n",
    "    U[U==float('inf')]=(U.max() * 2)\n",
    "\n",
    "#plot enegy and density\n",
    "import matplotlib.pyplot as plt\n",
    "plt.plot(xdata,U,color='black')\n",
    "\n",
    "# for i in range(0,xdata.shape[0]):\n",
    "params, pcov = curve_fit(harmonic_proper_dihedral, xdata,U,p0=[-91, 1000])\n",
    "print(\"parameter R_o is: \",params[0])\n",
    "print(\"parameter K is: \",params[1])\n",
    "# curve_fit(harmonic_angle, xdata[0], U, p0=[84, 1000])\n",
    "\n",
    "dihedral_parameters_dict['Parameter'].append('BB2_BB3_pBB1_pBB2')\n",
    "dihedral_parameters_dict['raw data mean value'].append(xmean)\n",
    "dihedral_parameters_dict['raw data mode value gaussian-fitted mode value'].append(x[maxid])\n",
    "dihedral_parameters_dict['Seed value obtained using BOltzmann inversion'].append(params[0])\n",
    "dihedral_parameters_dict['K from boltzmann inversion'].append(params[1])"
   ]
  },
  {
   "cell_type": "code",
   "execution_count": 30,
   "metadata": {},
   "outputs": [
    {
     "name": "stderr",
     "output_type": "stream",
     "text": [
      "/home/subhasree/.local/lib/python3.6/site-packages/seaborn/distributions.py:2557: FutureWarning: `distplot` is a deprecated function and will be removed in a future version. Please adapt your code to use either `displot` (a figure-level function with similar flexibility) or `histplot` (an axes-level function for histograms).\n",
      "  warnings.warn(msg, FutureWarning)\n"
     ]
    },
    {
     "name": "stdout",
     "output_type": "stream",
     "text": [
      "second mode: 39.6966860173051\n",
      "BB3_pBB1_pBB2_pBB3_Hmapped_dihedral_all\n",
      "Mean: Raw data -96.1821826447116\n",
      "Mode: Raw data -146.24972846378182\n",
      "Mode: Gauss-fitted -146.24972846378182\n"
     ]
    },
    {
     "data": {
      "image/png": "[encoded data removed]",
      "text/plain": [
       "<Figure size 432x288 with 1 Axes>"
      ]
     },
     "metadata": {
      "needs_background": "light"
     },
     "output_type": "display_data"
    }
   ],
   "source": [
    "# Density Plot and Histogram \n",
    "from scipy import stats\n",
    "xmedian = np.median(BB3_pBB1_pBB2_pBB3_Hmapped_dihedral_all)\n",
    "xmean = np.mean(BB3_pBB1_pBB2_pBB3_Hmapped_dihedral_all)\n",
    "# xmode = stats.mode(BB2_BB3_Hmapped_distance_all)[0][0] #gives wrong value\n",
    "\n",
    "#raw data plot\n",
    "plt = sns.distplot(BB3_pBB1_pBB2_pBB3_Hmapped_dihedral_all, kde=True, \n",
    "            color = 'white',norm_hist=False,\n",
    "             kde_kws={'linewidth': 1}\n",
    "             )\n",
    "\n",
    "x = plt.lines[0].get_xdata()\n",
    "y = plt.lines[0].get_ydata()\n",
    "maxid = np.argmax(y)\n",
    "xmode = x[maxid]\n",
    "\n",
    "\n",
    "\n",
    "\n",
    "#script for multimodal graphs\n",
    "x_new = []\n",
    "y_new = []\n",
    "for item in x:\n",
    "    if(item>0 and item<200):\n",
    "        id = list(x).index(item)\n",
    "        x_new.append(x[id])\n",
    "        y_new.append(y[id])\n",
    "#check the mode in the new partition:\n",
    "print(\"second mode:\",x_new[np.argmax(y_new)])\n",
    "\n",
    "# # #histogram plot + Density plot\n",
    "# import matplotlib.pyplot as plt\n",
    "# sns.displot(BB3_pBB1_pBB2_pBB3_Hmapped_dihedral_all,bins=10)\n",
    "# \n",
    "# \n",
    "# \n",
    "\n",
    "#density plot\n",
    "import matplotlib.pyplot as plt\n",
    "ax = sns.kdeplot(BB3_pBB1_pBB2_pBB3_Hmapped_dihedral_all)\n",
    "\n",
    "\n",
    "\n",
    "\n",
    "x = ax.lines[0].get_xdata()\n",
    "y = ax.lines[0].get_ydata()\n",
    "maxid = np.argmax(y)\n",
    "\n",
    "print(\"BB3_pBB1_pBB2_pBB3_Hmapped_dihedral_all\")\n",
    "print(\"Mean: Raw data\",xmean)\n",
    "print(\"Mode: Raw data\",xmode)\n",
    "print(\"Mode: Gauss-fitted\",x[maxid])\n"
   ]
  },
  {
   "cell_type": "code",
   "execution_count": 31,
   "metadata": {},
   "outputs": [
    {
     "name": "stdout",
     "output_type": "stream",
     "text": [
      "parameter R_o is:  -144.50490505144052\n",
      "parameter K is:  1.112828413768152\n"
     ]
    },
    {
     "data": {
      "image/png": "[encoded data removed]",
      "text/plain": [
       "<Figure size 432x288 with 1 Axes>"
      ]
     },
     "metadata": {
      "needs_background": "light"
     },
     "output_type": "display_data"
    }
   ],
   "source": [
    "def harmonic_proper_dihedral(theta, theta0, k):\n",
    "    n = 2\n",
    "    coslist = []\n",
    "    for t in theta:\n",
    "        coslist.append(math.cos(n*t - theta0))\n",
    "    final_coslist = np.array(coslist)\n",
    "    val =  k * (1 + final_coslist)\n",
    "    return val\n",
    "\n",
    "#get probability distribution from data\n",
    "plt2 = sns.kdeplot(BB3_pBB1_pBB2_pBB3_Hmapped_dihedral_all)\n",
    "xdata = plt2.lines[0].get_xdata()\n",
    "ydata = plt2.lines[0].get_ydata()\n",
    "\n",
    "#calculate energy\n",
    "U = P2U(ydata)\n",
    "\n",
    "#code to deal with innifite energy\n",
    "if(U.max() == float('inf')):\n",
    "    U2 = U\n",
    "    t = np.sort(U2)[::-1]\n",
    "    for x in t:\n",
    "        if(x==float('inf')):\n",
    "            continue\n",
    "        else:\n",
    "            second_largest = x\n",
    "            break\n",
    "    U[U==float('inf')]=(second_largest * 2)\n",
    "else:\n",
    "    U[U==float('inf')]=(U.max() * 2)\n",
    "\n",
    "\n",
    "#plot enegy and density\n",
    "import matplotlib.pyplot as plt\n",
    "plt.plot(xdata,U,color='black')\n",
    "\n",
    "# for i in range(0,xdata.shape[0]):\n",
    "params, pcov = curve_fit(harmonic_proper_dihedral, xdata,U,p0=[-146, 50000])\n",
    "print(\"parameter R_o is: \",params[0])\n",
    "print(\"parameter K is: \",params[1])\n",
    "# curve_fit(harmonic_angle, xdata[0], U, p0=[84, 1000])\n",
    "\n",
    "dihedral_parameters_dict['Parameter'].append('BB3_pBB1_pBB2_pBB3')\n",
    "dihedral_parameters_dict['raw data mean value'].append(xmean)\n",
    "dihedral_parameters_dict['raw data mode value gaussian-fitted mode value'].append(x[maxid])\n",
    "dihedral_parameters_dict['Seed value obtained using BOltzmann inversion'].append(params[0])\n",
    "dihedral_parameters_dict['K from boltzmann inversion'].append(params[1])"
   ]
  },
  {
   "cell_type": "code",
   "execution_count": 32,
   "metadata": {},
   "outputs": [
    {
     "name": "stderr",
     "output_type": "stream",
     "text": [
      "/home/subhasree/.local/lib/python3.6/site-packages/seaborn/distributions.py:2557: FutureWarning: `distplot` is a deprecated function and will be removed in a future version. Please adapt your code to use either `displot` (a figure-level function with similar flexibility) or `histplot` (an axes-level function for histograms).\n",
      "  warnings.warn(msg, FutureWarning)\n"
     ]
    },
    {
     "name": "stdout",
     "output_type": "stream",
     "text": [
      "BB1_BB2_BB3_ASC1_Hmapped_dihedral_all\n",
      "Mean: Raw data -139.84036821901205\n",
      "Mode: Raw data -140.15050664257828\n",
      "Mode: Gauss-fitted -140.15050664257828\n"
     ]
    },
    {
     "data": {
      "image/png": "[encoded data removed]",
      "text/plain": [
       "<Figure size 432x288 with 1 Axes>"
      ]
     },
     "metadata": {
      "needs_background": "light"
     },
     "output_type": "display_data"
    }
   ],
   "source": [
    "# Density Plot and Histogram \n",
    "from scipy import stats\n",
    "xmedian = np.median(BB1_BB2_BB3_ASC1_Hmapped_dihedral_all)\n",
    "xmean = np.mean(BB1_BB2_BB3_ASC1_Hmapped_dihedral_all)\n",
    "# xmode = stats.mode(BB2_BB3_Hmapped_distance_all)[0][0] #gives wrong value\n",
    "\n",
    "# #raw data plot\n",
    "plt = sns.distplot(BB1_BB2_BB3_ASC1_Hmapped_dihedral_all, kde=True, \n",
    "            color = 'white',norm_hist=False,\n",
    "             kde_kws={'linewidth': 1}\n",
    "             )\n",
    "\n",
    "x = plt.lines[0].get_xdata()\n",
    "y = plt.lines[0].get_ydata()\n",
    "maxid = np.argmax(y)\n",
    "xmode = x[maxid]\n",
    "\n",
    "\n",
    "\n",
    "\n",
    "# # #histogram plot + Density plot\n",
    "# import matplotlib.pyplot as plt\n",
    "# sns.displot(BB1_BB2_BB3_ASC1_Hmapped_dihedral_all,bins=10)\n",
    "# \n",
    "# \n",
    "# \n",
    "\n",
    "# density plot\n",
    "import matplotlib.pyplot as plt\n",
    "ax = sns.kdeplot(BB1_BB2_BB3_ASC1_Hmapped_dihedral_all)\n",
    "\n",
    "\n",
    "\n",
    "\n",
    "x = ax.lines[0].get_xdata()\n",
    "y = ax.lines[0].get_ydata()\n",
    "maxid = np.argmax(y)\n",
    "\n",
    "print(\"BB1_BB2_BB3_ASC1_Hmapped_dihedral_all\")\n",
    "print(\"Mean: Raw data\",xmean)\n",
    "print(\"Mode: Raw data\",xmode)\n",
    "print(\"Mode: Gauss-fitted\",x[maxid])\n"
   ]
  },
  {
   "cell_type": "code",
   "execution_count": 33,
   "metadata": {},
   "outputs": [
    {
     "name": "stdout",
     "output_type": "stream",
     "text": [
      "parameter R_o is:  -141.42232803874614\n",
      "parameter K is:  2.011502541855715\n"
     ]
    },
    {
     "data": {
      "image/png": "[encoded data removed]",
      "text/plain": [
       "<Figure size 432x288 with 1 Axes>"
      ]
     },
     "metadata": {
      "needs_background": "light"
     },
     "output_type": "display_data"
    }
   ],
   "source": [
    "def harmonic_proper_dihedral(theta, theta0, k):\n",
    "    n = 2\n",
    "    coslist = []\n",
    "    for t in theta:\n",
    "        coslist.append(math.cos(n*t - theta0))\n",
    "    final_coslist = np.array(coslist)\n",
    "    val =  k * (1 + final_coslist)\n",
    "    return val\n",
    "\n",
    "#get probability distribution from data\n",
    "plt2 = sns.kdeplot(BB1_BB2_BB3_ASC1_Hmapped_dihedral_all)\n",
    "xdata = plt2.lines[0].get_xdata()\n",
    "ydata = plt2.lines[0].get_ydata()\n",
    "\n",
    "#calculate energy\n",
    "U = P2U(ydata)\n",
    "\n",
    "#code to deal with innifite energy\n",
    "if(U.max() == float('inf')):\n",
    "    U2 = U\n",
    "    t = np.sort(U2)[::-1]\n",
    "    for x in t:\n",
    "        if(x==float('inf')):\n",
    "            continue\n",
    "        else:\n",
    "            second_largest = x\n",
    "            break\n",
    "    U[U==float('inf')]=(second_largest * 2)\n",
    "else:\n",
    "    U[U==float('inf')]=(U.max() * 2)\n",
    "\n",
    "\n",
    "#plot enegy and density\n",
    "import matplotlib.pyplot as plt\n",
    "plt.plot(xdata,U,color='red')\n",
    "\n",
    "# for i in range(0,xdata.shape[0]):\n",
    "params, pcov = curve_fit(harmonic_proper_dihedral, xdata,U,p0=[-140, 50000])\n",
    "print(\"parameter R_o is: \",params[0])\n",
    "print(\"parameter K is: \",params[1])\n",
    "# curve_fit(harmonic_angle, xdata[0], U, p0=[84, 1000])\n",
    "\n",
    "dihedral_parameters_dict['Parameter'].append('BB1_BB2_BB3_ASC1')\n",
    "dihedral_parameters_dict['raw data mean value'].append(xmean)\n",
    "dihedral_parameters_dict['raw data mode value gaussian-fitted mode value'].append(x[maxid])\n",
    "dihedral_parameters_dict['Seed value obtained using BOltzmann inversion'].append(params[0])\n",
    "dihedral_parameters_dict['K from boltzmann inversion'].append(params[1])"
   ]
  },
  {
   "cell_type": "code",
   "execution_count": 34,
   "metadata": {},
   "outputs": [
    {
     "name": "stderr",
     "output_type": "stream",
     "text": [
      "/home/subhasree/.local/lib/python3.6/site-packages/seaborn/distributions.py:2557: FutureWarning: `distplot` is a deprecated function and will be removed in a future version. Please adapt your code to use either `displot` (a figure-level function with similar flexibility) or `histplot` (an axes-level function for histograms).\n",
      "  warnings.warn(msg, FutureWarning)\n"
     ]
    },
    {
     "name": "stdout",
     "output_type": "stream",
     "text": [
      "second mode: 141.3573922685071\n",
      "BB2_BB3_ASC1_ASC2_Hmapped_dihedral_all\n",
      "Mean: Raw data -129.47731528437214\n",
      "Mode: Raw data -155.75686998524122\n",
      "Mode: Gauss-fitted -155.75686998524122\n"
     ]
    },
    {
     "data": {
      "image/png": "[encoded data removed]",
      "text/plain": [
       "<Figure size 432x288 with 1 Axes>"
      ]
     },
     "metadata": {
      "needs_background": "light"
     },
     "output_type": "display_data"
    }
   ],
   "source": [
    "# Density Plot and Histogram \n",
    "from scipy import stats\n",
    "xmedian = np.median(BB2_BB3_ASC1_ASC2_Hmapped_dihedral_all)\n",
    "xmean = np.mean(BB2_BB3_ASC1_ASC2_Hmapped_dihedral_all)\n",
    "# xmode = stats.mode(BB2_BB3_Hmapped_distance_all)[0][0] #gives wrong value\n",
    "\n",
    "#raw data plot\n",
    "plt = sns.distplot(BB2_BB3_ASC1_ASC2_Hmapped_dihedral_all, kde=True, \n",
    "            color = 'white',norm_hist=False,\n",
    "             kde_kws={'linewidth': 1}\n",
    "             )\n",
    "\n",
    "x = plt.lines[0].get_xdata()\n",
    "y = plt.lines[0].get_ydata()\n",
    "maxid = np.argmax(y)\n",
    "xmode = x[maxid]\n",
    "\n",
    "\n",
    "\n",
    "\n",
    "#script for multimodal graphs\n",
    "x_new = []\n",
    "y_new = []\n",
    "for item in x:\n",
    "    if(item>0 and item<200):\n",
    "        id = list(x).index(item)\n",
    "        x_new.append(x[id])\n",
    "        y_new.append(y[id])\n",
    "#check the mode in the new partition:\n",
    "print(\"second mode:\",x_new[np.argmax(y_new)])\n",
    "\n",
    "# # #histogram plot + Density plot\n",
    "# import matplotlib.pyplot as plt\n",
    "# sns.displot(BB2_BB3_ASC1_ASC2_Hmapped_dihedral_all,bins=10)\n",
    "# \n",
    "# \n",
    "# \n",
    "\n",
    "#density plot\n",
    "import matplotlib.pyplot as plt\n",
    "ax = sns.kdeplot(BB2_BB3_ASC1_ASC2_Hmapped_dihedral_all)\n",
    "\n",
    "\n",
    "\n",
    "\n",
    "x = ax.lines[0].get_xdata()\n",
    "y = ax.lines[0].get_ydata()\n",
    "maxid = np.argmax(y)\n",
    "\n",
    "print(\"BB2_BB3_ASC1_ASC2_Hmapped_dihedral_all\")\n",
    "print(\"Mean: Raw data\",xmean)\n",
    "print(\"Mode: Raw data\",xmode)\n",
    "print(\"Mode: Gauss-fitted\",x[maxid])\n"
   ]
  },
  {
   "cell_type": "code",
   "execution_count": 53,
   "metadata": {},
   "outputs": [
    {
     "name": "stdout",
     "output_type": "stream",
     "text": [
      "parameter R_o is:  -119.20466668229717\n",
      "parameter K is:  2.212037577485315\n"
     ]
    },
    {
     "data": {
      "image/png": "[encoded data removed]",
      "text/plain": [
       "<Figure size 432x288 with 1 Axes>"
      ]
     },
     "metadata": {
      "needs_background": "light"
     },
     "output_type": "display_data"
    }
   ],
   "source": [
    "def harmonic_proper_dihedral(theta, theta0, k):\n",
    "    n = 1\n",
    "    coslist = []\n",
    "    for t in theta:\n",
    "        coslist.append(math.cos(n*t - theta0))\n",
    "    final_coslist = np.array(coslist)\n",
    "    val =  k * (1 + final_coslist)\n",
    "    return val\n",
    "\n",
    "#get probability distribution from data\n",
    "plt2 = sns.kdeplot(BB2_BB3_ASC1_ASC2_Hmapped_dihedral_all)\n",
    "xdata = plt2.lines[0].get_xdata()\n",
    "ydata = plt2.lines[0].get_ydata()\n",
    "\n",
    "#calculate energy\n",
    "U = P2U(ydata)\n",
    "\n",
    "#code to deal with innifite energy\n",
    "if(U.max() == float('inf')):\n",
    "    U2 = U\n",
    "    t = np.sort(U2)[::-1]\n",
    "    for x in t:\n",
    "        if(x==float('inf')):\n",
    "            continue\n",
    "        else:\n",
    "            second_largest = x\n",
    "            break\n",
    "    U[U==float('inf')]=(second_largest * 2)\n",
    "else:\n",
    "    U[U==float('inf')]=(U.max() * 2)\n",
    "\n",
    "\n",
    "#plot enegy and density\n",
    "import matplotlib.pyplot as plt\n",
    "plt.plot(xdata,U,color='red')\n",
    "\n",
    "# for i in range(0,xdata.shape[0]):\n",
    "params, pcov = curve_fit(harmonic_proper_dihedral, xdata,U,p0=[-120, 50000])\n",
    "print(\"parameter R_o is: \",params[0])\n",
    "print(\"parameter K is: \",params[1])\n",
    "# curve_fit(harmonic_angle, xdata[0], U, p0=[84, 1000])\n",
    "dihedral_parameters_dict['Parameter'].append('BB2_BB3_ASC1_ASC2')\n",
    "dihedral_parameters_dict['raw data mean value'].append(xmean)\n",
    "dihedral_parameters_dict['raw data mode value gaussian-fitted mode value'].append(x[maxid])\n",
    "dihedral_parameters_dict['Seed value obtained using BOltzmann inversion'].append(params[0])\n",
    "dihedral_parameters_dict['K from boltzmann inversion'].append(params[1])"
   ]
  },
  {
   "cell_type": "code",
   "execution_count": 36,
   "metadata": {},
   "outputs": [
    {
     "name": "stderr",
     "output_type": "stream",
     "text": [
      "/home/subhasree/.local/lib/python3.6/site-packages/seaborn/distributions.py:2557: FutureWarning: `distplot` is a deprecated function and will be removed in a future version. Please adapt your code to use either `displot` (a figure-level function with similar flexibility) or `histplot` (an axes-level function for histograms).\n",
      "  warnings.warn(msg, FutureWarning)\n",
      "/home/subhasree/.local/lib/python3.6/site-packages/numpy/lib/histograms.py:905: RuntimeWarning: invalid value encountered in true_divide\n",
      "  return n/db/n.sum(), bin_edges\n"
     ]
    },
    {
     "ename": "IndexError",
     "evalue": "list index out of range",
     "output_type": "error",
     "traceback": [
      "\u001b[0;31m---------------------------------------------------------------------------\u001b[0m",
      "\u001b[0;31mIndexError\u001b[0m                                Traceback (most recent call last)",
      "\u001b[0;32m<ipython-input-36-91a59a6e1592>\u001b[0m in \u001b[0;36m<module>\u001b[0;34m\u001b[0m\n\u001b[1;32m     11\u001b[0m              )\n\u001b[1;32m     12\u001b[0m \u001b[0;34m\u001b[0m\u001b[0m\n\u001b[0;32m---> 13\u001b[0;31m \u001b[0mx\u001b[0m \u001b[0;34m=\u001b[0m \u001b[0mplt\u001b[0m\u001b[0;34m.\u001b[0m\u001b[0mlines\u001b[0m\u001b[0;34m[\u001b[0m\u001b[0;36m0\u001b[0m\u001b[0;34m]\u001b[0m\u001b[0;34m.\u001b[0m\u001b[0mget_xdata\u001b[0m\u001b[0;34m(\u001b[0m\u001b[0;34m)\u001b[0m\u001b[0;34m\u001b[0m\u001b[0;34m\u001b[0m\u001b[0m\n\u001b[0m\u001b[1;32m     14\u001b[0m \u001b[0my\u001b[0m \u001b[0;34m=\u001b[0m \u001b[0mplt\u001b[0m\u001b[0;34m.\u001b[0m\u001b[0mlines\u001b[0m\u001b[0;34m[\u001b[0m\u001b[0;36m0\u001b[0m\u001b[0;34m]\u001b[0m\u001b[0;34m.\u001b[0m\u001b[0mget_ydata\u001b[0m\u001b[0;34m(\u001b[0m\u001b[0;34m)\u001b[0m\u001b[0;34m\u001b[0m\u001b[0;34m\u001b[0m\u001b[0m\n\u001b[1;32m     15\u001b[0m \u001b[0mmaxid\u001b[0m \u001b[0;34m=\u001b[0m \u001b[0mnp\u001b[0m\u001b[0;34m.\u001b[0m\u001b[0margmax\u001b[0m\u001b[0;34m(\u001b[0m\u001b[0my\u001b[0m\u001b[0;34m)\u001b[0m\u001b[0;34m\u001b[0m\u001b[0;34m\u001b[0m\u001b[0m\n",
      "\u001b[0;31mIndexError\u001b[0m: list index out of range"
     ]
    },
    {
     "data": {
      "image/png": "[encoded data removed]",
      "text/plain": [
       "<Figure size 432x288 with 1 Axes>"
      ]
     },
     "metadata": {
      "needs_background": "light"
     },
     "output_type": "display_data"
    }
   ],
   "source": [
    "# Density Plot and Histogram \n",
    "from scipy import stats\n",
    "xmedian = np.median(BB2_BB3_ASC1_ASC4_Hmapped_dihedral_all)\n",
    "xmean = np.mean(BB2_BB3_ASC1_ASC4_Hmapped_dihedral_all)\n",
    "# xmode = stats.mode(BB2_BB3_Hmapped_distance_all)[0][0] #gives wrong value\n",
    "\n",
    "#raw data plot\n",
    "plt = sns.distplot(BB2_BB3_ASC1_ASC4_Hmapped_dihedral_all, kde=True, \n",
    "            color = 'white',norm_hist=False,\n",
    "             kde_kws={'linewidth': 1}\n",
    "             )\n",
    "\n",
    "x = plt.lines[0].get_xdata()\n",
    "y = plt.lines[0].get_ydata()\n",
    "maxid = np.argmax(y)\n",
    "xmode = x[maxid]\n",
    "\n",
    "\n",
    "\n",
    "\n",
    "# # #histogram plot + Density plot\n",
    "# import matplotlib.pyplot as plt\n",
    "# sns.displot(BB2_BB3_ASC1_ASC4_Hmapped_dihedral_all,bins=10)\n",
    "# \n",
    "# \n",
    "# \n",
    "\n",
    "# density plot\n",
    "import matplotlib.pyplot as plt\n",
    "ax = sns.kdeplot(BB2_BB3_ASC1_ASC4_Hmapped_dihedral_all)\n",
    "\n",
    "\n",
    "\n",
    "\n",
    "x = ax.lines[0].get_xdata()\n",
    "y = ax.lines[0].get_ydata()\n",
    "maxid = np.argmax(y)\n",
    "\n",
    "print(\"BB2_BB3_ASC1_ASC4_Hmapped_dihedral_all\")\n",
    "print(\"Mean: Raw data\",xmean)\n",
    "print(\"Mode: Raw data\",xmode)\n",
    "print(\"Mode: Gauss-fitted\",x[maxid])\n"
   ]
  },
  {
   "cell_type": "code",
   "execution_count": 65,
   "metadata": {},
   "outputs": [
    {
     "ename": "NameError",
     "evalue": "name 'BB2_BB3_ASC1_ASC4_Hmapped_dihedral_all_BB3' is not defined",
     "output_type": "error",
     "traceback": [
      "\u001b[0;31m---------------------------------------------------------------------------\u001b[0m",
      "\u001b[0;31mNameError\u001b[0m                                 Traceback (most recent call last)",
      "\u001b[0;32m<ipython-input-65-e6ff508784da>\u001b[0m in \u001b[0;36m<module>\u001b[0;34m\u001b[0m\n\u001b[0;32m----> 1\u001b[0;31m \u001b[0mBB2_BB3_ASC1_ASC4_Hmapped_dihedral_all_BB3\u001b[0m\u001b[0;34m\u001b[0m\u001b[0;34m\u001b[0m\u001b[0m\n\u001b[0m",
      "\u001b[0;31mNameError\u001b[0m: name 'BB2_BB3_ASC1_ASC4_Hmapped_dihedral_all_BB3' is not defined"
     ]
    }
   ],
   "source": [
    "BB2_BB3_ASC1_ASC4_Hmapped_dihedral_all_BB3"
   ]
  },
  {
   "cell_type": "code",
   "execution_count": 37,
   "metadata": {},
   "outputs": [
    {
     "ename": "IndexError",
     "evalue": "list index out of range",
     "output_type": "error",
     "traceback": [
      "\u001b[0;31m---------------------------------------------------------------------------\u001b[0m",
      "\u001b[0;31mIndexError\u001b[0m                                Traceback (most recent call last)",
      "\u001b[0;32m<ipython-input-37-a58b40c21c9e>\u001b[0m in \u001b[0;36m<module>\u001b[0;34m\u001b[0m\n\u001b[1;32m     10\u001b[0m \u001b[0;31m#get probability distribution from data\u001b[0m\u001b[0;34m\u001b[0m\u001b[0;34m\u001b[0m\u001b[0;34m\u001b[0m\u001b[0m\n\u001b[1;32m     11\u001b[0m \u001b[0mplt2\u001b[0m \u001b[0;34m=\u001b[0m \u001b[0msns\u001b[0m\u001b[0;34m.\u001b[0m\u001b[0mkdeplot\u001b[0m\u001b[0;34m(\u001b[0m\u001b[0mBB2_BB3_ASC1_ASC4_Hmapped_dihedral_all\u001b[0m\u001b[0;34m)\u001b[0m\u001b[0;34m\u001b[0m\u001b[0;34m\u001b[0m\u001b[0m\n\u001b[0;32m---> 12\u001b[0;31m \u001b[0mxdata\u001b[0m \u001b[0;34m=\u001b[0m \u001b[0mplt2\u001b[0m\u001b[0;34m.\u001b[0m\u001b[0mlines\u001b[0m\u001b[0;34m[\u001b[0m\u001b[0;36m0\u001b[0m\u001b[0;34m]\u001b[0m\u001b[0;34m.\u001b[0m\u001b[0mget_xdata\u001b[0m\u001b[0;34m(\u001b[0m\u001b[0;34m)\u001b[0m\u001b[0;34m\u001b[0m\u001b[0;34m\u001b[0m\u001b[0m\n\u001b[0m\u001b[1;32m     13\u001b[0m \u001b[0mydata\u001b[0m \u001b[0;34m=\u001b[0m \u001b[0mplt2\u001b[0m\u001b[0;34m.\u001b[0m\u001b[0mlines\u001b[0m\u001b[0;34m[\u001b[0m\u001b[0;36m0\u001b[0m\u001b[0;34m]\u001b[0m\u001b[0;34m.\u001b[0m\u001b[0mget_ydata\u001b[0m\u001b[0;34m(\u001b[0m\u001b[0;34m)\u001b[0m\u001b[0;34m\u001b[0m\u001b[0;34m\u001b[0m\u001b[0m\n\u001b[1;32m     14\u001b[0m \u001b[0;34m\u001b[0m\u001b[0m\n",
      "\u001b[0;31mIndexError\u001b[0m: list index out of range"
     ]
    },
    {
     "data": {
      "image/png": "[encoded data removed]",
      "text/plain": [
       "<Figure size 432x288 with 1 Axes>"
      ]
     },
     "metadata": {
      "needs_background": "light"
     },
     "output_type": "display_data"
    }
   ],
   "source": [
    "def harmonic_proper_dihedral(theta, theta0, k):\n",
    "    n = 2\n",
    "    coslist = []\n",
    "    for t in theta:\n",
    "        coslist.append(math.cos(n*t - theta0))\n",
    "    final_coslist = np.array(coslist)\n",
    "    val =  k * (1 + final_coslist)\n",
    "    return val\n",
    "\n",
    "#get probability distribution from data\n",
    "plt2 = sns.kdeplot(BB2_BB3_ASC1_ASC4_Hmapped_dihedral_all)\n",
    "xdata = plt2.lines[0].get_xdata()\n",
    "ydata = plt2.lines[0].get_ydata()\n",
    "\n",
    "#calculate energy\n",
    "U = P2U(ydata)\n",
    "\n",
    "#code to deal with innifite energy\n",
    "if(U.max() == float('inf')):\n",
    "    U2 = U\n",
    "    t = np.sort(U2)[::-1]\n",
    "    for x in t:\n",
    "        if(x==float('inf')):\n",
    "            continue\n",
    "        else:\n",
    "            second_largest = x\n",
    "            break\n",
    "    U[U==float('inf')]=(second_largest * 2)\n",
    "else:\n",
    "    U[U==float('inf')]=(U.max() * 2)\n",
    "\n",
    "#plot enegy and density\n",
    "import matplotlib.pyplot as plt\n",
    "plt.plot(xdata,U,color='red')\n",
    "\n",
    "# for i in range(0,xdata.shape[0]):\n",
    "params, pcov = curve_fit(harmonic_proper_dihedral, xdata,U,p0=[0, 50000])\n",
    "print(\"parameter R_o is: \",params[0])\n",
    "print(\"parameter K is: \",params[1])\n",
    "# curve_fit(harmonic_angle, xdata[0], U, p0=[84, 1000])\n",
    "dihedral_parameters_dict['Parameter'].append('BB2_BB3_ASC1_ASC4')\n",
    "dihedral_parameters_dict['raw data mean value'].append(xmean)\n",
    "dihedral_parameters_dict['raw data mode value gaussian-fitted mode value'].append(x[maxid])\n",
    "dihedral_parameters_dict['Seed value obtained using BOltzmann inversion'].append(params[0])\n",
    "dihedral_parameters_dict['K from boltzmann inversion'].append(params[1])"
   ]
  },
  {
   "cell_type": "code",
   "execution_count": 38,
   "metadata": {},
   "outputs": [
    {
     "name": "stderr",
     "output_type": "stream",
     "text": [
      "/home/subhasree/.local/lib/python3.6/site-packages/seaborn/distributions.py:1657: FutureWarning: The `bw` parameter is deprecated in favor of `bw_method` and `bw_adjust`. Using 0.5 for `bw_method`, but please see the docs for the new parameters and update your code.\n",
      "  warnings.warn(msg, FutureWarning)\n"
     ]
    },
    {
     "name": "stdout",
     "output_type": "stream",
     "text": [
      "ASC1_ASC2_ASC3_ASC4_Hmapped_dihedral_all\n",
      "Mean: Raw data 0.38615587433074045\n",
      "Mode: Raw data 0.5635516314740201\n",
      "Mode: Gauss-fitted 0.5635516314740201\n"
     ]
    },
    {
     "data": {
      "image/png": "[encoded data removed]",
      "text/plain": [
       "<Figure size 432x288 with 1 Axes>"
      ]
     },
     "metadata": {
      "needs_background": "light"
     },
     "output_type": "display_data"
    }
   ],
   "source": [
    "# Density Plot and Histogram \n",
    "from scipy import stats\n",
    "xmedian = np.median(ASC1_ASC2_ASC3_ASC4_Hmapped_dihedral_all)\n",
    "xmean = np.mean(ASC1_ASC2_ASC3_ASC4_Hmapped_dihedral_all)\n",
    "# xmode = stats.mode(BB2_BB3_Hmapped_distance_all)[0][0] #gives wrong value\n",
    "\n",
    "#raw data plot\n",
    "plt = sns.distplot(ASC1_ASC2_ASC3_ASC4_Hmapped_dihedral_all, kde=True, \n",
    "            color = 'white',norm_hist=False,\n",
    "             kde_kws={'linewidth': 1}\n",
    "             )\n",
    "\n",
    "x = plt.lines[0].get_xdata()\n",
    "y = plt.lines[0].get_ydata()\n",
    "maxid = np.argmax(y)\n",
    "xmode = x[maxid]\n",
    "\n",
    "\n",
    "\n",
    "\n",
    "# # #histogram plot + Density plot\n",
    "# import matplotlib.pyplot as plt\n",
    "# sns.displot(ASC1_ASC2_ASC3_ASC4_Hmapped_dihedral_all,bins=10)\n",
    "# \n",
    "# \n",
    "# \n",
    "\n",
    "# density plot\n",
    "import matplotlib.pyplot as plt\n",
    "ax = sns.kdeplot(ASC1_ASC2_ASC3_ASC4_Hmapped_dihedral_all,bw=0.5)\n",
    "\n",
    "\n",
    "\n",
    "\n",
    "x = ax.lines[0].get_xdata()\n",
    "y = ax.lines[0].get_ydata()\n",
    "maxid = np.argmax(y)\n",
    "\n",
    "print(\"ASC1_ASC2_ASC3_ASC4_Hmapped_dihedral_all\")\n",
    "print(\"Mean: Raw data\",xmean)\n",
    "print(\"Mode: Raw data\",xmode)\n",
    "print(\"Mode: Gauss-fitted\",x[maxid])\n"
   ]
  },
  {
   "cell_type": "code",
   "execution_count": 57,
   "metadata": {},
   "outputs": [
    {
     "name": "stderr",
     "output_type": "stream",
     "text": [
      "/home/subhasree/.local/lib/python3.6/site-packages/seaborn/distributions.py:1657: FutureWarning: The `bw` parameter is deprecated in favor of `bw_method` and `bw_adjust`. Using 0.5 for `bw_method`, but please see the docs for the new parameters and update your code.\n",
      "  warnings.warn(msg, FutureWarning)\n"
     ]
    },
    {
     "name": "stdout",
     "output_type": "stream",
     "text": [
      "parameter R_o is:  -2.4182233408443663\n",
      "parameter K is:  1.87797078731193\n"
     ]
    },
    {
     "data": {
      "image/png": "[encoded data removed]",
      "text/plain": [
       "<Figure size 432x288 with 1 Axes>"
      ]
     },
     "metadata": {
      "needs_background": "light"
     },
     "output_type": "display_data"
    }
   ],
   "source": [
    "def harmonic_proper_dihedral(theta, theta0, k):\n",
    "    n = 1\n",
    "    coslist = []\n",
    "    for t in theta:\n",
    "        coslist.append(math.cos(n*t - theta0))\n",
    "    final_coslist = np.array(coslist)\n",
    "    val =  k * (1 + final_coslist)\n",
    "    return val\n",
    "\n",
    "#get probability distribution from data\n",
    "plt2 = sns.kdeplot(ASC1_ASC2_ASC3_ASC4_Hmapped_dihedral_all,bw=0.5)\n",
    "xdata = plt2.lines[0].get_xdata()\n",
    "ydata = plt2.lines[0].get_ydata()\n",
    "\n",
    "#calculate energy\n",
    "U = P2U(ydata)\n",
    "\n",
    "#code to deal with innifite energy\n",
    "if(U.max() == float('inf')):\n",
    "    U2 = U\n",
    "    t = np.sort(U2)[::-1]\n",
    "    for x in t:\n",
    "        if(x==float('inf')):\n",
    "            continue\n",
    "        else:\n",
    "            second_largest = x\n",
    "            break\n",
    "    U[U==float('inf')]=(second_largest * 2)\n",
    "else:\n",
    "    U[U==float('inf')]=(U.max() * 2)\n",
    "\n",
    "#plot enegy and density\n",
    "import matplotlib.pyplot as plt\n",
    "plt.plot(xdata,U,color='red')\n",
    "\n",
    "# for i in range(0,xdata.shape[0]):\n",
    "params, pcov = curve_fit(harmonic_proper_dihedral, xdata,U,p0=[-1, 50000])\n",
    "print(\"parameter R_o is: \",params[0])\n",
    "print(\"parameter K is: \",params[1])\n",
    "# curve_fit(harmonic_angle, xdata[0], U, p0=[84, 1000])\n",
    "dihedral_parameters_dict['Parameter'].append('ASC1_ASC2_ASC3_ASC4')\n",
    "dihedral_parameters_dict['raw data mean value'].append(xmean)\n",
    "dihedral_parameters_dict['raw data mode value gaussian-fitted mode value'].append(x[maxid])\n",
    "dihedral_parameters_dict['Seed value obtained using BOltzmann inversion'].append(params[0])\n",
    "dihedral_parameters_dict['K from boltzmann inversion'].append(params[1])"
   ]
  },
  {
   "cell_type": "code",
   "execution_count": 40,
   "metadata": {},
   "outputs": [
    {
     "name": "stderr",
     "output_type": "stream",
     "text": [
      "/home/subhasree/.local/lib/python3.6/site-packages/seaborn/distributions.py:2557: FutureWarning: `distplot` is a deprecated function and will be removed in a future version. Please adapt your code to use either `displot` (a figure-level function with similar flexibility) or `histplot` (an axes-level function for histograms).\n",
      "  warnings.warn(msg, FutureWarning)\n",
      "/home/subhasree/.local/lib/python3.6/site-packages/seaborn/distributions.py:1657: FutureWarning: The `bw` parameter is deprecated in favor of `bw_method` and `bw_adjust`. Using 0.2 for `bw_method`, but please see the docs for the new parameters and update your code.\n",
      "  warnings.warn(msg, FutureWarning)\n"
     ]
    },
    {
     "name": "stdout",
     "output_type": "stream",
     "text": [
      "BB1_BB2_BB3_USC1_Hmapped_dihedral_all\n",
      "Mean: Raw data -133.12684604505506\n",
      "Mode: Raw data -134.25317685623992\n",
      "Mode: Gauss-fitted -134.25317685623992\n"
     ]
    },
    {
     "data": {
      "image/png": "[encoded data removed]",
      "text/plain": [
       "<Figure size 432x288 with 1 Axes>"
      ]
     },
     "metadata": {
      "needs_background": "light"
     },
     "output_type": "display_data"
    }
   ],
   "source": [
    "# Density Plot and Histogram \n",
    "from scipy import stats\n",
    "xmedian = np.median(BB1_BB2_BB3_USC1_Hmapped_dihedral_all)\n",
    "xmean = np.mean(BB1_BB2_BB3_USC1_Hmapped_dihedral_all)\n",
    "# xmode = stats.mode(BB2_BB3_Hmapped_distance_all)[0][0] #gives wrong value\n",
    "\n",
    "#raw data plot\n",
    "plt = sns.distplot(BB1_BB2_BB3_USC1_Hmapped_dihedral_all, kde=True, \n",
    "            color = 'white',norm_hist=False,\n",
    "             kde_kws={'linewidth': 1}\n",
    "             )\n",
    "\n",
    "x = plt.lines[0].get_xdata()\n",
    "y = plt.lines[0].get_ydata()\n",
    "maxid = np.argmax(y)\n",
    "xmode = x[maxid]\n",
    "\n",
    "\n",
    "\n",
    "\n",
    "# # #histogram plot + Density plot\n",
    "# import matplotlib.pyplot as plt\n",
    "# sns.displot(BB1_BB2_BB3_USC1_Hmapped_dihedral_all,bins=10)\n",
    "# \n",
    "# \n",
    "# \n",
    "\n",
    "#density plot\n",
    "import matplotlib.pyplot as plt\n",
    "ax = sns.kdeplot(BB1_BB2_BB3_USC1_Hmapped_dihedral_all,bw=0.2)\n",
    "\n",
    "\n",
    "\n",
    "\n",
    "x = ax.lines[0].get_xdata()\n",
    "y = ax.lines[0].get_ydata()\n",
    "maxid = np.argmax(y)\n",
    "\n",
    "print(\"BB1_BB2_BB3_USC1_Hmapped_dihedral_all\")\n",
    "print(\"Mean: Raw data\",xmean)\n",
    "print(\"Mode: Raw data\",xmode)\n",
    "print(\"Mode: Gauss-fitted\",x[maxid])\n"
   ]
  },
  {
   "cell_type": "code",
   "execution_count": 41,
   "metadata": {},
   "outputs": [
    {
     "name": "stderr",
     "output_type": "stream",
     "text": [
      "/home/subhasree/.local/lib/python3.6/site-packages/seaborn/distributions.py:1657: FutureWarning: The `bw` parameter is deprecated in favor of `bw_method` and `bw_adjust`. Using 0.2 for `bw_method`, but please see the docs for the new parameters and update your code.\n",
      "  warnings.warn(msg, FutureWarning)\n"
     ]
    },
    {
     "ename": "RuntimeError",
     "evalue": "Optimal parameters not found: Number of calls to function has reached maxfev = 600.",
     "output_type": "error",
     "traceback": [
      "\u001b[0;31m---------------------------------------------------------------------------\u001b[0m",
      "\u001b[0;31mRuntimeError\u001b[0m                              Traceback (most recent call last)",
      "\u001b[0;32m<ipython-input-41-d179022eac92>\u001b[0m in \u001b[0;36m<module>\u001b[0;34m\u001b[0m\n\u001b[1;32m     35\u001b[0m \u001b[0;34m\u001b[0m\u001b[0m\n\u001b[1;32m     36\u001b[0m \u001b[0;31m# for i in range(0,xdata.shape[0]):\u001b[0m\u001b[0;34m\u001b[0m\u001b[0;34m\u001b[0m\u001b[0;34m\u001b[0m\u001b[0m\n\u001b[0;32m---> 37\u001b[0;31m \u001b[0mparams\u001b[0m\u001b[0;34m,\u001b[0m \u001b[0mpcov\u001b[0m \u001b[0;34m=\u001b[0m \u001b[0mcurve_fit\u001b[0m\u001b[0;34m(\u001b[0m\u001b[0mharmonic_proper_dihedral\u001b[0m\u001b[0;34m,\u001b[0m \u001b[0mxdata\u001b[0m\u001b[0;34m,\u001b[0m\u001b[0mU\u001b[0m\u001b[0;34m,\u001b[0m\u001b[0mp0\u001b[0m\u001b[0;34m=\u001b[0m\u001b[0;34m[\u001b[0m\u001b[0;34m-\u001b[0m\u001b[0;36m134\u001b[0m\u001b[0;34m,\u001b[0m \u001b[0;36m1000\u001b[0m\u001b[0;34m]\u001b[0m\u001b[0;34m)\u001b[0m\u001b[0;34m\u001b[0m\u001b[0;34m\u001b[0m\u001b[0m\n\u001b[0m\u001b[1;32m     38\u001b[0m \u001b[0mprint\u001b[0m\u001b[0;34m(\u001b[0m\u001b[0;34m\"parameter R_o is: \"\u001b[0m\u001b[0;34m,\u001b[0m\u001b[0mparams\u001b[0m\u001b[0;34m[\u001b[0m\u001b[0;36m0\u001b[0m\u001b[0;34m]\u001b[0m\u001b[0;34m)\u001b[0m\u001b[0;34m\u001b[0m\u001b[0;34m\u001b[0m\u001b[0m\n\u001b[1;32m     39\u001b[0m \u001b[0mprint\u001b[0m\u001b[0;34m(\u001b[0m\u001b[0;34m\"parameter K is: \"\u001b[0m\u001b[0;34m,\u001b[0m\u001b[0mparams\u001b[0m\u001b[0;34m[\u001b[0m\u001b[0;36m1\u001b[0m\u001b[0;34m]\u001b[0m\u001b[0;34m)\u001b[0m\u001b[0;34m\u001b[0m\u001b[0;34m\u001b[0m\u001b[0m\n",
      "\u001b[0;32m~/.local/lib/python3.6/site-packages/scipy/optimize/minpack.py\u001b[0m in \u001b[0;36mcurve_fit\u001b[0;34m(f, xdata, ydata, p0, sigma, absolute_sigma, check_finite, bounds, method, jac, **kwargs)\u001b[0m\n\u001b[1;32m    787\u001b[0m         \u001b[0mcost\u001b[0m \u001b[0;34m=\u001b[0m \u001b[0mnp\u001b[0m\u001b[0;34m.\u001b[0m\u001b[0msum\u001b[0m\u001b[0;34m(\u001b[0m\u001b[0minfodict\u001b[0m\u001b[0;34m[\u001b[0m\u001b[0;34m'fvec'\u001b[0m\u001b[0;34m]\u001b[0m \u001b[0;34m**\u001b[0m \u001b[0;36m2\u001b[0m\u001b[0;34m)\u001b[0m\u001b[0;34m\u001b[0m\u001b[0;34m\u001b[0m\u001b[0m\n\u001b[1;32m    788\u001b[0m         \u001b[0;32mif\u001b[0m \u001b[0mier\u001b[0m \u001b[0;32mnot\u001b[0m \u001b[0;32min\u001b[0m \u001b[0;34m[\u001b[0m\u001b[0;36m1\u001b[0m\u001b[0;34m,\u001b[0m \u001b[0;36m2\u001b[0m\u001b[0;34m,\u001b[0m \u001b[0;36m3\u001b[0m\u001b[0;34m,\u001b[0m \u001b[0;36m4\u001b[0m\u001b[0;34m]\u001b[0m\u001b[0;34m:\u001b[0m\u001b[0;34m\u001b[0m\u001b[0;34m\u001b[0m\u001b[0m\n\u001b[0;32m--> 789\u001b[0;31m             \u001b[0;32mraise\u001b[0m \u001b[0mRuntimeError\u001b[0m\u001b[0;34m(\u001b[0m\u001b[0;34m\"Optimal parameters not found: \"\u001b[0m \u001b[0;34m+\u001b[0m \u001b[0merrmsg\u001b[0m\u001b[0;34m)\u001b[0m\u001b[0;34m\u001b[0m\u001b[0;34m\u001b[0m\u001b[0m\n\u001b[0m\u001b[1;32m    790\u001b[0m     \u001b[0;32melse\u001b[0m\u001b[0;34m:\u001b[0m\u001b[0;34m\u001b[0m\u001b[0;34m\u001b[0m\u001b[0m\n\u001b[1;32m    791\u001b[0m         \u001b[0;31m# Rename maxfev (leastsq) to max_nfev (least_squares), if specified.\u001b[0m\u001b[0;34m\u001b[0m\u001b[0;34m\u001b[0m\u001b[0;34m\u001b[0m\u001b[0m\n",
      "\u001b[0;31mRuntimeError\u001b[0m: Optimal parameters not found: Number of calls to function has reached maxfev = 600."
     ]
    },
    {
     "data": {
      "image/png": "[encoded data removed]",
      "text/plain": [
       "<Figure size 432x288 with 1 Axes>"
      ]
     },
     "metadata": {
      "needs_background": "light"
     },
     "output_type": "display_data"
    }
   ],
   "source": [
    "def harmonic_proper_dihedral(theta, theta0, k):\n",
    "    n = 2\n",
    "    coslist = []\n",
    "    for t in theta:\n",
    "        coslist.append(math.cos(n*t - theta0))\n",
    "    final_coslist = np.array(coslist)\n",
    "    val =  k * (1 + final_coslist)\n",
    "    return val\n",
    "\n",
    "#get probability distribution from data\n",
    "plt2 = sns.kdeplot(BB1_BB2_BB3_USC1_Hmapped_dihedral_all,bw=0.2)\n",
    "xdata = plt2.lines[0].get_xdata()\n",
    "ydata = plt2.lines[0].get_ydata()\n",
    "\n",
    "#calculate energy\n",
    "U = P2U(ydata)\n",
    "\n",
    "#code to deal with innifite energy\n",
    "if(U.max() == float('inf')):\n",
    "    U2 = U\n",
    "    t = np.sort(U2)[::-1]\n",
    "    for x in t:\n",
    "        if(x==float('inf')):\n",
    "            continue\n",
    "        else:\n",
    "            second_largest = x\n",
    "            break\n",
    "    U[U==float('inf')]=(second_largest * 2)\n",
    "else:\n",
    "    U[U==float('inf')]=(U.max() * 2)\n",
    "\n",
    "#plot enegy and density\n",
    "import matplotlib.pyplot as plt\n",
    "plt.plot(xdata,U,color='blue')\n",
    "\n",
    "# for i in range(0,xdata.shape[0]):\n",
    "params, pcov = curve_fit(harmonic_proper_dihedral, xdata,U,p0=[-134, 1000])\n",
    "print(\"parameter R_o is: \",params[0])\n",
    "print(\"parameter K is: \",params[1])\n",
    "# curve_fit(harmonic_angle, xdata[0], U, p0=[84, 1000])\n",
    "dihedral_parameters_dict['Parameter'].append('BB1_BB2_BB3_USC1')\n",
    "dihedral_parameters_dict['raw data mean value'].append(xmean)\n",
    "dihedral_parameters_dict['raw data mode value gaussian-fitted mode value'].append(x[maxid])\n",
    "dihedral_parameters_dict['Seed value obtained using BOltzmann inversion'].append(params[0])\n",
    "dihedral_parameters_dict['K from boltzmann inversion'].append(params[1])"
   ]
  },
  {
   "cell_type": "code",
   "execution_count": 42,
   "metadata": {},
   "outputs": [
    {
     "name": "stderr",
     "output_type": "stream",
     "text": [
      "/home/subhasree/.local/lib/python3.6/site-packages/seaborn/distributions.py:2557: FutureWarning: `distplot` is a deprecated function and will be removed in a future version. Please adapt your code to use either `displot` (a figure-level function with similar flexibility) or `histplot` (an axes-level function for histograms).\n",
      "  warnings.warn(msg, FutureWarning)\n"
     ]
    },
    {
     "name": "stdout",
     "output_type": "stream",
     "text": [
      "second mode: 2.856457351910109\n",
      "BB2_BB3_USC1_USC2_Hmapped_dihedral_all\n",
      "Mean: Raw data -138.47805081321346\n",
      "Mode: Raw data -145.16404847820246\n",
      "Mode: Gauss-fitted -145.16404847820246\n"
     ]
    },
    {
     "data": {
      "image/png": "[encoded data removed]",
      "text/plain": [
       "<Figure size 432x288 with 1 Axes>"
      ]
     },
     "metadata": {
      "needs_background": "light"
     },
     "output_type": "display_data"
    }
   ],
   "source": [
    "# Density Plot and Histogram \n",
    "from scipy import stats\n",
    "xmedian = np.median(BB2_BB3_USC1_USC2_Hmapped_dihedral_all)\n",
    "xmean = np.mean(BB2_BB3_USC1_USC2_Hmapped_dihedral_all)\n",
    "# xmode = stats.mode(BB2_BB3_Hmapped_distance_all)[0][0] #gives wrong value\n",
    "\n",
    "# #raw data plot\n",
    "plt = sns.distplot(BB2_BB3_USC1_USC2_Hmapped_dihedral_all, kde=True, \n",
    "            color = 'white',norm_hist=False,\n",
    "             kde_kws={'linewidth': 1}\n",
    "             )\n",
    "\n",
    "x = plt.lines[0].get_xdata()\n",
    "y = plt.lines[0].get_ydata()\n",
    "maxid = np.argmax(y)\n",
    "xmode = x[maxid]\n",
    "\n",
    "\n",
    "\n",
    "\n",
    "#script for multimodal graphs\n",
    "x_new = []\n",
    "y_new = []\n",
    "for item in x:\n",
    "    if(item>0 and item<200):\n",
    "        id = list(x).index(item)\n",
    "        x_new.append(x[id])\n",
    "        y_new.append(y[id])\n",
    "#check the mode in the new partition:\n",
    "print(\"second mode:\",x_new[np.argmax(y_new)])\n",
    "\n",
    "# # #histogram plot + Density plot\n",
    "# import matplotlib.pyplot as plt\n",
    "# sns.displot(BB2_BB3_USC1_USC2_Hmapped_dihedral_all,bins=10)\n",
    "# \n",
    "# \n",
    "# \n",
    "\n",
    "#density plot\n",
    "import matplotlib.pyplot as plt\n",
    "ax = sns.kdeplot(BB2_BB3_USC1_USC2_Hmapped_dihedral_all)\n",
    "\n",
    "\n",
    "\n",
    "\n",
    "x = ax.lines[0].get_xdata()\n",
    "y = ax.lines[0].get_ydata()\n",
    "maxid = np.argmax(y)\n",
    "\n",
    "print(\"BB2_BB3_USC1_USC2_Hmapped_dihedral_all\")\n",
    "print(\"Mean: Raw data\",xmean)\n",
    "print(\"Mode: Raw data\",xmode)\n",
    "print(\"Mode: Gauss-fitted\",x[maxid])\n"
   ]
  },
  {
   "cell_type": "code",
   "execution_count": 43,
   "metadata": {},
   "outputs": [
    {
     "name": "stdout",
     "output_type": "stream",
     "text": [
      "parameter R_o is:  -144.94750084680948\n",
      "parameter K is:  2.866537402360512\n"
     ]
    },
    {
     "data": {
      "image/png": "[encoded data removed]",
      "text/plain": [
       "<Figure size 432x288 with 1 Axes>"
      ]
     },
     "metadata": {
      "needs_background": "light"
     },
     "output_type": "display_data"
    }
   ],
   "source": [
    "def harmonic_proper_dihedral(theta, theta0, k):\n",
    "    n = 1\n",
    "    coslist = []\n",
    "    for t in theta:\n",
    "        coslist.append(math.cos(n*t - theta0))\n",
    "    final_coslist = np.array(coslist)\n",
    "    val =  k * (1 + final_coslist)\n",
    "    return val\n",
    "\n",
    "#get probability distribution from data\n",
    "plt2 = sns.kdeplot(BB2_BB3_USC1_USC2_Hmapped_dihedral_all)\n",
    "xdata = plt2.lines[0].get_xdata()\n",
    "ydata = plt2.lines[0].get_ydata()\n",
    "\n",
    "#calculate energy\n",
    "U = P2U(ydata)\n",
    "\n",
    "#code to deal with innifite energy\n",
    "if(U.max() == float('inf')):\n",
    "    U2 = U\n",
    "    t = np.sort(U2)[::-1]\n",
    "    for x in t:\n",
    "        if(x==float('inf')):\n",
    "            continue\n",
    "        else:\n",
    "            second_largest = x\n",
    "            break\n",
    "    U[U==float('inf')]=(second_largest * 2)\n",
    "else:\n",
    "    U[U==float('inf')]=(U.max() * 2)\n",
    "\n",
    "#plot enegy and density\n",
    "import matplotlib.pyplot as plt\n",
    "plt.plot(xdata,U,color='blue')\n",
    "\n",
    "# for i in range(0,xdata.shape[0]):\n",
    "params, pcov = curve_fit(harmonic_proper_dihedral, xdata,U,p0=[-145, 1000])\n",
    "print(\"parameter R_o is: \",params[0])\n",
    "print(\"parameter K is: \",params[1])\n",
    "# curve_fit(harmonic_angle, xdata[0], U, p0=[84, 1000])\n",
    "dihedral_parameters_dict['Parameter'].append('BB2_BB3_USC1_USC2')\n",
    "dihedral_parameters_dict['raw data mean value'].append(xmean)\n",
    "dihedral_parameters_dict['raw data mode value gaussian-fitted mode value'].append(x[maxid])\n",
    "dihedral_parameters_dict['Seed value obtained using BOltzmann inversion'].append(params[0])\n",
    "dihedral_parameters_dict['K from boltzmann inversion'].append(params[1])"
   ]
  },
  {
   "cell_type": "code",
   "execution_count": 44,
   "metadata": {},
   "outputs": [
    {
     "name": "stderr",
     "output_type": "stream",
     "text": [
      "/home/subhasree/.local/lib/python3.6/site-packages/seaborn/distributions.py:2557: FutureWarning: `distplot` is a deprecated function and will be removed in a future version. Please adapt your code to use either `displot` (a figure-level function with similar flexibility) or `histplot` (an axes-level function for histograms).\n",
      "  warnings.warn(msg, FutureWarning)\n"
     ]
    },
    {
     "name": "stdout",
     "output_type": "stream",
     "text": [
      "BB2_BB3_USC1_USC3_Hmapped_dihedral_all\n",
      "Mean: Raw data 137.50482796242045\n",
      "Mode: Raw data 134.58390835432908\n",
      "Mode: Gauss-fitted 134.58390835432908\n"
     ]
    },
    {
     "data": {
      "image/png": "[encoded data removed]",
      "text/plain": [
       "<Figure size 432x288 with 1 Axes>"
      ]
     },
     "metadata": {
      "needs_background": "light"
     },
     "output_type": "display_data"
    }
   ],
   "source": [
    "# Density Plot and Histogram \n",
    "from scipy import stats\n",
    "xmedian = np.median(BB2_BB3_USC1_USC3_Hmapped_dihedral_all)\n",
    "xmean = np.mean(BB2_BB3_USC1_USC3_Hmapped_dihedral_all)\n",
    "# xmode = stats.mode(BB2_BB3_Hmapped_distance_all)[0][0] #gives wrong value\n",
    "\n",
    "#raw data plot\n",
    "plt = sns.distplot(BB2_BB3_USC1_USC3_Hmapped_dihedral_all, kde=True, \n",
    "            color = 'white',norm_hist=False,\n",
    "             kde_kws={'linewidth': 1}\n",
    "             )\n",
    "\n",
    "x = plt.lines[0].get_xdata()\n",
    "y = plt.lines[0].get_ydata()\n",
    "maxid = np.argmax(y)\n",
    "xmode = x[maxid]\n",
    "\n",
    "\n",
    "\n",
    "\n",
    "# # #histogram plot + Density plot\n",
    "# import matplotlib.pyplot as plt\n",
    "# sns.displot(BB2_BB3_USC1_USC3_Hmapped_dihedral_all,bins=10)\n",
    "# \n",
    "# \n",
    "# \n",
    "\n",
    "#density plot\n",
    "import matplotlib.pyplot as plt\n",
    "ax = sns.kdeplot(BB2_BB3_USC1_USC3_Hmapped_dihedral_all)\n",
    "\n",
    "\n",
    "\n",
    "\n",
    "x = ax.lines[0].get_xdata()\n",
    "y = ax.lines[0].get_ydata()\n",
    "maxid = np.argmax(y)\n",
    "\n",
    "print(\"BB2_BB3_USC1_USC3_Hmapped_dihedral_all\")\n",
    "print(\"Mean: Raw data\",xmean)\n",
    "print(\"Mode: Raw data\",xmode)\n",
    "print(\"Mode: Gauss-fitted\",x[maxid])\n"
   ]
  },
  {
   "cell_type": "code",
   "execution_count": 63,
   "metadata": {},
   "outputs": [
    {
     "ename": "RuntimeError",
     "evalue": "Optimal parameters not found: Number of calls to function has reached maxfev = 600.",
     "output_type": "error",
     "traceback": [
      "\u001b[0;31m---------------------------------------------------------------------------\u001b[0m",
      "\u001b[0;31mRuntimeError\u001b[0m                              Traceback (most recent call last)",
      "\u001b[0;32m<ipython-input-63-f6fbbddd1200>\u001b[0m in \u001b[0;36m<module>\u001b[0;34m\u001b[0m\n\u001b[1;32m     35\u001b[0m \u001b[0;34m\u001b[0m\u001b[0m\n\u001b[1;32m     36\u001b[0m \u001b[0;31m# for i in range(0,xdata.shape[0]):\u001b[0m\u001b[0;34m\u001b[0m\u001b[0;34m\u001b[0m\u001b[0;34m\u001b[0m\u001b[0m\n\u001b[0;32m---> 37\u001b[0;31m \u001b[0mparams\u001b[0m\u001b[0;34m,\u001b[0m \u001b[0mpcov\u001b[0m \u001b[0;34m=\u001b[0m \u001b[0mcurve_fit\u001b[0m\u001b[0;34m(\u001b[0m\u001b[0mharmonic_proper_dihedral\u001b[0m\u001b[0;34m,\u001b[0m \u001b[0mxdata\u001b[0m\u001b[0;34m,\u001b[0m\u001b[0mU\u001b[0m\u001b[0;34m,\u001b[0m\u001b[0mp0\u001b[0m\u001b[0;34m=\u001b[0m\u001b[0;34m[\u001b[0m\u001b[0;36m200\u001b[0m\u001b[0;34m,\u001b[0m \u001b[0;36m1000\u001b[0m\u001b[0;34m]\u001b[0m\u001b[0;34m)\u001b[0m\u001b[0;34m\u001b[0m\u001b[0;34m\u001b[0m\u001b[0m\n\u001b[0m\u001b[1;32m     38\u001b[0m \u001b[0mprint\u001b[0m\u001b[0;34m(\u001b[0m\u001b[0;34m\"parameter R_o is: \"\u001b[0m\u001b[0;34m,\u001b[0m\u001b[0mparams\u001b[0m\u001b[0;34m[\u001b[0m\u001b[0;36m0\u001b[0m\u001b[0;34m]\u001b[0m\u001b[0;34m)\u001b[0m\u001b[0;34m\u001b[0m\u001b[0;34m\u001b[0m\u001b[0m\n\u001b[1;32m     39\u001b[0m \u001b[0mprint\u001b[0m\u001b[0;34m(\u001b[0m\u001b[0;34m\"parameter K is: \"\u001b[0m\u001b[0;34m,\u001b[0m\u001b[0mparams\u001b[0m\u001b[0;34m[\u001b[0m\u001b[0;36m1\u001b[0m\u001b[0;34m]\u001b[0m\u001b[0;34m)\u001b[0m\u001b[0;34m\u001b[0m\u001b[0;34m\u001b[0m\u001b[0m\n",
      "\u001b[0;32m~/.local/lib/python3.6/site-packages/scipy/optimize/minpack.py\u001b[0m in \u001b[0;36mcurve_fit\u001b[0;34m(f, xdata, ydata, p0, sigma, absolute_sigma, check_finite, bounds, method, jac, **kwargs)\u001b[0m\n\u001b[1;32m    787\u001b[0m         \u001b[0mcost\u001b[0m \u001b[0;34m=\u001b[0m \u001b[0mnp\u001b[0m\u001b[0;34m.\u001b[0m\u001b[0msum\u001b[0m\u001b[0;34m(\u001b[0m\u001b[0minfodict\u001b[0m\u001b[0;34m[\u001b[0m\u001b[0;34m'fvec'\u001b[0m\u001b[0;34m]\u001b[0m \u001b[0;34m**\u001b[0m \u001b[0;36m2\u001b[0m\u001b[0;34m)\u001b[0m\u001b[0;34m\u001b[0m\u001b[0;34m\u001b[0m\u001b[0m\n\u001b[1;32m    788\u001b[0m         \u001b[0;32mif\u001b[0m \u001b[0mier\u001b[0m \u001b[0;32mnot\u001b[0m \u001b[0;32min\u001b[0m \u001b[0;34m[\u001b[0m\u001b[0;36m1\u001b[0m\u001b[0;34m,\u001b[0m \u001b[0;36m2\u001b[0m\u001b[0;34m,\u001b[0m \u001b[0;36m3\u001b[0m\u001b[0;34m,\u001b[0m \u001b[0;36m4\u001b[0m\u001b[0;34m]\u001b[0m\u001b[0;34m:\u001b[0m\u001b[0;34m\u001b[0m\u001b[0;34m\u001b[0m\u001b[0m\n\u001b[0;32m--> 789\u001b[0;31m             \u001b[0;32mraise\u001b[0m \u001b[0mRuntimeError\u001b[0m\u001b[0;34m(\u001b[0m\u001b[0;34m\"Optimal parameters not found: \"\u001b[0m \u001b[0;34m+\u001b[0m \u001b[0merrmsg\u001b[0m\u001b[0;34m)\u001b[0m\u001b[0;34m\u001b[0m\u001b[0;34m\u001b[0m\u001b[0m\n\u001b[0m\u001b[1;32m    790\u001b[0m     \u001b[0;32melse\u001b[0m\u001b[0;34m:\u001b[0m\u001b[0;34m\u001b[0m\u001b[0;34m\u001b[0m\u001b[0m\n\u001b[1;32m    791\u001b[0m         \u001b[0;31m# Rename maxfev (leastsq) to max_nfev (least_squares), if specified.\u001b[0m\u001b[0;34m\u001b[0m\u001b[0;34m\u001b[0m\u001b[0;34m\u001b[0m\u001b[0m\n",
      "\u001b[0;31mRuntimeError\u001b[0m: Optimal parameters not found: Number of calls to function has reached maxfev = 600."
     ]
    },
    {
     "data": {
      "image/png": "[encoded data removed]",
      "text/plain": [
       "<Figure size 432x288 with 1 Axes>"
      ]
     },
     "metadata": {
      "needs_background": "light"
     },
     "output_type": "display_data"
    }
   ],
   "source": [
    "def harmonic_proper_dihedral(theta, theta0, k):\n",
    "    n = 6\n",
    "    coslist = []\n",
    "    for t in theta:\n",
    "        coslist.append(math.cos(n*t - theta0))\n",
    "    final_coslist = np.array(coslist)\n",
    "    val =  k * (1 + final_coslist)\n",
    "    return val\n",
    "\n",
    "#get probability distribution from data\n",
    "plt2 = sns.kdeplot(BB2_BB3_USC1_USC3_Hmapped_dihedral_all)\n",
    "xdata = plt2.lines[0].get_xdata()\n",
    "ydata = plt2.lines[0].get_ydata()\n",
    "\n",
    "#calculate energy\n",
    "U = P2U(ydata)\n",
    "\n",
    "#code to deal with innifite energy\n",
    "if(U.max() == float('inf')):\n",
    "    U2 = U\n",
    "    t = np.sort(U2)[::-1]\n",
    "    for x in t:\n",
    "        if(x==float('inf')):\n",
    "            continue\n",
    "        else:\n",
    "            second_largest = x\n",
    "            break\n",
    "    U[U==float('inf')]=(second_largest * 2)\n",
    "else:\n",
    "    U[U==float('inf')]=(U.max() * 2)\n",
    "\n",
    "#plot enegy and density\n",
    "import matplotlib.pyplot as plt\n",
    "plt.plot(xdata,U,color='blue')\n",
    "\n",
    "# for i in range(0,xdata.shape[0]):\n",
    "params, pcov = curve_fit(harmonic_proper_dihedral, xdata,U,p0=[200, 1000])\n",
    "print(\"parameter R_o is: \",params[0])\n",
    "print(\"parameter K is: \",params[1])\n",
    "# curve_fit(harmonic_angle, xdata[0], U, p0=[84, 1000])\n",
    "dihedral_parameters_dict['Parameter'].append('BB2_BB3_USC1_USC3')\n",
    "dihedral_parameters_dict['raw data mean value'].append(xmean)\n",
    "dihedral_parameters_dict['raw data mode value gaussian-fitted mode value'].append(x[maxid])\n",
    "dihedral_parameters_dict['Seed value obtained using BOltzmann inversion'].append(params[0])\n",
    "dihedral_parameters_dict['K from boltzmann inversion'].append(params[1])"
   ]
  },
  {
   "cell_type": "code",
   "execution_count": 46,
   "metadata": {},
   "outputs": [
    {
     "name": "stderr",
     "output_type": "stream",
     "text": [
      "/home/subhasree/.local/lib/python3.6/site-packages/seaborn/distributions.py:2557: FutureWarning: `distplot` is a deprecated function and will be removed in a future version. Please adapt your code to use either `displot` (a figure-level function with similar flexibility) or `histplot` (an axes-level function for histograms).\n",
      "  warnings.warn(msg, FutureWarning)\n",
      "/home/subhasree/.local/lib/python3.6/site-packages/seaborn/distributions.py:1657: FutureWarning: The `bw` parameter is deprecated in favor of `bw_method` and `bw_adjust`. Using 0.5 for `bw_method`, but please see the docs for the new parameters and update your code.\n",
      "  warnings.warn(msg, FutureWarning)\n"
     ]
    },
    {
     "name": "stdout",
     "output_type": "stream",
     "text": [
      "BB1_BB2_BB3_GSC1_Hmapped_dihedral_all\n",
      "Mean: Raw data -139.56598939286795\n",
      "Mode: Raw data -140.48588714818808\n",
      "Mode: Gauss-fitted -140.48588714818808\n"
     ]
    },
    {
     "data": {
      "image/png": "[encoded data removed]",
      "text/plain": [
       "<Figure size 432x288 with 1 Axes>"
      ]
     },
     "metadata": {
      "needs_background": "light"
     },
     "output_type": "display_data"
    }
   ],
   "source": [
    "# Density Plot and Histogram \n",
    "from scipy import stats\n",
    "xmedian = np.median(BB1_BB2_BB3_GSC1_Hmapped_dihedral_all)\n",
    "xmean = np.mean(BB1_BB2_BB3_GSC1_Hmapped_dihedral_all)\n",
    "# xmode = stats.mode(BB2_BB3_Hmapped_distance_all)[0][0] #gives wrong value\n",
    "\n",
    "#raw data plot\n",
    "plt = sns.distplot(BB1_BB2_BB3_GSC1_Hmapped_dihedral_all, kde=True, \n",
    "            color = 'white',norm_hist=False,\n",
    "             kde_kws={'linewidth': 1}\n",
    "             )\n",
    "\n",
    "x = plt.lines[0].get_xdata()\n",
    "y = plt.lines[0].get_ydata()\n",
    "maxid = np.argmax(y)\n",
    "xmode = x[maxid]\n",
    "\n",
    "\n",
    "\n",
    "\n",
    "# # #histogram plot + Density plot\n",
    "# import matplotlib.pyplot as plt\n",
    "# sns.displot(BB1_BB2_BB3_GSC1_Hmapped_dihedral_all,bins=10)\n",
    "# \n",
    "# \n",
    "# \n",
    "\n",
    "#density plot\n",
    "import matplotlib.pyplot as plt\n",
    "ax = sns.kdeplot(BB1_BB2_BB3_GSC1_Hmapped_dihedral_all,bw=0.5)\n",
    "\n",
    "\n",
    "\n",
    "\n",
    "x = ax.lines[0].get_xdata()\n",
    "y = ax.lines[0].get_ydata()\n",
    "maxid = np.argmax(y)\n",
    "\n",
    "print(\"BB1_BB2_BB3_GSC1_Hmapped_dihedral_all\")\n",
    "print(\"Mean: Raw data\",xmean)\n",
    "print(\"Mode: Raw data\",xmode)\n",
    "print(\"Mode: Gauss-fitted\",x[maxid])\n"
   ]
  },
  {
   "cell_type": "code",
   "execution_count": 47,
   "metadata": {},
   "outputs": [
    {
     "name": "stderr",
     "output_type": "stream",
     "text": [
      "/home/subhasree/.local/lib/python3.6/site-packages/seaborn/distributions.py:1657: FutureWarning: The `bw` parameter is deprecated in favor of `bw_method` and `bw_adjust`. Using 0.5 for `bw_method`, but please see the docs for the new parameters and update your code.\n",
      "  warnings.warn(msg, FutureWarning)\n"
     ]
    },
    {
     "name": "stdout",
     "output_type": "stream",
     "text": [
      "parameter R_o is:  -143.13122535354918\n",
      "parameter K is:  1.9360267027438285\n"
     ]
    },
    {
     "data": {
      "image/png": "[encoded data removed]",
      "text/plain": [
       "<Figure size 432x288 with 1 Axes>"
      ]
     },
     "metadata": {
      "needs_background": "light"
     },
     "output_type": "display_data"
    }
   ],
   "source": [
    "def harmonic_proper_dihedral(theta, theta0, k):\n",
    "    n = 2\n",
    "    coslist = []\n",
    "    for t in theta:\n",
    "        coslist.append(math.cos(n*t - theta0))\n",
    "    final_coslist = np.array(coslist)\n",
    "    val =  k * (1 + final_coslist)\n",
    "    return val\n",
    "\n",
    "#get probability distribution from data\n",
    "plt2 = sns.kdeplot(BB1_BB2_BB3_GSC1_Hmapped_dihedral_all,bw=0.5)\n",
    "xdata = plt2.lines[0].get_xdata()\n",
    "ydata = plt2.lines[0].get_ydata()\n",
    "\n",
    "#calculate energy\n",
    "U = P2U(ydata)\n",
    "#code to deal with innifite energy\n",
    "if(U.max() == float('inf')):\n",
    "    U2 = U\n",
    "    t = np.sort(U2)[::-1]\n",
    "    for x in t:\n",
    "        if(x==float('inf')):\n",
    "            continue\n",
    "        else:\n",
    "            second_largest = x\n",
    "            break\n",
    "    U[U==float('inf')]=(second_largest * 2)\n",
    "else:\n",
    "    U[U==float('inf')]=(U.max() * 2)\n",
    "\n",
    "#plot enegy and density\n",
    "import matplotlib.pyplot as plt\n",
    "plt.plot(xdata,U,color='green')\n",
    "\n",
    "# for i in range(0,xdata.shape[0]):\n",
    "params, pcov = curve_fit(harmonic_proper_dihedral, xdata,U,p0=[-140, 1000])\n",
    "print(\"parameter R_o is: \",params[0])\n",
    "print(\"parameter K is: \",params[1])\n",
    "# curve_fit(harmonic_angle, xdata[0], U, p0=[84, 1000])\n",
    "dihedral_parameters_dict['Parameter'].append('BB1_BB2_BB3_GSC1')\n",
    "dihedral_parameters_dict['raw data mean value'].append(xmean)\n",
    "dihedral_parameters_dict['raw data mode value gaussian-fitted mode value'].append(x[maxid])\n",
    "dihedral_parameters_dict['Seed value obtained using BOltzmann inversion'].append(params[0])\n",
    "dihedral_parameters_dict['K from boltzmann inversion'].append(params[1])"
   ]
  },
  {
   "cell_type": "code",
   "execution_count": 14,
   "metadata": {},
   "outputs": [
    {
     "name": "stderr",
     "output_type": "stream",
     "text": [
      "/home/subhasree/.local/lib/python3.6/site-packages/seaborn/distributions.py:2557: FutureWarning: `distplot` is a deprecated function and will be removed in a future version. Please adapt your code to use either `displot` (a figure-level function with similar flexibility) or `histplot` (an axes-level function for histograms).\n",
      "  warnings.warn(msg, FutureWarning)\n"
     ]
    },
    {
     "name": "stdout",
     "output_type": "stream",
     "text": [
      "second mode: 98.72179227457681\n",
      "third mode: 165.36839911043594\n",
      "BB2_BB3_GSC1_GSC2_Hmapped_dihedral_all\n",
      "Mean: Raw data -75.70583149813112\n",
      "Mode: Raw data -153.5832193183183\n",
      "Mode: Gauss-fitted -153.5832193183183\n"
     ]
    },
    {
     "data": {
      "image/png": "[encoded data removed]",
      "text/plain": [
       "<Figure size 432x288 with 1 Axes>"
      ]
     },
     "metadata": {
      "needs_background": "light"
     },
     "output_type": "display_data"
    }
   ],
   "source": [
    "# Density Plot and Histogram \n",
    "from scipy import stats\n",
    "xmedian = np.median(BB2_BB3_GSC1_GSC2_Hmapped_dihedral_all)\n",
    "xmean = np.mean(BB2_BB3_GSC1_GSC2_Hmapped_dihedral_all)\n",
    "# xmode = stats.mode(BB2_BB3_Hmapped_distance_all)[0][0] #gives wrong value\n",
    "\n",
    "#raw data plot\n",
    "plt = sns.distplot(BB2_BB3_GSC1_GSC2_Hmapped_dihedral_all, kde=True, \n",
    "            color = 'white',norm_hist=False,\n",
    "             kde_kws={'linewidth': 1}\n",
    "             )\n",
    "\n",
    "x = plt.lines[0].get_xdata()\n",
    "y = plt.lines[0].get_ydata()\n",
    "maxid = np.argmax(y)\n",
    "xmode = x[maxid]\n",
    "\n",
    "\n",
    "\n",
    "\n",
    "#script for multimodal graphs\n",
    "x_new = []\n",
    "y_new = []\n",
    "for item in x:\n",
    "    if(item>0 and item<100):\n",
    "        id = list(x).index(item)\n",
    "        x_new.append(x[id])\n",
    "        y_new.append(y[id])\n",
    "#check the mode in the new partition:\n",
    "print(\"second mode:\",x_new[np.argmax(y_new)])\n",
    "\n",
    "#script for multimodal graphs\n",
    "x_new = []\n",
    "y_new = []\n",
    "for item in x:\n",
    "    if(item>100 and item<200):\n",
    "        id = list(x).index(item)\n",
    "        x_new.append(x[id])\n",
    "        y_new.append(y[id])\n",
    "#check the mode in the new partition:\n",
    "print(\"third mode:\",x_new[np.argmax(y_new)])\n",
    "\n",
    "# # #histogram plot + Density plot\n",
    "# import matplotlib.pyplot as plt\n",
    "# sns.displot(BB2_BB3_GSC1_GSC2_Hmapped_dihedral_all,bins=10)\n",
    "# \n",
    "# \n",
    "# \n",
    "\n",
    "#density plot\n",
    "import matplotlib.pyplot as plt\n",
    "ax = sns.kdeplot(BB2_BB3_GSC1_GSC2_Hmapped_dihedral_all)\n",
    "\n",
    "\n",
    "\n",
    "\n",
    "x = ax.lines[0].get_xdata()\n",
    "y = ax.lines[0].get_ydata()\n",
    "maxid = np.argmax(y)\n",
    "\n",
    "print(\"BB2_BB3_GSC1_GSC2_Hmapped_dihedral_all\")\n",
    "print(\"Mean: Raw data\",xmean)\n",
    "print(\"Mode: Raw data\",xmode)\n",
    "print(\"Mode: Gauss-fitted\",x[maxid])\n"
   ]
  },
  {
   "cell_type": "code",
   "execution_count": 15,
   "metadata": {},
   "outputs": [
    {
     "name": "stdout",
     "output_type": "stream",
     "text": [
      "parameter R_o is:  -154.0050472329529\n",
      "parameter K is:  1.0815209181646916\n"
     ]
    },
    {
     "data": {
      "image/png": "[encoded data removed]",
      "text/plain": [
       "<Figure size 432x288 with 1 Axes>"
      ]
     },
     "metadata": {
      "needs_background": "light"
     },
     "output_type": "display_data"
    }
   ],
   "source": [
    "def harmonic_proper_dihedral(theta, theta0, k):\n",
    "    n = 1\n",
    "    coslist = []\n",
    "    for t in theta:\n",
    "        coslist.append(math.cos(n*t - theta0))\n",
    "    final_coslist = np.array(coslist)\n",
    "    val =  k * (1 + final_coslist)\n",
    "    return val\n",
    "\n",
    "#get probability distribution from data\n",
    "plt2 = sns.kdeplot(BB2_BB3_GSC1_GSC2_Hmapped_dihedral_all)\n",
    "xdata = plt2.lines[0].get_xdata()\n",
    "ydata = plt2.lines[0].get_ydata()\n",
    "\n",
    "#calculate energy\n",
    "U = P2U(ydata)\n",
    "#code to deal with innifite energy\n",
    "if(U.max() == float('inf')):\n",
    "    U2 = U\n",
    "    t = np.sort(U2)[::-1]\n",
    "    for x in t:\n",
    "        if(x==float('inf')):\n",
    "            continue\n",
    "        else:\n",
    "            second_largest = x\n",
    "            break\n",
    "    U[U==float('inf')]=(second_largest * 2)\n",
    "else:\n",
    "    U[U==float('inf')]=(U.max() * 2)\n",
    "\n",
    "#plot enegy and density\n",
    "import matplotlib.pyplot as plt\n",
    "plt.plot(xdata,U,color='green')\n",
    "\n",
    "# for i in range(0,xdata.shape[0]):\n",
    "params, pcov = curve_fit(harmonic_proper_dihedral, xdata,U,p0=[-153, 1000])\n",
    "print(\"parameter R_o is: \",params[0])\n",
    "print(\"parameter K is: \",params[1])\n",
    "# curve_fit(harmonic_angle, xdata[0], U, p0=[84, 1000])\n",
    "dihedral_parameters_dict['Parameter'].append('BB2_BB3_GSC1_GSC2')\n",
    "dihedral_parameters_dict['raw data mean value'].append(xmean)\n",
    "dihedral_parameters_dict['raw data mode value gaussian-fitted mode value'].append(x[maxid])\n",
    "dihedral_parameters_dict['Seed value obtained using BOltzmann inversion'].append(params[0])\n",
    "dihedral_parameters_dict['K from boltzmann inversion'].append(params[1])"
   ]
  },
  {
   "cell_type": "code",
   "execution_count": 16,
   "metadata": {},
   "outputs": [
    {
     "name": "stderr",
     "output_type": "stream",
     "text": [
      "/home/subhasree/.local/lib/python3.6/site-packages/seaborn/distributions.py:2557: FutureWarning: `distplot` is a deprecated function and will be removed in a future version. Please adapt your code to use either `displot` (a figure-level function with similar flexibility) or `histplot` (an axes-level function for histograms).\n",
      "  warnings.warn(msg, FutureWarning)\n"
     ]
    },
    {
     "name": "stdout",
     "output_type": "stream",
     "text": [
      "second mode: -86.81146088586112\n",
      "third mode: 60.56127506321198\n",
      "BB2_BB3_GSC1_GSC4_Hmapped_dihedral_all\n",
      "Mean: Raw data 84.4317316900697\n",
      "Mode: Raw data 60.56127506321198\n",
      "Mode: Gauss-fitted 60.56127506321198\n"
     ]
    },
    {
     "name": "stderr",
     "output_type": "stream",
     "text": [
      "/home/subhasree/.local/lib/python3.6/site-packages/seaborn/distributions.py:1657: FutureWarning: The `bw` parameter is deprecated in favor of `bw_method` and `bw_adjust`. Using 0.7 for `bw_method`, but please see the docs for the new parameters and update your code.\n",
      "  warnings.warn(msg, FutureWarning)\n"
     ]
    },
    {
     "data": {
      "image/png": "[encoded data removed]",
      "text/plain": [
       "<Figure size 432x288 with 1 Axes>"
      ]
     },
     "metadata": {
      "needs_background": "light"
     },
     "output_type": "display_data"
    }
   ],
   "source": [
    "# Density Plot and Histogram \n",
    "from scipy import stats\n",
    "xmedian = np.median(BB2_BB3_GSC1_GSC4_Hmapped_dihedral_all)\n",
    "xmean = np.mean(BB2_BB3_GSC1_GSC4_Hmapped_dihedral_all)\n",
    "# xmode = stats.mode(BB2_BB3_Hmapped_distance_all)[0][0] #gives wrong value\n",
    "\n",
    "#raw data plot\n",
    "plt = sns.distplot(BB2_BB3_GSC1_GSC4_Hmapped_dihedral_all, kde=True, \n",
    "            color = 'white',norm_hist=False,\n",
    "             kde_kws={'linewidth': 1}\n",
    "             )\n",
    "\n",
    "x = plt.lines[0].get_xdata()\n",
    "y = plt.lines[0].get_ydata()\n",
    "maxid = np.argmax(y)\n",
    "xmode = x[maxid]\n",
    "\n",
    "\n",
    "\n",
    "\n",
    "#script for multimodal graphs\n",
    "x_new = []\n",
    "y_new = []\n",
    "for item in x:\n",
    "    if(item>-200 and item<0):\n",
    "        id = list(x).index(item)\n",
    "        x_new.append(x[id])\n",
    "        y_new.append(y[id])\n",
    "#check the mode in the new partition:\n",
    "print(\"second mode:\",x_new[np.argmax(y_new)])\n",
    "\n",
    "#script for multimodal graphs\n",
    "x_new = []\n",
    "y_new = []\n",
    "for item in x:\n",
    "    if(item>0 and item<200):\n",
    "        id = list(x).index(item)\n",
    "        x_new.append(x[id])\n",
    "        y_new.append(y[id])\n",
    "#check the mode in the new partition:\n",
    "print(\"third mode:\",x_new[np.argmax(y_new)])\n",
    "\n",
    "# # #histogram plot + Density plot\n",
    "# import matplotlib.pyplot as plt\n",
    "# sns.displot(BB2_BB3_GSC1_GSC4_Hmapped_dihedral_all,bins=10)\n",
    "# \n",
    "# \n",
    "# \n",
    "\n",
    "#density plot\n",
    "import matplotlib.pyplot as plt\n",
    "ax = sns.kdeplot(BB2_BB3_GSC1_GSC4_Hmapped_dihedral_all,bw=0.7)\n",
    "\n",
    "\n",
    "\n",
    "\n",
    "x = ax.lines[0].get_xdata()\n",
    "y = ax.lines[0].get_ydata()\n",
    "maxid = np.argmax(y)\n",
    "\n",
    "print(\"BB2_BB3_GSC1_GSC4_Hmapped_dihedral_all\")\n",
    "print(\"Mean: Raw data\",xmean)\n",
    "print(\"Mode: Raw data\",xmode)\n",
    "print(\"Mode: Gauss-fitted\",x[maxid])\n"
   ]
  },
  {
   "cell_type": "code",
   "execution_count": 70,
   "metadata": {},
   "outputs": [
    {
     "data": {
      "text/plain": [
       "0      -152.770\n",
       "1      -148.030\n",
       "2      -150.675\n",
       "3      -149.784\n",
       "4      -150.404\n",
       "         ...   \n",
       "9894   -155.243\n",
       "9895   -149.227\n",
       "9896   -147.897\n",
       "9897   -154.337\n",
       "9898   -154.078\n",
       "Name: BB2_BB3_CSC1_CSC2, Length: 9899, dtype: float64"
      ]
     },
     "execution_count": 70,
     "metadata": {},
     "output_type": "execute_result"
    }
   ],
   "source": [
    "BB2_BB3_CSC1_CSC2_Hmapped_dihedral_all"
   ]
  },
  {
   "cell_type": "code",
   "execution_count": 64,
   "metadata": {},
   "outputs": [
    {
     "name": "stderr",
     "output_type": "stream",
     "text": [
      "/home/subhasree/.local/lib/python3.6/site-packages/seaborn/distributions.py:1657: FutureWarning: The `bw` parameter is deprecated in favor of `bw_method` and `bw_adjust`. Using 0.7 for `bw_method`, but please see the docs for the new parameters and update your code.\n",
      "  warnings.warn(msg, FutureWarning)\n"
     ]
    },
    {
     "ename": "RuntimeError",
     "evalue": "Optimal parameters not found: Number of calls to function has reached maxfev = 600.",
     "output_type": "error",
     "traceback": [
      "\u001b[0;31m---------------------------------------------------------------------------\u001b[0m",
      "\u001b[0;31mRuntimeError\u001b[0m                              Traceback (most recent call last)",
      "\u001b[0;32m<ipython-input-64-f79ec5c63c74>\u001b[0m in \u001b[0;36m<module>\u001b[0;34m\u001b[0m\n\u001b[1;32m     34\u001b[0m \u001b[0;34m\u001b[0m\u001b[0m\n\u001b[1;32m     35\u001b[0m \u001b[0;31m# for i in range(0,xdata.shape[0]):\u001b[0m\u001b[0;34m\u001b[0m\u001b[0;34m\u001b[0m\u001b[0;34m\u001b[0m\u001b[0m\n\u001b[0;32m---> 36\u001b[0;31m \u001b[0mparams\u001b[0m\u001b[0;34m,\u001b[0m \u001b[0mpcov\u001b[0m \u001b[0;34m=\u001b[0m \u001b[0mcurve_fit\u001b[0m\u001b[0;34m(\u001b[0m\u001b[0mharmonic_proper_dihedral\u001b[0m\u001b[0;34m,\u001b[0m \u001b[0mxdata\u001b[0m\u001b[0;34m,\u001b[0m\u001b[0mU\u001b[0m\u001b[0;34m,\u001b[0m\u001b[0mp0\u001b[0m\u001b[0;34m=\u001b[0m\u001b[0;34m[\u001b[0m\u001b[0;36m61\u001b[0m\u001b[0;34m,\u001b[0m \u001b[0;36m50000\u001b[0m\u001b[0;34m]\u001b[0m\u001b[0;34m)\u001b[0m\u001b[0;34m\u001b[0m\u001b[0;34m\u001b[0m\u001b[0m\n\u001b[0m\u001b[1;32m     37\u001b[0m \u001b[0mprint\u001b[0m\u001b[0;34m(\u001b[0m\u001b[0;34m\"parameter R_o is: \"\u001b[0m\u001b[0;34m,\u001b[0m\u001b[0mparams\u001b[0m\u001b[0;34m[\u001b[0m\u001b[0;36m0\u001b[0m\u001b[0;34m]\u001b[0m\u001b[0;34m)\u001b[0m\u001b[0;34m\u001b[0m\u001b[0;34m\u001b[0m\u001b[0m\n\u001b[1;32m     38\u001b[0m \u001b[0mprint\u001b[0m\u001b[0;34m(\u001b[0m\u001b[0;34m\"parameter K is: \"\u001b[0m\u001b[0;34m,\u001b[0m\u001b[0mparams\u001b[0m\u001b[0;34m[\u001b[0m\u001b[0;36m1\u001b[0m\u001b[0;34m]\u001b[0m\u001b[0;34m)\u001b[0m\u001b[0;34m\u001b[0m\u001b[0;34m\u001b[0m\u001b[0m\n",
      "\u001b[0;32m~/.local/lib/python3.6/site-packages/scipy/optimize/minpack.py\u001b[0m in \u001b[0;36mcurve_fit\u001b[0;34m(f, xdata, ydata, p0, sigma, absolute_sigma, check_finite, bounds, method, jac, **kwargs)\u001b[0m\n\u001b[1;32m    787\u001b[0m         \u001b[0mcost\u001b[0m \u001b[0;34m=\u001b[0m \u001b[0mnp\u001b[0m\u001b[0;34m.\u001b[0m\u001b[0msum\u001b[0m\u001b[0;34m(\u001b[0m\u001b[0minfodict\u001b[0m\u001b[0;34m[\u001b[0m\u001b[0;34m'fvec'\u001b[0m\u001b[0;34m]\u001b[0m \u001b[0;34m**\u001b[0m \u001b[0;36m2\u001b[0m\u001b[0;34m)\u001b[0m\u001b[0;34m\u001b[0m\u001b[0;34m\u001b[0m\u001b[0m\n\u001b[1;32m    788\u001b[0m         \u001b[0;32mif\u001b[0m \u001b[0mier\u001b[0m \u001b[0;32mnot\u001b[0m \u001b[0;32min\u001b[0m \u001b[0;34m[\u001b[0m\u001b[0;36m1\u001b[0m\u001b[0;34m,\u001b[0m \u001b[0;36m2\u001b[0m\u001b[0;34m,\u001b[0m \u001b[0;36m3\u001b[0m\u001b[0;34m,\u001b[0m \u001b[0;36m4\u001b[0m\u001b[0;34m]\u001b[0m\u001b[0;34m:\u001b[0m\u001b[0;34m\u001b[0m\u001b[0;34m\u001b[0m\u001b[0m\n\u001b[0;32m--> 789\u001b[0;31m             \u001b[0;32mraise\u001b[0m \u001b[0mRuntimeError\u001b[0m\u001b[0;34m(\u001b[0m\u001b[0;34m\"Optimal parameters not found: \"\u001b[0m \u001b[0;34m+\u001b[0m \u001b[0merrmsg\u001b[0m\u001b[0;34m)\u001b[0m\u001b[0;34m\u001b[0m\u001b[0;34m\u001b[0m\u001b[0m\n\u001b[0m\u001b[1;32m    790\u001b[0m     \u001b[0;32melse\u001b[0m\u001b[0;34m:\u001b[0m\u001b[0;34m\u001b[0m\u001b[0;34m\u001b[0m\u001b[0m\n\u001b[1;32m    791\u001b[0m         \u001b[0;31m# Rename maxfev (leastsq) to max_nfev (least_squares), if specified.\u001b[0m\u001b[0;34m\u001b[0m\u001b[0;34m\u001b[0m\u001b[0;34m\u001b[0m\u001b[0m\n",
      "\u001b[0;31mRuntimeError\u001b[0m: Optimal parameters not found: Number of calls to function has reached maxfev = 600."
     ]
    },
    {
     "data": {
      "image/png": "[encoded data removed]",
      "text/plain": [
       "<Figure size 432x288 with 1 Axes>"
      ]
     },
     "metadata": {
      "needs_background": "light"
     },
     "output_type": "display_data"
    }
   ],
   "source": [
    "def harmonic_proper_dihedral(theta, theta0, k):\n",
    "    n = 2\n",
    "    coslist = []\n",
    "    for t in theta:\n",
    "        coslist.append(math.cos(n*t - theta0))\n",
    "    final_coslist = np.array(coslist)\n",
    "    val =  k * (1 + final_coslist)\n",
    "    return val\n",
    "\n",
    "#get probability distribution from data\n",
    "plt2 = sns.kdeplot(BB2_BB3_GSC1_GSC4_Hmapped_dihedral_all,bw=0.7)\n",
    "xdata = plt2.lines[0].get_xdata()\n",
    "ydata = plt2.lines[0].get_ydata()\n",
    "\n",
    "#calculate energy\n",
    "U = P2U(ydata)\n",
    "#code to deal with innifite energy\n",
    "if(U.max() == float('inf')):\n",
    "    U2 = U\n",
    "    t = np.sort(U2)[::-1]\n",
    "    for x in t:\n",
    "        if(x==float('inf')):\n",
    "            continue\n",
    "        else:\n",
    "            second_largest = x\n",
    "            break\n",
    "    U[U==float('inf')]=(second_largest * 2)\n",
    "else:\n",
    "    U[U==float('inf')]=(U.max() * 2)\n",
    "\n",
    "#plot enegy and density\n",
    "import matplotlib.pyplot as plt\n",
    "plt.plot(xdata,U,color='green')\n",
    "\n",
    "# for i in range(0,xdata.shape[0]):\n",
    "params, pcov = curve_fit(harmonic_proper_dihedral, xdata,U,p0=[61, 50000])\n",
    "print(\"parameter R_o is: \",params[0])\n",
    "print(\"parameter K is: \",params[1])\n",
    "# curve_fit(harmonic_angle, xdata[0], U, p0=[84, 1000])\n",
    "dihedral_parameters_dict['Parameter'].append('BB2_BB3_GSC1_GSC4')\n",
    "dihedral_parameters_dict['raw data mean value'].append(xmean)\n",
    "dihedral_parameters_dict['raw data mode value gaussian-fitted mode value'].append(x[maxid])\n",
    "dihedral_parameters_dict['Seed value obtained using BOltzmann inversion'].append(params[0])\n",
    "dihedral_parameters_dict['K from boltzmann inversion'].append(params[1])"
   ]
  },
  {
   "cell_type": "code",
   "execution_count": 18,
   "metadata": {},
   "outputs": [
    {
     "name": "stderr",
     "output_type": "stream",
     "text": [
      "/home/subhasree/.local/lib/python3.6/site-packages/seaborn/distributions.py:2557: FutureWarning: `distplot` is a deprecated function and will be removed in a future version. Please adapt your code to use either `displot` (a figure-level function with similar flexibility) or `histplot` (an axes-level function for histograms).\n",
      "  warnings.warn(msg, FutureWarning)\n",
      "/home/subhasree/.local/lib/python3.6/site-packages/seaborn/distributions.py:1657: FutureWarning: The `bw` parameter is deprecated in favor of `bw_method` and `bw_adjust`. Using 0.5 for `bw_method`, but please see the docs for the new parameters and update your code.\n",
      "  warnings.warn(msg, FutureWarning)\n"
     ]
    },
    {
     "name": "stdout",
     "output_type": "stream",
     "text": [
      "GSC1_GSC2_GSC3_GSC4_Hmapped_dihedral_all\n",
      "Mean: Raw data 0.359935448025053\n",
      "Mode: Raw data 0.6557597500539698\n",
      "Mode: Gauss-fitted 0.6557597500539698\n"
     ]
    },
    {
     "data": {
      "image/png": "[encoded data removed]",
      "text/plain": [
       "<Figure size 432x288 with 1 Axes>"
      ]
     },
     "metadata": {
      "needs_background": "light"
     },
     "output_type": "display_data"
    }
   ],
   "source": [
    "# Density Plot and Histogram \n",
    "from scipy import stats\n",
    "xmedian = np.median(GSC1_GSC2_GSC3_GSC4_Hmapped_dihedral_all)\n",
    "xmean = np.mean(GSC1_GSC2_GSC3_GSC4_Hmapped_dihedral_all)\n",
    "# xmode = stats.mode(BB2_BB3_Hmapped_distance_all)[0][0] #gives wrong value\n",
    "\n",
    "# #raw data plot\n",
    "plt = sns.distplot(GSC1_GSC2_GSC3_GSC4_Hmapped_dihedral_all, kde=True, \n",
    "            color = 'white',norm_hist=False,\n",
    "             kde_kws={'linewidth': 1}\n",
    "             )\n",
    "\n",
    "x = plt.lines[0].get_xdata()\n",
    "y = plt.lines[0].get_ydata()\n",
    "maxid = np.argmax(y)\n",
    "xmode = x[maxid]\n",
    "\n",
    "\n",
    "\n",
    "\n",
    "# # #histogram plot + Density plot\n",
    "# import matplotlib.pyplot as plt\n",
    "# sns.displot(GSC1_GSC2_GSC3_GSC4_Hmapped_dihedral_all,bins=10)\n",
    "# \n",
    "# \n",
    "# \n",
    "\n",
    "#density plot\n",
    "import matplotlib.pyplot as plt\n",
    "ax = sns.kdeplot(GSC1_GSC2_GSC3_GSC4_Hmapped_dihedral_all,bw=0.5)\n",
    "\n",
    "\n",
    "\n",
    "\n",
    "x = ax.lines[0].get_xdata()\n",
    "y = ax.lines[0].get_ydata()\n",
    "maxid = np.argmax(y)\n",
    "\n",
    "print(\"GSC1_GSC2_GSC3_GSC4_Hmapped_dihedral_all\")\n",
    "print(\"Mean: Raw data\",xmean)\n",
    "print(\"Mode: Raw data\",xmode)\n",
    "print(\"Mode: Gauss-fitted\",x[maxid])\n"
   ]
  },
  {
   "cell_type": "code",
   "execution_count": 19,
   "metadata": {},
   "outputs": [
    {
     "name": "stderr",
     "output_type": "stream",
     "text": [
      "/home/subhasree/.local/lib/python3.6/site-packages/seaborn/distributions.py:1657: FutureWarning: The `bw` parameter is deprecated in favor of `bw_method` and `bw_adjust`. Using 0.5 for `bw_method`, but please see the docs for the new parameters and update your code.\n",
      "  warnings.warn(msg, FutureWarning)\n"
     ]
    },
    {
     "name": "stdout",
     "output_type": "stream",
     "text": [
      "parameter R_o is:  0.43925903892791046\n",
      "parameter K is:  2.0427041417897236\n"
     ]
    },
    {
     "data": {
      "image/png": "[encoded data removed]",
      "text/plain": [
       "<Figure size 432x288 with 1 Axes>"
      ]
     },
     "metadata": {
      "needs_background": "light"
     },
     "output_type": "display_data"
    }
   ],
   "source": [
    "def harmonic_proper_dihedral(theta, theta0, k):\n",
    "    n = 1\n",
    "    coslist = []\n",
    "    for t in theta:\n",
    "        coslist.append(math.cos(n*t - theta0))\n",
    "    final_coslist = np.array(coslist)\n",
    "    val =  k * (1 + final_coslist)\n",
    "    return val\n",
    "\n",
    "#get probability distribution from data\n",
    "plt2 = sns.kdeplot(GSC1_GSC2_GSC3_GSC4_Hmapped_dihedral_all,bw=0.5)\n",
    "xdata = plt2.lines[0].get_xdata()\n",
    "ydata = plt2.lines[0].get_ydata()\n",
    "\n",
    "#calculate energy\n",
    "U = P2U(ydata)\n",
    "#code to deal with innifite energy\n",
    "if(U.max() == float('inf')):\n",
    "    U2 = U\n",
    "    t = np.sort(U2)[::-1]\n",
    "    for x in t:\n",
    "        if(x==float('inf')):\n",
    "            continue\n",
    "        else:\n",
    "            second_largest = x\n",
    "            break\n",
    "    U[U==float('inf')]=(second_largest * 2)\n",
    "else:\n",
    "    U[U==float('inf')]=(U.max() * 2)\n",
    "\n",
    "#plot enegy and density\n",
    "import matplotlib.pyplot as plt\n",
    "plt.plot(xdata,U,color='green')\n",
    "\n",
    "# for i in range(0,xdata.shape[0]):\n",
    "params, pcov = curve_fit(harmonic_proper_dihedral, xdata,U,p0=[0, 1000])\n",
    "print(\"parameter R_o is: \",params[0])\n",
    "print(\"parameter K is: \",params[1])\n",
    "# curve_fit(harmonic_angle, xdata[0], U, p0=[84, 1000])\n",
    "dihedral_parameters_dict['Parameter'].append('GSC1_GSC2_GSC3_GSC4')\n",
    "dihedral_parameters_dict['raw data mean value'].append(xmean)\n",
    "dihedral_parameters_dict['raw data mode value gaussian-fitted mode value'].append(x[maxid])\n",
    "dihedral_parameters_dict['Seed value obtained using BOltzmann inversion'].append(params[0])\n",
    "dihedral_parameters_dict['K from boltzmann inversion'].append(params[1])"
   ]
  },
  {
   "cell_type": "code",
   "execution_count": 20,
   "metadata": {},
   "outputs": [
    {
     "name": "stderr",
     "output_type": "stream",
     "text": [
      "/home/subhasree/.local/lib/python3.6/site-packages/seaborn/distributions.py:2557: FutureWarning: `distplot` is a deprecated function and will be removed in a future version. Please adapt your code to use either `displot` (a figure-level function with similar flexibility) or `histplot` (an axes-level function for histograms).\n",
      "  warnings.warn(msg, FutureWarning)\n",
      "/home/subhasree/.local/lib/python3.6/site-packages/seaborn/distributions.py:1657: FutureWarning: The `bw` parameter is deprecated in favor of `bw_method` and `bw_adjust`. Using 0.5 for `bw_method`, but please see the docs for the new parameters and update your code.\n",
      "  warnings.warn(msg, FutureWarning)\n"
     ]
    },
    {
     "name": "stdout",
     "output_type": "stream",
     "text": [
      "BB1_BB2_BB3_CSC1_Hmapped_dihedral_all\n",
      "Mean: Raw data -135.88503959995958\n",
      "Mode: Raw data -135.70937696985146\n",
      "Mode: Gauss-fitted -135.70937696985146\n"
     ]
    },
    {
     "data": {
      "image/png": "[encoded data removed]",
      "text/plain": [
       "<Figure size 432x288 with 1 Axes>"
      ]
     },
     "metadata": {
      "needs_background": "light"
     },
     "output_type": "display_data"
    }
   ],
   "source": [
    "# Density Plot and Histogram \n",
    "from scipy import stats\n",
    "xmedian = np.median(BB1_BB2_BB3_CSC1_Hmapped_dihedral_all)\n",
    "xmean = np.mean(BB1_BB2_BB3_CSC1_Hmapped_dihedral_all)\n",
    "# xmode = stats.mode(BB2_BB3_Hmapped_distance_all)[0][0] #gives wrong value\n",
    "\n",
    "#raw data plot\n",
    "plt = sns.distplot(BB1_BB2_BB3_CSC1_Hmapped_dihedral_all, kde=True, \n",
    "            color = 'white',norm_hist=False,\n",
    "             kde_kws={'linewidth': 1}\n",
    "             )\n",
    "\n",
    "x = plt.lines[0].get_xdata()\n",
    "y = plt.lines[0].get_ydata()\n",
    "maxid = np.argmax(y)\n",
    "xmode = x[maxid]\n",
    "\n",
    "\n",
    "\n",
    "\n",
    "# # #histogram plot + Density plot\n",
    "# import matplotlib.pyplot as plt\n",
    "# sns.displot(BB1_BB2_BB3_CSC1_Hmapped_dihedral_all,bins=10)\n",
    "# \n",
    "# \n",
    "# \n",
    "\n",
    "#density plot\n",
    "import matplotlib.pyplot as plt\n",
    "ax = sns.kdeplot(BB1_BB2_BB3_CSC1_Hmapped_dihedral_all,bw=0.5)\n",
    "\n",
    "\n",
    "\n",
    "\n",
    "x = ax.lines[0].get_xdata()\n",
    "y = ax.lines[0].get_ydata()\n",
    "maxid = np.argmax(y)\n",
    "\n",
    "print(\"BB1_BB2_BB3_CSC1_Hmapped_dihedral_all\")\n",
    "print(\"Mean: Raw data\",xmean)\n",
    "print(\"Mode: Raw data\",xmode)\n",
    "print(\"Mode: Gauss-fitted\",x[maxid])\n"
   ]
  },
  {
   "cell_type": "code",
   "execution_count": null,
   "metadata": {},
   "outputs": [],
   "source": []
  },
  {
   "cell_type": "markdown",
   "metadata": {},
   "source": [
    "## "
   ]
  },
  {
   "cell_type": "code",
   "execution_count": 21,
   "metadata": {},
   "outputs": [
    {
     "name": "stderr",
     "output_type": "stream",
     "text": [
      "/home/subhasree/.local/lib/python3.6/site-packages/seaborn/distributions.py:1657: FutureWarning: The `bw` parameter is deprecated in favor of `bw_method` and `bw_adjust`. Using 0.5 for `bw_method`, but please see the docs for the new parameters and update your code.\n",
      "  warnings.warn(msg, FutureWarning)\n"
     ]
    },
    {
     "name": "stdout",
     "output_type": "stream",
     "text": [
      "parameter R_o is:  -133.58405773618742\n",
      "parameter K is:  2.044193732578837\n"
     ]
    },
    {
     "data": {
      "image/png": "[encoded data removed]",
      "text/plain": [
       "<Figure size 432x288 with 1 Axes>"
      ]
     },
     "metadata": {
      "needs_background": "light"
     },
     "output_type": "display_data"
    }
   ],
   "source": [
    "def harmonic_proper_dihedral(theta, theta0, k):\n",
    "    n = 2\n",
    "    coslist = []\n",
    "    for t in theta:\n",
    "        coslist.append(math.cos(n*t - theta0))\n",
    "    final_coslist = np.array(coslist)\n",
    "    val =  k * (1 + final_coslist)\n",
    "    return val\n",
    "\n",
    "#get probability distribution from data\n",
    "plt2 = sns.kdeplot(BB1_BB2_BB3_CSC1_Hmapped_dihedral_all,bw=0.5)\n",
    "xdata = plt2.lines[0].get_xdata()\n",
    "ydata = plt2.lines[0].get_ydata()\n",
    "\n",
    "#calculate energy\n",
    "U = P2U(ydata)\n",
    "#code to deal with innifite energy\n",
    "if(U.max() == float('inf')):\n",
    "    U2 = U\n",
    "    t = np.sort(U2)[::-1]\n",
    "    for x in t:\n",
    "        if(x==float('inf')):\n",
    "            continue\n",
    "        else:\n",
    "            second_largest = x\n",
    "            break\n",
    "    U[U==float('inf')]=(second_largest * 2)\n",
    "else:\n",
    "    U[U==float('inf')]=(U.max() * 2)\n",
    "\n",
    "#plot enegy and density\n",
    "import matplotlib.pyplot as plt\n",
    "plt.plot(xdata,U,color='magenta')\n",
    "\n",
    "# for i in range(0,xdata.shape[0]):\n",
    "params, pcov = curve_fit(harmonic_proper_dihedral, xdata,U,p0=[-135, 1000])\n",
    "print(\"parameter R_o is: \",params[0])\n",
    "print(\"parameter K is: \",params[1])\n",
    "# curve_fit(harmonic_angle, xdata[0], U, p0=[84, 1000])\n",
    "dihedral_parameters_dict['Parameter'].append('BB1_BB2_BB3_CSC1')\n",
    "dihedral_parameters_dict['raw data mean value'].append(xmean)\n",
    "dihedral_parameters_dict['raw data mode value gaussian-fitted mode value'].append(x[maxid])\n",
    "dihedral_parameters_dict['Seed value obtained using BOltzmann inversion'].append(params[0])\n",
    "dihedral_parameters_dict['K from boltzmann inversion'].append(params[1])"
   ]
  },
  {
   "cell_type": "code",
   "execution_count": 22,
   "metadata": {},
   "outputs": [
    {
     "name": "stderr",
     "output_type": "stream",
     "text": [
      "/home/subhasree/.local/lib/python3.6/site-packages/seaborn/distributions.py:2557: FutureWarning: `distplot` is a deprecated function and will be removed in a future version. Please adapt your code to use either `displot` (a figure-level function with similar flexibility) or `histplot` (an axes-level function for histograms).\n",
      "  warnings.warn(msg, FutureWarning)\n"
     ]
    },
    {
     "name": "stdout",
     "output_type": "stream",
     "text": [
      "BB2_BB3_CSC1_CSC2_Hmapped_dihedral_all\n",
      "Mean: Raw data -150.1974273158905\n",
      "Mode: Raw data -149.58801258886047\n",
      "Mode: Gauss-fitted -149.58801258886047\n"
     ]
    },
    {
     "name": "stderr",
     "output_type": "stream",
     "text": [
      "/home/subhasree/.local/lib/python3.6/site-packages/seaborn/distributions.py:1657: FutureWarning: The `bw` parameter is deprecated in favor of `bw_method` and `bw_adjust`. Using 0.5 for `bw_method`, but please see the docs for the new parameters and update your code.\n",
      "  warnings.warn(msg, FutureWarning)\n"
     ]
    },
    {
     "data": {
      "image/png": "[encoded data removed]",
      "text/plain": [
       "<Figure size 432x288 with 1 Axes>"
      ]
     },
     "metadata": {
      "needs_background": "light"
     },
     "output_type": "display_data"
    }
   ],
   "source": [
    "# Density Plot and Histogram \n",
    "from scipy import stats\n",
    "xmedian = np.median(BB2_BB3_CSC1_CSC2_Hmapped_dihedral_all)\n",
    "xmean = np.mean(BB2_BB3_CSC1_CSC2_Hmapped_dihedral_all)\n",
    "# xmode = stats.mode(BB2_BB3_Hmapped_distance_all)[0][0] #gives wrong value\n",
    "\n",
    "#raw data plot\n",
    "plt = sns.distplot(BB2_BB3_CSC1_CSC2_Hmapped_dihedral_all, kde=True, \n",
    "            color = 'white',norm_hist=False,\n",
    "             kde_kws={'linewidth': 1}\n",
    "             )\n",
    "\n",
    "x = plt.lines[0].get_xdata()\n",
    "y = plt.lines[0].get_ydata()\n",
    "maxid = np.argmax(y)\n",
    "xmode = x[maxid]\n",
    "\n",
    "\n",
    "\n",
    "\n",
    "# # #histogram plot + Density plot\n",
    "# import matplotlib.pyplot as plt\n",
    "# sns.displot(BB2_BB3_CSC1_CSC2_Hmapped_dihedral_all,bins=10)\n",
    "# \n",
    "# \n",
    "# \n",
    "\n",
    "#density plot\n",
    "import matplotlib.pyplot as plt\n",
    "ax = sns.kdeplot(BB2_BB3_CSC1_CSC2_Hmapped_dihedral_all,bw=0.5)\n",
    "\n",
    "\n",
    "\n",
    "\n",
    "x = ax.lines[0].get_xdata()\n",
    "y = ax.lines[0].get_ydata()\n",
    "maxid = np.argmax(y)\n",
    "\n",
    "print(\"BB2_BB3_CSC1_CSC2_Hmapped_dihedral_all\")\n",
    "print(\"Mean: Raw data\",xmean)\n",
    "print(\"Mode: Raw data\",xmode)\n",
    "print(\"Mode: Gauss-fitted\",x[maxid])\n"
   ]
  },
  {
   "cell_type": "code",
   "execution_count": 23,
   "metadata": {},
   "outputs": [
    {
     "name": "stderr",
     "output_type": "stream",
     "text": [
      "/home/subhasree/.local/lib/python3.6/site-packages/seaborn/distributions.py:1657: FutureWarning: The `bw` parameter is deprecated in favor of `bw_method` and `bw_adjust`. Using 0.5 for `bw_method`, but please see the docs for the new parameters and update your code.\n",
      "  warnings.warn(msg, FutureWarning)\n"
     ]
    },
    {
     "name": "stdout",
     "output_type": "stream",
     "text": [
      "parameter R_o is:  -147.7950583439346\n",
      "parameter K is:  7.968220767694025\n"
     ]
    },
    {
     "data": {
      "image/png": "[encoded data removed]",
      "text/plain": [
       "<Figure size 432x288 with 1 Axes>"
      ]
     },
     "metadata": {
      "needs_background": "light"
     },
     "output_type": "display_data"
    }
   ],
   "source": [
    "def harmonic_proper_dihedral(theta, theta0, k):\n",
    "    n = 6\n",
    "    coslist = []\n",
    "    for t in theta:\n",
    "        coslist.append(math.cos(n*t - theta0))\n",
    "    final_coslist = np.array(coslist)\n",
    "    val =  k * (1 + final_coslist)\n",
    "    return val\n",
    "\n",
    "#get probability distribution from data\n",
    "plt2 = sns.kdeplot(BB2_BB3_CSC1_CSC2_Hmapped_dihedral_all,bw=0.5)\n",
    "xdata = plt2.lines[0].get_xdata()\n",
    "ydata = plt2.lines[0].get_ydata()\n",
    "\n",
    "#calculate energy\n",
    "U = P2U(ydata)\n",
    "#code to deal with innifite energy\n",
    "if(U.max() == float('inf')):\n",
    "    U2 = U\n",
    "    t = np.sort(U2)[::-1]\n",
    "    for x in t:\n",
    "        if(x==float('inf')):\n",
    "            continue\n",
    "        else:\n",
    "            second_largest = x\n",
    "            break\n",
    "    U[U==float('inf')]=(second_largest * 2)\n",
    "else:\n",
    "    U[U==float('inf')]=(U.max() * 2)\n",
    "\n",
    "#plot enegy and density\n",
    "import matplotlib.pyplot as plt\n",
    "plt.plot(xdata,U,color='magenta')\n",
    "\n",
    "# for i in range(0,xdata.shape[0]):\n",
    "params, pcov = curve_fit(harmonic_proper_dihedral, xdata,U,p0=[-149, 1000])\n",
    "print(\"parameter R_o is: \",params[0])\n",
    "print(\"parameter K is: \",params[1])\n",
    "# curve_fit(harmonic_angle, xdata[0], U, p0=[84, 1000])\n",
    "dihedral_parameters_dict['Parameter'].append('BB2_BB3_CSC1_CSC2')\n",
    "dihedral_parameters_dict['raw data mean value'].append(xmean)\n",
    "dihedral_parameters_dict['raw data mode value gaussian-fitted mode value'].append(x[maxid])\n",
    "dihedral_parameters_dict['Seed value obtained using BOltzmann inversion'].append(params[0])\n",
    "dihedral_parameters_dict['K from boltzmann inversion'].append(params[1])"
   ]
  },
  {
   "cell_type": "code",
   "execution_count": 24,
   "metadata": {},
   "outputs": [
    {
     "name": "stderr",
     "output_type": "stream",
     "text": [
      "/home/subhasree/.local/lib/python3.6/site-packages/seaborn/distributions.py:2557: FutureWarning: `distplot` is a deprecated function and will be removed in a future version. Please adapt your code to use either `displot` (a figure-level function with similar flexibility) or `histplot` (an axes-level function for histograms).\n",
      "  warnings.warn(msg, FutureWarning)\n"
     ]
    },
    {
     "name": "stdout",
     "output_type": "stream",
     "text": [
      "BB2_BB3_CSC1_CSC3_Hmapped_dihedral_all\n",
      "Mean: Raw data 144.37203040711182\n",
      "Mode: Raw data 144.30124823996735\n",
      "Mode: Gauss-fitted 144.30124823996735\n"
     ]
    },
    {
     "name": "stderr",
     "output_type": "stream",
     "text": [
      "/home/subhasree/.local/lib/python3.6/site-packages/seaborn/distributions.py:1657: FutureWarning: The `bw` parameter is deprecated in favor of `bw_method` and `bw_adjust`. Using 0.5 for `bw_method`, but please see the docs for the new parameters and update your code.\n",
      "  warnings.warn(msg, FutureWarning)\n"
     ]
    },
    {
     "data": {
      "image/png": "[encoded data removed]",
      "text/plain": [
       "<Figure size 432x288 with 1 Axes>"
      ]
     },
     "metadata": {
      "needs_background": "light"
     },
     "output_type": "display_data"
    }
   ],
   "source": [
    "# Density Plot and Histogram \n",
    "from scipy import stats\n",
    "xmedian = np.median(BB2_BB3_CSC1_CSC3_Hmapped_dihedral_all)\n",
    "xmean = np.mean(BB2_BB3_CSC1_CSC3_Hmapped_dihedral_all)\n",
    "# xmode = stats.mode(BB2_BB3_Hmapped_distance_all)[0][0] #gives wrong value\n",
    "\n",
    "#raw data plot\n",
    "plt = sns.distplot(BB2_BB3_CSC1_CSC3_Hmapped_dihedral_all, kde=True, \n",
    "            color = 'white',norm_hist=False,\n",
    "             kde_kws={'linewidth': 1}\n",
    "             )\n",
    "\n",
    "x = plt.lines[0].get_xdata()\n",
    "y = plt.lines[0].get_ydata()\n",
    "maxid = np.argmax(y)\n",
    "xmode = x[maxid]\n",
    "\n",
    "\n",
    "\n",
    "\n",
    "# # #histogram plot + Density plot\n",
    "# import matplotlib.pyplot as plt\n",
    "# sns.displot(BB2_BB3_CSC1_CSC3_Hmapped_dihedral_all,bins=10)\n",
    "# \n",
    "# \n",
    "# \n",
    "\n",
    "#density plot\n",
    "import matplotlib.pyplot as plt\n",
    "ax = sns.kdeplot(BB2_BB3_CSC1_CSC3_Hmapped_dihedral_all,bw=0.5)\n",
    "\n",
    "\n",
    "\n",
    "\n",
    "x = ax.lines[0].get_xdata()\n",
    "y = ax.lines[0].get_ydata()\n",
    "maxid = np.argmax(y)\n",
    "\n",
    "print(\"BB2_BB3_CSC1_CSC3_Hmapped_dihedral_all\")\n",
    "print(\"Mean: Raw data\",xmean)\n",
    "print(\"Mode: Raw data\",xmode)\n",
    "print(\"Mode: Gauss-fitted\",x[maxid])\n"
   ]
  },
  {
   "cell_type": "code",
   "execution_count": 25,
   "metadata": {},
   "outputs": [
    {
     "name": "stderr",
     "output_type": "stream",
     "text": [
      "/home/subhasree/.local/lib/python3.6/site-packages/ipykernel_launcher.py:5: RuntimeWarning: divide by zero encountered in log\n",
      "  \"\"\"\n"
     ]
    },
    {
     "ename": "RuntimeError",
     "evalue": "Optimal parameters not found: Number of calls to function has reached maxfev = 600.",
     "output_type": "error",
     "traceback": [
      "\u001b[0;31m---------------------------------------------------------------------------\u001b[0m",
      "\u001b[0;31mRuntimeError\u001b[0m                              Traceback (most recent call last)",
      "\u001b[0;32m<ipython-input-25-f6a7847dbf49>\u001b[0m in \u001b[0;36m<module>\u001b[0;34m\u001b[0m\n\u001b[1;32m     37\u001b[0m \u001b[0;34m\u001b[0m\u001b[0m\n\u001b[1;32m     38\u001b[0m \u001b[0;31m# for i in range(0,xdata.shape[0]):\u001b[0m\u001b[0;34m\u001b[0m\u001b[0;34m\u001b[0m\u001b[0;34m\u001b[0m\u001b[0m\n\u001b[0;32m---> 39\u001b[0;31m \u001b[0mparams\u001b[0m\u001b[0;34m,\u001b[0m \u001b[0mpcov\u001b[0m \u001b[0;34m=\u001b[0m \u001b[0mcurve_fit\u001b[0m\u001b[0;34m(\u001b[0m\u001b[0mharmonic_proper_dihedral\u001b[0m\u001b[0;34m,\u001b[0m \u001b[0mxdata\u001b[0m\u001b[0;34m,\u001b[0m\u001b[0mU\u001b[0m\u001b[0;34m,\u001b[0m\u001b[0mp0\u001b[0m\u001b[0;34m=\u001b[0m\u001b[0;34m[\u001b[0m\u001b[0;36m144\u001b[0m\u001b[0;34m,\u001b[0m \u001b[0;36m50000\u001b[0m\u001b[0;34m]\u001b[0m\u001b[0;34m)\u001b[0m\u001b[0;34m\u001b[0m\u001b[0;34m\u001b[0m\u001b[0m\n\u001b[0m\u001b[1;32m     40\u001b[0m \u001b[0mprint\u001b[0m\u001b[0;34m(\u001b[0m\u001b[0;34m\"parameter R_o is: \"\u001b[0m\u001b[0;34m,\u001b[0m\u001b[0mparams\u001b[0m\u001b[0;34m[\u001b[0m\u001b[0;36m0\u001b[0m\u001b[0;34m]\u001b[0m\u001b[0;34m)\u001b[0m\u001b[0;34m\u001b[0m\u001b[0;34m\u001b[0m\u001b[0m\n\u001b[1;32m     41\u001b[0m \u001b[0mprint\u001b[0m\u001b[0;34m(\u001b[0m\u001b[0;34m\"parameter K is: \"\u001b[0m\u001b[0;34m,\u001b[0m\u001b[0mparams\u001b[0m\u001b[0;34m[\u001b[0m\u001b[0;36m1\u001b[0m\u001b[0;34m]\u001b[0m\u001b[0;34m)\u001b[0m\u001b[0;34m\u001b[0m\u001b[0;34m\u001b[0m\u001b[0m\n",
      "\u001b[0;32m~/.local/lib/python3.6/site-packages/scipy/optimize/minpack.py\u001b[0m in \u001b[0;36mcurve_fit\u001b[0;34m(f, xdata, ydata, p0, sigma, absolute_sigma, check_finite, bounds, method, jac, **kwargs)\u001b[0m\n\u001b[1;32m    787\u001b[0m         \u001b[0mcost\u001b[0m \u001b[0;34m=\u001b[0m \u001b[0mnp\u001b[0m\u001b[0;34m.\u001b[0m\u001b[0msum\u001b[0m\u001b[0;34m(\u001b[0m\u001b[0minfodict\u001b[0m\u001b[0;34m[\u001b[0m\u001b[0;34m'fvec'\u001b[0m\u001b[0;34m]\u001b[0m \u001b[0;34m**\u001b[0m \u001b[0;36m2\u001b[0m\u001b[0;34m)\u001b[0m\u001b[0;34m\u001b[0m\u001b[0;34m\u001b[0m\u001b[0m\n\u001b[1;32m    788\u001b[0m         \u001b[0;32mif\u001b[0m \u001b[0mier\u001b[0m \u001b[0;32mnot\u001b[0m \u001b[0;32min\u001b[0m \u001b[0;34m[\u001b[0m\u001b[0;36m1\u001b[0m\u001b[0;34m,\u001b[0m \u001b[0;36m2\u001b[0m\u001b[0;34m,\u001b[0m \u001b[0;36m3\u001b[0m\u001b[0;34m,\u001b[0m \u001b[0;36m4\u001b[0m\u001b[0;34m]\u001b[0m\u001b[0;34m:\u001b[0m\u001b[0;34m\u001b[0m\u001b[0;34m\u001b[0m\u001b[0m\n\u001b[0;32m--> 789\u001b[0;31m             \u001b[0;32mraise\u001b[0m \u001b[0mRuntimeError\u001b[0m\u001b[0;34m(\u001b[0m\u001b[0;34m\"Optimal parameters not found: \"\u001b[0m \u001b[0;34m+\u001b[0m \u001b[0merrmsg\u001b[0m\u001b[0;34m)\u001b[0m\u001b[0;34m\u001b[0m\u001b[0;34m\u001b[0m\u001b[0m\n\u001b[0m\u001b[1;32m    790\u001b[0m     \u001b[0;32melse\u001b[0m\u001b[0;34m:\u001b[0m\u001b[0;34m\u001b[0m\u001b[0;34m\u001b[0m\u001b[0m\n\u001b[1;32m    791\u001b[0m         \u001b[0;31m# Rename maxfev (leastsq) to max_nfev (least_squares), if specified.\u001b[0m\u001b[0;34m\u001b[0m\u001b[0;34m\u001b[0m\u001b[0;34m\u001b[0m\u001b[0m\n",
      "\u001b[0;31mRuntimeError\u001b[0m: Optimal parameters not found: Number of calls to function has reached maxfev = 600."
     ]
    },
    {
     "data": {
      "image/png": "[encoded data removed]",
      "text/plain": [
       "<Figure size 432x288 with 1 Axes>"
      ]
     },
     "metadata": {
      "needs_background": "light"
     },
     "output_type": "display_data"
    }
   ],
   "source": [
    "def harmonic_proper_dihedral(theta, theta0, k):\n",
    "    n = 1\n",
    "    coslist = []\n",
    "    for t in theta:\n",
    "        coslist.append(math.cos(n*t - theta0))\n",
    "    final_coslist = np.array(coslist)\n",
    "    val =  k * (1 + final_coslist)\n",
    "    return val\n",
    "\n",
    "#get probability distribution from data\n",
    "plt2 = sns.kdeplot(BB2_BB3_CSC1_CSC3_Hmapped_dihedral_all)\n",
    "xdata = plt2.lines[0].get_xdata()\n",
    "ydata = plt2.lines[0].get_ydata()\n",
    "#calculate energy\n",
    "U = P2U(ydata)\n",
    "# print(U)\n",
    "\n",
    "if(U.max() == float('inf')):\n",
    "    U2 = U.copy()\n",
    "    t = np.sort(U2)[::-1]\n",
    "    for x in t:\n",
    "        if(x==float('inf')):\n",
    "            continue\n",
    "        else:\n",
    "            second_largest = x\n",
    "            break\n",
    "    U[U==float('inf')]=(second_largest * 2)\n",
    "else:\n",
    "    U[U==float('inf')]=(U.max() * 2)\n",
    "\n",
    "plt.plot(xdata,U)\n",
    "plt.plot(xdata,U)\n",
    "\n",
    "#plot enegy and density\n",
    "import matplotlib.pyplot as plt\n",
    "plt.plot(xdata,U,color='magenta')\n",
    "\n",
    "# for i in range(0,xdata.shape[0]):\n",
    "params, pcov = curve_fit(harmonic_proper_dihedral, xdata,U,p0=[144, 50000])\n",
    "print(\"parameter R_o is: \",params[0])\n",
    "print(\"parameter K is: \",params[1])\n",
    "# curve_fit(harmonic_angle, xdata[0], U, p0=[84, 1000])\n",
    "\n",
    "dihedral_parameters_dict['Parameter'].append('BB2_BB3_CSC1_CSC3')\n",
    "dihedral_parameters_dict['raw data mean value'].append(xmean)\n",
    "dihedral_parameters_dict['raw data mode value gaussian-fitted mode value'].append(x[maxid])\n",
    "dihedral_parameters_dict['Seed value obtained using BOltzmann inversion'].append(params[0])\n",
    "dihedral_parameters_dict['K from boltzmann inversion'].append(params[1])"
   ]
  },
  {
   "cell_type": "code",
   "execution_count": 26,
   "metadata": {},
   "outputs": [
    {
     "name": "stderr",
     "output_type": "stream",
     "text": [
      "/home/subhasree/.local/lib/python3.6/site-packages/seaborn/distributions.py:2557: FutureWarning: `distplot` is a deprecated function and will be removed in a future version. Please adapt your code to use either `displot` (a figure-level function with similar flexibility) or `histplot` (an axes-level function for histograms).\n",
      "  warnings.warn(msg, FutureWarning)\n"
     ]
    },
    {
     "name": "stdout",
     "output_type": "stream",
     "text": [
      "BB2_BB3_CSC1_CSC3_Hmapped_dihedral_all\n",
      "Mean: Raw data 144.37203040711182\n",
      "Mode: Raw data 144.30124823996735\n",
      "Mode: Gauss-fitted 144.30124823996735\n"
     ]
    },
    {
     "data": {
      "image/png": "[encoded data removed]",
      "text/plain": [
       "<Figure size 432x288 with 1 Axes>"
      ]
     },
     "metadata": {
      "needs_background": "light"
     },
     "output_type": "display_data"
    }
   ],
   "source": [
    "# Density Plot and Histogram \n",
    "from scipy import stats\n",
    "xmedian = np.median(BB2_BB3_CSC1_CSC3_Hmapped_dihedral_all)\n",
    "xmean = np.mean(BB2_BB3_CSC1_CSC3_Hmapped_dihedral_all)\n",
    "# xmode = stats.mode(BB2_BB3_Hmapped_distance_all)[0][0] #gives wrong value\n",
    "\n",
    "#raw data plot\n",
    "plt = sns.distplot(BB2_BB3_CSC1_CSC3_Hmapped_dihedral_all, kde=True, \n",
    "            color = 'white',norm_hist=False,\n",
    "             kde_kws={'linewidth': 1}\n",
    "             )\n",
    "\n",
    "x = plt.lines[0].get_xdata()\n",
    "y = plt.lines[0].get_ydata()\n",
    "maxid = np.argmax(y)\n",
    "xmode = x[maxid]\n",
    "\n",
    "\n",
    "\n",
    "\n",
    "# # #histogram plot + Density plot\n",
    "# import matplotlib.pyplot as plt\n",
    "# sns.displot(BB2_BB3_CSC1_CSC3_Hmapped_dihedral_all,bins=10)\n",
    "# \n",
    "# \n",
    "# \n",
    "\n",
    "#density plot\n",
    "import matplotlib.pyplot as plt\n",
    "ax = sns.kdeplot(BB2_BB3_CSC1_CSC3_Hmapped_dihedral_all)\n",
    "\n",
    "\n",
    "\n",
    "\n",
    "x = ax.lines[0].get_xdata()\n",
    "y = ax.lines[0].get_ydata()\n",
    "maxid = np.argmax(y)\n",
    "\n",
    "print(\"BB2_BB3_CSC1_CSC3_Hmapped_dihedral_all\")\n",
    "print(\"Mean: Raw data\",xmean)\n",
    "print(\"Mode: Raw data\",xmode)\n",
    "print(\"Mode: Gauss-fitted\",x[maxid])\n"
   ]
  },
  {
   "cell_type": "code",
   "execution_count": 27,
   "metadata": {},
   "outputs": [
    {
     "name": "stderr",
     "output_type": "stream",
     "text": [
      "/home/subhasree/.local/lib/python3.6/site-packages/ipykernel_launcher.py:5: RuntimeWarning: divide by zero encountered in log\n",
      "  \"\"\"\n"
     ]
    },
    {
     "ename": "RuntimeError",
     "evalue": "Optimal parameters not found: Number of calls to function has reached maxfev = 600.",
     "output_type": "error",
     "traceback": [
      "\u001b[0;31m---------------------------------------------------------------------------\u001b[0m",
      "\u001b[0;31mRuntimeError\u001b[0m                              Traceback (most recent call last)",
      "\u001b[0;32m<ipython-input-27-1ee2844ffcc0>\u001b[0m in \u001b[0;36m<module>\u001b[0;34m\u001b[0m\n\u001b[1;32m     37\u001b[0m \u001b[0;34m\u001b[0m\u001b[0m\n\u001b[1;32m     38\u001b[0m \u001b[0;31m# for i in range(0,xdata.shape[0]):\u001b[0m\u001b[0;34m\u001b[0m\u001b[0;34m\u001b[0m\u001b[0;34m\u001b[0m\u001b[0m\n\u001b[0;32m---> 39\u001b[0;31m \u001b[0mparams\u001b[0m\u001b[0;34m,\u001b[0m \u001b[0mpcov\u001b[0m \u001b[0;34m=\u001b[0m \u001b[0mcurve_fit\u001b[0m\u001b[0;34m(\u001b[0m\u001b[0mharmonic_proper_dihedral\u001b[0m\u001b[0;34m,\u001b[0m \u001b[0mxdata\u001b[0m\u001b[0;34m,\u001b[0m\u001b[0mU\u001b[0m\u001b[0;34m,\u001b[0m\u001b[0mp0\u001b[0m\u001b[0;34m=\u001b[0m\u001b[0;34m[\u001b[0m\u001b[0;36m144\u001b[0m\u001b[0;34m,\u001b[0m \u001b[0;36m1000\u001b[0m\u001b[0;34m]\u001b[0m\u001b[0;34m)\u001b[0m\u001b[0;34m\u001b[0m\u001b[0;34m\u001b[0m\u001b[0m\n\u001b[0m\u001b[1;32m     40\u001b[0m \u001b[0mprint\u001b[0m\u001b[0;34m(\u001b[0m\u001b[0;34m\"parameter R_o is: \"\u001b[0m\u001b[0;34m,\u001b[0m\u001b[0mparams\u001b[0m\u001b[0;34m[\u001b[0m\u001b[0;36m0\u001b[0m\u001b[0;34m]\u001b[0m\u001b[0;34m)\u001b[0m\u001b[0;34m\u001b[0m\u001b[0;34m\u001b[0m\u001b[0m\n\u001b[1;32m     41\u001b[0m \u001b[0mprint\u001b[0m\u001b[0;34m(\u001b[0m\u001b[0;34m\"parameter K is: \"\u001b[0m\u001b[0;34m,\u001b[0m\u001b[0mparams\u001b[0m\u001b[0;34m[\u001b[0m\u001b[0;36m1\u001b[0m\u001b[0;34m]\u001b[0m\u001b[0;34m)\u001b[0m\u001b[0;34m\u001b[0m\u001b[0;34m\u001b[0m\u001b[0m\n",
      "\u001b[0;32m~/.local/lib/python3.6/site-packages/scipy/optimize/minpack.py\u001b[0m in \u001b[0;36mcurve_fit\u001b[0;34m(f, xdata, ydata, p0, sigma, absolute_sigma, check_finite, bounds, method, jac, **kwargs)\u001b[0m\n\u001b[1;32m    787\u001b[0m         \u001b[0mcost\u001b[0m \u001b[0;34m=\u001b[0m \u001b[0mnp\u001b[0m\u001b[0;34m.\u001b[0m\u001b[0msum\u001b[0m\u001b[0;34m(\u001b[0m\u001b[0minfodict\u001b[0m\u001b[0;34m[\u001b[0m\u001b[0;34m'fvec'\u001b[0m\u001b[0;34m]\u001b[0m \u001b[0;34m**\u001b[0m \u001b[0;36m2\u001b[0m\u001b[0;34m)\u001b[0m\u001b[0;34m\u001b[0m\u001b[0;34m\u001b[0m\u001b[0m\n\u001b[1;32m    788\u001b[0m         \u001b[0;32mif\u001b[0m \u001b[0mier\u001b[0m \u001b[0;32mnot\u001b[0m \u001b[0;32min\u001b[0m \u001b[0;34m[\u001b[0m\u001b[0;36m1\u001b[0m\u001b[0;34m,\u001b[0m \u001b[0;36m2\u001b[0m\u001b[0;34m,\u001b[0m \u001b[0;36m3\u001b[0m\u001b[0;34m,\u001b[0m \u001b[0;36m4\u001b[0m\u001b[0;34m]\u001b[0m\u001b[0;34m:\u001b[0m\u001b[0;34m\u001b[0m\u001b[0;34m\u001b[0m\u001b[0m\n\u001b[0;32m--> 789\u001b[0;31m             \u001b[0;32mraise\u001b[0m \u001b[0mRuntimeError\u001b[0m\u001b[0;34m(\u001b[0m\u001b[0;34m\"Optimal parameters not found: \"\u001b[0m \u001b[0;34m+\u001b[0m \u001b[0merrmsg\u001b[0m\u001b[0;34m)\u001b[0m\u001b[0;34m\u001b[0m\u001b[0;34m\u001b[0m\u001b[0m\n\u001b[0m\u001b[1;32m    790\u001b[0m     \u001b[0;32melse\u001b[0m\u001b[0;34m:\u001b[0m\u001b[0;34m\u001b[0m\u001b[0;34m\u001b[0m\u001b[0m\n\u001b[1;32m    791\u001b[0m         \u001b[0;31m# Rename maxfev (leastsq) to max_nfev (least_squares), if specified.\u001b[0m\u001b[0;34m\u001b[0m\u001b[0;34m\u001b[0m\u001b[0;34m\u001b[0m\u001b[0m\n",
      "\u001b[0;31mRuntimeError\u001b[0m: Optimal parameters not found: Number of calls to function has reached maxfev = 600."
     ]
    },
    {
     "data": {
      "image/png": "[encoded data removed]",
      "text/plain": [
       "<Figure size 432x288 with 1 Axes>"
      ]
     },
     "metadata": {
      "needs_background": "light"
     },
     "output_type": "display_data"
    }
   ],
   "source": [
    "def harmonic_proper_dihedral(theta, theta0, k):\n",
    "    n = 1\n",
    "    coslist = []\n",
    "    for t in theta:\n",
    "        coslist.append(math.cos(n*t - theta0))\n",
    "    final_coslist = np.array(coslist)\n",
    "    val =  k * (1 + final_coslist)\n",
    "    return val\n",
    "\n",
    "#get probability distribution from data\n",
    "plt2 = sns.kdeplot(BB2_BB3_CSC1_CSC3_Hmapped_dihedral_all)\n",
    "xdata = plt2.lines[0].get_xdata()\n",
    "ydata = plt2.lines[0].get_ydata()\n",
    "#calculate energy\n",
    "U = P2U(ydata)\n",
    "# print(U)\n",
    "\n",
    "if(U.max() == float('inf')):\n",
    "    U2 = U.copy()\n",
    "    t = np.sort(U2)[::-1]\n",
    "    for x in t:\n",
    "        if(x==float('inf')):\n",
    "            continue\n",
    "        else:\n",
    "            second_largest = x\n",
    "            break\n",
    "    U[U==float('inf')]=(second_largest * 2)\n",
    "else:\n",
    "    U[U==float('inf')]=(U.max() * 2)\n",
    "\n",
    "plt.plot(xdata,U)\n",
    "plt.plot(xdata,U)\n",
    "\n",
    "#plot enegy and density\n",
    "import matplotlib.pyplot as plt\n",
    "plt.plot(xdata,U,color='magenta')\n",
    "\n",
    "# for i in range(0,xdata.shape[0]):\n",
    "params, pcov = curve_fit(harmonic_proper_dihedral, xdata,U,p0=[144, 1000])\n",
    "print(\"parameter R_o is: \",params[0])\n",
    "print(\"parameter K is: \",params[1])\n",
    "# curve_fit(harmonic_angle, xdata[0], U, p0=[84, 1000])\n",
    "\n",
    "dihedral_parameters_dict['Parameter'].append('BB2_BB3_CSC1_CSC3')\n",
    "dihedral_parameters_dict['raw data mean value'].append(xmean)\n",
    "dihedral_parameters_dict['raw data mode value gaussian-fitted mode value'].append(x[maxid])\n",
    "dihedral_parameters_dict['Seed value obtained using BOltzmann inversion'].append(params[0])\n",
    "dihedral_parameters_dict['K from boltzmann inversion'].append(params[1])"
   ]
  },
  {
   "cell_type": "code",
   "execution_count": 373,
   "metadata": {},
   "outputs": [],
   "source": [
    "dihedral_parameters['Parameter'] = dihedral_parameters_dict['Parameter']\n",
    "dihedral_parameters['raw data mean value'] = dihedral_parameters_dict['raw data mean value']\n",
    "dihedral_parameters['raw data mode value gaussian-fitted mode value'] = dihedral_parameters_dict['raw data mode value gaussian-fitted mode value']\n",
    "dihedral_parameters['Seed value obtained using BOltzmann inversion'] = dihedral_parameters_dict['Seed value obtained using BOltzmann inversion']\n",
    "dihedral_parameters['K from boltzmann inversion'] = dihedral_parameters_dict['K from boltzmann inversion']\n",
    "dihedral_parameters.head()\n",
    "dihedral_parameters.to_csv(\"sirna_parameters_dihedrals.csv\")"
   ]
  },
  {
   "cell_type": "code",
   "execution_count": null,
   "metadata": {},
   "outputs": [],
   "source": []
  },
  {
   "cell_type": "code",
   "execution_count": null,
   "metadata": {},
   "outputs": [],
   "source": []
  }
 ],
 "metadata": {
  "kernelspec": {
   "display_name": "Python 3",
   "language": "python",
   "name": "python3"
  },
  "language_info": {
   "codemirror_mode": {
    "name": "ipython",
    "version": 3
   },
   "file_extension": ".py",
   "mimetype": "text/x-python",
   "name": "python",
   "nbconvert_exporter": "python",
   "pygments_lexer": "ipython3",
   "version": "3.6.9"
  }
 },
 "nbformat": 4,
 "nbformat_minor": 2
}
