{
 "cells": [
  {
   "cell_type": "code",
   "execution_count": 136,
   "id": "0864373b",
   "metadata": {},
   "outputs": [],
   "source": [
    "import pandas as pd\n",
    "import os\n",
    "# path =\"7w0f/\"\n",
    "path = \"/home/subhasree/IISC_Bangalore/My_PhD_Studies/Lab_work/CG_Models/PDB_files/sirna_pdb\""
   ]
  },
  {
   "cell_type": "code",
   "execution_count": 137,
   "id": "8f77b748",
   "metadata": {},
   "outputs": [],
   "source": [
    "df1 = pd.DataFrame()\n",
    "df2 = pd.DataFrame()"
   ]
  },
  {
   "cell_type": "code",
   "execution_count": 138,
   "id": "fc784b12",
   "metadata": {
    "scrolled": true
   },
   "outputs": [],
   "source": [
    "for file in os.listdir(path+\"/dih_6ra4/\"):\n",
    "    with open(path+\"/dih_6ra4/\"+file) as f:\n",
    "        val = []\n",
    "        time_ = []\n",
    "        lines = f.readlines()\n",
    "        attribute_name = lines[13].split()[-1]\n",
    "        for line in lines[17:]:\n",
    "            val.append(line.split()[1].replace('\"',''))\n",
    "            time_.append(line.split()[0])\n",
    "    df1[attribute_name] = val\n",
    "df1.insert(0,\"time\",time_)\n",
    "df1.to_csv(path+\"/dihedral_final_6ra4.csv\")"
   ]
  },
  {
   "cell_type": "code",
   "execution_count": 139,
   "id": "7dda6ddc",
   "metadata": {},
   "outputs": [],
   "source": [
    "for file in os.listdir(path+\"/ang_6ra4/\"):\n",
    "    with open(path+\"/ang_6ra4/\"+file) as f:\n",
    "        val = []\n",
    "        time_ = []\n",
    "        lines = f.readlines()\n",
    "        attribute_name = lines[13].split()[-1]\n",
    "        for line in lines[17:]:\n",
    "            val.append(line.split()[1].replace('\"',''))\n",
    "            time_.append(line.split()[0])\n",
    "    df2[attribute_name] = val\n",
    "df2.insert(0,\"time\",time_)\n",
    "df2.to_csv(path+\"/angle_final_6ra4.csv\")"
   ]
  },
  {
   "cell_type": "code",
   "execution_count": null,
   "id": "e58fad0e",
   "metadata": {},
   "outputs": [],
   "source": []
  },
  {
   "cell_type": "code",
   "execution_count": null,
   "id": "e65c391c",
   "metadata": {},
   "outputs": [],
   "source": []
  },
  {
   "cell_type": "code",
   "execution_count": null,
   "id": "6192d971",
   "metadata": {},
   "outputs": [],
   "source": []
  },
  {
   "cell_type": "code",
   "execution_count": null,
   "id": "a2421f0d",
   "metadata": {},
   "outputs": [],
   "source": []
  }
 ],
 "metadata": {
  "kernelspec": {
   "display_name": "Python 3",
   "language": "python",
   "name": "python3"
  },
  "language_info": {
   "codemirror_mode": {
    "name": "ipython",
    "version": 3
   },
   "file_extension": ".py",
   "mimetype": "text/x-python",
   "name": "python",
   "nbconvert_exporter": "python",
   "pygments_lexer": "ipython3",
   "version": "3.6.9"
  }
 },
 "nbformat": 4,
 "nbformat_minor": 5
}
