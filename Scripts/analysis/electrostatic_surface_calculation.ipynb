{
 "cells": [
  {
   "cell_type": "code",
   "execution_count": 1,
   "metadata": {},
   "outputs": [],
   "source": [
    "import math\n",
    "import pandas as pd"
   ]
  },
  {
   "cell_type": "code",
   "execution_count": null,
   "metadata": {},
   "outputs": [],
   "source": [
    "def calculate_quadrupole_quadrupole_energies():\n",
    "    "
   ]
  },
  {
   "cell_type": "code",
   "execution_count": 24,
   "metadata": {},
   "outputs": [],
   "source": [
    "def calculate_monopole_monopole_energies(charge_list,charge):\n",
    "    energy = 0.0\n",
    "    for i in range(0,len(charge_list)-1):\n",
    "        for j in range(i+1,len(charge_list)):\n",
    "            energy = energy + cal_electrostatic_energy(charge_list[i],charge_list[j],charge[i],charge[j])\n",
    "    return energy"
   ]
  },
  {
   "cell_type": "code",
   "execution_count": 25,
   "metadata": {},
   "outputs": [
    {
     "data": {
      "text/plain": [
       "-3.9501694904058985e-28"
      ]
     },
     "execution_count": 25,
     "metadata": {},
     "output_type": "execute_result"
    }
   ],
   "source": [
    "calculate_monopole_monopole_energies([[1,2,3],[1,3,4],[0,0,0]],[-1,2,-1])"
   ]
  },
  {
   "cell_type": "code",
   "execution_count": 3,
   "metadata": {},
   "outputs": [],
   "source": [
    "def calculate_dipole_energies(anion,cation,charge_n,charge_p):\n",
    "    energy = 0.0\n",
    "    for i in range(0,len(anion)):\n",
    "        q_n = charge_n[i]\n",
    "        for j in range(0,len(cation)):\n",
    "            q_p = charge_p[j]\n",
    "            e_new =  cal_electrostatic_energy(anion[i],cation[j],q_n,q_p)\n",
    "#             print(j)\n",
    "            energy = energy + e_new\n",
    "    return energy"
   ]
  },
  {
   "cell_type": "code",
   "execution_count": 27,
   "metadata": {},
   "outputs": [],
   "source": [
    "def cal_electrostatic_energy(point1,point2,q_n,q_p):\n",
    "#     print(\"test \"+str(point1))\n",
    "#     print(q_p)\n",
    "#     print(q_n)\n",
    "    dis = math.sqrt(math.pow((point1[0]-point2[0]),2) + math.pow((point1[1]-point2[1]),2)+ math.pow((point1[2]-point2[2]),2))\n",
    "#     print(dis)\n",
    "    if (dis == 0):  #for cases where two dipoles with common charge is present.\n",
    "        return 0\n",
    "    else:\n",
    "        #convert angstorm to meters bcz bond distances are in angstorm unit.\n",
    "        dis = dis*math.pow(10,-10)\n",
    "        #convert partial charge to elementary charge unit\n",
    "        ecu = math.pow(1.602*math.pow(10,-19),2)\n",
    "        energy = (q_p * q_n * ecu )/dis\n",
    "#         print(\"distance\" + str(dis))\n",
    "#         print(\"coulomb energy \"+str(energy))\n",
    "        return energy"
   ]
  },
  {
   "cell_type": "code",
   "execution_count": 5,
   "metadata": {},
   "outputs": [],
   "source": [
    "def calculate_dipole_dipole_energies(anion,cation,charge_n,charge_p):\n",
    "    list_of_dipoles = []\n",
    "    dipole_dipole_energy = 0\n",
    "    energy = 0\n",
    "    for i in range(0,len(cation)):\n",
    "        for j in range(0,len(anion)):\n",
    "            list_of_dipoles.append((cation[i],anion[j],charge_p[i],charge_n[j]))\n",
    "#     print(list_of_dipoles)\n",
    "    for i in range(0,len(list_of_dipoles)-1):\n",
    "        dpA_cation = list_of_dipoles[i][0]\n",
    "        dpA_anion = list_of_dipoles[i][1]\n",
    "        dpA_charge_p = list_of_dipoles[i][2]\n",
    "        dpA_charge_n = list_of_dipoles[i][3]\n",
    "#         print(list_of_dipoles[i])\n",
    "        for j in range(1,len(list_of_dipoles)):\n",
    "            dpB_cation = list_of_dipoles[j][0]\n",
    "            dpB_anion = list_of_dipoles[j][1]\n",
    "            dpB_charge_p = list_of_dipoles[j][2]\n",
    "            dpB_charge_n = list_of_dipoles[j][3]\n",
    "            energy = energy + cal_electrostatic_energy(dpA_cation,dpB_cation,dpA_charge_p,dpB_charge_p)\n",
    "            energy = energy + cal_electrostatic_energy(dpA_cation,dpB_anion,dpA_charge_p,dpB_charge_n)\n",
    "            energy = energy + cal_electrostatic_energy(dpA_anion,dpB_cation,dpA_charge_n,dpB_charge_p)\n",
    "            energy = energy + cal_electrostatic_energy(dpA_anion,dpB_anion,dpA_charge_n,dpB_charge_n)\n",
    "    dipole_dipole_energy = energy\n",
    "    return dipole_dipole_energy"
   ]
  },
  {
   "cell_type": "markdown",
   "metadata": {},
   "source": [
    "### create atom_file [contains coordinates and their partial charges]"
   ]
  },
  {
   "cell_type": "code",
   "execution_count": 6,
   "metadata": {},
   "outputs": [],
   "source": [
    "filepath = \"AA_files/\"\n",
    "filename = \"molecule_file_Chain_C.xlsx\"\n",
    "molecule_data = pd.read_excel(filepath+filename,engine=\"openpyxl\")    "
   ]
  },
  {
   "cell_type": "code",
   "execution_count": 7,
   "metadata": {
    "scrolled": false
   },
   "outputs": [
    {
     "data": {
      "text/html": [
       "<div>\n",
       "<style scoped>\n",
       "    .dataframe tbody tr th:only-of-type {\n",
       "        vertical-align: middle;\n",
       "    }\n",
       "\n",
       "    .dataframe tbody tr th {\n",
       "        vertical-align: top;\n",
       "    }\n",
       "\n",
       "    .dataframe thead th {\n",
       "        text-align: right;\n",
       "    }\n",
       "</style>\n",
       "<table border=\"1\" class=\"dataframe\">\n",
       "  <thead>\n",
       "    <tr style=\"text-align: right;\">\n",
       "      <th></th>\n",
       "      <th>Atom_number</th>\n",
       "      <th>Residue_name</th>\n",
       "      <th>Chain_name</th>\n",
       "      <th>Atom_name</th>\n",
       "      <th>x</th>\n",
       "      <th>y</th>\n",
       "      <th>z</th>\n",
       "      <th>charge</th>\n",
       "      <th>mass</th>\n",
       "    </tr>\n",
       "  </thead>\n",
       "  <tbody>\n",
       "    <tr>\n",
       "      <th>0</th>\n",
       "      <td>1</td>\n",
       "      <td>1U</td>\n",
       "      <td>C</td>\n",
       "      <td>O5'</td>\n",
       "      <td>4.624</td>\n",
       "      <td>2.259</td>\n",
       "      <td>3.276</td>\n",
       "      <td>-0.66</td>\n",
       "      <td>15.9994</td>\n",
       "    </tr>\n",
       "    <tr>\n",
       "      <th>1</th>\n",
       "      <td>2</td>\n",
       "      <td>1U</td>\n",
       "      <td>C</td>\n",
       "      <td>H5T</td>\n",
       "      <td>4.586</td>\n",
       "      <td>2.282</td>\n",
       "      <td>3.364</td>\n",
       "      <td>0.43</td>\n",
       "      <td>1.0080</td>\n",
       "    </tr>\n",
       "    <tr>\n",
       "      <th>2</th>\n",
       "      <td>3</td>\n",
       "      <td>1U</td>\n",
       "      <td>C</td>\n",
       "      <td>C5'</td>\n",
       "      <td>4.690</td>\n",
       "      <td>2.375</td>\n",
       "      <td>3.225</td>\n",
       "      <td>0.05</td>\n",
       "      <td>12.0110</td>\n",
       "    </tr>\n",
       "  </tbody>\n",
       "</table>\n",
       "</div>"
      ],
      "text/plain": [
       "   Atom_number Residue_name Chain_name Atom_name      x      y      z  charge  \\\n",
       "0            1           1U          C       O5'  4.624  2.259  3.276   -0.66   \n",
       "1            2           1U          C       H5T  4.586  2.282  3.364    0.43   \n",
       "2            3           1U          C       C5'  4.690  2.375  3.225    0.05   \n",
       "\n",
       "      mass  \n",
       "0  15.9994  \n",
       "1   1.0080  \n",
       "2  12.0110  "
      ]
     },
     "execution_count": 7,
     "metadata": {},
     "output_type": "execute_result"
    }
   ],
   "source": [
    "molecule_data[0:3]"
   ]
  },
  {
   "cell_type": "markdown",
   "metadata": {},
   "source": [
    "#### create a dictionary containing every residue and its atoms coordinates and charges\n"
   ]
  },
  {
   "cell_type": "code",
   "execution_count": 8,
   "metadata": {},
   "outputs": [],
   "source": [
    "residue_name_list = []\n",
    "residue_dict = {}\n",
    "for residue in molecule_data['Residue_name']:\n",
    "    residue_name_list.append(residue)\n",
    "residue_dict = dict.fromkeys(residue_name_list) \n",
    "for key in residue_dict.keys():\n",
    "    residue_dict[key] = {'x':[],'y':[],'z':[],'charge':[],'mass':[]}"
   ]
  },
  {
   "cell_type": "markdown",
   "metadata": {},
   "source": [
    "#### For every residue, get the atoms and their coords, mass and charges.\n"
   ]
  },
  {
   "cell_type": "code",
   "execution_count": 9,
   "metadata": {},
   "outputs": [],
   "source": [
    "for item,row in molecule_data.iterrows():\n",
    "    residue_dict[row['Residue_name']]['x'].append(row['x'])\n",
    "    residue_dict[row['Residue_name']]['y'].append(row['y'])\n",
    "    residue_dict[row['Residue_name']]['z'].append(row['z'])\n",
    "    residue_dict[row['Residue_name']]['charge'].append(row['charge'])\n",
    "    residue_dict[row['Residue_name']]['mass'].append(row['mass'])"
   ]
  },
  {
   "cell_type": "markdown",
   "metadata": {},
   "source": [
    "#### for each residue get the list of anions and cations"
   ]
  },
  {
   "cell_type": "code",
   "execution_count": 10,
   "metadata": {},
   "outputs": [],
   "source": [
    "#check partial charge of each atom in the residue and divide into cations and anions\n",
    "residue_name_list2 = []\n",
    "[ residue_name_list2.append(x) for x in residue_name_list if x not in residue_name_list2  ]\n",
    "cation = []\n",
    "anion = []\n",
    "charge_n = []\n",
    "charge_p = []\n",
    "res_len = residue_name_list2\n",
    "dipole_energy = 0.0\n",
    "dipole_dipole_energies = 0.0\n",
    "strandC = dict.fromkeys([k for k in range(0,len(res_len))])\n",
    "for key in strandC.keys():\n",
    "    strandC[key] = {'anion':[],'cation':[],'charge_p':[],'charge_n':[]}\n",
    "for i in range(0,len(res_len)):\n",
    "#loop to go through each residue\n",
    "    anion = []\n",
    "    cation = []\n",
    "    anion_of_ith_residue = []\n",
    "    cation_of_ith_residue = []\n",
    "    charge_n_of_ith_residue = []\n",
    "    charge_p_of_ith_residue = []\n",
    "    for k in range(0,len(residue_dict[res_len[i]]['x'])):\n",
    "        #loop to go through each atom of ith residue\n",
    "        x = residue_dict[res_len[i]]['x'][k]\n",
    "        y = residue_dict[res_len[i]]['y'][k]\n",
    "        z = residue_dict[res_len[i]]['z'][k]\n",
    "        c = residue_dict[res_len[i]]['charge'][k]\n",
    "        if (residue_dict[res_len[i]]['charge'][k] < 0.0 ):\n",
    "            anion.append([x,y,z])\n",
    "            charge_n.append(c)\n",
    "            anion_of_ith_residue.append([x,y,z])\n",
    "            charge_n_of_ith_residue.append(c)\n",
    "        else:\n",
    "            cation.append([x,y,z])\n",
    "            charge_p.append(c)\n",
    "            cation_of_ith_residue.append([x,y,z])\n",
    "            charge_p_of_ith_residue.append(c)\n",
    "    strandC[i]['anion'] = anion_of_ith_residue\n",
    "    strandC[i]['cation'] = cation_of_ith_residue\n",
    "    strandC[i]['charge_p'] = charge_p_of_ith_residue\n",
    "    strandC[i]['charge_n'] = charge_n_of_ith_residue"
   ]
  },
  {
   "cell_type": "markdown",
   "metadata": {},
   "source": [
    "##### For every residue starting from i=1 to n-1 calculate energies"
   ]
  },
  {
   "cell_type": "code",
   "execution_count": 29,
   "metadata": {},
   "outputs": [
    {
     "name": "stdout",
     "output_type": "stream",
     "text": [
      "At residue 1\n"
     ]
    },
    {
     "ename": "KeyboardInterrupt",
     "evalue": "",
     "output_type": "error",
     "traceback": [
      "\u001b[0;31m---------------------------------------------------------------------------\u001b[0m",
      "\u001b[0;31mKeyboardInterrupt\u001b[0m                         Traceback (most recent call last)",
      "\u001b[0;32m<ipython-input-29-2b7a72349dff>\u001b[0m in \u001b[0;36m<module>\u001b[0;34m\u001b[0m\n\u001b[1;32m     23\u001b[0m    dipole_energy = dipole_energy + calculate_dipole_energies(list_of_anions_for_calculations,list_of_cations_for_calculations,\n\u001b[1;32m     24\u001b[0m                              list_of_ncharge,list_of_pcharge)\n\u001b[0;32m---> 25\u001b[0;31m    \u001b[0mdipole_dipole_energies\u001b[0m \u001b[0;34m=\u001b[0m \u001b[0mdipole_dipole_energies\u001b[0m \u001b[0;34m+\u001b[0m \u001b[0mcalculate_dipole_dipole_energies\u001b[0m\u001b[0;34m(\u001b[0m\u001b[0mlist_of_anions_for_calculations\u001b[0m\u001b[0;34m,\u001b[0m\u001b[0mlist_of_cations_for_calculations\u001b[0m\u001b[0;34m,\u001b[0m\u001b[0mlist_of_ncharge\u001b[0m\u001b[0;34m,\u001b[0m\u001b[0mlist_of_pcharge\u001b[0m\u001b[0;34m)\u001b[0m\u001b[0;34m\u001b[0m\u001b[0;34m\u001b[0m\u001b[0m\n\u001b[0m\u001b[1;32m     26\u001b[0m \u001b[0;34m\u001b[0m\u001b[0m\n\u001b[1;32m     27\u001b[0m \u001b[0mprint\u001b[0m\u001b[0;34m(\u001b[0m\u001b[0mstr\u001b[0m\u001b[0;34m(\u001b[0m\u001b[0mmonopole_energy\u001b[0m\u001b[0;34m/\u001b[0m\u001b[0;36m1000.0\u001b[0m\u001b[0;34m)\u001b[0m\u001b[0;34m+\u001b[0m\u001b[0;34m\" kjoule\"\u001b[0m\u001b[0;34m)\u001b[0m\u001b[0;34m\u001b[0m\u001b[0;34m\u001b[0m\u001b[0m\n",
      "\u001b[0;32m<ipython-input-5-7204465fbf4f>\u001b[0m in \u001b[0;36mcalculate_dipole_dipole_energies\u001b[0;34m(anion, cation, charge_n, charge_p)\u001b[0m\n\u001b[1;32m     19\u001b[0m             \u001b[0mdpB_charge_n\u001b[0m \u001b[0;34m=\u001b[0m \u001b[0mlist_of_dipoles\u001b[0m\u001b[0;34m[\u001b[0m\u001b[0mj\u001b[0m\u001b[0;34m]\u001b[0m\u001b[0;34m[\u001b[0m\u001b[0;36m3\u001b[0m\u001b[0;34m]\u001b[0m\u001b[0;34m\u001b[0m\u001b[0;34m\u001b[0m\u001b[0m\n\u001b[1;32m     20\u001b[0m             \u001b[0menergy\u001b[0m \u001b[0;34m=\u001b[0m \u001b[0menergy\u001b[0m \u001b[0;34m+\u001b[0m \u001b[0mcal_electrostatic_energy\u001b[0m\u001b[0;34m(\u001b[0m\u001b[0mdpA_cation\u001b[0m\u001b[0;34m,\u001b[0m\u001b[0mdpB_cation\u001b[0m\u001b[0;34m,\u001b[0m\u001b[0mdpA_charge_p\u001b[0m\u001b[0;34m,\u001b[0m\u001b[0mdpB_charge_p\u001b[0m\u001b[0;34m)\u001b[0m\u001b[0;34m\u001b[0m\u001b[0;34m\u001b[0m\u001b[0m\n\u001b[0;32m---> 21\u001b[0;31m             \u001b[0menergy\u001b[0m \u001b[0;34m=\u001b[0m \u001b[0menergy\u001b[0m \u001b[0;34m+\u001b[0m \u001b[0mcal_electrostatic_energy\u001b[0m\u001b[0;34m(\u001b[0m\u001b[0mdpA_cation\u001b[0m\u001b[0;34m,\u001b[0m\u001b[0mdpB_anion\u001b[0m\u001b[0;34m,\u001b[0m\u001b[0mdpA_charge_p\u001b[0m\u001b[0;34m,\u001b[0m\u001b[0mdpB_charge_n\u001b[0m\u001b[0;34m)\u001b[0m\u001b[0;34m\u001b[0m\u001b[0;34m\u001b[0m\u001b[0m\n\u001b[0m\u001b[1;32m     22\u001b[0m             \u001b[0menergy\u001b[0m \u001b[0;34m=\u001b[0m \u001b[0menergy\u001b[0m \u001b[0;34m+\u001b[0m \u001b[0mcal_electrostatic_energy\u001b[0m\u001b[0;34m(\u001b[0m\u001b[0mdpA_anion\u001b[0m\u001b[0;34m,\u001b[0m\u001b[0mdpB_cation\u001b[0m\u001b[0;34m,\u001b[0m\u001b[0mdpA_charge_n\u001b[0m\u001b[0;34m,\u001b[0m\u001b[0mdpB_charge_p\u001b[0m\u001b[0;34m)\u001b[0m\u001b[0;34m\u001b[0m\u001b[0;34m\u001b[0m\u001b[0m\n\u001b[1;32m     23\u001b[0m             \u001b[0menergy\u001b[0m \u001b[0;34m=\u001b[0m \u001b[0menergy\u001b[0m \u001b[0;34m+\u001b[0m \u001b[0mcal_electrostatic_energy\u001b[0m\u001b[0;34m(\u001b[0m\u001b[0mdpA_anion\u001b[0m\u001b[0;34m,\u001b[0m\u001b[0mdpB_anion\u001b[0m\u001b[0;34m,\u001b[0m\u001b[0mdpA_charge_n\u001b[0m\u001b[0;34m,\u001b[0m\u001b[0mdpB_charge_n\u001b[0m\u001b[0;34m)\u001b[0m\u001b[0;34m\u001b[0m\u001b[0;34m\u001b[0m\u001b[0m\n",
      "\u001b[0;32m<ipython-input-27-8a5aa3c5d48e>\u001b[0m in \u001b[0;36mcal_electrostatic_energy\u001b[0;34m(point1, point2, q_n, q_p)\u001b[0m\n\u001b[1;32m     12\u001b[0m         \u001b[0;31m#convert partial charge to elementary charge unit\u001b[0m\u001b[0;34m\u001b[0m\u001b[0;34m\u001b[0m\u001b[0;34m\u001b[0m\u001b[0m\n\u001b[1;32m     13\u001b[0m         \u001b[0mecu\u001b[0m \u001b[0;34m=\u001b[0m \u001b[0mmath\u001b[0m\u001b[0;34m.\u001b[0m\u001b[0mpow\u001b[0m\u001b[0;34m(\u001b[0m\u001b[0;36m1.602\u001b[0m\u001b[0;34m*\u001b[0m\u001b[0mmath\u001b[0m\u001b[0;34m.\u001b[0m\u001b[0mpow\u001b[0m\u001b[0;34m(\u001b[0m\u001b[0;36m10\u001b[0m\u001b[0;34m,\u001b[0m\u001b[0;34m-\u001b[0m\u001b[0;36m19\u001b[0m\u001b[0;34m)\u001b[0m\u001b[0;34m,\u001b[0m\u001b[0;36m2\u001b[0m\u001b[0;34m)\u001b[0m\u001b[0;34m\u001b[0m\u001b[0;34m\u001b[0m\u001b[0m\n\u001b[0;32m---> 14\u001b[0;31m         \u001b[0menergy\u001b[0m \u001b[0;34m=\u001b[0m \u001b[0;34m(\u001b[0m\u001b[0mq_p\u001b[0m \u001b[0;34m*\u001b[0m \u001b[0mq_n\u001b[0m \u001b[0;34m*\u001b[0m \u001b[0mecu\u001b[0m \u001b[0;34m)\u001b[0m\u001b[0;34m/\u001b[0m\u001b[0mdis\u001b[0m\u001b[0;34m\u001b[0m\u001b[0;34m\u001b[0m\u001b[0m\n\u001b[0m\u001b[1;32m     15\u001b[0m \u001b[0;31m#         print(\"distance\" + str(dis))\u001b[0m\u001b[0;34m\u001b[0m\u001b[0;34m\u001b[0m\u001b[0;34m\u001b[0m\u001b[0m\n\u001b[1;32m     16\u001b[0m \u001b[0;31m#         print(\"coulomb energy \"+str(energy))\u001b[0m\u001b[0;34m\u001b[0m\u001b[0;34m\u001b[0m\u001b[0;34m\u001b[0m\u001b[0m\n",
      "\u001b[0;31mKeyboardInterrupt\u001b[0m: "
     ]
    }
   ],
   "source": [
    " #if (residue_dict[res_len[i]]['charge'][k-1] < 0.0 ):\n",
    "list_of_anions_for_calculations = []\n",
    "list_of_cations_for_calculations = []\n",
    "list_of_pcharge = []\n",
    "list_of_ncharge = []\n",
    "dipole_energy = 0.0\n",
    "dipole_dipole_energies = 0.0\n",
    "i = 1\n",
    "while (i<len(res_len)-1):\n",
    "# for i in range(1,len(res_len)-1):\n",
    "    print(\"At residue \"+str(i))\n",
    "    #consider i-1,i,i+1 neighbouring residues for the calculations of dipoles and interactions.\n",
    "    list_of_anions_for_calculations = strandC[i]['anion'] + strandC[i-1]['anion'] + strandC[i+1]['anion']\n",
    "    list_of_cations_for_calculations = strandC[i]['cation'] + strandC[i-1]['cation'] + strandC[i+1]['cation']\n",
    "    list_of_pcharge = strandC[i]['charge_p'] + strandC[i-1]['charge_p'] + strandC[i+1]['charge_p']\n",
    "    list_of_ncharge = strandC[i]['charge_n'] + strandC[i-1]['charge_n'] + strandC[i+1]['charge_n']\n",
    "    #Skip a residue in between to avoid adding up inter-residual interactiosn twice.\n",
    "    i = i+2\n",
    "    monopole_list = list_of_anions_for_calculations+list_of_cations_for_calculations\n",
    "    monopole_charge_list = list_of_ncharge+list_of_pcharge\n",
    "    monopole_energy = calculate_monopole_monopole_energies(monopole_list,monopole_charge_list)\n",
    "    \n",
    "    dipole_energy = dipole_energy + calculate_dipole_energies(list_of_anions_for_calculations,list_of_cations_for_calculations,\n",
    "                              list_of_ncharge,list_of_pcharge)\n",
    "    dipole_dipole_energies = dipole_dipole_energies + calculate_dipole_dipole_energies(list_of_anions_for_calculations,list_of_cations_for_calculations,list_of_ncharge,list_of_pcharge)\n",
    "\n",
    "print(str(monopole_energy/1000.0)+\" kjoule\")\n",
    "print(str(dipole_energy)+\" kjoule\")\n",
    "print(str(dipole_dipole_energies/1000.0)+\" kjoule\")\n"
   ]
  },
  {
   "cell_type": "markdown",
   "metadata": {},
   "source": [
    "### -----------------strand D calculations------------------------"
   ]
  },
  {
   "cell_type": "markdown",
   "metadata": {},
   "source": [
    "#### create atom_file [contains coordinates and their partial charges]"
   ]
  },
  {
   "cell_type": "code",
   "execution_count": 16,
   "metadata": {},
   "outputs": [],
   "source": [
    "filepath = \"AA_files/\"\n",
    "filename = \"molecule_file_Chain_D.xlsx\"\n",
    "molecule_data_D = pd.read_excel(filepath+filename,engine=\"openpyxl\")  "
   ]
  },
  {
   "cell_type": "code",
   "execution_count": 17,
   "metadata": {},
   "outputs": [
    {
     "data": {
      "text/html": [
       "<div>\n",
       "<style scoped>\n",
       "    .dataframe tbody tr th:only-of-type {\n",
       "        vertical-align: middle;\n",
       "    }\n",
       "\n",
       "    .dataframe tbody tr th {\n",
       "        vertical-align: top;\n",
       "    }\n",
       "\n",
       "    .dataframe thead th {\n",
       "        text-align: right;\n",
       "    }\n",
       "</style>\n",
       "<table border=\"1\" class=\"dataframe\">\n",
       "  <thead>\n",
       "    <tr style=\"text-align: right;\">\n",
       "      <th></th>\n",
       "      <th>Atom_number</th>\n",
       "      <th>Residue_name</th>\n",
       "      <th>Chain_name</th>\n",
       "      <th>Atom_name</th>\n",
       "      <th>x</th>\n",
       "      <th>y</th>\n",
       "      <th>z</th>\n",
       "      <th>charge</th>\n",
       "      <th>mass</th>\n",
       "    </tr>\n",
       "  </thead>\n",
       "  <tbody>\n",
       "    <tr>\n",
       "      <th>0</th>\n",
       "      <td>1</td>\n",
       "      <td>1C</td>\n",
       "      <td>D</td>\n",
       "      <td>O5'</td>\n",
       "      <td>3.157</td>\n",
       "      <td>5.108</td>\n",
       "      <td>5.408</td>\n",
       "      <td>-0.66</td>\n",
       "      <td>15.9994</td>\n",
       "    </tr>\n",
       "    <tr>\n",
       "      <th>1</th>\n",
       "      <td>2</td>\n",
       "      <td>1C</td>\n",
       "      <td>D</td>\n",
       "      <td>H5T</td>\n",
       "      <td>3.137</td>\n",
       "      <td>5.030</td>\n",
       "      <td>5.351</td>\n",
       "      <td>0.43</td>\n",
       "      <td>1.0080</td>\n",
       "    </tr>\n",
       "    <tr>\n",
       "      <th>2</th>\n",
       "      <td>3</td>\n",
       "      <td>1C</td>\n",
       "      <td>D</td>\n",
       "      <td>C5'</td>\n",
       "      <td>3.201</td>\n",
       "      <td>5.058</td>\n",
       "      <td>5.535</td>\n",
       "      <td>0.05</td>\n",
       "      <td>12.0110</td>\n",
       "    </tr>\n",
       "  </tbody>\n",
       "</table>\n",
       "</div>"
      ],
      "text/plain": [
       "   Atom_number Residue_name Chain_name Atom_name      x      y      z  charge  \\\n",
       "0            1           1C          D       O5'  3.157  5.108  5.408   -0.66   \n",
       "1            2           1C          D       H5T  3.137  5.030  5.351    0.43   \n",
       "2            3           1C          D       C5'  3.201  5.058  5.535    0.05   \n",
       "\n",
       "      mass  \n",
       "0  15.9994  \n",
       "1   1.0080  \n",
       "2  12.0110  "
      ]
     },
     "execution_count": 17,
     "metadata": {},
     "output_type": "execute_result"
    }
   ],
   "source": [
    "molecule_data_D[0:3]"
   ]
  },
  {
   "cell_type": "markdown",
   "metadata": {},
   "source": [
    "#### create a dictionary containing every residue and its atoms coordinates and charges\n"
   ]
  },
  {
   "cell_type": "code",
   "execution_count": 18,
   "metadata": {},
   "outputs": [],
   "source": [
    "residue_name_list_D = []\n",
    "residue_dict_D = {}\n",
    "for residue in molecule_data_D['Residue_name']:\n",
    "    residue_name_list_D.append(residue)\n",
    "residue_dict_D = dict.fromkeys(residue_name_list_D) \n",
    "for key in residue_dict_D.keys():\n",
    "    residue_dict_D[key] = {'x':[],'y':[],'z':[],'charge':[],'mass':[]}"
   ]
  },
  {
   "cell_type": "markdown",
   "metadata": {},
   "source": [
    "#### For every residue, get the atoms and their coords, mass and charges.\n"
   ]
  },
  {
   "cell_type": "code",
   "execution_count": 19,
   "metadata": {},
   "outputs": [],
   "source": [
    "for item,row in molecule_data_D.iterrows():\n",
    "    residue_dict_D[row['Residue_name']]['x'].append(row['x'])\n",
    "    residue_dict_D[row['Residue_name']]['y'].append(row['y'])\n",
    "    residue_dict_D[row['Residue_name']]['z'].append(row['z'])\n",
    "    residue_dict_D[row['Residue_name']]['charge'].append(row['charge'])\n",
    "    residue_dict_D[row['Residue_name']]['mass'].append(row['mass'])"
   ]
  },
  {
   "cell_type": "markdown",
   "metadata": {},
   "source": [
    "#### for each residue get the list of anions and cations"
   ]
  },
  {
   "cell_type": "code",
   "execution_count": 20,
   "metadata": {},
   "outputs": [],
   "source": [
    "#check partial charge of each atom in the residue and divide into cations and anions\n",
    "residue_name_list2_D = []\n",
    "[ residue_name_list2_D.append(x) for x in residue_name_list_D if x not in residue_name_list2_D  ]\n",
    "cation = []\n",
    "anion = []\n",
    "charge_n = []\n",
    "charge_p = []\n",
    "res_len = residue_name_list2_D\n",
    "dipole_energy = 0.0\n",
    "dipole_dipole_energies = 0.0\n",
    "strandD = dict.fromkeys([k for k in range(0,len(res_len))])\n",
    "for key in strandD.keys():\n",
    "    strandD[key] = {'anion':[],'cation':[],'charge_p':[],'charge_n':[]}\n",
    "for i in range(0,len(res_len)):\n",
    "#loop to go through each residue\n",
    "    anion = []\n",
    "    cation = []\n",
    "    anion_of_ith_residue = []\n",
    "    cation_of_ith_residue = []\n",
    "    charge_n_of_ith_residue = []\n",
    "    charge_p_of_ith_residue = []\n",
    "    for k in range(0,len(residue_dict_D[res_len[i]]['x'])):\n",
    "        #loop to go through each atom of ith residue\n",
    "        x = residue_dict_D[res_len[i]]['x'][k]\n",
    "        y = residue_dict_D[res_len[i]]['y'][k]\n",
    "        z = residue_dict_D[res_len[i]]['z'][k]\n",
    "        c = residue_dict_D[res_len[i]]['charge'][k]\n",
    "        if (residue_dict_D[res_len[i]]['charge'][k] < 0.0 ):\n",
    "            anion.append([x,y,z])\n",
    "            charge_n.append(c)\n",
    "            anion_of_ith_residue.append([x,y,z])\n",
    "            charge_n_of_ith_residue.append(c)\n",
    "        else:\n",
    "            cation.append([x,y,z])\n",
    "            charge_p.append(c)\n",
    "            cation_of_ith_residue.append([x,y,z])\n",
    "            charge_p_of_ith_residue.append(c)\n",
    "    strandD[i]['anion'] = anion_of_ith_residue\n",
    "    strandD[i]['cation'] = cation_of_ith_residue\n",
    "    strandD[i]['charge_p'] = charge_p_of_ith_residue\n",
    "    strandD[i]['charge_n'] = charge_n_of_ith_residue"
   ]
  },
  {
   "cell_type": "markdown",
   "metadata": {},
   "source": [
    "##### For every residue starting from i=1 to n-1 calculate energies"
   ]
  },
  {
   "cell_type": "code",
   "execution_count": 26,
   "metadata": {},
   "outputs": [
    {
     "name": "stdout",
     "output_type": "stream",
     "text": [
      "At residue 1\n",
      "At residue 3\n",
      "At residue 5\n",
      "At residue 7\n",
      "At residue 9\n",
      "At residue 11\n",
      "At residue 13\n",
      "At residue 15\n",
      "At residue 17\n",
      "At residue 19\n",
      "-2.427627749289627e-29 kjoule\n",
      "-1.5021174628551023e-27 kjoule\n",
      "3.5209639443983643e-26 kjoule\n"
     ]
    }
   ],
   "source": [
    " #if (residue_dict[res_len[i]]['charge'][k-1] < 0.0 :\n",
    "list_of_anions_for_calculations = []\n",
    "list_of_cations_for_calculations = []\n",
    "list_of_pcharge = []\n",
    "list_of_ncharge = []\n",
    "dipole_energy = 0.0\n",
    "dipole_dipole_energies = 0.0\n",
    "i = 1\n",
    "while (i<len(res_len)-1):\n",
    "# for i in range(1,len(res_len)-1):\n",
    "    print(\"At residue \"+str(i))\n",
    "    #consider i-1,i,i+1 neighbouring residues for the calculations of dipoles and interactions.\n",
    "    list_of_anions_for_calculations = strandD[i]['anion'] + strandD[i-1]['anion'] + strandD[i+1]['anion']\n",
    "    list_of_cations_for_calculations = strandD[i]['cation'] + strandD[i-1]['cation'] + strandD[i+1]['cation']\n",
    "    list_of_pcharge = strandD[i]['charge_p'] + strandD[i-1]['charge_p'] + strandD[i+1]['charge_p']\n",
    "    list_of_ncharge = strandD[i]['charge_n'] + strandD[i-1]['charge_n'] + strandD[i+1]['charge_n']\n",
    "    #Skip a residue in between to avoid adding up inter-residual interactiosn twice.\n",
    "    i = i+2\n",
    "    monopole_list = list_of_anions_for_calculations+list_of_cations_for_calculations\n",
    "    monopole_charge_list = list_of_ncharge+list_of_pcharge\n",
    "    monopole_energy = calculate_monopole_monopole_energies(monopole_list,monopole_charge_list)\n",
    "    dipole_energy = dipole_energy + calculate_dipole_energies(list_of_anions_for_calculations,list_of_cations_for_calculations,list_of_ncharge,list_of_pcharge)\n",
    "    dipole_dipole_energies = dipole_dipole_energies + calculate_dipole_dipole_energies(list_of_anions_for_calculations,\n",
    "                            list_of_cations_for_calculations,list_of_ncharge,list_of_pcharge)\n",
    "print(str(monopole_energy/1000.0)+\" kjoule\")\n",
    "print(str(dipole_energy/1000.0)+\" kjoule\")\n",
    "print(str(dipole_dipole_energies/1000.0)+\" kjoule\")"
   ]
  },
  {
   "cell_type": "markdown",
   "metadata": {},
   "source": [
    "#### Calculate energies of strand C and strand D together i.e. dsRNA"
   ]
  },
  {
   "cell_type": "code",
   "execution_count": 30,
   "metadata": {},
   "outputs": [
    {
     "name": "stdout",
     "output_type": "stream",
     "text": [
      "At residue 1\n",
      "-4.191716849163659e-29 kjoule\n",
      "-1.5944296221841736e-28 kjoule\n",
      "1.994334132129284e-24 kjoule\n",
      "At residue 3\n",
      "-5.080693349733292e-29 kjoule\n",
      "-3.402377375253918e-28 kjoule\n",
      "4.7456735907822275e-24 kjoule\n",
      "At residue 5\n",
      "-4.8774510200532576e-29 kjoule\n",
      "-5.43214200369889e-28 kjoule\n",
      "7.286285102323859e-24 kjoule\n",
      "At residue 7\n",
      "-4.760123884497692e-29 kjoule\n",
      "-7.611156208850905e-28 kjoule\n",
      "9.757663452555831e-24 kjoule\n",
      "At residue 9\n",
      "-4.833038395033402e-29 kjoule\n",
      "-1.0390575569109866e-27 kjoule\n",
      "1.2255917576770058e-23 kjoule\n",
      "At residue 11\n",
      "-4.913110138990091e-29 kjoule\n",
      "-1.2691942286872633e-27 kjoule\n",
      "1.4767635319534847e-23 kjoule\n",
      "At residue 13\n",
      "-4.9340596414586885e-29 kjoule\n",
      "-1.4502791043992536e-27 kjoule\n",
      "1.7315218255855278e-23 kjoule\n",
      "At residue 15\n",
      "-4.66146207337941e-29 kjoule\n",
      "-1.6147747507590175e-27 kjoule\n",
      "1.9552862748014011e-23 kjoule\n",
      "At residue 17\n",
      "-5.142383602532626e-29 kjoule\n",
      "-1.776642830256704e-27 kjoule\n",
      "2.231086061204737e-23 kjoule\n",
      "At residue 19\n",
      "-4.8253300042825325e-29 kjoule\n",
      "-1.9283661544577117e-27 kjoule\n",
      "2.4458506543681078e-23 kjoule\n"
     ]
    }
   ],
   "source": [
    "# to ensure that this works for unequal length strands as well\n",
    "list_of_anions_for_calculations_strandC = []\n",
    "list_of_cations_for_calculations_strandC = []\n",
    "list_of_pcharge_strandC = []\n",
    "list_of_ncharge_strandC = []\n",
    "\n",
    "list_of_anions_for_calculations_strandD = []\n",
    "list_of_cations_for_calculations_strandD = []\n",
    "list_of_pcharge_strandD = []\n",
    "list_of_ncharge_strandD = []\n",
    "i = 1\n",
    "dipole_energy = 0.0\n",
    "dipole_dipole_energies = 0.0\n",
    "while (i<len(strandC) and i<len(strandD)):\n",
    "    \n",
    "    #consider i-1,i,i+1 neighbouring residues for the calculations of dipoles and interactions.\n",
    "    print(\"At residue \"+str(i))\n",
    "    \n",
    "    list_of_anions_for_calculations_strandC = strandC[i]['anion'] + strandC[i-1]['anion'] + strandC[i+1]['anion']\n",
    "    list_of_cations_for_calculations_strandC = strandC[i]['cation'] + strandC[i-1]['cation'] + strandC[i+1]['cation']\n",
    "    list_of_pcharge_strandC = strandC[i]['charge_p'] + strandC[i-1]['charge_p'] + strandC[i+1]['charge_p']\n",
    "    list_of_ncharge_strandC = strandC[i]['charge_n'] + strandC[i-1]['charge_n'] + strandC[i+1]['charge_n']\n",
    "\n",
    "    list_of_anions_for_calculations_strandD = strandD[i]['anion'] + strandD[i-1]['anion'] + strandD[i+1]['anion']\n",
    "    list_of_cations_for_calculations_strandD = strandD[i]['cation'] + strandD[i-1]['cation'] + strandD[i+1]['cation']\n",
    "    list_of_pcharge_strandD = strandD[i]['charge_p'] + strandD[i-1]['charge_p'] + strandD[i+1]['charge_p']\n",
    "    list_of_ncharge_strandD = strandD[i]['charge_n'] + strandD[i-1]['charge_n'] + strandD[i+1]['charge_n']\n",
    "    #Skip a residue in between to avoid adding up inter-residual interactiosn twice.\n",
    "    i = i+2\n",
    "    \n",
    "    monopole_list = list_of_anions_for_calculations_strandC + list_of_cations_for_calculations_strandC + list_of_anions_for_calculations_strandD + list_of_cations_for_calculations_strandD\n",
    "    monopole_charge_list = list_of_ncharge_strandC + list_of_pcharge_strandC + list_of_ncharge_strandD + list_of_pcharge_strandD\n",
    "    monopole_energy = calculate_monopole_monopole_energies(monopole_list,monopole_charge_list)\n",
    "    \n",
    "    dipole_energy = dipole_energy + calculate_dipole_energies(list_of_anions_for_calculations,list_of_cations_for_calculations,list_of_ncharge,list_of_pcharge)\n",
    "    \n",
    "    dipole_energy = dipole_energy + calculate_dipole_energies(list_of_anions_for_calculations_strandC,\n",
    "                              list_of_cations_for_calculations_strandD,\n",
    "                              list_of_ncharge_strandC, list_of_pcharge_strandD)\n",
    "    \n",
    "    dipole_energy = dipole_energy + calculate_dipole_energies(list_of_anions_for_calculations_strandD,\n",
    "                              list_of_cations_for_calculations_strandC,\n",
    "                              list_of_ncharge_strandD,list_of_pcharge_strandC)\n",
    "    \n",
    "    \n",
    "    dipole_dipole_energies = dipole_dipole_energies +  calculate_dipole_dipole_energies(list_of_cations_for_calculations_strandC,\n",
    "                            list_of_cations_for_calculations_strandD,list_of_pcharge_strandC,\n",
    "                                     list_of_pcharge_strandD)\n",
    "    \n",
    "    dipole_dipole_energies = dipole_dipole_energies + calculate_dipole_dipole_energies(list_of_cations_for_calculations_strandC,\n",
    "                        list_of_anions_for_calculations_strandD,list_of_pcharge_strandC,\n",
    "                             list_of_ncharge_strandD)\n",
    "    \n",
    "    dipole_dipole_energies = dipole_dipole_energies + calculate_dipole_dipole_energies(list_of_anions_for_calculations_strandC,\n",
    "                        list_of_cations_for_calculations_strandD,list_of_ncharge_strandC,\n",
    "                             list_of_pcharge_strandD)\n",
    "    \n",
    "    dipole_dipole_energies = dipole_dipole_energies + calculate_dipole_dipole_energies(list_of_anions_for_calculations_strandC,\n",
    "                        list_of_anions_for_calculations_strandD,list_of_ncharge_strandC,\n",
    "                                 list_of_ncharge_strandD)\n",
    "    \n",
    "print(str(monopole_energy/1000.0)+\" kjoule\")\n",
    "print(str(dipole_energy/1000.0)+\" kjoule\")\n",
    "print(str(dipole_dipole_energies/1000.0)+\" kjoule\")"
   ]
  },
  {
   "cell_type": "code",
   "execution_count": null,
   "metadata": {},
   "outputs": [],
   "source": []
  },
  {
   "cell_type": "markdown",
   "metadata": {},
   "source": [
    "#### -------------------------------------- Extra code ------------------------------------------------------------"
   ]
  },
  {
   "cell_type": "code",
   "execution_count": null,
   "metadata": {},
   "outputs": [],
   "source": [
    "residue_name_list2 = []\n",
    "[ residue_name_list2.append(x) for x in residue_name_list if x not in residue_name_list2  ]\n",
    "cation = []\n",
    "anion = []\n",
    "charge_n = []\n",
    "charge_p = []\n",
    "res_len = residue_name_list2\n",
    "dipole_energy = 0.0\n",
    "dipole_dipole_energies = 0.0\n",
    "strandA = dict.fromkeys([k for k in range(0,len(res_len))])\n",
    "for key in strandA.keys():\n",
    "    strandA[key] = {'anion':[],'cation':[],'charge_p':[],'charge_n':[]}\n",
    "    #check partial charge of each atom in the residue \n",
    "    #and divide into cations and anions\n",
    "for i in range(1,len(res_len)):\n",
    "#loop to go through each residue\n",
    "    anion = []\n",
    "    cation = []\n",
    "    anion_of_ith_residue = []\n",
    "    cation_of_ith_residue = []\n",
    "    charge_n_of_ith_residue = []\n",
    "    charge_p_of_ith_residue = []\n",
    "    for k in range(0,len(residue_dict[res_len[i]]['x'])):\n",
    "        #loop to go through each atom of ith residue\n",
    "        x = residue_dict[res_len[i]]['x'][k]\n",
    "        y = residue_dict[res_len[i]]['y'][k]\n",
    "        z = residue_dict[res_len[i]]['z'][k]\n",
    "        c = residue_dict[res_len[i]]['charge'][k]\n",
    "        if (residue_dict[res_len[i]]['charge'][k] < 0.0 ):\n",
    "            anion.append([x,y,z])\n",
    "            charge_n.append(c)\n",
    "            anion_of_ith_residue.append([x,y,z])\n",
    "            charge_n_of_ith_residue.append(c)\n",
    "        else:\n",
    "            cation.append([x,y,z])\n",
    "            charge_p.append(c)\n",
    "            cation_of_ith_residue.append([x,y,z])\n",
    "            charge_p_of_ith_residue.append(c)\n",
    "     for k_prev in range(0,len(residue_dict[res_len[i-1]]['x'])):\n",
    "        x = residue_dict[res_len[i-1]]['x'][k]\n",
    "        y = residue_dict[res_len[i-1]]['y'][k]\n",
    "        z = residue_dict[res_len[i-1]]['z'][k]\n",
    "        c = residue_dict[res_len[i-1]]['charge'][k]\n",
    "        if (residue_dict[res_len[i-1]]['charge'][k] < 0.0 ):\n",
    "            anion.append([x,y,z])\n",
    "            charge_n.append(c)\n",
    "            anion_of_ith_residue.append([x,y,z])\n",
    "            charge_n_of_ith_residue.append(c)\n",
    "        else:\n",
    "            cation.append([x,y,z])\n",
    "            charge_p.append(c)\n",
    "            cation_of_ith_residue.append([x,y,z])\n",
    "            charge_p_of_ith_residue.append(c)\n",
    "     for k_prev in range(0,len(residue_dict[res_len[i+1]]['x'])):\n",
    "        x = residue_dict[res_len[i-1]]['x'][k]\n",
    "        y = residue_dict[res_len[i-1]]['y'][k]\n",
    "        z = residue_dict[res_len[i-1]]['z'][k]\n",
    "        c = residue_dict[res_len[i-1]]['charge'][k]\n",
    "        if (residue_dict[res_len[i-1]]['charge'][k] < 0.0 ):\n",
    "            anion.append([x,y,z])\n",
    "            charge_n.append(c)\n",
    "            anion_of_ith_residue.append([x,y,z])\n",
    "            charge_n_of_ith_residue.append(c)\n",
    "        else:\n",
    "            cation.append([x,y,z])\n",
    "            charge_p.append(c)\n",
    "            cation_of_ith_residue.append([x,y,z])\n",
    "            charge_p_of_ith_residue.append(c)\n",
    "        \n",
    "#         if (residue_dict[res_len[i]]['charge'][k-1] < 0.0 ):\n",
    "        if (residue_dict[res_len[i-1]]['charge'][k-1] < 0.0 ):\n",
    "            anion.append([x,y,z])\n",
    "            charge_n.append(c)\n",
    "        else:\n",
    "            cation.append([x,y,z])\n",
    "            charge_p.append(c)\n",
    "        if (residue_dict[res_len[i]]['charge'][k+1] < 0.0 ):\n",
    "            anion.append([x,y,z])\n",
    "            charge_n.append(c)\n",
    "        else:\n",
    "            cation.append([x,y,z])\n",
    "            charge_p.append(c)\n",
    "    dipole_energy = dipole_energy + calculate_dipole_energies(anion,cation,charge_n,charge_p)\n",
    "    dipole_dipole_energies = dipole_dipole_energies + calculate_dipole_dipole_energies(anion,cation,charge_n,charge_p)\n",
    "    strandA[i]['anion'] = anion_of_ith_residue\n",
    "    strandA[i]['cation'] = cation_of_ith_residue\n",
    "    strandA[i]['charge_p'] = charge_p_of_ith_residue\n",
    "    strandA[i]['charge_n'] = charge_n_of_ith_residue\n",
    "print(dipole_energy)\n",
    "print(dipole_dipole_energies)"
   ]
  },
  {
   "cell_type": "code",
   "execution_count": null,
   "metadata": {},
   "outputs": [],
   "source": []
  },
  {
   "cell_type": "code",
   "execution_count": null,
   "metadata": {},
   "outputs": [],
   "source": []
  }
 ],
 "metadata": {
  "kernelspec": {
   "display_name": "Python 3",
   "language": "python",
   "name": "python3"
  },
  "language_info": {
   "codemirror_mode": {
    "name": "ipython",
    "version": 3
   },
   "file_extension": ".py",
   "mimetype": "text/x-python",
   "name": "python",
   "nbconvert_exporter": "python",
   "pygments_lexer": "ipython3",
   "version": "3.6.9"
  }
 },
 "nbformat": 4,
 "nbformat_minor": 2
}
