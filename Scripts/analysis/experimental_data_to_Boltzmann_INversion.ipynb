{
 "cells": [
  {
   "cell_type": "code",
   "execution_count": 1,
   "id": "35ec1de6",
   "metadata": {},
   "outputs": [],
   "source": [
    "def P2U(p):\n",
    "     boltzmann = 1.9858285706E-3 # Kcal/K\n",
    "     T = 298.15 # K\n",
    "     p_max = p.max()\n",
    "     return - boltzmann * T * np.log(p / p_max)"
   ]
  },
  {
   "cell_type": "code",
   "execution_count": null,
   "id": "e51e3d59",
   "metadata": {},
   "outputs": [],
   "source": [
    "def harmonic_proper_dihedral(theta, theta0, k):\n",
    "    n = 1\n",
    "    coslist = []\n",
    "    for t in theta:\n",
    "        coslist.append(math.cos(n*t - theta0))\n",
    "    final_coslist = np.array(coslist)\n",
    "    val =  k * (1 + final_coslist)\n",
    "    return val\n",
    "\n",
    "#get probability distribution from data\n",
    "plt2 = sns.kdeplot(BB1_BB2_BB3_pBB1_Hmapped_dihedral_all)\n",
    "xdata = plt2.lines[0].get_xdata()\n",
    "ydata = plt2.lines[0].get_ydata()\n",
    "\n",
    "#calculate energy\n",
    "U = P2U(ydata)\n",
    "\n",
    "#code to deal with innifite energy\n",
    "if(U.max() == float('inf')):\n",
    "    U2 = U\n",
    "    t = np.sort(U2)[::-1]\n",
    "    for x in t:\n",
    "        if(x==float('inf')):\n",
    "            continue\n",
    "        else:\n",
    "            second_largest = x\n",
    "            break\n",
    "    U[U==float('inf')]=(second_largest * 2)\n",
    "else:\n",
    "    U[U==float('inf')]=(U.max() * 2)\n",
    "\n",
    "plt.plot(xdata,U)\n",
    "\n",
    "#plot enegy and density\n",
    "import matplotlib.pyplot as plt\n",
    "plt.plot(xdata,U)\n",
    "\n",
    "# for i in range(0,xdata.shape[0]):\n",
    "params, pcov = curve_fit(harmonic_proper_dihedral, xdata,U,p0=[-50, 1000])\n",
    "print(\"parameter R_o is: \",params[0])\n",
    "print(\"parameter K is: \",params[1])\n",
    "# curve_fit(harmonic_angle, xdata[0], U, p0=[84, 1000])"
   ]
  }
 ],
 "metadata": {
  "kernelspec": {
   "display_name": "Python 3",
   "language": "python",
   "name": "python3"
  },
  "language_info": {
   "codemirror_mode": {
    "name": "ipython",
    "version": 3
   },
   "file_extension": ".py",
   "mimetype": "text/x-python",
   "name": "python",
   "nbconvert_exporter": "python",
   "pygments_lexer": "ipython3",
   "version": "3.6.9"
  }
 },
 "nbformat": 4,
 "nbformat_minor": 5
}
