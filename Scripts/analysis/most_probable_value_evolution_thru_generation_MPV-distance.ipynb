{
 "cells": [
  {
   "cell_type": "code",
   "execution_count": 195,
   "id": "4b5da910",
   "metadata": {},
   "outputs": [],
   "source": [
    "import pandas as pd\n",
    "import seaborn as sns\n",
    "import math\n",
    "from scipy import stats\n",
    "import numpy as np\n",
    "import matplotlib.pyplot as plt\n",
    "import math\n",
    "from scipy.optimize import curve_fit\n",
    "from scipy import stats\n",
    "import os\n",
    "%matplotlib inline\n",
    "file_name = \"3mj0_gen0\"\n",
    "final_most_probable_value = {}"
   ]
  },
  {
   "cell_type": "code",
   "execution_count": 196,
   "id": "bf655f10",
   "metadata": {},
   "outputs": [],
   "source": [
    "dihedral_dict = dict.fromkeys(['BB1_BB2','BB2_BB3','BB3_ASC1',\n",
    "'ASC2_ASC4','ASC1_ASC3','ASC1_ASC2','ASC2_ASC3',\n",
    "'ASC3_ASC4','ASC4_ASC1','BB3_USC1','USC1_USC2',\n",
    "'USC2_USC3','USC3_USC1','BB3_GSC1','GSC2_GSC4',\n",
    "'GSC1_GSC3','GSC1_GSC2','GSC2_GSC3','GSC3_GSC4',\n",
    "'GSC4_GSC1','BB3_CSC1','CSC1_CSC2','CSC2_CSC3','CSC3_CSC1','BB3_pBB1'])"
   ]
  },
  {
   "cell_type": "code",
   "execution_count": 197,
   "id": "464a26dc",
   "metadata": {},
   "outputs": [],
   "source": [
    "df_Hmapped_angle_all = pd.read_csv('../launch_CG_simulations/'+file_name+'/dist.csv')"
   ]
  },
  {
   "cell_type": "code",
   "execution_count": 198,
   "id": "5977664f",
   "metadata": {},
   "outputs": [],
   "source": [
    "BB1_BB2 = [float(x) for x in list(df_Hmapped_angle_all['BB1_BB2'])]\n",
    "BB2_BB3 = [float(x) for x in list(df_Hmapped_angle_all['BB2_BB3'])]\n",
    "BB3_ASC1 = [float(x) for x in list(df_Hmapped_angle_all['BB3_ASC1'])]\n",
    "ASC2_ASC4 = [float(x) for x in list(df_Hmapped_angle_all['ASC2_ASC4'])]\n",
    "ASC1_ASC3 =[float(x) for x in list( df_Hmapped_angle_all['ASC1_ASC3'])]\n",
    "ASC1_ASC2 = [float(x) for x in list(df_Hmapped_angle_all['ASC1_ASC2'])]\n",
    "ASC2_ASC3 = [float(x) for x in list(df_Hmapped_angle_all['ASC2_ASC3'])]\n",
    "ASC3_ASC4 = [float(x) for x in list(df_Hmapped_angle_all['ASC3_ASC4'])]\n",
    "ASC4_ASC1 = [float(x) for x in list(df_Hmapped_angle_all['ASC4_ASC1'])]\n",
    "BB3_USC1 = [float(x) for x in list(df_Hmapped_angle_all['BB3_USC1'])]\n",
    "USC1_USC2 = [float(x) for x in list(df_Hmapped_angle_all['USC1_USC2'])]\n",
    "USC2_USC3 = [float(x) for x in list(df_Hmapped_angle_all['USC2_USC3'])]\n",
    "USC3_USC1 = [float(x) for x in list(df_Hmapped_angle_all['USC3_USC1'])]\n",
    "BB3_GSC1 = [float(x) for x in list(df_Hmapped_angle_all['BB3_GSC1'])]\n",
    "GSC2_GSC4 =[float(x) for x in list( df_Hmapped_angle_all['GSC2_GSC4'])]\n",
    "GSC1_GSC3 =[float(x) for x in list( df_Hmapped_angle_all['GSC1_GSC3'])]\n",
    "GSC1_GSC2 =[float(x) for x in list( df_Hmapped_angle_all['GSC1_GSC2'])]\n",
    "GSC2_GSC3 = [float(x) for x in list(df_Hmapped_angle_all['GSC2_GSC3'])]\n",
    "GSC3_GSC4 = [float(x) for x in list(df_Hmapped_angle_all['GSC3_GSC4'])]\n",
    "GSC4_GSC1 =[float(x) for x in list( df_Hmapped_angle_all['GSC4_GSC1'])]\n",
    "CSC1_CSC2 = [float(x) for x in list(df_Hmapped_angle_all['CSC1_CSC2'])]\n",
    "CSC2_CSC3 =[float(x) for x in list( df_Hmapped_angle_all['CSC2_CSC3'])]\n",
    "CSC3_CSC1 = [float(x) for x in list(df_Hmapped_angle_all['CSC3_CSC1'])]\n",
    "BB3_pBB1 = [float(x) for x in list(df_Hmapped_angle_all['BB3_pBB1'])]"
   ]
  },
  {
   "cell_type": "code",
   "execution_count": 199,
   "id": "12504cd7",
   "metadata": {},
   "outputs": [
    {
     "name": "stderr",
     "output_type": "stream",
     "text": [
      "/home/subhasree/.local/lib/python3.6/site-packages/seaborn/distributions.py:1657: FutureWarning: The `bw` parameter is deprecated in favor of `bw_method` and `bw_adjust`. Using 0.5 for `bw_method`, but please see the docs for the new parameters and update your code.\n",
      "  warnings.warn(msg, FutureWarning)\n"
     ]
    },
    {
     "name": "stdout",
     "output_type": "stream",
     "text": [
      "BB1_BB2\n",
      "Mean: Raw data 50000.0\n",
      "Most Probable Value 49530.986207086855\n"
     ]
    },
    {
     "data": {
      "image/png": "[encoded data removed]",
      "text/plain": [
       "<Figure size 432x288 with 1 Axes>"
      ]
     },
     "metadata": {
      "needs_background": "light"
     },
     "output_type": "display_data"
    }
   ],
   "source": [
    "# Density Plot and Histogram \n",
    "# xmedian = np.median(BB1_BB2)\n",
    "xmean = np.mean(BB1_BB2)\n",
    "ax = sns.kdeplot(BB1_BB2,bw=0.5)\n",
    "plt.axvline(xmean,c='red')\n",
    "plt.axvline(xmedian,c='blue')\n",
    "\n",
    "x = ax.lines[0].get_xdata()\n",
    "y = ax.lines[0].get_ydata()\n",
    "maxid = np.argmax(y)\n",
    "plt.axvline(x[maxid],c='yellow')\n",
    "print(\"BB1_BB2\")\n",
    "print(\"Mean: Raw data\",xmean)\n",
    "print(\"Most Probable Value\",x[maxid])\n",
    "final_most_probable_value[\"BB1_BB2\"] = x[maxid]"
   ]
  },
  {
   "cell_type": "code",
   "execution_count": 200,
   "id": "496e18f2",
   "metadata": {},
   "outputs": [
    {
     "name": "stderr",
     "output_type": "stream",
     "text": [
      "/home/subhasree/.local/lib/python3.6/site-packages/seaborn/distributions.py:1657: FutureWarning: The `bw` parameter is deprecated in favor of `bw_method` and `bw_adjust`. Using 0.5 for `bw_method`, but please see the docs for the new parameters and update your code.\n",
      "  warnings.warn(msg, FutureWarning)\n"
     ]
    },
    {
     "name": "stdout",
     "output_type": "stream",
     "text": [
      "BB2_BB3\n",
      "Mean: Raw data 0.3955117441279361\n",
      "Most Probable Value 0.3951209137184642\n"
     ]
    },
    {
     "data": {
      "image/png": "[encoded data removed]",
      "text/plain": [
       "<Figure size 432x288 with 1 Axes>"
      ]
     },
     "metadata": {
      "needs_background": "light"
     },
     "output_type": "display_data"
    }
   ],
   "source": [
    "# Density Plot and Histogram \n",
    "xmedian = np.median(BB2_BB3)\n",
    "xmean = np.mean(BB2_BB3)\n",
    "ax = sns.kdeplot(BB2_BB3,bw=0.5)\n",
    "plt.axvline(xmean,c='red')\n",
    "plt.axvline(xmedian,c='blue')\n",
    "\n",
    "x = ax.lines[0].get_xdata()\n",
    "y = ax.lines[0].get_ydata()\n",
    "maxid = np.argmax(y)\n",
    "plt.axvline(x[maxid],c='yellow')\n",
    "print(\"BB2_BB3\")\n",
    "print(\"Mean: Raw data\",xmean)\n",
    "print(\"Most Probable Value\",x[maxid])\n",
    "final_most_probable_value[\"BB2_BB3\"] = x[maxid]"
   ]
  },
  {
   "cell_type": "code",
   "execution_count": 201,
   "id": "cce751d7",
   "metadata": {},
   "outputs": [
    {
     "name": "stdout",
     "output_type": "stream",
     "text": [
      "BB3_ASC1\n",
      "Mean: Raw data 0.23987956021989007\n",
      "Most Probable Value 0.23987085437764918\n"
     ]
    },
    {
     "name": "stderr",
     "output_type": "stream",
     "text": [
      "/home/subhasree/.local/lib/python3.6/site-packages/seaborn/distributions.py:1657: FutureWarning: The `bw` parameter is deprecated in favor of `bw_method` and `bw_adjust`. Using 0.5 for `bw_method`, but please see the docs for the new parameters and update your code.\n",
      "  warnings.warn(msg, FutureWarning)\n"
     ]
    },
    {
     "data": {
      "image/png": "[encoded data removed]",
      "text/plain": [
       "<Figure size 432x288 with 1 Axes>"
      ]
     },
     "metadata": {
      "needs_background": "light"
     },
     "output_type": "display_data"
    }
   ],
   "source": [
    "# Density Plot and Histogram \n",
    "xmedian = np.median(BB3_ASC1)\n",
    "xmean = np.mean(BB3_ASC1)\n",
    "ax = sns.kdeplot(BB3_ASC1,bw=0.5)\n",
    "plt.axvline(xmean,c='red')\n",
    "plt.axvline(xmedian,c='blue')\n",
    "\n",
    "x = ax.lines[0].get_xdata()\n",
    "y = ax.lines[0].get_ydata()\n",
    "maxid = np.argmax(y)\n",
    "plt.axvline(x[maxid],c='yellow')\n",
    "print(\"BB3_ASC1\")\n",
    "print(\"Mean: Raw data\",xmean)\n",
    "print(\"Most Probable Value\",x[maxid])\n",
    "final_most_probable_value[\"BB3_ASC1\"] = x[maxid]"
   ]
  },
  {
   "cell_type": "code",
   "execution_count": 202,
   "id": "6b163baa",
   "metadata": {},
   "outputs": [
    {
     "name": "stderr",
     "output_type": "stream",
     "text": [
      "/home/subhasree/.local/lib/python3.6/site-packages/seaborn/distributions.py:1657: FutureWarning: The `bw` parameter is deprecated in favor of `bw_method` and `bw_adjust`. Using 0.5 for `bw_method`, but please see the docs for the new parameters and update your code.\n",
      "  warnings.warn(msg, FutureWarning)\n"
     ]
    },
    {
     "name": "stdout",
     "output_type": "stream",
     "text": [
      "ASC2_ASC4\n",
      "Mean: Raw data 0.33152423788105945\n",
      "Most Probable Value 0.3316144452525545\n"
     ]
    },
    {
     "data": {
      "image/png": "[encoded data removed]",
      "text/plain": [
       "<Figure size 432x288 with 1 Axes>"
      ]
     },
     "metadata": {
      "needs_background": "light"
     },
     "output_type": "display_data"
    }
   ],
   "source": [
    "# Density Plot and Histogram \n",
    "xmedian = np.median(ASC2_ASC4)\n",
    "xmean = np.mean(ASC2_ASC4)\n",
    "ax = sns.kdeplot(ASC2_ASC4,bw=0.5)\n",
    "plt.axvline(xmean,c='red')\n",
    "plt.axvline(xmedian,c='blue')\n",
    "\n",
    "x = ax.lines[0].get_xdata()\n",
    "y = ax.lines[0].get_ydata()\n",
    "maxid = np.argmax(y)\n",
    "plt.axvline(x[maxid],c='yellow')\n",
    "print(\"ASC2_ASC4\")\n",
    "print(\"Mean: Raw data\",xmean)\n",
    "print(\"Most Probable Value\",x[maxid])\n",
    "final_most_probable_value[\"ASC2_ASC4\"] = x[maxid]"
   ]
  },
  {
   "cell_type": "code",
   "execution_count": 203,
   "id": "ea1dc470",
   "metadata": {},
   "outputs": [
    {
     "name": "stderr",
     "output_type": "stream",
     "text": [
      "/home/subhasree/.local/lib/python3.6/site-packages/seaborn/distributions.py:1657: FutureWarning: The `bw` parameter is deprecated in favor of `bw_method` and `bw_adjust`. Using 0.5 for `bw_method`, but please see the docs for the new parameters and update your code.\n",
      "  warnings.warn(msg, FutureWarning)\n"
     ]
    },
    {
     "name": "stdout",
     "output_type": "stream",
     "text": [
      "GSC1_GSC2\n",
      "Mean: Raw data 0.33747576211894054\n",
      "Most Probable Value 0.3374715115307316\n"
     ]
    },
    {
     "data": {
      "image/png": "[encoded data removed]",
      "text/plain": [
       "<Figure size 432x288 with 1 Axes>"
      ]
     },
     "metadata": {
      "needs_background": "light"
     },
     "output_type": "display_data"
    }
   ],
   "source": [
    "# Density Plot and Histogram \n",
    "xmedian = np.median(GSC1_GSC2)\n",
    "xmean = np.mean(GSC1_GSC2)\n",
    "ax = sns.kdeplot(GSC1_GSC2,bw=0.5)\n",
    "plt.axvline(xmean,c='red')\n",
    "plt.axvline(xmedian,c='blue')\n",
    "\n",
    "x = ax.lines[0].get_xdata()\n",
    "y = ax.lines[0].get_ydata()\n",
    "maxid = np.argmax(y)\n",
    "plt.axvline(x[maxid],c='yellow')\n",
    "print(\"GSC1_GSC2\")\n",
    "print(\"Mean: Raw data\",xmean)\n",
    "print(\"Most Probable Value\",x[maxid])\n",
    "final_most_probable_value[\"GSC1_GSC2\"] = x[maxid]"
   ]
  },
  {
   "cell_type": "code",
   "execution_count": 204,
   "id": "aedb4f32",
   "metadata": {},
   "outputs": [
    {
     "name": "stderr",
     "output_type": "stream",
     "text": [
      "/home/subhasree/.local/lib/python3.6/site-packages/seaborn/distributions.py:1657: FutureWarning: The `bw` parameter is deprecated in favor of `bw_method` and `bw_adjust`. Using 0.5 for `bw_method`, but please see the docs for the new parameters and update your code.\n",
      "  warnings.warn(msg, FutureWarning)\n"
     ]
    },
    {
     "name": "stdout",
     "output_type": "stream",
     "text": [
      "ASC1_ASC3\n",
      "Mean: Raw data 0.3264607696151924\n",
      "Most Probable Value 0.32764812924361336\n"
     ]
    },
    {
     "data": {
      "image/png": "[encoded data removed]",
      "text/plain": [
       "<Figure size 432x288 with 1 Axes>"
      ]
     },
     "metadata": {
      "needs_background": "light"
     },
     "output_type": "display_data"
    }
   ],
   "source": [
    "# Density Plot and Histogram \n",
    "xmedian = np.median(ASC1_ASC3)\n",
    "xmean = np.mean(ASC1_ASC3)\n",
    "ax = sns.kdeplot(ASC1_ASC3,bw=0.5)\n",
    "plt.axvline(xmean,c='red')\n",
    "plt.axvline(xmedian,c='blue')\n",
    "\n",
    "x = ax.lines[0].get_xdata()\n",
    "y = ax.lines[0].get_ydata()\n",
    "maxid = np.argmax(y)\n",
    "plt.axvline(x[maxid],c='yellow')\n",
    "print(\"ASC1_ASC3\")\n",
    "print(\"Mean: Raw data\",xmean)\n",
    "print(\"Most Probable Value\",x[maxid])\n",
    "final_most_probable_value[\"ASC1_ASC3\"] = x[maxid]"
   ]
  },
  {
   "cell_type": "code",
   "execution_count": 205,
   "id": "cb6d03ab",
   "metadata": {},
   "outputs": [
    {
     "name": "stderr",
     "output_type": "stream",
     "text": [
      "/home/subhasree/.local/lib/python3.6/site-packages/seaborn/distributions.py:1657: FutureWarning: The `bw` parameter is deprecated in favor of `bw_method` and `bw_adjust`. Using 0.5 for `bw_method`, but please see the docs for the new parameters and update your code.\n",
      "  warnings.warn(msg, FutureWarning)\n"
     ]
    },
    {
     "name": "stdout",
     "output_type": "stream",
     "text": [
      "ASC1_ASC2\n",
      "Mean: Raw data 0.3382933533233383\n",
      "Most Probable Value 0.33822020988736906\n"
     ]
    },
    {
     "data": {
      "image/png": "[encoded data removed]",
      "text/plain": [
       "<Figure size 432x288 with 1 Axes>"
      ]
     },
     "metadata": {
      "needs_background": "light"
     },
     "output_type": "display_data"
    }
   ],
   "source": [
    "# Density Plot and Histogram \n",
    "xmedian = np.median(ASC1_ASC2)\n",
    "xmean = np.mean(ASC1_ASC2)\n",
    "ax = sns.kdeplot(ASC1_ASC2,bw=0.5)\n",
    "plt.axvline(xmean,c='red')\n",
    "plt.axvline(xmedian,c='blue')\n",
    "\n",
    "x = ax.lines[0].get_xdata()\n",
    "y = ax.lines[0].get_ydata()\n",
    "maxid = np.argmax(y)\n",
    "plt.axvline(x[maxid],c='yellow')\n",
    "print(\"ASC1_ASC2\")\n",
    "print(\"Mean: Raw data\",xmean)\n",
    "print(\"Most Probable Value\",x[maxid])\n",
    "final_most_probable_value[\"ASC1_ASC2\"] = x[maxid]"
   ]
  },
  {
   "cell_type": "code",
   "execution_count": 206,
   "id": "a6627115",
   "metadata": {},
   "outputs": [
    {
     "name": "stderr",
     "output_type": "stream",
     "text": [
      "/home/subhasree/.local/lib/python3.6/site-packages/seaborn/distributions.py:1657: FutureWarning: The `bw` parameter is deprecated in favor of `bw_method` and `bw_adjust`. Using 0.5 for `bw_method`, but please see the docs for the new parameters and update your code.\n",
      "  warnings.warn(msg, FutureWarning)\n"
     ]
    },
    {
     "name": "stdout",
     "output_type": "stream",
     "text": [
      "ASC2_ASC3\n",
      "Mean: Raw data 0.23312693653173414\n",
      "Most Probable Value 0.23305687637008327\n"
     ]
    },
    {
     "data": {
      "image/png": "[encoded data removed]",
      "text/plain": [
       "<Figure size 432x288 with 1 Axes>"
      ]
     },
     "metadata": {
      "needs_background": "light"
     },
     "output_type": "display_data"
    }
   ],
   "source": [
    "# Density Plot and Histogram \n",
    "xmedian = np.median(ASC2_ASC3)\n",
    "xmean = np.mean(ASC2_ASC3)\n",
    "ax = sns.kdeplot(ASC2_ASC3,bw=0.5)\n",
    "plt.axvline(xmean,c='red')\n",
    "plt.axvline(xmedian,c='blue')\n",
    "\n",
    "x = ax.lines[0].get_xdata()\n",
    "y = ax.lines[0].get_ydata()\n",
    "maxid = np.argmax(y)\n",
    "plt.axvline(x[maxid],c='yellow')\n",
    "print(\"ASC2_ASC3\")\n",
    "print(\"Mean: Raw data\",xmean)\n",
    "print(\"Most Probable Value\",x[maxid])\n",
    "final_most_probable_value[\"ASC2_ASC3\"] = x[maxid]"
   ]
  },
  {
   "cell_type": "code",
   "execution_count": 207,
   "id": "5ed895ae",
   "metadata": {},
   "outputs": [
    {
     "name": "stderr",
     "output_type": "stream",
     "text": [
      "/home/subhasree/.local/lib/python3.6/site-packages/seaborn/distributions.py:1657: FutureWarning: The `bw` parameter is deprecated in favor of `bw_method` and `bw_adjust`. Using 0.5 for `bw_method`, but please see the docs for the new parameters and update your code.\n",
      "  warnings.warn(msg, FutureWarning)\n"
     ]
    },
    {
     "name": "stdout",
     "output_type": "stream",
     "text": [
      "ASC3_ASC4\n",
      "Mean: Raw data 0.2690474762618691\n",
      "Most Probable Value 0.26952664362421375\n"
     ]
    },
    {
     "data": {
      "image/png": "[encoded data removed]",
      "text/plain": [
       "<Figure size 432x288 with 1 Axes>"
      ]
     },
     "metadata": {
      "needs_background": "light"
     },
     "output_type": "display_data"
    }
   ],
   "source": [
    "# Density Plot and Histogram \n",
    "xmedian = np.median(ASC3_ASC4)\n",
    "xmean = np.mean(ASC3_ASC4)\n",
    "ax = sns.kdeplot(ASC3_ASC4,bw=0.5)\n",
    "plt.axvline(xmean,c='red')\n",
    "plt.axvline(xmedian,c='blue')\n",
    "\n",
    "x = ax.lines[0].get_xdata()\n",
    "y = ax.lines[0].get_ydata()\n",
    "maxid = np.argmax(y)\n",
    "plt.axvline(x[maxid],c='yellow')\n",
    "print(\"ASC3_ASC4\")\n",
    "print(\"Mean: Raw data\",xmean)\n",
    "print(\"Most Probable Value\",x[maxid])\n",
    "final_most_probable_value[\"ASC3_ASC4\"] = x[maxid]"
   ]
  },
  {
   "cell_type": "code",
   "execution_count": 208,
   "id": "f47aeb2b",
   "metadata": {},
   "outputs": [
    {
     "name": "stderr",
     "output_type": "stream",
     "text": [
      "/home/subhasree/.local/lib/python3.6/site-packages/seaborn/distributions.py:1657: FutureWarning: The `bw` parameter is deprecated in favor of `bw_method` and `bw_adjust`. Using 0.5 for `bw_method`, but please see the docs for the new parameters and update your code.\n",
      "  warnings.warn(msg, FutureWarning)\n"
     ]
    },
    {
     "name": "stdout",
     "output_type": "stream",
     "text": [
      "ASC4_ASC1\n",
      "Mean: Raw data 0.2940894552723638\n",
      "Most Probable Value 0.2936632407404506\n"
     ]
    },
    {
     "data": {
      "image/png": "[encoded data removed]",
      "text/plain": [
       "<Figure size 432x288 with 1 Axes>"
      ]
     },
     "metadata": {
      "needs_background": "light"
     },
     "output_type": "display_data"
    }
   ],
   "source": [
    "# Density Plot and Histogram \n",
    "xmedian = np.median(ASC4_ASC1)\n",
    "xmean = np.mean(ASC4_ASC1)\n",
    "ax = sns.kdeplot(ASC4_ASC1,bw=0.5)\n",
    "plt.axvline(xmean,c='red')\n",
    "plt.axvline(xmedian,c='blue')\n",
    "\n",
    "x = ax.lines[0].get_xdata()\n",
    "y = ax.lines[0].get_ydata()\n",
    "maxid = np.argmax(y)\n",
    "plt.axvline(x[maxid],c='yellow')\n",
    "print(\"ASC4_ASC1\")\n",
    "print(\"Mean: Raw data\",xmean)\n",
    "print(\"Most Probable Value\",x[maxid])\n",
    "final_most_probable_value[\"ASC4_ASC1\"] = x[maxid]"
   ]
  },
  {
   "cell_type": "code",
   "execution_count": 209,
   "id": "eb9143d9",
   "metadata": {},
   "outputs": [
    {
     "name": "stdout",
     "output_type": "stream",
     "text": [
      "BB3_USC1\n",
      "Mean: Raw data 0.16300749625187405\n",
      "Most Probable Value 0.16318611383985965\n"
     ]
    },
    {
     "name": "stderr",
     "output_type": "stream",
     "text": [
      "/home/subhasree/.local/lib/python3.6/site-packages/seaborn/distributions.py:1657: FutureWarning: The `bw` parameter is deprecated in favor of `bw_method` and `bw_adjust`. Using 0.5 for `bw_method`, but please see the docs for the new parameters and update your code.\n",
      "  warnings.warn(msg, FutureWarning)\n"
     ]
    },
    {
     "data": {
      "image/png": "[encoded data removed]",
      "text/plain": [
       "<Figure size 432x288 with 1 Axes>"
      ]
     },
     "metadata": {
      "needs_background": "light"
     },
     "output_type": "display_data"
    }
   ],
   "source": [
    "# Density Plot and Histogram \n",
    "xmedian = np.median(BB3_USC1)\n",
    "xmean = np.mean(BB3_USC1)\n",
    "ax = sns.kdeplot(BB3_USC1,bw=0.5)\n",
    "plt.axvline(xmean,c='red')\n",
    "plt.axvline(xmedian,c='blue')\n",
    "\n",
    "x = ax.lines[0].get_xdata()\n",
    "y = ax.lines[0].get_ydata()\n",
    "maxid = np.argmax(y)\n",
    "plt.axvline(x[maxid],c='yellow')\n",
    "print(\"BB3_USC1\")\n",
    "print(\"Mean: Raw data\",xmean)\n",
    "print(\"Most Probable Value\",x[maxid])\n",
    "final_most_probable_value[\"BB3_USC1\"] = x[maxid]"
   ]
  },
  {
   "cell_type": "code",
   "execution_count": 210,
   "id": "e9b32892",
   "metadata": {},
   "outputs": [
    {
     "name": "stdout",
     "output_type": "stream",
     "text": [
      "USC1_USC2\n",
      "Mean: Raw data 0.3429995002498751\n",
      "Most Probable Value 0.3436288882468338\n"
     ]
    },
    {
     "name": "stderr",
     "output_type": "stream",
     "text": [
      "/home/subhasree/.local/lib/python3.6/site-packages/seaborn/distributions.py:1657: FutureWarning: The `bw` parameter is deprecated in favor of `bw_method` and `bw_adjust`. Using 0.5 for `bw_method`, but please see the docs for the new parameters and update your code.\n",
      "  warnings.warn(msg, FutureWarning)\n"
     ]
    },
    {
     "data": {
      "image/png": "[encoded data removed]",
      "text/plain": [
       "<Figure size 432x288 with 1 Axes>"
      ]
     },
     "metadata": {
      "needs_background": "light"
     },
     "output_type": "display_data"
    }
   ],
   "source": [
    "# Density Plot and Histogram \n",
    "xmedian = np.median(USC1_USC2)\n",
    "xmean = np.mean(USC1_USC2)\n",
    "ax = sns.kdeplot(USC1_USC2,bw=0.5)\n",
    "plt.axvline(xmean,c='red')\n",
    "plt.axvline(xmedian,c='blue')\n",
    "\n",
    "x = ax.lines[0].get_xdata()\n",
    "y = ax.lines[0].get_ydata()\n",
    "maxid = np.argmax(y)\n",
    "plt.axvline(x[maxid],c='yellow')\n",
    "print(\"USC1_USC2\")\n",
    "print(\"Mean: Raw data\",xmean)\n",
    "print(\"Most Probable Value\",x[maxid])\n",
    "final_most_probable_value[\"USC1_USC2\"] = x[maxid]"
   ]
  },
  {
   "cell_type": "code",
   "execution_count": 211,
   "id": "06e67f81",
   "metadata": {},
   "outputs": [
    {
     "name": "stderr",
     "output_type": "stream",
     "text": [
      "/home/subhasree/.local/lib/python3.6/site-packages/seaborn/distributions.py:1657: FutureWarning: The `bw` parameter is deprecated in favor of `bw_method` and `bw_adjust`. Using 0.5 for `bw_method`, but please see the docs for the new parameters and update your code.\n",
      "  warnings.warn(msg, FutureWarning)\n"
     ]
    },
    {
     "name": "stdout",
     "output_type": "stream",
     "text": [
      "USC2_USC3\n",
      "Mean: Raw data 0.2211049475262369\n",
      "Most Probable Value 0.2209690462026268\n"
     ]
    },
    {
     "data": {
      "image/png": "[encoded data removed]",
      "text/plain": [
       "<Figure size 432x288 with 1 Axes>"
      ]
     },
     "metadata": {
      "needs_background": "light"
     },
     "output_type": "display_data"
    }
   ],
   "source": [
    "# Density Plot and Histogram \n",
    "xmedian = np.median(USC2_USC3)\n",
    "xmean = np.mean(USC2_USC3)\n",
    "ax = sns.kdeplot(USC2_USC3,bw=0.5)\n",
    "plt.axvline(xmean,c='red')\n",
    "plt.axvline(xmedian,c='blue')\n",
    "\n",
    "x = ax.lines[0].get_xdata()\n",
    "y = ax.lines[0].get_ydata()\n",
    "maxid = np.argmax(y)\n",
    "plt.axvline(x[maxid],c='yellow')\n",
    "print(\"USC2_USC3\")\n",
    "print(\"Mean: Raw data\",xmean)\n",
    "print(\"Most Probable Value\",x[maxid])\n",
    "final_most_probable_value[\"USC2_USC3\"] = x[maxid]"
   ]
  },
  {
   "cell_type": "code",
   "execution_count": 212,
   "id": "1288aa4c",
   "metadata": {},
   "outputs": [
    {
     "name": "stdout",
     "output_type": "stream",
     "text": [
      "USC3_USC1\n",
      "Mean: Raw data 0.2680329835082459\n",
      "Most Probable Value 0.26779308090892223\n"
     ]
    },
    {
     "name": "stderr",
     "output_type": "stream",
     "text": [
      "/home/subhasree/.local/lib/python3.6/site-packages/seaborn/distributions.py:1657: FutureWarning: The `bw` parameter is deprecated in favor of `bw_method` and `bw_adjust`. Using 0.5 for `bw_method`, but please see the docs for the new parameters and update your code.\n",
      "  warnings.warn(msg, FutureWarning)\n"
     ]
    },
    {
     "data": {
      "image/png": "[encoded data removed]",
      "text/plain": [
       "<Figure size 432x288 with 1 Axes>"
      ]
     },
     "metadata": {
      "needs_background": "light"
     },
     "output_type": "display_data"
    }
   ],
   "source": [
    "# Density Plot and Histogram \n",
    "xmedian = np.median(USC3_USC1)\n",
    "xmean = np.mean(USC3_USC1)\n",
    "ax = sns.kdeplot(USC3_USC1,bw=0.5)\n",
    "plt.axvline(xmean,c='red')\n",
    "plt.axvline(xmedian,c='blue')\n",
    "\n",
    "x = ax.lines[0].get_xdata()\n",
    "y = ax.lines[0].get_ydata()\n",
    "maxid = np.argmax(y)\n",
    "plt.axvline(x[maxid],c='yellow')\n",
    "print(\"USC3_USC1\")\n",
    "print(\"Mean: Raw data\",xmean)\n",
    "print(\"Most Probable Value\",x[maxid])\n",
    "final_most_probable_value[\"USC3_USC1\"] = x[maxid]"
   ]
  },
  {
   "cell_type": "code",
   "execution_count": 213,
   "id": "fbeb97ac",
   "metadata": {},
   "outputs": [
    {
     "name": "stderr",
     "output_type": "stream",
     "text": [
      "/home/subhasree/.local/lib/python3.6/site-packages/seaborn/distributions.py:1657: FutureWarning: The `bw` parameter is deprecated in favor of `bw_method` and `bw_adjust`. Using 0.5 for `bw_method`, but please see the docs for the new parameters and update your code.\n",
      "  warnings.warn(msg, FutureWarning)\n"
     ]
    },
    {
     "name": "stdout",
     "output_type": "stream",
     "text": [
      "BB3_GSC1\n",
      "Mean: Raw data 0.20092553723138432\n",
      "Most Probable Value 0.2009454333952874\n"
     ]
    },
    {
     "data": {
      "image/png": "[encoded data removed]",
      "text/plain": [
       "<Figure size 432x288 with 1 Axes>"
      ]
     },
     "metadata": {
      "needs_background": "light"
     },
     "output_type": "display_data"
    }
   ],
   "source": [
    "# Density Plot and Histogram \n",
    "xmedian = np.median(BB3_GSC1)\n",
    "xmean = np.mean(BB3_GSC1)\n",
    "ax = sns.kdeplot(BB3_GSC1,bw=0.5)\n",
    "plt.axvline(xmean,c='red')\n",
    "plt.axvline(xmedian,c='blue')\n",
    "\n",
    "x = ax.lines[0].get_xdata()\n",
    "y = ax.lines[0].get_ydata()\n",
    "maxid = np.argmax(y)\n",
    "plt.axvline(x[maxid],c='yellow')\n",
    "print(\"BB3_GSC1\")\n",
    "print(\"Mean: Raw data\",xmean)\n",
    "print(\"Most Probable Value\",x[maxid])\n",
    "final_most_probable_value[\"BB3_GSC1\"] = x[maxid]"
   ]
  },
  {
   "cell_type": "code",
   "execution_count": 214,
   "id": "e1c287e8",
   "metadata": {},
   "outputs": [
    {
     "name": "stderr",
     "output_type": "stream",
     "text": [
      "/home/subhasree/.local/lib/python3.6/site-packages/seaborn/distributions.py:1657: FutureWarning: The `bw` parameter is deprecated in favor of `bw_method` and `bw_adjust`. Using 0.5 for `bw_method`, but please see the docs for the new parameters and update your code.\n",
      "  warnings.warn(msg, FutureWarning)\n"
     ]
    },
    {
     "name": "stdout",
     "output_type": "stream",
     "text": [
      "GSC2_GSC4\n",
      "Mean: Raw data 0.3383988005997001\n",
      "Most Probable Value 0.3383412154955643\n"
     ]
    },
    {
     "data": {
      "image/png": "[encoded data removed]",
      "text/plain": [
       "<Figure size 432x288 with 1 Axes>"
      ]
     },
     "metadata": {
      "needs_background": "light"
     },
     "output_type": "display_data"
    }
   ],
   "source": [
    "# Density Plot and Histogram \n",
    "xmedian = np.median(GSC2_GSC4)\n",
    "xmean = np.mean(GSC2_GSC4)\n",
    "ax = sns.kdeplot(GSC2_GSC4,bw=0.5)\n",
    "plt.axvline(xmean,c='red')\n",
    "plt.axvline(xmedian,c='blue')\n",
    "\n",
    "x = ax.lines[0].get_xdata()\n",
    "y = ax.lines[0].get_ydata()\n",
    "maxid = np.argmax(y)\n",
    "plt.axvline(x[maxid],c='yellow')\n",
    "print(\"GSC2_GSC4\")\n",
    "print(\"Mean: Raw data\",xmean)\n",
    "print(\"Most Probable Value\",x[maxid])\n",
    "final_most_probable_value[\"GSC2_GSC4\"] = x[maxid]"
   ]
  },
  {
   "cell_type": "code",
   "execution_count": 215,
   "id": "23c57ac7",
   "metadata": {},
   "outputs": [
    {
     "name": "stdout",
     "output_type": "stream",
     "text": [
      "GSC1_GSC3\n",
      "Mean: Raw data 0.3855567216391804\n",
      "Most Probable Value 0.3857835319464847\n"
     ]
    },
    {
     "name": "stderr",
     "output_type": "stream",
     "text": [
      "/home/subhasree/.local/lib/python3.6/site-packages/seaborn/distributions.py:1657: FutureWarning: The `bw` parameter is deprecated in favor of `bw_method` and `bw_adjust`. Using 0.5 for `bw_method`, but please see the docs for the new parameters and update your code.\n",
      "  warnings.warn(msg, FutureWarning)\n"
     ]
    },
    {
     "data": {
      "image/png": "[encoded data removed]",
      "text/plain": [
       "<Figure size 432x288 with 1 Axes>"
      ]
     },
     "metadata": {
      "needs_background": "light"
     },
     "output_type": "display_data"
    }
   ],
   "source": [
    "# Density Plot and Histogram \n",
    "xmedian = np.median(GSC1_GSC3)\n",
    "xmean = np.mean(GSC1_GSC3)\n",
    "ax = sns.kdeplot(GSC1_GSC3,bw=0.5)\n",
    "plt.axvline(xmean,c='red')\n",
    "plt.axvline(xmedian,c='blue')\n",
    "\n",
    "x = ax.lines[0].get_xdata()\n",
    "y = ax.lines[0].get_ydata()\n",
    "maxid = np.argmax(y)\n",
    "plt.axvline(x[maxid],c='yellow')\n",
    "print(\"GSC1_GSC3\")\n",
    "print(\"Mean: Raw data\",xmean)\n",
    "print(\"Most Probable Value\",x[maxid])\n",
    "final_most_probable_value[\"GSC1_GSC3\"] = x[maxid]"
   ]
  },
  {
   "cell_type": "code",
   "execution_count": 216,
   "id": "92c77433",
   "metadata": {},
   "outputs": [
    {
     "name": "stderr",
     "output_type": "stream",
     "text": [
      "/home/subhasree/.local/lib/python3.6/site-packages/seaborn/distributions.py:1657: FutureWarning: The `bw` parameter is deprecated in favor of `bw_method` and `bw_adjust`. Using 0.5 for `bw_method`, but please see the docs for the new parameters and update your code.\n",
      "  warnings.warn(msg, FutureWarning)\n"
     ]
    },
    {
     "name": "stdout",
     "output_type": "stream",
     "text": [
      "GSC2_GSC3\n",
      "Mean: Raw data 0.2960929535232384\n",
      "Most Probable Value 0.2962210813302388\n"
     ]
    },
    {
     "data": {
      "image/png": "[encoded data removed]",
      "text/plain": [
       "<Figure size 432x288 with 1 Axes>"
      ]
     },
     "metadata": {
      "needs_background": "light"
     },
     "output_type": "display_data"
    }
   ],
   "source": [
    "# Density Plot and Histogram \n",
    "xmedian = np.median(GSC2_GSC3)\n",
    "xmean = np.mean(GSC2_GSC3)\n",
    "ax = sns.kdeplot(GSC2_GSC3,bw=0.5)\n",
    "plt.axvline(xmean,c='red')\n",
    "plt.axvline(xmedian,c='blue')\n",
    "\n",
    "x = ax.lines[0].get_xdata()\n",
    "y = ax.lines[0].get_ydata()\n",
    "maxid = np.argmax(y)\n",
    "plt.axvline(x[maxid],c='yellow')\n",
    "print(\"GSC2_GSC3\")\n",
    "print(\"Mean: Raw data\",xmean)\n",
    "print(\"Most Probable Value\",x[maxid])\n",
    "final_most_probable_value[\"GSC2_GSC3\"] = x[maxid]"
   ]
  },
  {
   "cell_type": "code",
   "execution_count": 217,
   "id": "33cad4e5",
   "metadata": {},
   "outputs": [
    {
     "name": "stderr",
     "output_type": "stream",
     "text": [
      "/home/subhasree/.local/lib/python3.6/site-packages/seaborn/distributions.py:1657: FutureWarning: The `bw` parameter is deprecated in favor of `bw_method` and `bw_adjust`. Using 0.5 for `bw_method`, but please see the docs for the new parameters and update your code.\n",
      "  warnings.warn(msg, FutureWarning)\n"
     ]
    },
    {
     "name": "stdout",
     "output_type": "stream",
     "text": [
      "GSC3_GSC4\n",
      "Mean: Raw data 0.2921749125437282\n",
      "Most Probable Value 0.29231713103507473\n"
     ]
    },
    {
     "data": {
      "image/png": "[encoded data removed]",
      "text/plain": [
       "<Figure size 432x288 with 1 Axes>"
      ]
     },
     "metadata": {
      "needs_background": "light"
     },
     "output_type": "display_data"
    }
   ],
   "source": [
    "# Density Plot and Histogram \n",
    "xmedian = np.median(GSC3_GSC4)\n",
    "xmean = np.mean(GSC3_GSC4)\n",
    "ax = sns.kdeplot(GSC3_GSC4,bw=0.5)\n",
    "plt.axvline(xmean,c='red')\n",
    "plt.axvline(xmedian,c='blue')\n",
    "\n",
    "x = ax.lines[0].get_xdata()\n",
    "y = ax.lines[0].get_ydata()\n",
    "maxid = np.argmax(y)\n",
    "plt.axvline(x[maxid],c='yellow')\n",
    "print(\"GSC3_GSC4\")\n",
    "print(\"Mean: Raw data\",xmean)\n",
    "print(\"Most Probable Value\",x[maxid])\n",
    "final_most_probable_value[\"GSC3_GSC4\"] = x[maxid]"
   ]
  },
  {
   "cell_type": "code",
   "execution_count": 218,
   "id": "f570fc00",
   "metadata": {},
   "outputs": [
    {
     "name": "stdout",
     "output_type": "stream",
     "text": [
      "GSC4_GSC1\n",
      "Mean: Raw data 0.29104597701149426\n",
      "Most Probable Value 0.3857835319464847\n"
     ]
    },
    {
     "name": "stderr",
     "output_type": "stream",
     "text": [
      "/home/subhasree/.local/lib/python3.6/site-packages/seaborn/distributions.py:1657: FutureWarning: The `bw` parameter is deprecated in favor of `bw_method` and `bw_adjust`. Using 0.5 for `bw_method`, but please see the docs for the new parameters and update your code.\n",
      "  warnings.warn(msg, FutureWarning)\n"
     ]
    },
    {
     "data": {
      "image/png": "[encoded data removed]",
      "text/plain": [
       "<Figure size 432x288 with 1 Axes>"
      ]
     },
     "metadata": {
      "needs_background": "light"
     },
     "output_type": "display_data"
    }
   ],
   "source": [
    "# Density Plot and Histogram \n",
    "xmedian = np.median(GSC4_GSC1)\n",
    "xmean = np.mean(GSC4_GSC1)\n",
    "ax = sns.kdeplot(GSC1_GSC3,bw=0.5)\n",
    "plt.axvline(xmean,c='red')\n",
    "plt.axvline(xmedian,c='blue')\n",
    "\n",
    "x = ax.lines[0].get_xdata()\n",
    "y = ax.lines[0].get_ydata()\n",
    "maxid = np.argmax(y)\n",
    "plt.axvline(x[maxid],c='yellow')\n",
    "print(\"GSC4_GSC1\")\n",
    "print(\"Mean: Raw data\",xmean)\n",
    "print(\"Most Probable Value\",x[maxid])\n",
    "final_most_probable_value[\"GSC4_GSC1\"] = x[maxid]"
   ]
  },
  {
   "cell_type": "code",
   "execution_count": 219,
   "id": "2dc006d9",
   "metadata": {},
   "outputs": [
    {
     "name": "stderr",
     "output_type": "stream",
     "text": [
      "/home/subhasree/.local/lib/python3.6/site-packages/numpy/core/fromnumeric.py:3373: RuntimeWarning: Mean of empty slice.\n",
      "  out=out, **kwargs)\n",
      "/home/subhasree/.local/lib/python3.6/site-packages/numpy/core/_methods.py:170: RuntimeWarning: invalid value encountered in double_scalars\n",
      "  ret = ret.dtype.type(ret / rcount)\n",
      "/home/subhasree/.local/lib/python3.6/site-packages/seaborn/distributions.py:1657: FutureWarning: The `bw` parameter is deprecated in favor of `bw_method` and `bw_adjust`. Using 0.5 for `bw_method`, but please see the docs for the new parameters and update your code.\n",
      "  warnings.warn(msg, FutureWarning)\n"
     ]
    },
    {
     "name": "stdout",
     "output_type": "stream",
     "text": [
      "BB3_CSC1\n",
      "Mean: Raw data nan\n",
      "Most Probable Value nan\n"
     ]
    },
    {
     "data": {
      "image/png": "[encoded data removed]",
      "text/plain": [
       "<Figure size 432x288 with 1 Axes>"
      ]
     },
     "metadata": {
      "needs_background": "light"
     },
     "output_type": "display_data"
    }
   ],
   "source": [
    "# Density Plot and Histogram \n",
    "xmedian = np.median(BB3_CSC1)\n",
    "xmean = np.mean(BB3_CSC1)\n",
    "ax = sns.kdeplot(BB3_CSC1,bw=0.5)\n",
    "plt.axvline(xmean,c='red')\n",
    "plt.axvline(xmedian,c='blue')\n",
    "\n",
    "x = ax.lines[0].get_xdata()\n",
    "y = ax.lines[0].get_ydata()\n",
    "maxid = np.argmax(y)\n",
    "plt.axvline(x[maxid],c='yellow')\n",
    "print(\"BB3_CSC1\")\n",
    "print(\"Mean: Raw data\",xmean)\n",
    "print(\"Most Probable Value\",x[maxid])\n",
    "final_most_probable_value[\"BB3_CSC1\"] = x[maxid]"
   ]
  },
  {
   "cell_type": "code",
   "execution_count": 220,
   "id": "4fee8f96",
   "metadata": {},
   "outputs": [
    {
     "name": "stdout",
     "output_type": "stream",
     "text": [
      "CSC1_CSC2\n",
      "Mean: Raw data 0.32672413793103455\n",
      "Most Probable Value 0.3265464266209354\n"
     ]
    },
    {
     "data": {
      "image/png": "[encoded data removed]",
      "text/plain": [
       "<Figure size 432x288 with 1 Axes>"
      ]
     },
     "metadata": {
      "needs_background": "light"
     },
     "output_type": "display_data"
    }
   ],
   "source": [
    "# Density Plot and Histogram \n",
    "xmedian = np.median(CSC1_CSC2)\n",
    "xmean = np.mean(CSC1_CSC2)\n",
    "ax = sns.kdeplot(CSC1_CSC2,bw=0.5)\n",
    "plt.axvline(xmean,c='red')\n",
    "plt.axvline(xmedian,c='blue')\n",
    "\n",
    "x = ax.lines[0].get_xdata()\n",
    "y = ax.lines[0].get_ydata()\n",
    "maxid = np.argmax(y)\n",
    "plt.axvline(x[maxid],c='yellow')\n",
    "print(\"CSC1_CSC2\")\n",
    "print(\"Mean: Raw data\",xmean)\n",
    "print(\"Most Probable Value\",x[maxid])\n",
    "final_most_probable_value[\"CSC1_CSC2\"] = x[maxid]"
   ]
  },
  {
   "cell_type": "code",
   "execution_count": 221,
   "id": "1846f40a",
   "metadata": {},
   "outputs": [
    {
     "name": "stdout",
     "output_type": "stream",
     "text": [
      "CSC2_CSC3\n",
      "Mean: Raw data 0.22408645677161418\n",
      "Most Probable Value 0.224114185476491\n"
     ]
    },
    {
     "name": "stderr",
     "output_type": "stream",
     "text": [
      "/home/subhasree/.local/lib/python3.6/site-packages/seaborn/distributions.py:1657: FutureWarning: The `bw` parameter is deprecated in favor of `bw_method` and `bw_adjust`. Using 0.5 for `bw_method`, but please see the docs for the new parameters and update your code.\n",
      "  warnings.warn(msg, FutureWarning)\n"
     ]
    },
    {
     "data": {
      "image/png": "[encoded data removed]",
      "text/plain": [
       "<Figure size 432x288 with 1 Axes>"
      ]
     },
     "metadata": {
      "needs_background": "light"
     },
     "output_type": "display_data"
    }
   ],
   "source": [
    "# Density Plot and Histogram \n",
    "xmedian = np.median(CSC2_CSC3)\n",
    "xmean = np.mean(CSC2_CSC3)\n",
    "ax = sns.kdeplot(CSC2_CSC3,bw=0.5)\n",
    "plt.axvline(xmean,c='red')\n",
    "plt.axvline(xmedian,c='blue')\n",
    "\n",
    "x = ax.lines[0].get_xdata()\n",
    "y = ax.lines[0].get_ydata()\n",
    "maxid = np.argmax(y)\n",
    "plt.axvline(x[maxid],c='yellow')\n",
    "print(\"CSC2_CSC3\")\n",
    "print(\"Mean: Raw data\",xmean)\n",
    "print(\"Most Probable Value\",x[maxid])\n",
    "final_most_probable_value[\"CSC2_CSC3\"] = x[maxid]"
   ]
  },
  {
   "cell_type": "code",
   "execution_count": 222,
   "id": "af4f21ed",
   "metadata": {},
   "outputs": [
    {
     "name": "stderr",
     "output_type": "stream",
     "text": [
      "/home/subhasree/.local/lib/python3.6/site-packages/seaborn/distributions.py:1657: FutureWarning: The `bw` parameter is deprecated in favor of `bw_method` and `bw_adjust`. Using 0.5 for `bw_method`, but please see the docs for the new parameters and update your code.\n",
      "  warnings.warn(msg, FutureWarning)\n"
     ]
    },
    {
     "name": "stdout",
     "output_type": "stream",
     "text": [
      "CSC3_CSC1\n",
      "Mean: Raw data 0.28111594202898554\n",
      "Most Probable Value 0.28117422232781336\n"
     ]
    },
    {
     "data": {
      "image/png": "[encoded data removed]",
      "text/plain": [
       "<Figure size 432x288 with 1 Axes>"
      ]
     },
     "metadata": {
      "needs_background": "light"
     },
     "output_type": "display_data"
    }
   ],
   "source": [
    "# Density Plot and Histogram \n",
    "xmedian = np.median(CSC3_CSC1)\n",
    "xmean = np.mean(CSC3_CSC1)\n",
    "ax = sns.kdeplot(CSC3_CSC1,bw=0.5)\n",
    "plt.axvline(xmean,c='red')\n",
    "plt.axvline(xmedian,c='blue')\n",
    "\n",
    "x = ax.lines[0].get_xdata()\n",
    "y = ax.lines[0].get_ydata()\n",
    "maxid = np.argmax(y)\n",
    "plt.axvline(x[maxid],c='yellow')\n",
    "print(\"CSC3_CSC1\")\n",
    "print(\"Mean: Raw data\",xmean)\n",
    "print(\"Most Probable Value\",x[maxid])\n",
    "final_most_probable_value[\"CSC3_CSC1\"] = x[maxid]"
   ]
  },
  {
   "cell_type": "code",
   "execution_count": 223,
   "id": "72cdc2e0",
   "metadata": {},
   "outputs": [
    {
     "name": "stdout",
     "output_type": "stream",
     "text": [
      "BB3_pBB1\n",
      "Mean: Raw data 0.2670609695152424\n",
      "Most Probable Value 0.2670480437380515\n"
     ]
    },
    {
     "name": "stderr",
     "output_type": "stream",
     "text": [
      "/home/subhasree/.local/lib/python3.6/site-packages/seaborn/distributions.py:1657: FutureWarning: The `bw` parameter is deprecated in favor of `bw_method` and `bw_adjust`. Using 0.5 for `bw_method`, but please see the docs for the new parameters and update your code.\n",
      "  warnings.warn(msg, FutureWarning)\n"
     ]
    },
    {
     "data": {
      "image/png": "[encoded data removed]",
      "text/plain": [
       "<Figure size 432x288 with 1 Axes>"
      ]
     },
     "metadata": {
      "needs_background": "light"
     },
     "output_type": "display_data"
    }
   ],
   "source": [
    "# Density Plot and Histogram \n",
    "xmedian = np.median(BB3_pBB1)\n",
    "xmean = np.mean(BB3_pBB1)\n",
    "ax = sns.kdeplot(BB3_pBB1,bw=0.5)\n",
    "plt.axvline(xmean,c='red')\n",
    "plt.axvline(xmedian,c='blue')\n",
    "\n",
    "x = ax.lines[0].get_xdata()\n",
    "y = ax.lines[0].get_ydata()\n",
    "maxid = np.argmax(y)\n",
    "plt.axvline(x[maxid],c='yellow')\n",
    "print(\"BB3_pBB1\")\n",
    "print(\"Mean: Raw data\",xmean)\n",
    "print(\"Most Probable Value\",x[maxid])\n",
    "final_most_probable_value[\"BB3_pBB1\"] = x[maxid]"
   ]
  },
  {
   "cell_type": "code",
   "execution_count": 224,
   "id": "c9e9172a",
   "metadata": {},
   "outputs": [
    {
     "name": "stdout",
     "output_type": "stream",
     "text": [
      "49530.986207086855\n",
      "0.3951209137184642\n",
      "0.23987085437764918\n",
      "0.3316144452525545\n",
      "0.32764812924361336\n",
      "0.33822020988736906\n",
      "0.23305687637008327\n",
      "0.26952664362421375\n",
      "0.2936632407404506\n",
      "0.16318611383985965\n",
      "0.3436288882468338\n",
      "0.2209690462026268\n",
      "0.26779308090892223\n",
      "0.2009454333952874\n",
      "0.3383412154955643\n",
      "0.3857835319464847\n",
      "0.3374715115307316\n",
      "0.2962210813302388\n",
      "0.29231713103507473\n",
      "0.3857835319464847\n",
      "nan\n",
      "0.3265464266209354\n",
      "0.224114185476491\n",
      "0.28117422232781336\n",
      "0.2670480437380515\n"
     ]
    }
   ],
   "source": [
    "print(final_most_probable_value['BB1_BB2'])\n",
    "print(final_most_probable_value['BB2_BB3'])\n",
    "print(final_most_probable_value['BB3_ASC1'])\n",
    "print(final_most_probable_value['ASC2_ASC4'])\n",
    "print(final_most_probable_value['ASC1_ASC3'])\n",
    "print(final_most_probable_value['ASC1_ASC2'])\n",
    "print(final_most_probable_value['ASC2_ASC3'])\n",
    "print(final_most_probable_value['ASC3_ASC4'])\n",
    "print(final_most_probable_value['ASC4_ASC1'])\n",
    "print(final_most_probable_value['BB3_USC1'])\n",
    "print(final_most_probable_value['USC1_USC2'])\n",
    "print(final_most_probable_value['USC2_USC3'])\n",
    "print(final_most_probable_value['USC3_USC1'])\n",
    "print(final_most_probable_value['BB3_GSC1'])\n",
    "print(final_most_probable_value['GSC2_GSC4'])\n",
    "print(final_most_probable_value['GSC1_GSC3'])\n",
    "print(final_most_probable_value['GSC1_GSC2'])\n",
    "print(final_most_probable_value['GSC2_GSC3'])\n",
    "print(final_most_probable_value['GSC3_GSC4'])\n",
    "print(final_most_probable_value['GSC4_GSC1'])\n",
    "print(final_most_probable_value['BB3_CSC1'])\n",
    "print(final_most_probable_value['CSC1_CSC2'])\n",
    "print(final_most_probable_value['CSC2_CSC3'])\n",
    "print(final_most_probable_value['CSC3_CSC1'])\n",
    "print(final_most_probable_value['BB3_pBB1'])"
   ]
  },
  {
   "cell_type": "code",
   "execution_count": 225,
   "id": "6d1398fe",
   "metadata": {},
   "outputs": [],
   "source": [
    "BB1_BB2 = []\n",
    "BB2_BB3=[]\n",
    "BB3_ASC1=[]\n",
    "ASC2_ASC4=[]\n",
    "ASC1_ASC3=[]\n",
    "ASC1_ASC2=[]\n",
    "ASC2_ASC3=[]\n",
    "ASC3_ASC4 = []\n",
    "ASC4_ASC1 = []\n",
    "BB3_USC1 = []\n",
    "USC1_USC2 = []\n",
    "USC2_USC3\t= []\n",
    "USC3_USC1\t= []\n",
    "BB3_GSC1\t= []\n",
    "GSC2_GSC4\t= []\n",
    "GSC1_GSC3\t= []\n",
    "GSC1_GSC2\t= []\n",
    "GSC2_GSC3\t= []\n",
    "GSC3_GSC4\t= []\n",
    "GSC4_GSC1\t= []\n",
    "BB3_CSC1\t= []\n",
    "CSC1_CSC2\t= []\n",
    "CSC2_CSC3\t= []\n",
    "CSC3_CSC1\t= []\n",
    "BB3_pBB1    = []"
   ]
  },
  {
   "cell_type": "code",
   "execution_count": 226,
   "id": "3518562e",
   "metadata": {},
   "outputs": [
    {
     "name": "stdout",
     "output_type": "stream",
     "text": [
      "final_angles_gen0.csv\n"
     ]
    },
    {
     "ename": "KeyError",
     "evalue": "'BB1_BB2'",
     "output_type": "error",
     "traceback": [
      "\u001b[0;31m---------------------------------------------------------------------------\u001b[0m",
      "\u001b[0;31mKeyError\u001b[0m                                  Traceback (most recent call last)",
      "\u001b[0;32m~/.local/lib/python3.6/site-packages/pandas/core/indexes/base.py\u001b[0m in \u001b[0;36mget_loc\u001b[0;34m(self, key, method, tolerance)\u001b[0m\n\u001b[1;32m   2897\u001b[0m             \u001b[0;32mtry\u001b[0m\u001b[0;34m:\u001b[0m\u001b[0;34m\u001b[0m\u001b[0;34m\u001b[0m\u001b[0m\n\u001b[0;32m-> 2898\u001b[0;31m                 \u001b[0;32mreturn\u001b[0m \u001b[0mself\u001b[0m\u001b[0;34m.\u001b[0m\u001b[0m_engine\u001b[0m\u001b[0;34m.\u001b[0m\u001b[0mget_loc\u001b[0m\u001b[0;34m(\u001b[0m\u001b[0mcasted_key\u001b[0m\u001b[0;34m)\u001b[0m\u001b[0;34m\u001b[0m\u001b[0;34m\u001b[0m\u001b[0m\n\u001b[0m\u001b[1;32m   2899\u001b[0m             \u001b[0;32mexcept\u001b[0m \u001b[0mKeyError\u001b[0m \u001b[0;32mas\u001b[0m \u001b[0merr\u001b[0m\u001b[0;34m:\u001b[0m\u001b[0;34m\u001b[0m\u001b[0;34m\u001b[0m\u001b[0m\n",
      "\u001b[0;32mpandas/_libs/index.pyx\u001b[0m in \u001b[0;36mpandas._libs.index.IndexEngine.get_loc\u001b[0;34m()\u001b[0m\n",
      "\u001b[0;32mpandas/_libs/index.pyx\u001b[0m in \u001b[0;36mpandas._libs.index.IndexEngine.get_loc\u001b[0;34m()\u001b[0m\n",
      "\u001b[0;32mpandas/_libs/hashtable_class_helper.pxi\u001b[0m in \u001b[0;36mpandas._libs.hashtable.PyObjectHashTable.get_item\u001b[0;34m()\u001b[0m\n",
      "\u001b[0;32mpandas/_libs/hashtable_class_helper.pxi\u001b[0m in \u001b[0;36mpandas._libs.hashtable.PyObjectHashTable.get_item\u001b[0;34m()\u001b[0m\n",
      "\u001b[0;31mKeyError\u001b[0m: 'BB1_BB2'",
      "\nThe above exception was the direct cause of the following exception:\n",
      "\u001b[0;31mKeyError\u001b[0m                                  Traceback (most recent call last)",
      "\u001b[0;32m<ipython-input-226-014380b335a1>\u001b[0m in \u001b[0;36m<module>\u001b[0;34m\u001b[0m\n\u001b[1;32m      1\u001b[0m \u001b[0;32mfor\u001b[0m \u001b[0mfile\u001b[0m \u001b[0;32min\u001b[0m \u001b[0mos\u001b[0m\u001b[0;34m.\u001b[0m\u001b[0mlistdir\u001b[0m\u001b[0;34m(\u001b[0m\u001b[0;34m\"../launch_CG_simulations/angle_evolution\"\u001b[0m\u001b[0;34m)\u001b[0m\u001b[0;34m:\u001b[0m\u001b[0;34m\u001b[0m\u001b[0;34m\u001b[0m\u001b[0m\n\u001b[1;32m      2\u001b[0m     \u001b[0mprint\u001b[0m\u001b[0;34m(\u001b[0m\u001b[0mfile\u001b[0m\u001b[0;34m)\u001b[0m\u001b[0;34m\u001b[0m\u001b[0;34m\u001b[0m\u001b[0m\n\u001b[0;32m----> 3\u001b[0;31m     \u001b[0mdata\u001b[0m \u001b[0;34m=\u001b[0m \u001b[0mpd\u001b[0m\u001b[0;34m.\u001b[0m\u001b[0mread_csv\u001b[0m\u001b[0;34m(\u001b[0m\u001b[0;34m\"../launch_CG_simulations/angle_evolution/\"\u001b[0m\u001b[0;34m+\u001b[0m\u001b[0mfile\u001b[0m\u001b[0;34m)\u001b[0m\u001b[0;34m[\u001b[0m\u001b[0;34m'BB1_BB2'\u001b[0m\u001b[0;34m]\u001b[0m\u001b[0;34m[\u001b[0m\u001b[0;36m0\u001b[0m\u001b[0;34m]\u001b[0m\u001b[0;34m\u001b[0m\u001b[0;34m\u001b[0m\u001b[0m\n\u001b[0m\u001b[1;32m      4\u001b[0m     \u001b[0mBB1_BB2\u001b[0m\u001b[0;34m.\u001b[0m\u001b[0mappend\u001b[0m\u001b[0;34m(\u001b[0m\u001b[0mdata\u001b[0m\u001b[0;34m)\u001b[0m\u001b[0;34m\u001b[0m\u001b[0;34m\u001b[0m\u001b[0m\n\u001b[1;32m      5\u001b[0m \u001b[0;32mfor\u001b[0m \u001b[0mi\u001b[0m \u001b[0;32min\u001b[0m \u001b[0mBB1_BB2\u001b[0m\u001b[0;34m:\u001b[0m\u001b[0;34m\u001b[0m\u001b[0;34m\u001b[0m\u001b[0m\n",
      "\u001b[0;32m~/.local/lib/python3.6/site-packages/pandas/core/frame.py\u001b[0m in \u001b[0;36m__getitem__\u001b[0;34m(self, key)\u001b[0m\n\u001b[1;32m   2904\u001b[0m             \u001b[0;32mif\u001b[0m \u001b[0mself\u001b[0m\u001b[0;34m.\u001b[0m\u001b[0mcolumns\u001b[0m\u001b[0;34m.\u001b[0m\u001b[0mnlevels\u001b[0m \u001b[0;34m>\u001b[0m \u001b[0;36m1\u001b[0m\u001b[0;34m:\u001b[0m\u001b[0;34m\u001b[0m\u001b[0;34m\u001b[0m\u001b[0m\n\u001b[1;32m   2905\u001b[0m                 \u001b[0;32mreturn\u001b[0m \u001b[0mself\u001b[0m\u001b[0;34m.\u001b[0m\u001b[0m_getitem_multilevel\u001b[0m\u001b[0;34m(\u001b[0m\u001b[0mkey\u001b[0m\u001b[0;34m)\u001b[0m\u001b[0;34m\u001b[0m\u001b[0;34m\u001b[0m\u001b[0m\n\u001b[0;32m-> 2906\u001b[0;31m             \u001b[0mindexer\u001b[0m \u001b[0;34m=\u001b[0m \u001b[0mself\u001b[0m\u001b[0;34m.\u001b[0m\u001b[0mcolumns\u001b[0m\u001b[0;34m.\u001b[0m\u001b[0mget_loc\u001b[0m\u001b[0;34m(\u001b[0m\u001b[0mkey\u001b[0m\u001b[0;34m)\u001b[0m\u001b[0;34m\u001b[0m\u001b[0;34m\u001b[0m\u001b[0m\n\u001b[0m\u001b[1;32m   2907\u001b[0m             \u001b[0;32mif\u001b[0m \u001b[0mis_integer\u001b[0m\u001b[0;34m(\u001b[0m\u001b[0mindexer\u001b[0m\u001b[0;34m)\u001b[0m\u001b[0;34m:\u001b[0m\u001b[0;34m\u001b[0m\u001b[0;34m\u001b[0m\u001b[0m\n\u001b[1;32m   2908\u001b[0m                 \u001b[0mindexer\u001b[0m \u001b[0;34m=\u001b[0m \u001b[0;34m[\u001b[0m\u001b[0mindexer\u001b[0m\u001b[0;34m]\u001b[0m\u001b[0;34m\u001b[0m\u001b[0;34m\u001b[0m\u001b[0m\n",
      "\u001b[0;32m~/.local/lib/python3.6/site-packages/pandas/core/indexes/base.py\u001b[0m in \u001b[0;36mget_loc\u001b[0;34m(self, key, method, tolerance)\u001b[0m\n\u001b[1;32m   2898\u001b[0m                 \u001b[0;32mreturn\u001b[0m \u001b[0mself\u001b[0m\u001b[0;34m.\u001b[0m\u001b[0m_engine\u001b[0m\u001b[0;34m.\u001b[0m\u001b[0mget_loc\u001b[0m\u001b[0;34m(\u001b[0m\u001b[0mcasted_key\u001b[0m\u001b[0;34m)\u001b[0m\u001b[0;34m\u001b[0m\u001b[0;34m\u001b[0m\u001b[0m\n\u001b[1;32m   2899\u001b[0m             \u001b[0;32mexcept\u001b[0m \u001b[0mKeyError\u001b[0m \u001b[0;32mas\u001b[0m \u001b[0merr\u001b[0m\u001b[0;34m:\u001b[0m\u001b[0;34m\u001b[0m\u001b[0;34m\u001b[0m\u001b[0m\n\u001b[0;32m-> 2900\u001b[0;31m                 \u001b[0;32mraise\u001b[0m \u001b[0mKeyError\u001b[0m\u001b[0;34m(\u001b[0m\u001b[0mkey\u001b[0m\u001b[0;34m)\u001b[0m \u001b[0;32mfrom\u001b[0m \u001b[0merr\u001b[0m\u001b[0;34m\u001b[0m\u001b[0;34m\u001b[0m\u001b[0m\n\u001b[0m\u001b[1;32m   2901\u001b[0m \u001b[0;34m\u001b[0m\u001b[0m\n\u001b[1;32m   2902\u001b[0m         \u001b[0;32mif\u001b[0m \u001b[0mtolerance\u001b[0m \u001b[0;32mis\u001b[0m \u001b[0;32mnot\u001b[0m \u001b[0;32mNone\u001b[0m\u001b[0;34m:\u001b[0m\u001b[0;34m\u001b[0m\u001b[0;34m\u001b[0m\u001b[0m\n",
      "\u001b[0;31mKeyError\u001b[0m: 'BB1_BB2'"
     ]
    }
   ],
   "source": [
    "for file in os.listdir(\"../launch_CG_simulations/angle_evolution\"):\n",
    "    print(file)\n",
    "    data = pd.read_csv(\"../launch_CG_simulations/dist_evolution/\"+file)['BB1_BB2'][0]\n",
    "    BB1_BB2.append(data)\n",
    "for i in BB1_BB2:\n",
    "    print(i)\n"
   ]
  },
  {
   "cell_type": "code",
   "execution_count": 227,
   "id": "ddea6496",
   "metadata": {},
   "outputs": [
    {
     "data": {
      "text/html": [
       "<div>\n",
       "<style scoped>\n",
       "    .dataframe tbody tr th:only-of-type {\n",
       "        vertical-align: middle;\n",
       "    }\n",
       "\n",
       "    .dataframe tbody tr th {\n",
       "        vertical-align: top;\n",
       "    }\n",
       "\n",
       "    .dataframe thead th {\n",
       "        text-align: right;\n",
       "    }\n",
       "</style>\n",
       "<table border=\"1\" class=\"dataframe\">\n",
       "  <thead>\n",
       "    <tr style=\"text-align: right;\">\n",
       "      <th></th>\n",
       "      <th>Unnamed: 0</th>\n",
       "      <th>ASC1_ASC2_ASC3</th>\n",
       "      <th>BB3_USC1_USC2</th>\n",
       "      <th>CSC1_CSC2_CSC3</th>\n",
       "      <th>GSC3_GSC4_GSC1</th>\n",
       "      <th>CSC2_CSC3_CSC1</th>\n",
       "      <th>GSC2_GSC3_GSC4</th>\n",
       "      <th>BB3_CSC1_CSC2</th>\n",
       "      <th>BB2_BB3_CSC1</th>\n",
       "      <th>ASC2_ASC1_ASC4</th>\n",
       "      <th>...</th>\n",
       "      <th>BB2_BB3_USC1</th>\n",
       "      <th>BB3_CSC1_CSC3</th>\n",
       "      <th>BB2_BB3_pBB1</th>\n",
       "      <th>BB2_BB3_GSC1</th>\n",
       "      <th>BB3_USC1_USC3</th>\n",
       "      <th>ASC2_ASC3_ASC4</th>\n",
       "      <th>BB3_pBB1_pBB2</th>\n",
       "      <th>BB2_BB3_ASC1</th>\n",
       "      <th>BB3_GSC1_GSC4</th>\n",
       "      <th>USC2_USC1_USC3</th>\n",
       "    </tr>\n",
       "  </thead>\n",
       "  <tbody>\n",
       "    <tr>\n",
       "      <th>0</th>\n",
       "      <td>MPV</td>\n",
       "      <td>84.202095</td>\n",
       "      <td>101.571984</td>\n",
       "      <td>62.606662</td>\n",
       "      <td>91.709762</td>\n",
       "      <td>48.156074</td>\n",
       "      <td>82.959456</td>\n",
       "      <td>65.646183</td>\n",
       "      <td>24.643772</td>\n",
       "      <td>110.073308</td>\n",
       "      <td>...</td>\n",
       "      <td>34.393927</td>\n",
       "      <td>69.995341</td>\n",
       "      <td>120.634404</td>\n",
       "      <td>21.817147</td>\n",
       "      <td>147.989028</td>\n",
       "      <td>70.874814</td>\n",
       "      <td>103.521657</td>\n",
       "      <td>14.939161</td>\n",
       "      <td>77.613528</td>\n",
       "      <td>78.69709</td>\n",
       "    </tr>\n",
       "    <tr>\n",
       "      <th>1</th>\n",
       "      <td>0</td>\n",
       "      <td>86.517000</td>\n",
       "      <td>137.361000</td>\n",
       "      <td>62.285000</td>\n",
       "      <td>90.058000</td>\n",
       "      <td>48.011000</td>\n",
       "      <td>81.788000</td>\n",
       "      <td>77.793000</td>\n",
       "      <td>97.735000</td>\n",
       "      <td>110.759000</td>\n",
       "      <td>...</td>\n",
       "      <td>60.465000</td>\n",
       "      <td>132.757000</td>\n",
       "      <td>108.397000</td>\n",
       "      <td>111.537000</td>\n",
       "      <td>106.781000</td>\n",
       "      <td>69.078000</td>\n",
       "      <td>68.890000</td>\n",
       "      <td>77.368000</td>\n",
       "      <td>106.646000</td>\n",
       "      <td>78.74800</td>\n",
       "    </tr>\n",
       "    <tr>\n",
       "      <th>2</th>\n",
       "      <td>1</td>\n",
       "      <td>84.800000</td>\n",
       "      <td>101.548000</td>\n",
       "      <td>60.782000</td>\n",
       "      <td>90.881000</td>\n",
       "      <td>49.127000</td>\n",
       "      <td>83.588000</td>\n",
       "      <td>28.512000</td>\n",
       "      <td>68.883000</td>\n",
       "      <td>110.526000</td>\n",
       "      <td>...</td>\n",
       "      <td>63.740000</td>\n",
       "      <td>95.420000</td>\n",
       "      <td>125.302000</td>\n",
       "      <td>18.227000</td>\n",
       "      <td>116.887000</td>\n",
       "      <td>71.771000</td>\n",
       "      <td>80.661000</td>\n",
       "      <td>118.214000</td>\n",
       "      <td>70.600000</td>\n",
       "      <td>80.16100</td>\n",
       "    </tr>\n",
       "    <tr>\n",
       "      <th>3</th>\n",
       "      <td>2</td>\n",
       "      <td>85.862000</td>\n",
       "      <td>52.112000</td>\n",
       "      <td>63.177000</td>\n",
       "      <td>89.981000</td>\n",
       "      <td>48.492000</td>\n",
       "      <td>81.936000</td>\n",
       "      <td>28.330000</td>\n",
       "      <td>80.470000</td>\n",
       "      <td>110.503000</td>\n",
       "      <td>...</td>\n",
       "      <td>47.853000</td>\n",
       "      <td>91.450000</td>\n",
       "      <td>121.826000</td>\n",
       "      <td>29.673000</td>\n",
       "      <td>113.112000</td>\n",
       "      <td>69.140000</td>\n",
       "      <td>91.845000</td>\n",
       "      <td>117.988000</td>\n",
       "      <td>82.271000</td>\n",
       "      <td>80.29300</td>\n",
       "    </tr>\n",
       "    <tr>\n",
       "      <th>4</th>\n",
       "      <td>3</td>\n",
       "      <td>84.508000</td>\n",
       "      <td>53.273000</td>\n",
       "      <td>62.825000</td>\n",
       "      <td>87.085000</td>\n",
       "      <td>48.540000</td>\n",
       "      <td>82.745000</td>\n",
       "      <td>25.802000</td>\n",
       "      <td>34.234000</td>\n",
       "      <td>107.639000</td>\n",
       "      <td>...</td>\n",
       "      <td>39.407000</td>\n",
       "      <td>92.809000</td>\n",
       "      <td>114.597000</td>\n",
       "      <td>26.456000</td>\n",
       "      <td>115.734000</td>\n",
       "      <td>70.858000</td>\n",
       "      <td>92.950000</td>\n",
       "      <td>61.136000</td>\n",
       "      <td>90.509000</td>\n",
       "      <td>78.56000</td>\n",
       "    </tr>\n",
       "    <tr>\n",
       "      <th>...</th>\n",
       "      <td>...</td>\n",
       "      <td>...</td>\n",
       "      <td>...</td>\n",
       "      <td>...</td>\n",
       "      <td>...</td>\n",
       "      <td>...</td>\n",
       "      <td>...</td>\n",
       "      <td>...</td>\n",
       "      <td>...</td>\n",
       "      <td>...</td>\n",
       "      <td>...</td>\n",
       "      <td>...</td>\n",
       "      <td>...</td>\n",
       "      <td>...</td>\n",
       "      <td>...</td>\n",
       "      <td>...</td>\n",
       "      <td>...</td>\n",
       "      <td>...</td>\n",
       "      <td>...</td>\n",
       "      <td>...</td>\n",
       "      <td>...</td>\n",
       "    </tr>\n",
       "    <tr>\n",
       "      <th>1997</th>\n",
       "      <td>1996</td>\n",
       "      <td>78.308000</td>\n",
       "      <td>99.168000</td>\n",
       "      <td>63.069000</td>\n",
       "      <td>92.858000</td>\n",
       "      <td>48.211000</td>\n",
       "      <td>84.003000</td>\n",
       "      <td>68.602000</td>\n",
       "      <td>33.726000</td>\n",
       "      <td>111.767000</td>\n",
       "      <td>...</td>\n",
       "      <td>30.156000</td>\n",
       "      <td>46.695000</td>\n",
       "      <td>124.610000</td>\n",
       "      <td>20.139000</td>\n",
       "      <td>165.059000</td>\n",
       "      <td>71.898000</td>\n",
       "      <td>95.157000</td>\n",
       "      <td>7.566000</td>\n",
       "      <td>71.466000</td>\n",
       "      <td>77.94100</td>\n",
       "    </tr>\n",
       "    <tr>\n",
       "      <th>1998</th>\n",
       "      <td>1997</td>\n",
       "      <td>87.851000</td>\n",
       "      <td>84.173000</td>\n",
       "      <td>63.448000</td>\n",
       "      <td>96.557000</td>\n",
       "      <td>46.566000</td>\n",
       "      <td>82.553000</td>\n",
       "      <td>69.648000</td>\n",
       "      <td>19.948000</td>\n",
       "      <td>108.355000</td>\n",
       "      <td>...</td>\n",
       "      <td>32.086000</td>\n",
       "      <td>45.192000</td>\n",
       "      <td>129.020000</td>\n",
       "      <td>18.581000</td>\n",
       "      <td>151.064000</td>\n",
       "      <td>69.246000</td>\n",
       "      <td>106.822000</td>\n",
       "      <td>11.181000</td>\n",
       "      <td>76.888000</td>\n",
       "      <td>79.21200</td>\n",
       "    </tr>\n",
       "    <tr>\n",
       "      <th>1999</th>\n",
       "      <td>1998</td>\n",
       "      <td>82.093000</td>\n",
       "      <td>93.867000</td>\n",
       "      <td>61.502000</td>\n",
       "      <td>90.411000</td>\n",
       "      <td>47.624000</td>\n",
       "      <td>84.562000</td>\n",
       "      <td>76.621000</td>\n",
       "      <td>9.553000</td>\n",
       "      <td>118.183000</td>\n",
       "      <td>...</td>\n",
       "      <td>33.034000</td>\n",
       "      <td>51.212000</td>\n",
       "      <td>124.562000</td>\n",
       "      <td>16.658000</td>\n",
       "      <td>146.743000</td>\n",
       "      <td>73.330000</td>\n",
       "      <td>107.338000</td>\n",
       "      <td>10.735000</td>\n",
       "      <td>78.579000</td>\n",
       "      <td>77.47100</td>\n",
       "    </tr>\n",
       "    <tr>\n",
       "      <th>2000</th>\n",
       "      <td>1999</td>\n",
       "      <td>86.115000</td>\n",
       "      <td>93.005000</td>\n",
       "      <td>62.255000</td>\n",
       "      <td>87.732000</td>\n",
       "      <td>46.780000</td>\n",
       "      <td>84.236000</td>\n",
       "      <td>74.522000</td>\n",
       "      <td>45.410000</td>\n",
       "      <td>103.293000</td>\n",
       "      <td>...</td>\n",
       "      <td>42.548000</td>\n",
       "      <td>52.380000</td>\n",
       "      <td>117.562000</td>\n",
       "      <td>11.261000</td>\n",
       "      <td>157.393000</td>\n",
       "      <td>67.019000</td>\n",
       "      <td>98.543000</td>\n",
       "      <td>34.893000</td>\n",
       "      <td>54.315000</td>\n",
       "      <td>77.08200</td>\n",
       "    </tr>\n",
       "    <tr>\n",
       "      <th>2001</th>\n",
       "      <td>2000</td>\n",
       "      <td>91.116000</td>\n",
       "      <td>90.618000</td>\n",
       "      <td>62.036000</td>\n",
       "      <td>89.944000</td>\n",
       "      <td>47.578000</td>\n",
       "      <td>82.407000</td>\n",
       "      <td>58.610000</td>\n",
       "      <td>14.614000</td>\n",
       "      <td>102.683000</td>\n",
       "      <td>...</td>\n",
       "      <td>25.296000</td>\n",
       "      <td>34.542000</td>\n",
       "      <td>118.910000</td>\n",
       "      <td>23.147000</td>\n",
       "      <td>146.402000</td>\n",
       "      <td>68.278000</td>\n",
       "      <td>108.548000</td>\n",
       "      <td>19.165000</td>\n",
       "      <td>71.351000</td>\n",
       "      <td>77.89900</td>\n",
       "    </tr>\n",
       "  </tbody>\n",
       "</table>\n",
       "<p>2002 rows × 34 columns</p>\n",
       "</div>"
      ],
      "text/plain": [
       "     Unnamed: 0  ASC1_ASC2_ASC3  BB3_USC1_USC2  CSC1_CSC2_CSC3  \\\n",
       "0           MPV       84.202095     101.571984       62.606662   \n",
       "1             0       86.517000     137.361000       62.285000   \n",
       "2             1       84.800000     101.548000       60.782000   \n",
       "3             2       85.862000      52.112000       63.177000   \n",
       "4             3       84.508000      53.273000       62.825000   \n",
       "...         ...             ...            ...             ...   \n",
       "1997       1996       78.308000      99.168000       63.069000   \n",
       "1998       1997       87.851000      84.173000       63.448000   \n",
       "1999       1998       82.093000      93.867000       61.502000   \n",
       "2000       1999       86.115000      93.005000       62.255000   \n",
       "2001       2000       91.116000      90.618000       62.036000   \n",
       "\n",
       "      GSC3_GSC4_GSC1  CSC2_CSC3_CSC1  GSC2_GSC3_GSC4  BB3_CSC1_CSC2  \\\n",
       "0          91.709762       48.156074       82.959456      65.646183   \n",
       "1          90.058000       48.011000       81.788000      77.793000   \n",
       "2          90.881000       49.127000       83.588000      28.512000   \n",
       "3          89.981000       48.492000       81.936000      28.330000   \n",
       "4          87.085000       48.540000       82.745000      25.802000   \n",
       "...              ...             ...             ...            ...   \n",
       "1997       92.858000       48.211000       84.003000      68.602000   \n",
       "1998       96.557000       46.566000       82.553000      69.648000   \n",
       "1999       90.411000       47.624000       84.562000      76.621000   \n",
       "2000       87.732000       46.780000       84.236000      74.522000   \n",
       "2001       89.944000       47.578000       82.407000      58.610000   \n",
       "\n",
       "      BB2_BB3_CSC1  ASC2_ASC1_ASC4  ...  BB2_BB3_USC1  BB3_CSC1_CSC3  \\\n",
       "0        24.643772      110.073308  ...     34.393927      69.995341   \n",
       "1        97.735000      110.759000  ...     60.465000     132.757000   \n",
       "2        68.883000      110.526000  ...     63.740000      95.420000   \n",
       "3        80.470000      110.503000  ...     47.853000      91.450000   \n",
       "4        34.234000      107.639000  ...     39.407000      92.809000   \n",
       "...            ...             ...  ...           ...            ...   \n",
       "1997     33.726000      111.767000  ...     30.156000      46.695000   \n",
       "1998     19.948000      108.355000  ...     32.086000      45.192000   \n",
       "1999      9.553000      118.183000  ...     33.034000      51.212000   \n",
       "2000     45.410000      103.293000  ...     42.548000      52.380000   \n",
       "2001     14.614000      102.683000  ...     25.296000      34.542000   \n",
       "\n",
       "      BB2_BB3_pBB1  BB2_BB3_GSC1  BB3_USC1_USC3  ASC2_ASC3_ASC4  \\\n",
       "0       120.634404     21.817147     147.989028       70.874814   \n",
       "1       108.397000    111.537000     106.781000       69.078000   \n",
       "2       125.302000     18.227000     116.887000       71.771000   \n",
       "3       121.826000     29.673000     113.112000       69.140000   \n",
       "4       114.597000     26.456000     115.734000       70.858000   \n",
       "...            ...           ...            ...             ...   \n",
       "1997    124.610000     20.139000     165.059000       71.898000   \n",
       "1998    129.020000     18.581000     151.064000       69.246000   \n",
       "1999    124.562000     16.658000     146.743000       73.330000   \n",
       "2000    117.562000     11.261000     157.393000       67.019000   \n",
       "2001    118.910000     23.147000     146.402000       68.278000   \n",
       "\n",
       "      BB3_pBB1_pBB2  BB2_BB3_ASC1  BB3_GSC1_GSC4  USC2_USC1_USC3  \n",
       "0        103.521657     14.939161      77.613528        78.69709  \n",
       "1         68.890000     77.368000     106.646000        78.74800  \n",
       "2         80.661000    118.214000      70.600000        80.16100  \n",
       "3         91.845000    117.988000      82.271000        80.29300  \n",
       "4         92.950000     61.136000      90.509000        78.56000  \n",
       "...             ...           ...            ...             ...  \n",
       "1997      95.157000      7.566000      71.466000        77.94100  \n",
       "1998     106.822000     11.181000      76.888000        79.21200  \n",
       "1999     107.338000     10.735000      78.579000        77.47100  \n",
       "2000      98.543000     34.893000      54.315000        77.08200  \n",
       "2001     108.548000     19.165000      71.351000        77.89900  \n",
       "\n",
       "[2002 rows x 34 columns]"
      ]
     },
     "execution_count": 227,
     "metadata": {},
     "output_type": "execute_result"
    }
   ],
   "source": [
    "pd.read_csv(\"../launch_CG_simulations/angle_evolution/\"+file)"
   ]
  },
  {
   "cell_type": "code",
   "execution_count": null,
   "id": "3c516166",
   "metadata": {},
   "outputs": [],
   "source": [
    "for file in os.listdir(\"../launch_CG_simulations/angle_evolution\"):\n",
    "    data = pd.read_csv(\"../launch_CG_simulations/dist_evolution/\"+file)['BB2_BB3'][0]\n",
    "    BB2_BB3.append(data)\n",
    "for i in BB2_BB3:\n",
    "    print(i)"
   ]
  },
  {
   "cell_type": "code",
   "execution_count": null,
   "id": "d96ef531",
   "metadata": {},
   "outputs": [],
   "source": [
    "for file in os.listdir(\"../launch_CG_simulations/angle_evolution\"):\n",
    "    print(file)\n",
    "    data = pd.read_csv(\"../launch_CG_simulations/dist_evolution/\"+file)['BB3_ASC1'][0]\n",
    "    BB3_ASC1.append(data)\n",
    "for i in BB3_ASC1:\n",
    "    print(i)\n",
    "    \n"
   ]
  },
  {
   "cell_type": "code",
   "execution_count": null,
   "id": "0a08a6fd",
   "metadata": {},
   "outputs": [],
   "source": [
    "for file in os.listdir(\"../launch_CG_simulations/angle_evolution\"):\n",
    "    print(file)\n",
    "    data = pd.read_csv(\"../launch_CG_simulations/dist_evolution/\"+file)['ASC2_ASC4'][0]\n",
    "    ASC2_ASC4.append(data)\n",
    "for i in ASC2_ASC4:\n",
    "    print(i)\n",
    "\n"
   ]
  },
  {
   "cell_type": "code",
   "execution_count": null,
   "id": "6e0df525",
   "metadata": {},
   "outputs": [],
   "source": [
    "for file in os.listdir(\"../launch_CG_simulations/angle_evolution\"):\n",
    "    print(file)\n",
    "    data = pd.read_csv(\"../launch_CG_simulations/dist_evolution/\"+file)['ASC1_ASC3'][0]\n",
    "    ASC1_ASC3.append(data)\n",
    "for i in ASC1_ASC3:\n",
    "    print(i)\n",
    "    \n"
   ]
  },
  {
   "cell_type": "code",
   "execution_count": null,
   "id": "0f6ede85",
   "metadata": {},
   "outputs": [],
   "source": [
    "for file in os.listdir(\"../launch_CG_simulations/angle_evolution\"):\n",
    "    print(file)\n",
    "    data = pd.read_csv(\"../launch_CG_simulations/dist_evolution/\"+file)['ASC1_ASC2'][0]\n",
    "    ASC1_ASC2.append(data)\n",
    "for i in ASC1_ASC2:\n",
    "    print(i)\n",
    "    \n"
   ]
  },
  {
   "cell_type": "code",
   "execution_count": null,
   "id": "5c87d364",
   "metadata": {},
   "outputs": [],
   "source": [
    "for file in os.listdir(\"../launch_CG_simulations/angle_evolution\"):\n",
    "    print(file)\n",
    "    data = pd.read_csv(\"../launch_CG_simulations/dist_evolution/\"+file)['ASC2_ASC3'][0]\n",
    "    ASC2_ASC3.append(data)\n",
    "for i in ASC2_ASC3:\n",
    "    print(i)\n",
    "    \n"
   ]
  },
  {
   "cell_type": "code",
   "execution_count": null,
   "id": "c8269b3c",
   "metadata": {},
   "outputs": [],
   "source": [
    "for file in os.listdir(\"../launch_CG_simulations/angle_evolution\"):\n",
    "    print(file)\n",
    "    data = pd.read_csv(\"../launch_CG_simulations/dist_evolution/\"+file)['ASC3_ASC4'][0]\n",
    "    ASC3_ASC4.append(data)\n",
    "for i in ASC3_ASC4:\n",
    "    print(i)\n",
    "# for file in os.listdir(\"../launch_CG_simulations/angle_evolution\"):\n",
    "#     print(file)\n",
    "#     data = pd.read_csv(\"../launch_CG_simulations/angle_evolution/\"+file)['ASC2_ASC1_ASC4'][0]\n",
    "#     ASC2_ASC1_ASC4.append(data)\n"
   ]
  },
  {
   "cell_type": "code",
   "execution_count": null,
   "id": "2896b4d2",
   "metadata": {},
   "outputs": [],
   "source": [
    "for file in os.listdir(\"../launch_CG_simulations/angle_evolution\"):\n",
    "    print(file)\n",
    "    data = pd.read_csv(\"../launch_CG_simulations/dist_evolution/\"+file)['ASC4_ASC1'][0]\n",
    "    ASC4_ASC1.append(data)\n",
    "for i in ASC4_ASC1:\n",
    "    print(i)\n",
    "    \n"
   ]
  },
  {
   "cell_type": "code",
   "execution_count": null,
   "id": "8606ec6d",
   "metadata": {},
   "outputs": [],
   "source": [
    "for file in os.listdir(\"../launch_CG_simulations/angle_evolution\"):\n",
    "    print(file)\n",
    "    data = pd.read_csv(\"../launch_CG_simulations/dist_evolution/\"+file)['BB3_USC1'][0]\n",
    "    BB3_USC1.append(data)\n",
    "for i in BB3_USC1:\n",
    "    print(i)"
   ]
  },
  {
   "cell_type": "code",
   "execution_count": null,
   "id": "ed5f080d",
   "metadata": {},
   "outputs": [],
   "source": [
    "for file in os.listdir(\"../launch_CG_simulations/angle_evolution\"):\n",
    "    print(file)\n",
    "    data = pd.read_csv(\"../launch_CG_simulations/dist_evolution/\"+file)['USC1_USC2'][0]\n",
    "    USC1_USC2.append(data)\n",
    "for i in USC1_USC2:\n",
    "    print(i)"
   ]
  },
  {
   "cell_type": "code",
   "execution_count": null,
   "id": "9caceeda",
   "metadata": {},
   "outputs": [],
   "source": [
    "for file in os.listdir(\"../launch_CG_simulations/angle_evolution\"):\n",
    "    print(file)\n",
    "    data = pd.read_csv(\"../launch_CG_simulations/dist_evolution/\"+file)['USC2_USC3'][0]\n",
    "    USC2_USC3.append(data)\n",
    "for i in USC2_USC3:\n",
    "    print(i)"
   ]
  },
  {
   "cell_type": "code",
   "execution_count": null,
   "id": "d40e88cf",
   "metadata": {},
   "outputs": [],
   "source": [
    "for file in os.listdir(\"../launch_CG_simulations/angle_evolution\"):\n",
    "    print(file)\n",
    "    data = pd.read_csv(\"../launch_CG_simulations/dist_evolution/\"+file)['USC3_USC1'][0]\n",
    "    USC3_USC1.append(data)\n",
    "for i in USC3_USC1:\n",
    "    print(i)"
   ]
  },
  {
   "cell_type": "code",
   "execution_count": null,
   "id": "e9f00b5e",
   "metadata": {},
   "outputs": [],
   "source": [
    "for file in os.listdir(\"../launch_CG_simulations/angle_evolution\"):\n",
    "    print(file)\n",
    "    data = pd.read_csv(\"../launch_CG_simulations/dist_evolution/\"+file)['BB3_GSC1'][0]\n",
    "    BB3_GSC1.append(data)\n",
    "for i in BB3_GSC1:\n",
    "    print(i)"
   ]
  },
  {
   "cell_type": "code",
   "execution_count": null,
   "id": "e97f1bcf",
   "metadata": {},
   "outputs": [],
   "source": [
    "for file in os.listdir(\"../launch_CG_simulations/angle_evolution\"):\n",
    "    print(file)\n",
    "    data = pd.read_csv(\"../launch_CG_simulations/dist_evolution/\"+file)['GSC2_GSC4'][0]\n",
    "    GSC2_GSC4.append(data)\n",
    "for i in GSC2_GSC4:\n",
    "    print(i)\n",
    "    "
   ]
  },
  {
   "cell_type": "code",
   "execution_count": null,
   "id": "5d149500",
   "metadata": {},
   "outputs": [],
   "source": [
    "for file in os.listdir(\"../launch_CG_simulations/angle_evolution\"):\n",
    "    print(file)\n",
    "    data = pd.read_csv(\"../launch_CG_simulations/dist_evolution/\"+file)['GSC1_GSC3'][0]\n",
    "    GSC1_GSC3.append(data)\n",
    "for i in GSC1_GSC3:\n",
    "    print(i)"
   ]
  },
  {
   "cell_type": "code",
   "execution_count": null,
   "id": "4c836161",
   "metadata": {},
   "outputs": [],
   "source": [
    "for file in os.listdir(\"../launch_CG_simulations/angle_evolution\"):\n",
    "    print(file)\n",
    "    data = pd.read_csv(\"../launch_CG_simulations/dist_evolution/\"+file)['GSC1_GSC2'][0]\n",
    "    GSC1_GSC2.append(data)\n",
    "for i in GSC1_GSC2:\n",
    "    print(i)"
   ]
  },
  {
   "cell_type": "code",
   "execution_count": null,
   "id": "ddd61c83",
   "metadata": {},
   "outputs": [],
   "source": [
    "for file in os.listdir(\"../launch_CG_simulations/angle_evolution\"):\n",
    "    print(file)\n",
    "    data = pd.read_csv(\"../launch_CG_simulations/dist_evolution/\"+file)['GSC2_GSC3'][0]\n",
    "    GSC2_GSC3.append(data)\n",
    "for i in GSC2_GSC3:\n",
    "    print(i)"
   ]
  },
  {
   "cell_type": "code",
   "execution_count": null,
   "id": "258728de",
   "metadata": {},
   "outputs": [],
   "source": [
    "for file in os.listdir(\"../launch_CG_simulations/angle_evolution\"):\n",
    "    print(file)\n",
    "    data = pd.read_csv(\"../launch_CG_simulations/dist_evolution/\"+file)['GSC3_GSC4'][0]\n",
    "    GSC3_GSC4.append(data)\n",
    "for i in GSC3_GSC4:\n",
    "    print(i)"
   ]
  },
  {
   "cell_type": "code",
   "execution_count": null,
   "id": "4bb22c8b",
   "metadata": {},
   "outputs": [],
   "source": [
    "for file in os.listdir(\"../launch_CG_simulations/angle_evolution\"):\n",
    "    print(file)\n",
    "    data = pd.read_csv(\"../launch_CG_simulations/dist_evolution/\"+file)['GSC4_GSC1'][0]\n",
    "    GSC4_GSC1.append(data)\n",
    "for i in GSC4_GSC1:\n",
    "    print(i)"
   ]
  },
  {
   "cell_type": "code",
   "execution_count": null,
   "id": "487f2ad2",
   "metadata": {},
   "outputs": [],
   "source": [
    "for file in os.listdir(\"../launch_CG_simulations/angle_evolution\"):\n",
    "    print(file)\n",
    "    data = pd.read_csv(\"../launch_CG_simulations/dist_evolution/\"+file)['BB3_CSC1'][0]\n",
    "    BB3_CSC1.append(data)\n",
    "for i in BB3_CSC1:\n",
    "    print(i)"
   ]
  },
  {
   "cell_type": "code",
   "execution_count": null,
   "id": "3073fd84",
   "metadata": {},
   "outputs": [],
   "source": [
    "for file in os.listdir(\"../launch_CG_simulations/angle_evolution\"):\n",
    "    print(file)\n",
    "    data = pd.read_csv(\"../launch_CG_simulations/dist_evolution/\"+file)['CSC1_CSC2'][0]\n",
    "    CSC1_CSC2.append(data)\n",
    "for i in CSC1_CSC2:\n",
    "    print(i)"
   ]
  },
  {
   "cell_type": "code",
   "execution_count": null,
   "id": "4824ae58",
   "metadata": {},
   "outputs": [],
   "source": [
    "for file in os.listdir(\"../launch_CG_simulations/angle_evolution\"):\n",
    "    print(file)\n",
    "    data = pd.read_csv(\"../launch_CG_simulations/dist_evolution/\"+file)['CSC2_CSC3'][0]\n",
    "    CSC2_CSC3.append(data)\n",
    "for i in CSC2_CSC3:\n",
    "    print(i)"
   ]
  },
  {
   "cell_type": "code",
   "execution_count": null,
   "id": "33183451",
   "metadata": {},
   "outputs": [],
   "source": [
    "for file in os.listdir(\"../launch_CG_simulations/angle_evolution\"):\n",
    "    print(file)\n",
    "    data = pd.read_csv(\"../launch_CG_simulations/dist_evolution/\"+file)['CSC3_CSC1'][0]\n",
    "    CSC3_CSC1.append(data)\n",
    "for i in CSC3_CSC1:\n",
    "    print(i)"
   ]
  },
  {
   "cell_type": "code",
   "execution_count": null,
   "id": "2e43976f",
   "metadata": {},
   "outputs": [],
   "source": [
    "for file in os.listdir(\"../launch_CG_simulations/angle_evolution\"):\n",
    "    print(file)\n",
    "    data = pd.read_csv(\"../launch_CG_simulations/dist_evolution/\"+file)['BB3_pBB1'][0]\n",
    "    BB3_pBB1.append(data)\n",
    "for i in BB3_pBB1:\n",
    "    print(i)"
   ]
  }
 ],
 "metadata": {
  "kernelspec": {
   "display_name": "Python 3",
   "language": "python",
   "name": "python3"
  },
  "language_info": {
   "codemirror_mode": {
    "name": "ipython",
    "version": 3
   },
   "file_extension": ".py",
   "mimetype": "text/x-python",
   "name": "python",
   "nbconvert_exporter": "python",
   "pygments_lexer": "ipython3",
   "version": "3.6.9"
  }
 },
 "nbformat": 4,
 "nbformat_minor": 5
}
