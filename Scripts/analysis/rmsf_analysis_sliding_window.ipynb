{
 "cells": [
  {
   "cell_type": "code",
   "execution_count": 222,
   "id": "e3151e83",
   "metadata": {},
   "outputs": [],
   "source": [
    "path = \"../Launch_CG_simulations/AKT3_md/\""
   ]
  },
  {
   "cell_type": "code",
   "execution_count": 247,
   "id": "d56f8db3",
   "metadata": {},
   "outputs": [],
   "source": [
    "import matplotlib.pyplot as plt"
   ]
  },
  {
   "cell_type": "code",
   "execution_count": 223,
   "id": "60661a26",
   "metadata": {},
   "outputs": [],
   "source": [
    "import pandas as pd\n",
    "import numpy as np\n",
    "rmsf = []\n",
    "rmsf_norm = []\n",
    "discrete_value = []\n",
    "\n",
    "with open(path+\"rmsf.xvg\") as f:\n",
    "    lines = f.readlines()\n",
    "    for line in lines[17:]:\n",
    "        rmsf.append(float(line.split()[1]))\n",
    "average = sum(rmsf)/len(rmsf)\n",
    "std_dev = np.std(rmsf)\n",
    "\n",
    "for val in rmsf:\n",
    "    rmsf_norm.append((val-average)/std_dev)\n",
    "    \n",
    "for val in rmsf_norm:\n",
    "    if(val>=-4 and val<-3):\n",
    "        discrete_value.append('P')\n",
    "    elif(val>=-3 and val <-2):\n",
    "        discrete_value.append('F')\n",
    "    elif(val>=-2 and val<-1):\n",
    "        discrete_value.append('M')\n",
    "    elif(val>=-1 and val<0):\n",
    "        discrete_value.append('K')\n",
    "    elif(val>=0 and val<1):\n",
    "        discrete_value.append('L')\n",
    "    elif(val>=1 and val<2):\n",
    "        discrete_value.append('I')\n",
    "    elif(val>=2 and val<3):\n",
    "        discrete_value.append('H')\n",
    "    else:\n",
    "        discrete_value.append('G')\n",
    "        "
   ]
  },
  {
   "cell_type": "code",
   "execution_count": 224,
   "id": "7e7914cf",
   "metadata": {},
   "outputs": [],
   "source": [
    "data2 = pd.DataFrame({'rmsd':rmsf,'rmsf_norm':rmsf_norm,'Discrete_values': discrete_value})\n",
    "data2.to_csv(path+\"rmsf_ANALYSIS_test.csv\")"
   ]
  },
  {
   "cell_type": "code",
   "execution_count": 225,
   "id": "bb59def9",
   "metadata": {},
   "outputs": [
    {
     "data": {
      "text/html": [
       "<div>\n",
       "<style scoped>\n",
       "    .dataframe tbody tr th:only-of-type {\n",
       "        vertical-align: middle;\n",
       "    }\n",
       "\n",
       "    .dataframe tbody tr th {\n",
       "        vertical-align: top;\n",
       "    }\n",
       "\n",
       "    .dataframe thead th {\n",
       "        text-align: right;\n",
       "    }\n",
       "</style>\n",
       "<table border=\"1\" class=\"dataframe\">\n",
       "  <thead>\n",
       "    <tr style=\"text-align: right;\">\n",
       "      <th></th>\n",
       "      <th>Unnamed: 0</th>\n",
       "      <th>rmsd</th>\n",
       "      <th>rmsf_norm</th>\n",
       "      <th>Discrete_values</th>\n",
       "    </tr>\n",
       "  </thead>\n",
       "  <tbody>\n",
       "    <tr>\n",
       "      <th>0</th>\n",
       "      <td>0</td>\n",
       "      <td>0.3561</td>\n",
       "      <td>4.162034</td>\n",
       "      <td>G</td>\n",
       "    </tr>\n",
       "    <tr>\n",
       "      <th>1</th>\n",
       "      <td>1</td>\n",
       "      <td>0.2041</td>\n",
       "      <td>0.881538</td>\n",
       "      <td>L</td>\n",
       "    </tr>\n",
       "    <tr>\n",
       "      <th>2</th>\n",
       "      <td>2</td>\n",
       "      <td>0.1753</td>\n",
       "      <td>0.259970</td>\n",
       "      <td>L</td>\n",
       "    </tr>\n",
       "    <tr>\n",
       "      <th>3</th>\n",
       "      <td>3</td>\n",
       "      <td>0.1642</td>\n",
       "      <td>0.020408</td>\n",
       "      <td>L</td>\n",
       "    </tr>\n",
       "    <tr>\n",
       "      <th>4</th>\n",
       "      <td>4</td>\n",
       "      <td>0.1193</td>\n",
       "      <td>-0.948633</td>\n",
       "      <td>K</td>\n",
       "    </tr>\n",
       "  </tbody>\n",
       "</table>\n",
       "</div>"
      ],
      "text/plain": [
       "   Unnamed: 0    rmsd  rmsf_norm Discrete_values\n",
       "0           0  0.3561   4.162034               G\n",
       "1           1  0.2041   0.881538               L\n",
       "2           2  0.1753   0.259970               L\n",
       "3           3  0.1642   0.020408               L\n",
       "4           4  0.1193  -0.948633               K"
      ]
     },
     "execution_count": 225,
     "metadata": {},
     "output_type": "execute_result"
    }
   ],
   "source": [
    "data = pd.read_csv(path+\"rmsf_ANALYSIS_test.csv\")\n",
    "data.head(5)"
   ]
  },
  {
   "cell_type": "code",
   "execution_count": 226,
   "id": "93032496",
   "metadata": {
    "scrolled": true
   },
   "outputs": [],
   "source": [
    "# win_siz_start = 6\n",
    "# win_siz_end = 15\n",
    "# for i in range(0,len(rmsf_atomwise)-15):\n",
    "#     limit = win_siz_start\n",
    "#     while(limit<=win_siz_end):\n",
    "#         L_percent = get_L_percent(rmsf_atomwise[i:i+limit])\n",
    "#         GHI_percent = get_GHI_percent(rmsf_atomwise[i:i+limit])\n",
    "#         avg_rmsf = get_Avg_rmsf(rmsf_norm_atomwise[i:i+limit])\n",
    "#         if(L_percent > 0.37 or GHI_percent > 0.16 or ):\n",
    "#             if(avg_rmsf >= 1):\n",
    "#                 print(\"mobile segment: \"+ str(i)+\" \"+str(i+limit) +\" L% : \"+str(round(L_percent,2)) +\n",
    "#                                                             \" GHI% : \"+ str(round(GHI_percent,2)))\n",
    "#                 break\n",
    "#             else:\n",
    "#                 limit = limit + 1\n",
    "#         else:\n",
    "#             limit = limit + 1\n",
    "            "
   ]
  },
  {
   "cell_type": "code",
   "execution_count": 227,
   "id": "d7bc88b7",
   "metadata": {
    "scrolled": true
   },
   "outputs": [
    {
     "name": "stdout",
     "output_type": "stream",
     "text": [
      "mobile segment: 0 6 L% : 0.67 GHI% : 0.17\n",
      "mobile segment: 1 7 L% : 0.83 GHI% : 0.0\n",
      "mobile segment: 2 8 L% : 0.83 GHI% : 0.0\n",
      "mobile segment: 3 9 L% : 0.67 GHI% : 0.0\n",
      "mobile segment: 4 10 L% : 0.5 GHI% : 0.0\n",
      "mobile segment: 5 11 L% : 0.5 GHI% : 0.0\n",
      "mobile segment: 36 50 L% : 0.36 GHI% : 0.21\n",
      "mobile segment: 37 46 L% : 0.22 GHI% : 0.22\n",
      "mobile segment: 38 46 L% : 0.25 GHI% : 0.25\n",
      "mobile segment: 39 46 L% : 0.29 GHI% : 0.29\n",
      "mobile segment: 40 48 L% : 0.5 GHI% : 0.12\n",
      "mobile segment: 41 49 L% : 0.5 GHI% : 0.12\n",
      "mobile segment: 42 50 L% : 0.38 GHI% : 0.25\n",
      "mobile segment: 43 49 L% : 0.5 GHI% : 0.17\n",
      "mobile segment: 44 50 L% : 0.5 GHI% : 0.33\n",
      "mobile segment: 45 51 L% : 0.5 GHI% : 0.5\n",
      "mobile segment: 46 52 L% : 0.67 GHI% : 0.33\n",
      "mobile segment: 47 53 L% : 0.5 GHI% : 0.33\n",
      "mobile segment: 48 54 L% : 0.5 GHI% : 0.33\n",
      "mobile segment: 49 55 L% : 0.33 GHI% : 0.33\n",
      "mobile segment: 50 56 L% : 0.5 GHI% : 0.17\n",
      "mobile segment: 51 57 L% : 0.5 GHI% : 0.0\n",
      "mobile segment: 52 60 L% : 0.5 GHI% : 0.0\n",
      "mobile segment: 53 59 L% : 0.5 GHI% : 0.0\n",
      "mobile segment: 54 60 L% : 0.5 GHI% : 0.0\n",
      "mobile segment: 55 61 L% : 0.67 GHI% : 0.0\n",
      "mobile segment: 56 62 L% : 0.67 GHI% : 0.0\n",
      "mobile segment: 57 63 L% : 0.83 GHI% : 0.0\n",
      "mobile segment: 58 64 L% : 1.0 GHI% : 0.0\n",
      "mobile segment: 59 65 L% : 1.0 GHI% : 0.0\n",
      "mobile segment: 60 66 L% : 1.0 GHI% : 0.0\n",
      "mobile segment: 61 67 L% : 1.0 GHI% : 0.0\n",
      "mobile segment: 62 68 L% : 1.0 GHI% : 0.0\n",
      "mobile segment: 63 69 L% : 1.0 GHI% : 0.0\n",
      "mobile segment: 64 70 L% : 1.0 GHI% : 0.0\n",
      "mobile segment: 65 71 L% : 0.83 GHI% : 0.17\n",
      "mobile segment: 66 72 L% : 0.67 GHI% : 0.33\n",
      "mobile segment: 67 73 L% : 0.67 GHI% : 0.33\n",
      "mobile segment: 68 74 L% : 0.67 GHI% : 0.33\n",
      "mobile segment: 69 75 L% : 0.67 GHI% : 0.33\n",
      "mobile segment: 70 76 L% : 0.5 GHI% : 0.5\n",
      "mobile segment: 71 77 L% : 0.5 GHI% : 0.5\n",
      "mobile segment: 72 78 L% : 0.67 GHI% : 0.33\n",
      "mobile segment: 73 79 L% : 0.67 GHI% : 0.33\n",
      "mobile segment: 74 80 L% : 0.67 GHI% : 0.33\n",
      "mobile segment: 75 81 L% : 0.67 GHI% : 0.33\n",
      "mobile segment: 76 82 L% : 0.67 GHI% : 0.33\n",
      "mobile segment: 77 83 L% : 0.67 GHI% : 0.33\n",
      "mobile segment: 78 84 L% : 0.5 GHI% : 0.33\n",
      "mobile segment: 79 85 L% : 0.33 GHI% : 0.33\n",
      "mobile segment: 80 86 L% : 0.17 GHI% : 0.33\n",
      "mobile segment: 81 87 L% : 0.0 GHI% : 0.33\n",
      "mobile segment: 90 99 L% : 0.22 GHI% : 0.22\n",
      "mobile segment: 91 99 L% : 0.25 GHI% : 0.25\n",
      "mobile segment: 92 99 L% : 0.29 GHI% : 0.29\n",
      "mobile segment: 93 99 L% : 0.17 GHI% : 0.33\n",
      "mobile segment: 94 100 L% : 0.33 GHI% : 0.33\n",
      "mobile segment: 95 101 L% : 0.5 GHI% : 0.33\n",
      "mobile segment: 96 102 L% : 0.5 GHI% : 0.33\n",
      "mobile segment: 97 103 L% : 0.5 GHI% : 0.17\n",
      "mobile segment: 98 104 L% : 0.33 GHI% : 0.33\n",
      "mobile segment: 99 105 L% : 0.5 GHI% : 0.17\n",
      "mobile segment: 100 106 L% : 0.33 GHI% : 0.33\n",
      "mobile segment: 101 107 L% : 0.33 GHI% : 0.33\n",
      "mobile segment: 102 108 L% : 0.5 GHI% : 0.33\n",
      "mobile segment: 103 109 L% : 0.5 GHI% : 0.33\n",
      "mobile segment: 104 110 L% : 0.5 GHI% : 0.33\n",
      "mobile segment: 105 111 L% : 0.33 GHI% : 0.33\n",
      "mobile segment: 106 112 L% : 0.5 GHI% : 0.17\n",
      "mobile segment: 114 129 L% : 0.47 GHI% : 0.07\n",
      "mobile segment: 115 128 L% : 0.46 GHI% : 0.08\n",
      "mobile segment: 116 127 L% : 0.45 GHI% : 0.09\n",
      "mobile segment: 117 128 L% : 0.45 GHI% : 0.09\n",
      "mobile segment: 118 128 L% : 0.5 GHI% : 0.1\n",
      "mobile segment: 119 129 L% : 0.5 GHI% : 0.1\n",
      "mobile segment: 120 128 L% : 0.5 GHI% : 0.12\n",
      "mobile segment: 121 127 L% : 0.5 GHI% : 0.17\n",
      "mobile segment: 122 128 L% : 0.67 GHI% : 0.17\n",
      "mobile segment: 123 129 L% : 0.83 GHI% : 0.17\n",
      "mobile segment: 124 130 L% : 0.83 GHI% : 0.17\n",
      "mobile segment: 125 131 L% : 0.67 GHI% : 0.33\n",
      "mobile segment: 126 132 L% : 0.5 GHI% : 0.5\n",
      "mobile segment: 127 133 L% : 0.33 GHI% : 0.67\n",
      "mobile segment: 128 134 L% : 0.17 GHI% : 0.83\n",
      "mobile segment: 129 135 L% : 0.0 GHI% : 1.0\n",
      "mobile segment: 130 136 L% : 0.0 GHI% : 1.0\n",
      "mobile segment: 131 137 L% : 0.17 GHI% : 0.83\n",
      "mobile segment: 132 138 L% : 0.33 GHI% : 0.67\n",
      "mobile segment: 133 139 L% : 0.5 GHI% : 0.5\n",
      "mobile segment: 134 140 L% : 0.5 GHI% : 0.33\n",
      "mobile segment: 135 141 L% : 0.5 GHI% : 0.17\n",
      "mobile segment: 136 142 L% : 0.67 GHI% : 0.0\n",
      "mobile segment: 137 143 L% : 0.5 GHI% : 0.0\n",
      "mobile segment: 159 168 L% : 0.11 GHI% : 0.22\n",
      "mobile segment: 160 168 L% : 0.12 GHI% : 0.25\n",
      "mobile segment: 180 193 L% : 0.46 GHI% : 0.0\n",
      "mobile segment: 181 192 L% : 0.45 GHI% : 0.0\n",
      "mobile segment: 182 192 L% : 0.5 GHI% : 0.0\n",
      "mobile segment: 183 191 L% : 0.5 GHI% : 0.0\n",
      "mobile segment: 184 190 L% : 0.5 GHI% : 0.0\n",
      "mobile segment: 185 191 L% : 0.67 GHI% : 0.0\n",
      "mobile segment: 186 192 L% : 0.83 GHI% : 0.0\n",
      "mobile segment: 187 193 L% : 1.0 GHI% : 0.0\n",
      "mobile segment: 188 194 L% : 0.83 GHI% : 0.0\n",
      "mobile segment: 189 195 L% : 0.83 GHI% : 0.0\n",
      "mobile segment: 190 196 L% : 0.83 GHI% : 0.0\n",
      "mobile segment: 191 197 L% : 0.83 GHI% : 0.0\n",
      "mobile segment: 192 198 L% : 0.83 GHI% : 0.0\n",
      "mobile segment: 193 199 L% : 0.83 GHI% : 0.0\n",
      "mobile segment: 194 200 L% : 1.0 GHI% : 0.0\n",
      "mobile segment: 195 201 L% : 1.0 GHI% : 0.0\n",
      "mobile segment: 196 202 L% : 1.0 GHI% : 0.0\n",
      "mobile segment: 197 203 L% : 1.0 GHI% : 0.0\n",
      "mobile segment: 198 204 L% : 1.0 GHI% : 0.0\n",
      "mobile segment: 199 205 L% : 1.0 GHI% : 0.0\n",
      "mobile segment: 200 206 L% : 1.0 GHI% : 0.0\n",
      "mobile segment: 201 207 L% : 0.83 GHI% : 0.17\n",
      "mobile segment: 202 208 L% : 0.67 GHI% : 0.17\n",
      "mobile segment: 203 209 L% : 0.67 GHI% : 0.17\n",
      "mobile segment: 204 210 L% : 0.67 GHI% : 0.17\n",
      "mobile segment: 205 211 L% : 0.67 GHI% : 0.17\n",
      "mobile segment: 206 212 L% : 0.67 GHI% : 0.17\n",
      "mobile segment: 207 213 L% : 0.83 GHI% : 0.0\n",
      "mobile segment: 208 214 L% : 0.83 GHI% : 0.17\n",
      "mobile segment: 209 215 L% : 0.67 GHI% : 0.17\n",
      "mobile segment: 210 216 L% : 0.67 GHI% : 0.17\n",
      "mobile segment: 211 217 L% : 0.5 GHI% : 0.17\n",
      "mobile segment: 226 237 L% : 0.45 GHI% : 0.0\n",
      "mobile segment: 227 237 L% : 0.5 GHI% : 0.0\n",
      "mobile segment: 229 237 L% : 0.5 GHI% : 0.0\n",
      "mobile segment: 231 237 L% : 0.5 GHI% : 0.0\n",
      "mobile segment: 232 238 L% : 0.5 GHI% : 0.0\n",
      "mobile segment: 233 239 L% : 0.5 GHI% : 0.0\n",
      "mobile segment: 234 240 L% : 0.5 GHI% : 0.0\n",
      "mobile segment: 235 243 L% : 0.38 GHI% : 0.25\n",
      "mobile segment: 236 243 L% : 0.29 GHI% : 0.29\n",
      "mobile segment: 237 243 L% : 0.17 GHI% : 0.33\n",
      "mobile segment: 238 244 L% : 0.33 GHI% : 0.33\n",
      "mobile segment: 239 245 L% : 0.5 GHI% : 0.33\n",
      "mobile segment: 240 246 L% : 0.5 GHI% : 0.33\n",
      "mobile segment: 241 247 L% : 0.5 GHI% : 0.33\n",
      "mobile segment: 242 248 L% : 0.5 GHI% : 0.33\n",
      "mobile segment: 243 249 L% : 0.67 GHI% : 0.17\n",
      "mobile segment: 244 250 L% : 0.5 GHI% : 0.17\n",
      "mobile segment: 245 254 L% : 0.22 GHI% : 0.22\n",
      "mobile segment: 246 254 L% : 0.25 GHI% : 0.25\n"
     ]
    }
   ],
   "source": [
    "rmsf_atomwise = list(data['Discrete_values'])\n",
    "rmsf_norm_atomwise = list(data['rmsf_norm'])\n",
    "\n",
    "file = open(path+\"mobile_segments.txt\",'w')\n",
    "win_siz_start = 6\n",
    "win_siz_end = 15\n",
    "for i in range(0,len(rmsf_atomwise)-15):\n",
    "    limit = win_siz_start\n",
    "    while(limit<=win_siz_end):\n",
    "        L_percent = get_L_percent(rmsf_atomwise[i:i+limit])\n",
    "        GHI_percent = get_GHI_percent(rmsf_atomwise[i:i+limit])\n",
    "        avg_rmsf = get_Avg_rmsf(rmsf_norm_atomwise[i:i+limit])\n",
    "        if(L_percent > 0.45 or GHI_percent > 0.2):\n",
    "            file.write(\"mobile segment: \"+ str(i)+\" \"+str(i+limit) +\" L% : \"+str(round(L_percent,2)) +\n",
    "                                                            \" GHI% : \"+ str(round(GHI_percent,2))+\"\\n\")\n",
    "            print(\"mobile segment: \"+ str(i)+\" \"+str(i+limit) +\" L% : \"+str(round(L_percent,2)) +\n",
    "                                                            \" GHI% : \"+ str(round(GHI_percent,2)))\n",
    "            break\n",
    "        else:\n",
    "            limit = limit + 1\n",
    "file.close()\n",
    "            "
   ]
  },
  {
   "cell_type": "code",
   "execution_count": 228,
   "id": "ff39678c",
   "metadata": {},
   "outputs": [],
   "source": [
    "def get_L_percent(listA):\n",
    "    sumL = 0\n",
    "    for letr in listA:\n",
    "        if(letr == 'L'):\n",
    "            sumL = sumL + 1\n",
    "    return (sumL/len(listA))\n",
    "    "
   ]
  },
  {
   "cell_type": "code",
   "execution_count": 53,
   "id": "4e5b18df",
   "metadata": {},
   "outputs": [],
   "source": [
    "def get_GHI_percent(listA):\n",
    "    sumGHI = 0\n",
    "    for letr in listA:\n",
    "        if(letr == 'G' or letr == 'H' or letr == 'I' ):\n",
    "            sumGHI = sumGHI + 1\n",
    "    return (sumGHI/len(listA))"
   ]
  },
  {
   "cell_type": "code",
   "execution_count": 54,
   "id": "5bae8b9f",
   "metadata": {},
   "outputs": [],
   "source": [
    "def get_Avg_rmsf(listA):\n",
    "    sum_ = 0\n",
    "    for i in listA:\n",
    "        sum_ = sum_ + i\n",
    "    return sum_/len(listA)\n",
    "    "
   ]
  },
  {
   "cell_type": "code",
   "execution_count": 231,
   "id": "0128d7ea",
   "metadata": {},
   "outputs": [
    {
     "data": {
      "text/plain": [
       "Index(['Unnamed: 0', 'rmsd', 'rmsf_norm', 'Discrete_values'], dtype='object')"
      ]
     },
     "execution_count": 231,
     "metadata": {},
     "output_type": "execute_result"
    }
   ],
   "source": [
    "data = pd.read_csv(path+\"rmsf_ANALYSIS_test.csv\")"
   ]
  },
  {
   "cell_type": "code",
   "execution_count": 248,
   "id": "84ec24f6",
   "metadata": {},
   "outputs": [
    {
     "data": {
      "text/plain": [
       "[<matplotlib.lines.Line2D at 0x7fce6eb0bbe0>]"
      ]
     },
     "execution_count": 248,
     "metadata": {},
     "output_type": "execute_result"
    },
    {
     "data": {
      "image/png": "[encoded data removed]",
      "text/plain": [
       "<Figure size 432x288 with 1 Axes>"
      ]
     },
     "metadata": {
      "needs_background": "light"
     },
     "output_type": "display_data"
    }
   ],
   "source": [
    "X = data['Unnamed: 0'].values.tolist()\n",
    "Y = data[\"rmsf_norm\"].values.tolist()\n",
    "plt.plot(X,Y)\n",
    "plt.figure"
   ]
  },
  {
   "cell_type": "code",
   "execution_count": null,
   "id": "6fc8def5",
   "metadata": {},
   "outputs": [],
   "source": []
  }
 ],
 "metadata": {
  "kernelspec": {
   "display_name": "Python 3",
   "language": "python",
   "name": "python3"
  },
  "language_info": {
   "codemirror_mode": {
    "name": "ipython",
    "version": 3
   },
   "file_extension": ".py",
   "mimetype": "text/x-python",
   "name": "python",
   "nbconvert_exporter": "python",
   "pygments_lexer": "ipython3",
   "version": "3.6.9"
  }
 },
 "nbformat": 4,
 "nbformat_minor": 5
}
