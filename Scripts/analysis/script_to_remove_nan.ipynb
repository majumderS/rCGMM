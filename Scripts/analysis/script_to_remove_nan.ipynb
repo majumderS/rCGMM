{
 "cells": [
  {
   "cell_type": "code",
   "execution_count": 1,
   "id": "b10a970f",
   "metadata": {},
   "outputs": [],
   "source": [
    "mainstr = ''"
   ]
  },
  {
   "cell_type": "code",
   "execution_count": 2,
   "id": "7fce9cf7",
   "metadata": {},
   "outputs": [],
   "source": [
    "with open(\"../Launch_CG_simulations/1si3/1si3_CG.pdb\") as f:\n",
    "    for line in f.readlines():\n",
    "        if(line.split()[0] == 'ATOM'):\n",
    "            newline2 = []             \n",
    "            for i in range(0,len(line.split(' '))):\n",
    "                if(i==6 or i==5 or i==4):\n",
    "                    if(line.split(\" \")[i].isdigit()):\n",
    "                        rword = int(line.split(\" \")[i].strip()) -1\n",
    "                        newline2.append(str(rword))\n",
    "                    else:\n",
    "                        newline2.append(line.split(\" \")[i])\n",
    "                else:\n",
    "                    newline2.append(line.split(\" \")[i])\n",
    "            mainstr = mainstr+' '.join([word for word in newline2] )\n",
    "#     print(' '.join([word for word in newline2]))"
   ]
  },
  {
   "cell_type": "code",
   "execution_count": 3,
   "id": "bb0675a3",
   "metadata": {},
   "outputs": [],
   "source": [
    "mainstr = mainstr+'TER'+'\\n'\n",
    "with open(\"../Launch_CG_simulations/1si3/1si3_CG.pdb\") as f:\n",
    "    for line in f.readlines():\n",
    "        if(line.split()[0] == 'CONECT'):\n",
    "            newline = []\n",
    "            for word in line.split(\" \"):\n",
    "                if(word.split(\"\\n\")[0].isdigit()):\n",
    "                    word = int(word) - 1\n",
    "                newline.append(str(word))\n",
    "            mainstr = mainstr + ' '.join([word for word in newline] )+'\\n'\n",
    "#         print(' '.join([word for word in newline] ))"
   ]
  },
  {
   "cell_type": "code",
   "execution_count": 4,
   "id": "794d2dfe",
   "metadata": {},
   "outputs": [],
   "source": [
    "mainstr = mainstr.strip()+ '\\nEND'\n",
    "with open(\"../Launch_CG_simulations/1si3/1si3_CG.pdb\",'w') as f:\n",
    "    f.write(mainstr)"
   ]
  },
  {
   "cell_type": "code",
   "execution_count": null,
   "id": "9d59b309",
   "metadata": {},
   "outputs": [],
   "source": [
    "mainstr2 = ''"
   ]
  },
  {
   "cell_type": "code",
   "execution_count": 150,
   "id": "e0fb51e1",
   "metadata": {},
   "outputs": [
    {
     "name": "stdout",
     "output_type": "stream",
     "text": [
      "[ atoms ]\n",
      "\n"
     ]
    }
   ],
   "source": [
    "with  open('../launch_CG_simulations/2jxv_gen0/molecule_0.itp') as f:\n",
    "    for line in f.readlines():\n",
    "        line_no = line_no+1\n",
    "        if(line.strip() == '[ atoms ]'):\n",
    "            print(line)"
   ]
  },
  {
   "cell_type": "code",
   "execution_count": 163,
   "id": "936521d0",
   "metadata": {},
   "outputs": [
    {
     "name": "stdout",
     "output_type": "stream",
     "text": [
      "[ atoms ]\n",
      "\n",
      "[ bonds ]\n",
      "\n",
      "; Residue bonds\n",
      "\n",
      "; Residue bonds\n",
      "\n",
      "; Residue bonds\n",
      "\n"
     ]
    }
   ],
   "source": [
    "with  open('../launch_CG_simulations/2jxv_gen0/molecule_0_test.itp') as f:\n",
    "    data = f.readlines()\n",
    "    for i in range(0,len(data)):\n",
    "        if(data[i].strip() == '[ atoms ]'):\n",
    "            print(data[i])\n",
    "        elif(data[i].strip() == '[ bonds ]'):\n",
    "            print(data[i])\n",
    "        elif(data[i].strip() == '; Residue bonds'):\n",
    "            print(data[i])\n",
    "        elif(data[i].strip() == '#ifdef FLEXIBLE'+'\\n; Residue bonds'):\n",
    "            print(data[i])"
   ]
  },
  {
   "cell_type": "code",
   "execution_count": null,
   "id": "216f9b6d",
   "metadata": {},
   "outputs": [],
   "source": []
  }
 ],
 "metadata": {
  "kernelspec": {
   "display_name": "Python 3",
   "language": "python",
   "name": "python3"
  },
  "language_info": {
   "codemirror_mode": {
    "name": "ipython",
    "version": 3
   },
   "file_extension": ".py",
   "mimetype": "text/x-python",
   "name": "python",
   "nbconvert_exporter": "python",
   "pygments_lexer": "ipython3",
   "version": "3.6.9"
  }
 },
 "nbformat": 4,
 "nbformat_minor": 5
}
